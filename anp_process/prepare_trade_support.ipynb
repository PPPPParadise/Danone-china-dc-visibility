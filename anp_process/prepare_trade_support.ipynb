{
 "cells": [
  {
   "cell_type": "code",
   "execution_count": null,
   "metadata": {},
   "outputs": [],
   "source": [
    "import pandas as pd\n",
    "import operator\n",
    "import time\n",
    "import numpy as np"
   ]
  },
  {
   "cell_type": "code",
   "execution_count": null,
   "metadata": {},
   "outputs": [],
   "source": [
    "config = {}\n",
    "\n",
    "config[\"project_path\"] = \"..\"\n",
    "config[\"data_folder_path\"] = \"data\"\n",
    "config[\"temp_folder_path\"] = \"temp\"\n",
    "\n",
    "# input files\n",
    "config['trade_support_input'] = '202001-04_Trade_Support.xlsx'\n",
    "config['MDM_mapping'] = 'MDM_mapping.xlsx'\n",
    "config['brand_to_province_brand_file'] = '202001-05_brand_to_province_brand.xlsx'\n",
    "\n",
    "# output files\n",
    "config['spending_trade_support'] = 'spending trade support 202001-04.xlsx'"
   ]
  },
  {
   "cell_type": "code",
   "execution_count": null,
   "metadata": {},
   "outputs": [],
   "source": [
    "input_file_path = config[\"project_path\"] + \"/\" \\\n",
    "                        + config[\"data_folder_path\"] + \"/\" \\\n",
    "                        + config['trade_support_input']\n",
    "\n",
    "ts_df = pd.read_excel(input_file_path, dtype=str)\n",
    "\n",
    "ts_df.columns = ['YearMonth', 'Brand', 'Cost']\n",
    "ts_df[\"Cost\"] = ts_df[\"Cost\"].astype(\"float\")"
   ]
  },
  {
   "cell_type": "code",
   "execution_count": null,
   "metadata": {},
   "outputs": [],
   "source": [
    "ts_df = ts_df.groupby(by = ['YearMonth', 'Brand'])['Cost'].sum().reset_index()"
   ]
  },
  {
   "cell_type": "code",
   "execution_count": null,
   "metadata": {},
   "outputs": [],
   "source": [
    "input_file_path = config[\"project_path\"] + \"/\" \\\n",
    "                        + config[\"temp_folder_path\"] + \"/\" \\\n",
    "                        + config['brand_to_province_brand_file']\n",
    "\n",
    "brand_prov_split = pd.read_excel(input_file_path, dtype=str)\n",
    "\n",
    "brand_prov_split['Split_Ratio'] = brand_prov_split['Split_Ratio'].astype(\"float\")"
   ]
  },
  {
   "cell_type": "code",
   "execution_count": null,
   "metadata": {},
   "outputs": [],
   "source": [
    "ts_prov_df = pd.merge(ts_df, brand_prov_split, on=['YearMonth', 'Brand'], how='left')"
   ]
  },
  {
   "cell_type": "markdown",
   "metadata": {},
   "source": [
    "### Check for um-mapped records"
   ]
  },
  {
   "cell_type": "code",
   "execution_count": null,
   "metadata": {},
   "outputs": [],
   "source": [
    "ts_prov_df[ts_prov_df['Split_Ratio'] == np.NAN]"
   ]
  },
  {
   "cell_type": "code",
   "execution_count": null,
   "metadata": {},
   "outputs": [],
   "source": [
    "ts_prov_df['Value'] = ts_prov_df['Cost'] * ts_prov_df['Split_Ratio']\n",
    "\n",
    "ts_prov_df = ts_prov_df[['YearMonth', 'MDM_province_code', 'Brand', 'Value']]\n",
    "\n",
    "ts_all_df = ts_prov_df.groupby(by = ['YearMonth', 'Brand'])['Value'].sum().reset_index()\n",
    "ts_all_df['MDM_province_code'] = 'National'\n",
    "\n",
    "output_df = ts_prov_df.append(ts_all_df, ignore_index=True)"
   ]
  },
  {
   "cell_type": "markdown",
   "metadata": {},
   "source": [
    "# Write output"
   ]
  },
  {
   "cell_type": "code",
   "execution_count": null,
   "metadata": {},
   "outputs": [],
   "source": [
    "output_df['Cost_type_1'] = 'Trade Support'\n",
    "output_df['Cost_type_2'] = ''\n",
    "output_df['Cost_type_3'] = ''\n",
    "output_df['Cost_type_4'] = ''\n",
    "output_df['AIP'] = 'P'\n",
    "\n",
    "output_df = output_df[['YearMonth', 'MDM_province_code', 'Cost_type_1', 'Cost_type_2', 'Cost_type_3', 'Cost_type_4', 'AIP', 'Brand', 'Value']]\n",
    "\n",
    "output_df.columns = ['Date', 'Province', 'Cost_type_1', 'Cost_type_2', 'Cost_type_3', 'Cost_type_4', 'AIP', 'Brand', 'Spending_value']"
   ]
  },
  {
   "cell_type": "code",
   "execution_count": null,
   "metadata": {},
   "outputs": [],
   "source": [
    "output_file_path = config[\"project_path\"] + \"/\" \\\n",
    "                        + config[\"temp_folder_path\"] + \"/\" \\\n",
    "                        + config['spending_trade_support']\n",
    "\n",
    "output_df.to_excel(output_file_path, index=False)"
   ]
  }
 ],
 "metadata": {
  "kernelspec": {
   "display_name": "Python 3",
   "language": "python",
   "name": "python3"
  },
  "language_info": {
   "codemirror_mode": {
    "name": "ipython",
    "version": 3
   },
   "file_extension": ".py",
   "mimetype": "text/x-python",
   "name": "python",
   "nbconvert_exporter": "python",
   "pygments_lexer": "ipython3",
   "version": "3.7.6"
  }
 },
 "nbformat": 4,
 "nbformat_minor": 4
}
