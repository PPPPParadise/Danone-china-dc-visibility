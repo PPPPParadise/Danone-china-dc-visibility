{
 "cells": [
  {
   "cell_type": "code",
   "execution_count": null,
   "metadata": {},
   "outputs": [],
   "source": [
    "import pandas as pd\n",
    "import operator\n",
    "import time\n",
    "import numpy as np"
   ]
  },
  {
   "cell_type": "code",
   "execution_count": null,
   "metadata": {},
   "outputs": [],
   "source": [
    "config = {}\n",
    "\n",
    "config['project_path'] = '..'\n",
    "config['data_folder_path'] = 'data'\n",
    "config['temp_folder_path'] = 'temp'\n",
    "\n",
    "# input files\n",
    "config['offtake_input1'] = 'POS-202001-202002.csv'\n",
    "config['offtake_input2'] = 'POS-202003-202005.csv'\n",
    "config['MDM_mapping'] = 'MDM_mapping.xlsx'\n",
    "\n",
    "# output files\n",
    "config['performance_offtake'] = 'Performance Danone offtake 202001-05.xlsx'\n",
    "config['nation_province_by_brand_file'] = '202001-05_nation_province_by_brand.xlsx'\n",
    "config['nation_to_province_brand_file'] = '202001-05_nation_to_province_brand.xlsx'\n",
    "config['brand_to_province_brand_file'] = '202001-05_brand_to_province_brand.xlsx'\n",
    "config['province_to_province_brand_file'] = '202001-05_province_to_province_brand_file.xlsx'"
   ]
  },
  {
   "cell_type": "markdown",
   "metadata": {},
   "source": [
    "## Read Offtake"
   ]
  },
  {
   "cell_type": "code",
   "execution_count": null,
   "metadata": {},
   "outputs": [],
   "source": [
    "# schema of input file\n",
    "offtake_columns = ['Year','Month','Channel_Code','Grade_Group_Code',\n",
    "                   'Grade_Code','region_name','SubRegion_Name','Province_Name',\n",
    "                   'xcity_name','Account_Name','Customer_Code',\n",
    "                   'Customer_Name','validity','Brand','SKU','Offtake_Qty',\n",
    "                   'Offtake_Qty_Factor','Offtake_SP_Value','Offtake_SP_Value_Factor']\n",
    "\n",
    "# Only below columns from input file are needed\n",
    "select_columns = ['YearMonth','Distributor_Code','Customer_Code',\n",
    "                  'Product_Code','Sellout_SP_Value']\n",
    "offtake_df = pd.DataFrame(columns=offtake_columns)\n",
    "\n",
    "input_file_path = config['project_path'] + '/' \\\n",
    "                        + config['data_folder_path'] + '/' \\\n",
    "                        + config['offtake_input1']\n",
    "\n",
    "input_df = pd.read_csv(input_file_path, dtype=str)\n",
    "input_df = input_df[offtake_columns]\n",
    "offtake_df = offtake_df.append(input_df, ignore_index=True)\n",
    "\n",
    "input_file_path = config['project_path'] + '/' \\\n",
    "                        + config['data_folder_path'] + '/' \\\n",
    "                        + config['offtake_input2']\n",
    "input_df = pd.read_csv(input_file_path, dtype=str)\n",
    "input_df = input_df[offtake_columns]\n",
    "offtake_df = offtake_df.append(input_df, ignore_index=True)"
   ]
  },
  {
   "cell_type": "code",
   "execution_count": null,
   "metadata": {},
   "outputs": [],
   "source": [
    "offtake_df['YearMonth'] = offtake_df['Year'] + '0' + offtake_df['Month']"
   ]
  },
  {
   "cell_type": "code",
   "execution_count": null,
   "metadata": {},
   "outputs": [],
   "source": [
    "offtake_df['Offtake_SP_Value'] = offtake_df['Offtake_SP_Value'].replace(' ','')\n",
    "offtake_df['Offtake_SP_Value'] = offtake_df['Offtake_SP_Value'].astype('float')"
   ]
  },
  {
   "cell_type": "code",
   "execution_count": null,
   "metadata": {},
   "outputs": [],
   "source": [
    "input_file_path = config['project_path'] + '/' \\\n",
    "                        + config['data_folder_path'] + '/' \\\n",
    "                        + config['MDM_mapping']\n",
    "\n",
    "province_df = pd.read_excel(input_file_path, dtype=str)\n",
    "province_df = province_df[['MDM_province_name', 'MDM_province_code']].drop_duplicates()"
   ]
  },
  {
   "cell_type": "code",
   "execution_count": null,
   "metadata": {},
   "outputs": [],
   "source": [
    "offtake_df = pd.merge(offtake_df, province_df, left_on='Province_Name', right_on='MDM_province_name', how='left' )"
   ]
  },
  {
   "cell_type": "markdown",
   "metadata": {},
   "source": [
    "#### Merge MengDong MengXi"
   ]
  },
  {
   "cell_type": "code",
   "execution_count": null,
   "metadata": {},
   "outputs": [],
   "source": [
    "def merge_neimenggu(MDM_province_code):\n",
    "    if (MDM_province_code=='Mengxi') | (MDM_province_code == 'Mengdong'):\n",
    "        return 'Neimenggu'\n",
    "    return MDM_province_code\n",
    "\n",
    "offtake_df['MDM_province_code'] = offtake_df['MDM_province_code'].apply(lambda x : merge_neimenggu(x))"
   ]
  },
  {
   "cell_type": "markdown",
   "metadata": {},
   "source": [
    "#### Check unmapped records"
   ]
  },
  {
   "cell_type": "code",
   "execution_count": null,
   "metadata": {},
   "outputs": [],
   "source": [
    "offtake_df[offtake_df['MDM_province_code'] == np.NAN]"
   ]
  },
  {
   "cell_type": "markdown",
   "metadata": {},
   "source": [
    "## Seperate Online Offline Only"
   ]
  },
  {
   "cell_type": "code",
   "execution_count": null,
   "metadata": {},
   "outputs": [],
   "source": [
    "offtake_ec_df = offtake_df[offtake_df['Channel_Code'] == 'EC']\n",
    "offline_df = offtake_df[offtake_df['Channel_Code'] != 'EC']"
   ]
  },
  {
   "cell_type": "code",
   "execution_count": null,
   "metadata": {},
   "outputs": [],
   "source": [
    "monthly_offline = offline_df.groupby(by = ['YearMonth', 'MDM_province_code', 'Brand'])['Offtake_SP_Value'].sum().reset_index()"
   ]
  },
  {
   "cell_type": "markdown",
   "metadata": {},
   "source": [
    "## Distribute HQ offtake to each province"
   ]
  },
  {
   "cell_type": "code",
   "execution_count": null,
   "metadata": {},
   "outputs": [],
   "source": [
    "nonhq_offline = monthly_offline[monthly_offline['MDM_province_code'] != 'HQ']\n",
    "non_hq_all = nonhq_offline.groupby(by = ['YearMonth', 'Brand'])['Offtake_SP_Value'].sum().reset_index()\n",
    "non_hq_all.columns = ['YearMonth', 'Brand', 'all_offtake']\n",
    "nonhq_offline_split = pd.merge(nonhq_offline, non_hq_all, on=['YearMonth', 'Brand'], how='left')\n",
    "nonhq_offline_split['split_ratio'] = nonhq_offline_split['Offtake_SP_Value'] / nonhq_offline_split['all_offtake']\n",
    "nonhq_offline_split = nonhq_offline_split.drop(['Offtake_SP_Value', 'all_offtake'],axis=1)"
   ]
  },
  {
   "cell_type": "code",
   "execution_count": null,
   "metadata": {},
   "outputs": [],
   "source": [
    "hq_offline = monthly_offline[monthly_offline['MDM_province_code'] == 'HQ']\n",
    "hq_offline = hq_offline.drop('MDM_province_code',axis=1)\n",
    "\n",
    "hq_offline = pd.merge(hq_offline, nonhq_offline_split, on=['YearMonth', 'Brand'], how='left')\n",
    "hq_offline ['hq_split_value'] = hq_offline['Offtake_SP_Value'] * hq_offline['split_ratio']\n",
    "hq_offline = hq_offline.drop(['Offtake_SP_Value', 'split_ratio'],axis=1)"
   ]
  },
  {
   "cell_type": "code",
   "execution_count": null,
   "metadata": {},
   "outputs": [],
   "source": [
    "all_offtake = pd.merge(nonhq_offline, hq_offline, on=['YearMonth', 'MDM_province_code','Brand'], how='left')"
   ]
  },
  {
   "cell_type": "code",
   "execution_count": null,
   "metadata": {},
   "outputs": [],
   "source": [
    "all_offtake['Offtake_Value'] = all_offtake['Offtake_SP_Value'] + all_offtake['hq_split_value']\n",
    "all_offtake = all_offtake[['YearMonth', 'MDM_province_code', 'Brand', 'Offtake_Value']]"
   ]
  },
  {
   "cell_type": "markdown",
   "metadata": {},
   "source": [
    "## Add National Offline Offtake"
   ]
  },
  {
   "cell_type": "code",
   "execution_count": null,
   "metadata": {},
   "outputs": [],
   "source": [
    "offline_offtake_nati = all_offtake.groupby(by = ['YearMonth', 'Brand'])['Offtake_Value'].sum().reset_index()"
   ]
  },
  {
   "cell_type": "code",
   "execution_count": null,
   "metadata": {},
   "outputs": [],
   "source": [
    "offline_offtake_nati['MDM_province_code'] = 'National'\n",
    "offline_offtake_nati = offline_offtake_nati[['YearMonth', 'MDM_province_code', 'Brand', 'Offtake_Value']]"
   ]
  },
  {
   "cell_type": "code",
   "execution_count": null,
   "metadata": {},
   "outputs": [],
   "source": [
    "all_offline_offtake = all_offtake.append(offline_offtake_nati, ignore_index=True)"
   ]
  },
  {
   "cell_type": "markdown",
   "metadata": {},
   "source": [
    "## Add EC offtake back"
   ]
  },
  {
   "cell_type": "code",
   "execution_count": null,
   "metadata": {},
   "outputs": [],
   "source": [
    "ec_tmp_df = offtake_ec_df.groupby(by = ['YearMonth', 'Brand'])['Offtake_SP_Value'].sum().reset_index()"
   ]
  },
  {
   "cell_type": "code",
   "execution_count": null,
   "metadata": {},
   "outputs": [],
   "source": [
    "ec_tmp_df.columns = ['YearMonth', 'Brand', 'Offtake_Value']\n",
    "ec_tmp_df['MDM_province_code'] = 'National'"
   ]
  },
  {
   "cell_type": "code",
   "execution_count": null,
   "metadata": {},
   "outputs": [],
   "source": [
    "all_offtake_nati = ec_tmp_df.append(offline_offtake_nati, ignore_index=True)\n",
    "all_offtake_nati = all_offtake_nati.groupby(by = ['YearMonth', 'MDM_province_code', 'Brand'])['Offtake_Value'].sum().reset_index()"
   ]
  },
  {
   "cell_type": "code",
   "execution_count": null,
   "metadata": {},
   "outputs": [],
   "source": [
    "output_df = all_offtake.append(all_offtake_nati, ignore_index=True)"
   ]
  },
  {
   "cell_type": "markdown",
   "metadata": {},
   "source": [
    "# Save output"
   ]
  },
  {
   "cell_type": "code",
   "execution_count": null,
   "metadata": {},
   "outputs": [],
   "source": [
    "output_df['KPI'] = 'Danone Offtake'\n",
    "output_df['Date'] = output_df['YearMonth']\n",
    "output_df = output_df[['Date', 'MDM_province_code', 'Brand', 'KPI', 'Offtake_Value']]\n",
    "output_df.columns = ['Date', 'Province', 'Brand', 'KPI', 'KPI_value']"
   ]
  },
  {
   "cell_type": "code",
   "execution_count": null,
   "metadata": {},
   "outputs": [],
   "source": [
    "output_file_path = config['project_path'] + '/' \\\n",
    "                        + config['temp_folder_path'] + '/' \\\n",
    "                        + config['performance_offtake']\n",
    "\n",
    "output_df.to_excel(output_file_path, index=False)"
   ]
  },
  {
   "cell_type": "markdown",
   "metadata": {},
   "source": [
    "## Create Offtake Split to Ratio"
   ]
  },
  {
   "cell_type": "markdown",
   "metadata": {},
   "source": [
    "## From Nation brand to province brand"
   ]
  },
  {
   "cell_type": "code",
   "execution_count": null,
   "metadata": {},
   "outputs": [],
   "source": [
    "all_offtake_nati = all_offline_offtake[all_offline_offtake['MDM_province_code'] == 'National']\n",
    "all_offtake_nati = all_offtake_nati.groupby(by = ['YearMonth', 'Brand'])['Offtake_Value'].sum().reset_index()\n",
    "all_offtake_nati.columns = ['YearMonth', 'Brand', 'National_Offtake_Value']"
   ]
  },
  {
   "cell_type": "code",
   "execution_count": null,
   "metadata": {},
   "outputs": [],
   "source": [
    "all_offtake_prov = all_offline_offtake[all_offline_offtake['MDM_province_code'] != 'National']\n",
    "all_offtake_prov = all_offtake_prov.groupby(by = ['YearMonth', 'Brand', 'MDM_province_code'])['Offtake_Value'].sum().reset_index()"
   ]
  },
  {
   "cell_type": "code",
   "execution_count": null,
   "metadata": {},
   "outputs": [],
   "source": [
    "nati_to_prov = pd.merge(all_offtake_nati, all_offtake_prov, on=['YearMonth', 'Brand'], how='left')\n",
    "nati_to_prov['Split_Ratio'] = nati_to_prov['Offtake_Value'] /  nati_to_prov['National_Offtake_Value']"
   ]
  },
  {
   "cell_type": "code",
   "execution_count": null,
   "metadata": {},
   "outputs": [],
   "source": [
    "nati_to_prov = nati_to_prov[['YearMonth', 'MDM_province_code', 'Brand', 'Split_Ratio']]"
   ]
  },
  {
   "cell_type": "code",
   "execution_count": null,
   "metadata": {},
   "outputs": [],
   "source": [
    "output_file_path = config['project_path'] + '/' \\\n",
    "                        + config['temp_folder_path'] + '/' \\\n",
    "                        + config['nation_province_by_brand_file']\n",
    "\n",
    "nati_to_prov.to_excel(output_file_path, index=False)"
   ]
  },
  {
   "cell_type": "markdown",
   "metadata": {},
   "source": [
    "## From Nation to province brand"
   ]
  },
  {
   "cell_type": "code",
   "execution_count": null,
   "metadata": {},
   "outputs": [],
   "source": [
    "all_offtake_nati = all_offline_offtake[all_offline_offtake['MDM_province_code'] == 'National']\n",
    "all_offtake_nati = all_offtake_nati.groupby(by = ['YearMonth', 'Brand'])['Offtake_Value'].sum().reset_index()\n",
    "all_offtake_nati.columns = ['YearMonth', 'Brand', 'Brand_Offtake_Value']"
   ]
  },
  {
   "cell_type": "code",
   "execution_count": null,
   "metadata": {},
   "outputs": [],
   "source": [
    "all_offtake_prov = all_offline_offtake[all_offline_offtake['MDM_province_code'] != 'National']\n",
    "all_offtake_prov = all_offtake_prov.groupby(by = ['YearMonth', 'Brand', 'MDM_province_code'])['Offtake_Value'].sum().reset_index()"
   ]
  },
  {
   "cell_type": "code",
   "execution_count": null,
   "metadata": {},
   "outputs": [],
   "source": [
    "nati_to_prov = pd.merge(all_offtake_nati, all_offtake_prov, on=['YearMonth', 'Brand'], how='left')\n",
    "nati_to_prov['Split_Ratio'] = nati_to_prov['Offtake_Value'] /  nati_to_prov['Brand_Offtake_Value']"
   ]
  },
  {
   "cell_type": "code",
   "execution_count": null,
   "metadata": {},
   "outputs": [],
   "source": [
    "nati_to_prov = nati_to_prov[['YearMonth', 'MDM_province_code', 'Brand', 'Split_Ratio']]"
   ]
  },
  {
   "cell_type": "code",
   "execution_count": null,
   "metadata": {},
   "outputs": [],
   "source": [
    "output_file_path = config['project_path'] + '/' \\\n",
    "                        + config['temp_folder_path'] + '/' \\\n",
    "                        + config['brand_to_province_brand_file']\n",
    "\n",
    "nati_to_prov.to_excel(output_file_path, index=False)"
   ]
  },
  {
   "cell_type": "markdown",
   "metadata": {},
   "source": [
    "## From brand to province brand"
   ]
  },
  {
   "cell_type": "code",
   "execution_count": null,
   "metadata": {},
   "outputs": [],
   "source": [
    "all_offtake_nati = all_offline_offtake[all_offline_offtake['MDM_province_code'] == 'National']\n",
    "all_offtake_nati = all_offtake_nati.groupby(by = ['YearMonth'])['Offtake_Value'].sum().reset_index()\n",
    "all_offtake_nati.columns = ['YearMonth', 'National_Offtake_Value']"
   ]
  },
  {
   "cell_type": "code",
   "execution_count": null,
   "metadata": {},
   "outputs": [],
   "source": [
    "all_offtake_prov = all_offline_offtake[all_offline_offtake['MDM_province_code'] != 'National']\n",
    "all_offtake_prov = all_offtake_prov.groupby(by = ['YearMonth', 'Brand', 'MDM_province_code'])['Offtake_Value'].sum().reset_index()"
   ]
  },
  {
   "cell_type": "code",
   "execution_count": null,
   "metadata": {},
   "outputs": [],
   "source": [
    "nati_to_prov = pd.merge(all_offtake_nati, all_offtake_prov, on=['YearMonth'], how='left')\n",
    "nati_to_prov['Split_Ratio'] = nati_to_prov['Offtake_Value'] /  nati_to_prov['National_Offtake_Value']"
   ]
  },
  {
   "cell_type": "code",
   "execution_count": null,
   "metadata": {},
   "outputs": [],
   "source": [
    "nati_to_prov = nati_to_prov[['YearMonth', 'MDM_province_code', 'Brand', 'Split_Ratio']]"
   ]
  },
  {
   "cell_type": "code",
   "execution_count": null,
   "metadata": {},
   "outputs": [],
   "source": [
    "output_file_path = config['project_path'] + '/' \\\n",
    "                        + config['temp_folder_path'] + '/' \\\n",
    "                        + config['nation_to_province_brand_file']\n",
    "\n",
    "nati_to_prov.to_excel(output_file_path, index=False)"
   ]
  },
  {
   "cell_type": "markdown",
   "metadata": {},
   "source": [
    "## From province to province brand"
   ]
  },
  {
   "cell_type": "code",
   "execution_count": null,
   "metadata": {},
   "outputs": [],
   "source": [
    "all_offtake_prov = all_offline_offtake[all_offline_offtake['MDM_province_code'] != 'National']\n",
    "all_offtake_prov = all_offtake_prov.groupby(by = ['YearMonth', 'Brand', 'MDM_province_code'])['Offtake_Value'].sum().reset_index()"
   ]
  },
  {
   "cell_type": "code",
   "execution_count": null,
   "metadata": {},
   "outputs": [],
   "source": [
    "all_offtake_prov_base = all_offtake_prov.groupby(by = ['YearMonth', 'MDM_province_code'])['Offtake_Value'].sum().reset_index()\n",
    "all_offtake_prov_base.columns = ['YearMonth', 'MDM_province_code', 'All_Offtake_Value']"
   ]
  },
  {
   "cell_type": "code",
   "execution_count": null,
   "metadata": {},
   "outputs": [],
   "source": [
    "prov_to_provbrand = pd.merge(all_offtake_prov_base, all_offtake_prov, on=['YearMonth', 'MDM_province_code'], how='left')\n",
    "prov_to_provbrand['Split_Ratio'] = prov_to_provbrand['Offtake_Value'] /  prov_to_provbrand['All_Offtake_Value']"
   ]
  },
  {
   "cell_type": "code",
   "execution_count": null,
   "metadata": {},
   "outputs": [],
   "source": [
    "prov_to_provbrand = prov_to_provbrand[['YearMonth', 'MDM_province_code', 'Brand', 'Split_Ratio']]"
   ]
  },
  {
   "cell_type": "code",
   "execution_count": null,
   "metadata": {},
   "outputs": [],
   "source": [
    "output_file_path = config['project_path'] + '/' \\\n",
    "                        + config['temp_folder_path'] + '/' \\\n",
    "                        + config['province_to_province_brand_file']\n",
    "\n",
    "prov_to_provbrand.to_excel(output_file_path, index=False)"
   ]
  }
 ],
 "metadata": {
  "kernelspec": {
   "display_name": "Python 3",
   "language": "python",
   "name": "python3"
  },
  "language_info": {
   "codemirror_mode": {
    "name": "ipython",
    "version": 3
   },
   "file_extension": ".py",
   "mimetype": "text/x-python",
   "name": "python",
   "nbconvert_exporter": "python",
   "pygments_lexer": "ipython3",
   "version": "3.7.6"
  }
 },
 "nbformat": 4,
 "nbformat_minor": 4
}
