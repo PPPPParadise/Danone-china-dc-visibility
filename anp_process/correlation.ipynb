{
 "cells": [
  {
   "cell_type": "code",
   "execution_count": 1,
   "metadata": {},
   "outputs": [],
   "source": [
    "import numpy as np\n",
    "import pandas as pd"
   ]
  },
  {
   "cell_type": "code",
   "execution_count": 2,
   "metadata": {},
   "outputs": [],
   "source": [
    "def get_correlation(invest, perf):\n",
    "    corre_df = pd.DataFrame(columns=['lagging_month', 'correlation'])\n",
    "    start = 0\n",
    "    end = start + len(invest)\n",
    "\n",
    "    while end <= len(perf):\n",
    "        perf_tmp = perf[start:end]\n",
    "        corre_df = corre_df.append([{'lagging_month':start, 'correlation':np.corrcoef(invest, perf_tmp)[0][1]}], ignore_index=True)\n",
    "        start = start + 1\n",
    "        end = start + len(invest)\n",
    "\n",
    "    return corre_df"
   ]
  },
  {
   "cell_type": "code",
   "execution_count": 3,
   "metadata": {},
   "outputs": [],
   "source": [
    "media = [43290855.43, 42179569.54, 28091357.92, 30521285.55, 7323978.37, 19885209.45, 18295734.88, 17569851.56, 14192710.56, 4092751.63, 22879783.52, 27043142.46 ]\n",
    "offtake = [343013311.65, 464262744.80, 410665336.12, 497339564.54, 271112477.24, 470418125.67, 385773792.35, 405413665.24, 450650510.91, 388031116.48, 471942526.92, 472827033.27, 464723199.97, 706833645.55, 491421721.31, 522128453.77, 453274872.55, 625601105.25, 553707119.46, 545001950.26]"
   ]
  },
  {
   "cell_type": "markdown",
   "metadata": {},
   "source": [
    "### Danone Offtake"
   ]
  },
  {
   "cell_type": "code",
   "execution_count": 4,
   "metadata": {},
   "outputs": [],
   "source": [
    "all_offtake = [376062231.07,223692603.47,336546606.96,295906892.17,325015002.38,357252932.23,292106420.92,329857233.74,356625821.79,343013311.65,464262744.80,410665336.12,497339564.54,271112477.24,470418125.67,385773792.35,405413665.24,450650510.91,388031116.48,471942526.92,472827033.27,464723199.97,706833645.55,491421721.31,522128453.77,453274872.55,625601105.25,553707119.46,545001950.26]\n",
    "offline_offtake = [269029724.37,170200976.86,247908763.20,218763684.08,241117524.92,247611776.90,232222445.43,249125709.40,285789885.57,269476097.12,308738911.05,321986202.06,395041878.24,215852110.38,364125522.97,308443993.69,323014944.16,337504193.68,303513531.23,368438489.42,387560776.46,367160168.19,430069643.99,400360200.78,414804924.43,332690926.03,471357198.41,420304554.05,426745917.24]\n",
    "online_offtake = [107032506.70,53491626.61,88637843.76,77143208.09,83897477.46,109641155.33,59883975.49,80731524.34,70835936.22,73537214.53,155523833.75,88679134.06,102297686.30,55260366.86,106292602.70,77329798.66,82398721.08,113146317.23,84517585.25,103504037.50,85266256.81,97563031.78,276764001.56,91061520.53,107323529.34,120583946.52,154243906.84,133402565.41,118256033.02]"
   ]
  },
  {
   "cell_type": "code",
   "execution_count": 5,
   "metadata": {},
   "outputs": [],
   "source": [
    "media_a_all = [10886.93,8848.53,7569.77,11376.61,27297.89,20230.58,5982.12,12245.27,32837.90,39607.85,36957.07,25564.53,29194.50,6915.45,15524.51,12863.88,10752.84,6586.61,2148.50,11913.66,12514.46,13960.24,13049.24,13378.78]\t\t\t\n",
    "media_i_all = [3423.54,1016.66,2869.74,3881.11,4853.49,4232.10,2179.71,3131.62,3836.57,3683.01,5222.50,2526.83,1326.78,408.52,4360.70,5431.86,6817.02,7606.10,1944.25,10966.13,14528.68,18722.79,28194.64,15587.41]"
   ]
  },
  {
   "cell_type": "code",
   "execution_count": 6,
   "metadata": {},
   "outputs": [
    {
     "data": {
      "text/plain": [
       "29"
      ]
     },
     "execution_count": 6,
     "metadata": {},
     "output_type": "execute_result"
    }
   ],
   "source": [
    "len(all_offtake)"
   ]
  },
  {
   "cell_type": "code",
   "execution_count": 7,
   "metadata": {},
   "outputs": [
    {
     "data": {
      "text/plain": [
       "24"
      ]
     },
     "execution_count": 7,
     "metadata": {},
     "output_type": "execute_result"
    }
   ],
   "source": [
    "len(media_i_all)"
   ]
  },
  {
   "cell_type": "code",
   "execution_count": 8,
   "metadata": {},
   "outputs": [],
   "source": [
    "media_a = media_a_all[:22]\n",
    "media_i = media_i_all[:22]"
   ]
  },
  {
   "cell_type": "code",
   "execution_count": 9,
   "metadata": {},
   "outputs": [],
   "source": [
    "corre_df = pd.DataFrame(columns=['lagging_month', 'correlation','investment','performance'])\n",
    "\n",
    "corre_tmp_df = get_correlation(media_a, all_offtake)\n",
    "corre_tmp_df['investment'] = 'Media Awareness Investment'\n",
    "corre_tmp_df['performance'] = 'All Danone Offtake'\n",
    "corre_df = corre_df.append(corre_tmp_df, ignore_index = True)\n",
    "\n",
    "corre_tmp_df = get_correlation(media_i, all_offtake)\n",
    "corre_tmp_df['investment'] = 'Media Interest Investment'\n",
    "corre_tmp_df['performance'] = 'All Danone Offtake'\n",
    "corre_df = corre_df.append(corre_tmp_df, ignore_index = True)\n",
    "\n",
    "corre_tmp_df = get_correlation(media_a, offline_offtake)\n",
    "corre_tmp_df['investment'] = 'Media Awareness Investment'\n",
    "corre_tmp_df['performance'] = 'Offline Danone Offtake'\n",
    "corre_df = corre_df.append(corre_tmp_df, ignore_index = True)\n",
    "\n",
    "corre_tmp_df = get_correlation(media_i, offline_offtake)\n",
    "corre_tmp_df['investment'] = 'Media Interest Investment'\n",
    "corre_tmp_df['performance'] = 'Offline Danone Offtake'\n",
    "corre_df = corre_df.append(corre_tmp_df, ignore_index = True)\n",
    "\n",
    "corre_tmp_df = get_correlation(media_a, online_offtake)\n",
    "corre_tmp_df['investment'] = 'Media Awareness Investment'\n",
    "corre_tmp_df['performance'] = 'Online Danone Offtake'\n",
    "corre_df = corre_df.append(corre_tmp_df, ignore_index = True)\n",
    "\n",
    "corre_tmp_df = get_correlation(media_i, online_offtake)\n",
    "corre_tmp_df['investment'] = 'Media Interest Investment'\n",
    "corre_tmp_df['performance'] = 'Online Danone Offtake'\n",
    "corre_df = corre_df.append(corre_tmp_df, ignore_index = True)"
   ]
  },
  {
   "cell_type": "markdown",
   "metadata": {},
   "source": [
    "### Nielsen Share"
   ]
  },
  {
   "cell_type": "code",
   "execution_count": 10,
   "metadata": {},
   "outputs": [],
   "source": [
    "#Nielsen starts at 2018 Mar\n",
    "nielsen_share= [3.10,3.30,3.29,3.27,3.08,3.07,3.37,3.19,3.62,3.61,4.06,3.43,4.06,3.77,3.67,4.36,3.93,3.52,3.65,3.79,4.28,3.67,4.276,4.706,4.537,4.31,4.083]"
   ]
  },
  {
   "cell_type": "code",
   "execution_count": 11,
   "metadata": {},
   "outputs": [
    {
     "data": {
      "text/plain": [
       "27"
      ]
     },
     "execution_count": 11,
     "metadata": {},
     "output_type": "execute_result"
    }
   ],
   "source": [
    "len(nielsen_share)"
   ]
  },
  {
   "cell_type": "code",
   "execution_count": 12,
   "metadata": {},
   "outputs": [],
   "source": [
    "media_a = media_a_all[2:22]\n",
    "media_i = media_i_all[2:22]"
   ]
  },
  {
   "cell_type": "code",
   "execution_count": 13,
   "metadata": {},
   "outputs": [],
   "source": [
    "corre_tmp_df = get_correlation(media_a, nielsen_share)\n",
    "corre_tmp_df['investment'] = 'Media Awareness Investment'\n",
    "corre_tmp_df['performance'] = 'Nielsen Share'\n",
    "corre_df = corre_df.append(corre_tmp_df, ignore_index = True)\n",
    "\n",
    "corre_tmp_df = get_correlation(media_i, nielsen_share)\n",
    "corre_tmp_df['investment'] = 'Media Interest Investment'\n",
    "corre_tmp_df['performance'] = 'Nielsen Share'\n",
    "corre_df = corre_df.append(corre_tmp_df, ignore_index = True)"
   ]
  },
  {
   "cell_type": "markdown",
   "metadata": {},
   "source": [
    "### Total brand awareness"
   ]
  },
  {
   "cell_type": "code",
   "execution_count": 14,
   "metadata": {},
   "outputs": [],
   "source": [
    "#Nielsen starts at 2018 July\n",
    "tba = [77.93,76.23,74.84,76.12,76.78,76.77,77.32,79.03,80.81,81.29,82.31,82.16,82.49,83.11,83.36,84.92,85.40,86.57,84.83,83.46,82.65,83.06]"
   ]
  },
  {
   "cell_type": "code",
   "execution_count": 15,
   "metadata": {},
   "outputs": [],
   "source": [
    "media_a = media_a_all[6:23]\n",
    "media_i = media_i_all[6:23]"
   ]
  },
  {
   "cell_type": "code",
   "execution_count": 16,
   "metadata": {},
   "outputs": [],
   "source": [
    "corre_tmp_df = get_correlation(media_a, tba)\n",
    "corre_tmp_df['investment'] = 'Media Awareness Investment'\n",
    "corre_tmp_df['performance'] = 'Total Brand Awareness'\n",
    "corre_df = corre_df.append(corre_tmp_df, ignore_index = True)"
   ]
  },
  {
   "cell_type": "code",
   "execution_count": 17,
   "metadata": {},
   "outputs": [],
   "source": [
    "corre_df.to_excel('../temp/aptamil_correlation_analysis_result.xlsx', index=False)"
   ]
  }
 ],
 "metadata": {
  "kernelspec": {
   "display_name": "Python 3",
   "language": "python",
   "name": "python3"
  },
  "language_info": {
   "codemirror_mode": {
    "name": "ipython",
    "version": 3
   },
   "file_extension": ".py",
   "mimetype": "text/x-python",
   "name": "python",
   "nbconvert_exporter": "python",
   "pygments_lexer": "ipython3",
   "version": "3.7.6"
  }
 },
 "nbformat": 4,
 "nbformat_minor": 4
}
