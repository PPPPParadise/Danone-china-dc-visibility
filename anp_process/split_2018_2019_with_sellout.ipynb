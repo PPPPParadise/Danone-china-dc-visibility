{
 "cells": [
  {
   "cell_type": "code",
   "execution_count": 1,
   "metadata": {},
   "outputs": [],
   "source": [
    "import pandas as pd\n",
    "import operator\n",
    "import time\n",
    "import numpy as np"
   ]
  },
  {
   "cell_type": "code",
   "execution_count": 2,
   "metadata": {
    "lines_to_next_cell": 2
   },
   "outputs": [],
   "source": [
    "config = {}\n",
    "\n",
    "config[\"year_list\"] = [2018,2019]\n",
    "config[\"project_path\"] = \"..\"\n",
    "config[\"data_folder_path\"] = \"data\"\n",
    "config[\"temp_folder_path\"] = \"temp\"\n",
    "\n",
    "# input files\n",
    "config[\"sellout_input_files\"] = [\"DW_Fact_Sellout_NoneSplit_2017-2019_20191219.csv\"]\n",
    "config[\"sellout_20191112_input_files\"] = \"DW_Fact_Sellout_NoneSplit_20191112_20200120.csv\"\n",
    "config[\"product_file\"] = \"DW_DIM_Product_20191125.csv\"\n",
    "\n",
    "# output files\n",
    "config[\"sell_out_file\"] = \"sellout_{0}.csv\""
   ]
  },
  {
   "cell_type": "code",
   "execution_count": 3,
   "metadata": {},
   "outputs": [],
   "source": [
    "# schema of input file\n",
    "sellout_columns = ['YearMonth', 'Data_Source', 'Bill_Date', 'Bill_Type', \n",
    "                   'Distributor_Code_DMS', 'Distributor_Code', 'Client_Code', \n",
    "                   'Client_Name', 'EA_Platform', 'Ship_To_Code', \n",
    "                   'Inventory_location', 'Customer_Code', 'Product_Code', \n",
    "                   'Sellout_Qty', 'Sellout_SP_Value', 'Sellout_Channel_Value', \n",
    "                   'ETL_DateTime', 'Data_CreationTime']\n",
    "\n",
    "# Only below columns from input file are needed\n",
    "select_columns = ['YearMonth','Distributor_Code','Customer_Code',\n",
    "                  'Product_Code','Sellout_SP_Value']\n",
    "sellout_df = pd.DataFrame(columns=select_columns)"
   ]
  },
  {
   "cell_type": "code",
   "execution_count": 4,
   "metadata": {},
   "outputs": [],
   "source": [
    "for sellout_input_file in config[\"sellout_input_files\"]:\n",
    "    input_file_path = config[\"project_path\"] + \"/\" \\\n",
    "                        + config[\"data_folder_path\"] + \"/\" \\\n",
    "                        + sellout_input_file\n",
    "    input_df = pd.read_csv(input_file_path, header = None, dtype=str).fillna('0')\n",
    "    input_df.columns = sellout_columns\n",
    "    if operator.eq(list(input_df.loc[0]),list(sellout_columns))== True:\n",
    "        input_df = input_df.drop([0])\n",
    "    input_df = input_df[select_columns]\n",
    "    sellout_df = sellout_df.append(input_df, ignore_index=True)"
   ]
  },
  {
   "cell_type": "code",
   "execution_count": 5,
   "metadata": {},
   "outputs": [],
   "source": [
    "# sellout_input_files contains incomplete 201912 data. Needs to be filtered out\n",
    "sellout_df = sellout_df.loc[(sellout_df[\"YearMonth\"] != \"201912\")]"
   ]
  },
  {
   "cell_type": "code",
   "execution_count": 6,
   "metadata": {},
   "outputs": [],
   "source": [
    "# Add complete 201912 data from a seperate file\n",
    "\n",
    "input_file_path = config[\"project_path\"] + \"/\" \\\n",
    "                        + config[\"data_folder_path\"] + \"/\" \\\n",
    "                        + config[\"sellout_20191112_input_files\"]\n",
    "\n",
    "input_df = pd.read_csv(input_file_path, header = None, dtype=str).fillna('0')\n",
    "input_df.columns = sellout_columns\n",
    "if operator.eq(list(input_df.loc[0]),list(sellout_columns))== True:\n",
    "    input_df = input_df.drop([0])\n",
    "input_df = input_df[select_columns]\n",
    "\n",
    "input_df = input_df.loc[(input_df[\"YearMonth\"] == \"201912\")]\n",
    "\n",
    "sellout_df = sellout_df.append(input_df, ignore_index=True)"
   ]
  },
  {
   "cell_type": "code",
   "execution_count": 7,
   "metadata": {},
   "outputs": [],
   "source": [
    "sellout_df[\"Sellout_SP_Value\"] = sellout_df[\"Sellout_SP_Value\"].astype(\"float\")\n",
    "sellout_df[\"Product_Code\"] = sellout_df[\"Product_Code\"].astype(\"str\")\n",
    "sellout_df[\"Customer_Code\"] = sellout_df[\"Customer_Code\"].astype(\"str\")\n",
    "sellout_df[\"Distributor_Code\"] = sellout_df[\"Distributor_Code\"].astype(\"str\")\n",
    "sellout_df[\"YearMonth\"] = sellout_df[\"YearMonth\"].astype(\"str\")"
   ]
  },
  {
   "cell_type": "code",
   "execution_count": 8,
   "metadata": {},
   "outputs": [],
   "source": [
    "# Read product code and related brandstage, brand information\n",
    "product_brand_columns = [\"Product_Code\", \"Product_Short_NameEN\"]\n",
    "\n",
    "input_file_path = config[\"project_path\"] + \"/\" + config[\"data_folder_path\"] + \"/\" + config[\"product_file\"]\n",
    "\n",
    "product_brand_input_df = pd.read_csv(input_file_path, header=0, dtype=str)[product_brand_columns]\n",
    "\n",
    "product_brand_output_df = product_brand_input_df.drop_duplicates().reset_index(drop=True)\n",
    "\n",
    "product_brand_output_df.columns = [\"Product_Code\", \"Brand_Stage\"]\n",
    "\n",
    "product_brand_output_df = product_brand_output_df.dropna()\n",
    "\n",
    "product_brand_output_df[\"Brand\"] = product_brand_output_df[\"Brand_Stage\"].str.slice(0, 2)\n",
    "\n",
    "# Add sepcial product code for brands and all brands\n",
    "product_brand_output_df = product_brand_output_df.append(\n",
    "                        [{\"Product_Code\":\"10332781\", \"Brand_Stage\": \"NC\", \"Brand\": \"NC\"}], ignore_index=True)\n",
    "\n",
    "product_brand_output_df = product_brand_output_df.append(\n",
    "                        [{\"Product_Code\":\"10332872\", \"Brand_Stage\": \"AC\", \"Brand\": \"AC\"}], ignore_index=True)\n",
    "\n",
    "product_brand_output_df = product_brand_output_df.append(\n",
    "                        [{\"Product_Code\":\"10332873\", \"Brand_Stage\": \"AP\", \"Brand\": \"AP\"}], ignore_index=True)\n",
    "\n",
    "product_brand_output_df = product_brand_output_df.append(\n",
    "                        [{\"Product_Code\":\"10332778\", \"Brand_Stage\": \"ELN\", \"Brand\": \"ELN\"}], ignore_index=True)"
   ]
  },
  {
   "cell_type": "code",
   "execution_count": 9,
   "metadata": {},
   "outputs": [],
   "source": [
    "sellout_with_brand = pd.merge(sellout_df, product_brand_output_df, on=\"Product_Code\", how=\"left\")\n",
    "sellout_with_brand = sellout_with_brand[sellout_with_brand.Brand.isin([\"AC\", \"NC\", \"AP\"])]"
   ]
  },
  {
   "cell_type": "code",
   "execution_count": 10,
   "metadata": {},
   "outputs": [],
   "source": [
    "sellout_with_brand_agg = sellout_with_brand.groupby(by = ['YearMonth', 'Brand'])['Sellout_SP_Value'].sum().reset_index()\n",
    "sellout_with_brand_agg.columns = ['YearMonth', 'Brand', 'sellout_by_brand']"
   ]
  },
  {
   "cell_type": "code",
   "execution_count": 11,
   "metadata": {},
   "outputs": [],
   "source": [
    "sellout_monthly = sellout_with_brand.groupby(by = ['YearMonth'])['Sellout_SP_Value'].sum().reset_index()\n",
    "sellout_monthly.columns = ['YearMonth', 'sellout_all']"
   ]
  },
  {
   "cell_type": "code",
   "execution_count": 12,
   "metadata": {},
   "outputs": [],
   "source": [
    "sellout_split = pd.merge(sellout_monthly, sellout_with_brand_agg, on=[\"YearMonth\"], how=\"left\")"
   ]
  },
  {
   "cell_type": "code",
   "execution_count": 13,
   "metadata": {},
   "outputs": [],
   "source": [
    "sellout_split[\"split_ratio\"] = sellout_split[\"sellout_by_brand\"] / sellout_split[\"sellout_all\"]"
   ]
  },
  {
   "cell_type": "code",
   "execution_count": 14,
   "metadata": {},
   "outputs": [],
   "source": [
    "sellout_split.to_excel(\"sellout_all_by_brand_split.xlsx\")"
   ]
  },
  {
   "cell_type": "code",
   "execution_count": 15,
   "metadata": {},
   "outputs": [],
   "source": [
    "ac_sellout = sellout_split[sellout_split[\"Brand\"] == \"AC\"][[\"YearMonth\", \"split_ratio\"]]\n",
    "ac_sellout.columns = [\"YearMonth\", \"AC_ratio\"]\n",
    "\n",
    "ap_sellout = sellout_split[sellout_split[\"Brand\"] == \"AP\"][[\"YearMonth\", \"split_ratio\"]]\n",
    "ap_sellout.columns = [\"YearMonth\", \"AP_ratio\"]\n",
    "\n",
    "an_sellout = pd.merge(ac_sellout, ap_sellout, on=\"YearMonth\", how=\"outer\")\n",
    "an_sellout = an_sellout.fillna(0)\n",
    "\n",
    "an_sellout[\"AN_ratio\"] = an_sellout[\"AC_ratio\"] + an_sellout[\"AP_ratio\"]\n",
    "an_sellout=an_sellout[[\"YearMonth\", \"AN_ratio\"]]"
   ]
  },
  {
   "cell_type": "code",
   "execution_count": 16,
   "metadata": {},
   "outputs": [],
   "source": [
    "input_file_path = config[\"project_path\"] + \"/\" \\\n",
    "                        + config[\"data_folder_path\"] + \"/\" \\\n",
    "                        + \"Natioanl all investment.xlsx\"\n",
    "\n",
    "input_cost_df = pd.read_excel(input_file_path).fillna({\"Spending_value\": 0})"
   ]
  },
  {
   "cell_type": "code",
   "execution_count": 17,
   "metadata": {},
   "outputs": [],
   "source": [
    "input_cost_df[\"YearMonth\"] = input_cost_df['Date'].apply(lambda x : x.strftime(\"%Y%m\"))"
   ]
  },
  {
   "cell_type": "code",
   "execution_count": 18,
   "metadata": {},
   "outputs": [],
   "source": [
    "an_cost_df = pd.merge(input_cost_df, an_sellout, on=\"YearMonth\", how =\"left\")"
   ]
  },
  {
   "cell_type": "code",
   "execution_count": 19,
   "metadata": {},
   "outputs": [],
   "source": [
    "an_cost_df[\"an_value\"] = an_cost_df[\"Spending_value\"] * an_cost_df[\"AN_ratio\"] "
   ]
  },
  {
   "cell_type": "code",
   "execution_count": 20,
   "metadata": {},
   "outputs": [],
   "source": [
    "an_cost_df[\"Brand\"] = \"Aptamil\"\n",
    "an_cost_df[\"SKU\"] = \"AN\"\n",
    "an_cost_df = an_cost_df[an_cost_df[\"YearMonth\"] < \"202001\"]"
   ]
  },
  {
   "cell_type": "code",
   "execution_count": 21,
   "metadata": {},
   "outputs": [],
   "source": [
    "an_cost_df = an_cost_df[['Date', 'Province', 'Cost_type_1', 'Cost_type_2', 'Cost_type_3', \\\n",
    "       'Cost_type_4', 'AIP', 'Brand', 'SKU', 'an_value']]\n",
    "\n",
    "an_cost_df.columns=['Date', 'Province', 'Cost_type_1', 'Cost_type_2', 'Cost_type_3', \\\n",
    "       'Cost_type_4', 'AIP', 'Brand', 'SKU', 'Spending_Value']"
   ]
  },
  {
   "cell_type": "code",
   "execution_count": 23,
   "metadata": {},
   "outputs": [],
   "source": [
    "an_cost_df.to_excel(\"../temp/2018 2019 Natioanl all investment workbook.xlsx\", index=False)"
   ]
  },
  {
   "cell_type": "code",
   "execution_count": null,
   "metadata": {},
   "outputs": [],
   "source": []
  }
 ],
 "metadata": {
  "kernelspec": {
   "display_name": "Python 3",
   "language": "python",
   "name": "python3"
  },
  "language_info": {
   "codemirror_mode": {
    "name": "ipython",
    "version": 3
   },
   "file_extension": ".py",
   "mimetype": "text/x-python",
   "name": "python",
   "nbconvert_exporter": "python",
   "pygments_lexer": "ipython3",
   "version": "3.7.6"
  }
 },
 "nbformat": 4,
 "nbformat_minor": 4
}
