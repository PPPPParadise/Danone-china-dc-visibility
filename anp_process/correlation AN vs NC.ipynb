{
 "cells": [
  {
   "cell_type": "code",
   "execution_count": 1,
   "metadata": {},
   "outputs": [],
   "source": [
    "import numpy as np\n",
    "import pandas as pd"
   ]
  },
  {
   "cell_type": "code",
   "execution_count": 2,
   "metadata": {},
   "outputs": [],
   "source": [
    "def get_correlation(invest, perf):\n",
    "    corre_df = pd.DataFrame(columns=['lagging_month', 'correlation'])\n",
    "    start = 0\n",
    "    end = start + len(invest)\n",
    "\n",
    "    while end <= len(perf):\n",
    "        perf_tmp = perf[start:end]\n",
    "        corre_df = corre_df.append([{'lagging_month':start, 'correlation':np.corrcoef(invest, perf_tmp)[0][1]}], ignore_index=True)\n",
    "        start = start + 1\n",
    "        end = start + len(invest)\n",
    "\n",
    "    return corre_df"
   ]
  },
  {
   "cell_type": "markdown",
   "metadata": {},
   "source": [
    "### Danone Offtake"
   ]
  },
  {
   "cell_type": "code",
   "execution_count": 3,
   "metadata": {},
   "outputs": [],
   "source": [
    "AN_all_offtake = [376062231.1,223692603.5,336546607,295906892.2,325015002.4,357252932.2,292106420.9,329857233.7,356625821.8,343013311.6,464262744.8,410665336.1,497339564.5,271112477.2,470418125.7,385773792.3,405413665.2,450650510.9,388031116.5,471942526.9,472827033.3,464723200,706833645.6,491421721.3,522128453.8,453274872.6,625601105.3,553707119.5,545001950.3]\n",
    "\n",
    "NC_all_offtake =[237013333.3,131455938.8,209429385.9,187505550.2,176705983.3,180326437.2,144068010.4,169048739.5,168732293.7,159954389.3,228429246.6,166848988.6,212000675.6,110913116.5,190762978.7,169063280,158255046.1,194156540.3,146608279.3,155464827.2,145889960.2,142975702.5,199354127.1,127886251.8,152797375,102081919.3,126901296.6,101015797.3,122083764.3]"
   ]
  },
  {
   "cell_type": "code",
   "execution_count": 4,
   "metadata": {},
   "outputs": [],
   "source": [
    "AN_anp = [10612318.81,8046114.834,14817331.5,12498535.95,18499747.57,21372543.87,9409587.128,16091086.7,20932617.12,15001903.92,11612984.54,12964060.7,16898231.56,8332751.529,20948402.4,18015094.48,16745766.59,26690261.47,11808346.35,20250072.26,29129247.48,24459870.16]\n",
    "AN_media = [6402717.85,2766525.606,8131929.684,3801311.894,10019516.38,13378409.67,3069920.068,9840181.104,12198537.36,5288466.329,1582190.937,753513.1116,10252070.14,2363055.834,11791549.34,7880076.096,5927939.394,15148288.46,2452754.543,5955694.659,15309551.8,7055303.631]\n",
    "AN_CRM = [2149728.9,1600717.885,1572184.526,2903949.52,2589553.38,2034232.907,1254065.261,1428542.079,2363174.191,1934418.379,3281615.936,3760432.189,1295125.74,1154338.083,1649715.893,1614963.842,1750000.012,2235794.327,1736815.75,1823751.923,2204012.429,2129113.205]\n",
    "AN_TS = [28725032.32,14252492.37,24640281.35,26237090.11,20856888.43,25033865.48,16245440.4,22308313.51,36689027.14,24714941.09,34242730.24,20380395.06,33226739.15,19948387.42,41119657.01,38808594.23,38779761.33,20992444.53,33069945.62,42819749.88,52587142.82,47011677.47]\n",
    "AN_TP = [95502782.76,25607094.78,88466365.65,90268929.72,32573430.72,106097163.7,46924151.94,84517124.75,168759468.3,68494624.12,167675385.9,114229128.5,170513277.8,68987138.15,205029190,150930592.4,157057611.1,158691927.4,144605014,207807843.9,191465243.3,191973696.9]"
   ]
  },
  {
   "cell_type": "code",
   "execution_count": 5,
   "metadata": {},
   "outputs": [],
   "source": [
    "NC_anp = [4591830.047,2441879.604,7760020.548,6122284.987,7297449.07,15290830.61,3493268.526,7786454.424,7385875.483,7533179.056,10465481.29,6134242.495,4121509.282,3573453.028,7566944.149,6456639.732,7938984.969,16925149.15,4968196.495,5189570.578,15156632.79,9044421.542]\n",
    "NC_media = [2481594.798,67773.0192,3702900.258,1965591.037,3302893.56,11280959.33,141809.0154,4197915.628,3275450.124,2031867.902,5604188.553,2852524.484,1570556.333,1269087.862,3678971.301,3457269.169,5133504.201,10625034.78,1194932.037,1945572.467,10993382.67,4639234.414]\n",
    "NC_CRM = [1373618.566,747382.3698,1012493.252,1407930.961,1282254.306,1096490.764,731116.5522,838066.8117,1112882.267,1019548.532,1499516.623,1167880.073,508299.7755,483308.3088,723158.7399,512328.5346,443705.8224,1257389.382,754912.7298,441331.3677,713886.7341,543758.349]\n",
    "NC_TS = [17836681.03,7257130.744,17391354.75,14448836.98,12757146.21,15348493.16,10462225.42,13783895.91,18033131.59,13185086.17,19599071.2,6703096.317,15919950.37,8641519.87,20056893.52,17782191.11,16845388.26,16250503.99,17185819.02,14719982.62,20254357.92,13853552.52]\n",
    "NC_TP = [5997698.898,2089621.386,7934885.316,5961734.913,3804056.1,7909808.402,3412799.148,5356880.725,9348199.715,4073894.624,12787504.47,4255042.049,9124291.074,2479271.799,11185508.22,10743532.83,10934099.97,13920074.26,9044950.925,9714413.944,8872644.633,6983686.709]"
   ]
  },
  {
   "cell_type": "code",
   "execution_count": 6,
   "metadata": {},
   "outputs": [],
   "source": [
    "corre_df = pd.DataFrame(columns=['lagging_month', 'correlation','investment','performance', 'brand'])\n",
    "\n",
    "corre_tmp_df = get_correlation(AN_anp, AN_all_offtake)\n",
    "corre_tmp_df['investment'] = 'A&P Investment'\n",
    "corre_tmp_df['performance'] = 'All Danone Offtake'\n",
    "corre_tmp_df['brand'] = 'Aptamil'\n",
    "corre_df = corre_df.append(corre_tmp_df, ignore_index = True)\n",
    "\n",
    "corre_tmp_df = get_correlation(NC_anp, NC_all_offtake)\n",
    "corre_tmp_df['investment'] = 'A&P Investment'\n",
    "corre_tmp_df['performance'] = 'All Danone Offtake'\n",
    "corre_tmp_df['brand'] = 'Nutrilon'\n",
    "corre_df = corre_df.append(corre_tmp_df, ignore_index = True)\n",
    "\n",
    "corre_tmp_df = get_correlation(AN_media, AN_all_offtake)\n",
    "corre_tmp_df['investment'] = 'Media Investment'\n",
    "corre_tmp_df['performance'] = 'All Danone Offtake'\n",
    "corre_tmp_df['brand'] = 'Aptamil'\n",
    "corre_df = corre_df.append(corre_tmp_df, ignore_index = True)\n",
    "\n",
    "corre_tmp_df = get_correlation(NC_media, NC_all_offtake)\n",
    "corre_tmp_df['investment'] = 'Media Investment'\n",
    "corre_tmp_df['performance'] = 'All Danone Offtake'\n",
    "corre_tmp_df['brand'] = 'Nutrilon'\n",
    "corre_df = corre_df.append(corre_tmp_df, ignore_index = True)\n",
    "\n",
    "corre_tmp_df = get_correlation(AN_CRM, AN_all_offtake)\n",
    "corre_tmp_df['investment'] = 'CRM Investment'\n",
    "corre_tmp_df['performance'] = 'All Danone Offtake'\n",
    "corre_tmp_df['brand'] = 'Aptamil'\n",
    "corre_df = corre_df.append(corre_tmp_df, ignore_index = True)\n",
    "\n",
    "corre_tmp_df = get_correlation(NC_CRM, NC_all_offtake)\n",
    "corre_tmp_df['investment'] = 'CRM Investment'\n",
    "corre_tmp_df['performance'] = 'All Danone Offtake'\n",
    "corre_tmp_df['brand'] = 'Nutrilon'\n",
    "corre_df = corre_df.append(corre_tmp_df, ignore_index = True)\n",
    "\n",
    "corre_tmp_df = get_correlation(AN_TS, AN_all_offtake)\n",
    "corre_tmp_df['investment'] = 'Trade Support Investment'\n",
    "corre_tmp_df['performance'] = 'All Danone Offtake'\n",
    "corre_tmp_df['brand'] = 'Aptamil'\n",
    "corre_df = corre_df.append(corre_tmp_df, ignore_index = True)\n",
    "\n",
    "corre_tmp_df = get_correlation(NC_TS, NC_all_offtake)\n",
    "corre_tmp_df['investment'] = 'Trade Support Investment'\n",
    "corre_tmp_df['performance'] = 'All Danone Offtake'\n",
    "corre_tmp_df['brand'] = 'Nutrilon'\n",
    "corre_df = corre_df.append(corre_tmp_df, ignore_index = True)\n",
    "\n",
    "corre_tmp_df = get_correlation(AN_TP, AN_all_offtake)\n",
    "corre_tmp_df['investment'] = 'Trade Promotion Investment'\n",
    "corre_tmp_df['performance'] = 'All Danone Offtake'\n",
    "corre_tmp_df['brand'] = 'Aptamil'\n",
    "corre_df = corre_df.append(corre_tmp_df, ignore_index = True)\n",
    "\n",
    "corre_tmp_df = get_correlation(NC_TP, NC_all_offtake)\n",
    "corre_tmp_df['investment'] = 'Trade Promotion Investment'\n",
    "corre_tmp_df['performance'] = 'All Danone Offtake'\n",
    "corre_tmp_df['brand'] = 'Nutrilon'\n",
    "corre_df = corre_df.append(corre_tmp_df, ignore_index = True)"
   ]
  },
  {
   "cell_type": "markdown",
   "metadata": {},
   "source": [
    "### Nielsen Share"
   ]
  },
  {
   "cell_type": "code",
   "execution_count": 7,
   "metadata": {},
   "outputs": [],
   "source": [
    "AN_share = [3.104,3.296,3.29,3.267,3.076,3.066,3.371,3.188,3.621,3.608,4.06,3.432,4.057,3.773,3.669,4.359,3.931,3.524,3.646,3.792,4.278,3.669,4.276,4.706,4.537,4.31,4.083]\n",
    "NC_share = [1.491,1.624,1.411,1.324,1.344,1.305,1.31,1.235,1.149,1.224,1.474,1.356,1.281,1.267,1.152,1.1,1.07,1.096,0.99,0.988,0.885,0.975,0.88,1.018,0.84,0.814,0.786]\n"
   ]
  },
  {
   "cell_type": "code",
   "execution_count": 8,
   "metadata": {},
   "outputs": [],
   "source": [
    "AN_anp = AN_anp[2:22]\n",
    "AN_media = AN_media[2:22]\n",
    "AN_CRM = AN_CRM[2:22]\n",
    "AN_TS = AN_TS[2:22]\n",
    "AN_TP = AN_TP[2:22]"
   ]
  },
  {
   "cell_type": "code",
   "execution_count": 9,
   "metadata": {},
   "outputs": [],
   "source": [
    "NC_anp = AN_anp[2:22]\n",
    "NC_media = AN_media[2:22]\n",
    "NC_CRM = AN_CRM[2:22]\n",
    "NC_TS = AN_TS[2:22]\n",
    "NC_TP = AN_TP[2:22]"
   ]
  },
  {
   "cell_type": "code",
   "execution_count": 10,
   "metadata": {},
   "outputs": [],
   "source": [
    "corre_tmp_df = get_correlation(AN_anp, AN_share)\n",
    "corre_tmp_df['investment'] = 'A&P Investment'\n",
    "corre_tmp_df['performance'] = 'Nielsen Share'\n",
    "corre_tmp_df['brand'] = 'Aptamil'\n",
    "corre_df = corre_df.append(corre_tmp_df, ignore_index = True)\n",
    "\n",
    "corre_tmp_df = get_correlation(NC_anp, NC_share)\n",
    "corre_tmp_df['investment'] = 'A&P Investment'\n",
    "corre_tmp_df['performance'] = 'Nielsen Share'\n",
    "corre_tmp_df['brand'] = 'Nutrilon'\n",
    "corre_df = corre_df.append(corre_tmp_df, ignore_index = True)\n",
    "\n",
    "corre_tmp_df = get_correlation(AN_media, AN_share)\n",
    "corre_tmp_df['investment'] = 'Media Investment'\n",
    "corre_tmp_df['performance'] = 'Nielsen Share'\n",
    "corre_tmp_df['brand'] = 'Aptamil'\n",
    "corre_df = corre_df.append(corre_tmp_df, ignore_index = True)\n",
    "\n",
    "corre_tmp_df = get_correlation(NC_media, NC_share)\n",
    "corre_tmp_df['investment'] = 'Media Investment'\n",
    "corre_tmp_df['performance'] = 'Nielsen Share'\n",
    "corre_tmp_df['brand'] = 'Nutrilon'\n",
    "corre_df = corre_df.append(corre_tmp_df, ignore_index = True)\n",
    "\n",
    "corre_tmp_df = get_correlation(AN_CRM, AN_share)\n",
    "corre_tmp_df['investment'] = 'CRM Investment'\n",
    "corre_tmp_df['performance'] = 'Nielsen Share'\n",
    "corre_tmp_df['brand'] = 'Aptamil'\n",
    "corre_df = corre_df.append(corre_tmp_df, ignore_index = True)\n",
    "\n",
    "corre_tmp_df = get_correlation(NC_CRM, NC_share)\n",
    "corre_tmp_df['investment'] = 'CRM Investment'\n",
    "corre_tmp_df['performance'] = 'Nielsen Share'\n",
    "corre_tmp_df['brand'] = 'Nutrilon'\n",
    "corre_df = corre_df.append(corre_tmp_df, ignore_index = True)\n",
    "\n",
    "corre_tmp_df = get_correlation(AN_TS, AN_share)\n",
    "corre_tmp_df['investment'] = 'Trade Support Investment'\n",
    "corre_tmp_df['performance'] = 'Nielsen Share'\n",
    "corre_tmp_df['brand'] = 'Aptamil'\n",
    "corre_df = corre_df.append(corre_tmp_df, ignore_index = True)\n",
    "\n",
    "corre_tmp_df = get_correlation(NC_TS, NC_share)\n",
    "corre_tmp_df['investment'] = 'Trade Support Investment'\n",
    "corre_tmp_df['performance'] = 'Nielsen Share'\n",
    "corre_tmp_df['brand'] = 'Nutrilon'\n",
    "corre_df = corre_df.append(corre_tmp_df, ignore_index = True)\n",
    "\n",
    "corre_tmp_df = get_correlation(AN_TP, AN_share)\n",
    "corre_tmp_df['investment'] = 'Trade Promotion Investment'\n",
    "corre_tmp_df['performance'] = 'Nielsen Share'\n",
    "corre_tmp_df['brand'] = 'Aptamil'\n",
    "corre_df = corre_df.append(corre_tmp_df, ignore_index = True)\n",
    "\n",
    "corre_tmp_df = get_correlation(NC_TP, NC_share)\n",
    "corre_tmp_df['investment'] = 'Trade Promotion Investment'\n",
    "corre_tmp_df['performance'] = 'Nielsen Share'\n",
    "corre_tmp_df['brand'] = 'Nutrilon'\n",
    "corre_df = corre_df.append(corre_tmp_df, ignore_index = True)"
   ]
  },
  {
   "cell_type": "code",
   "execution_count": 11,
   "metadata": {},
   "outputs": [],
   "source": [
    "corre_df.to_excel('../temp/an_nc_correlation_analysis_result.xlsx', index=False)"
   ]
  }
 ],
 "metadata": {
  "kernelspec": {
   "display_name": "Python 3",
   "language": "python",
   "name": "python3"
  },
  "language_info": {
   "codemirror_mode": {
    "name": "ipython",
    "version": 3
   },
   "file_extension": ".py",
   "mimetype": "text/x-python",
   "name": "python",
   "nbconvert_exporter": "python",
   "pygments_lexer": "ipython3",
   "version": "3.7.6"
  }
 },
 "nbformat": 4,
 "nbformat_minor": 4
}
