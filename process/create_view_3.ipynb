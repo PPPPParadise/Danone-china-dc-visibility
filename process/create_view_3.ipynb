{
 "cells": [
  {
   "cell_type": "code",
   "execution_count": null,
   "metadata": {},
   "outputs": [],
   "source": [
    "import pandas as pd\n",
    "import operator\n",
    "import time\n",
    "import numpy as np"
   ]
  },
  {
   "cell_type": "code",
   "execution_count": null,
   "metadata": {},
   "outputs": [],
   "source": [
    "config = {}\n",
    "\n",
    "config[\"project_path\"] = \"..\"\n",
    "config[\"data_folder_path\"] = \"data\"\n",
    "config[\"temp_folder_path\"] = \"temp\"\n",
    "\n",
    "# input files\n",
    "config['nielsen_input'] = 'Nielsen 202001-05.xlsx'\n",
    "config['performance_offtake'] = 'Performance Danone offtake 202001-05.xlsx'\n",
    "config['performance_CRM'] = 'performance CRM 202001-04.xlsx'\n",
    "config['performance_search_index'] = 'performance search index 202001-04.xlsx'\n",
    "config['BHT input'] = 'BHT result.xlsx'\n",
    "config['spending_CRM'] = 'spending CRM 202001-04.xlsx'\n",
    "config['spending_media'] = 'spending media 2020Q1.xlsx'\n",
    "config['spending_channel'] = 'Spending Channel AnP 202001-04.xlsx'\n",
    "\n",
    "# output files\n",
    "config['view_3_output'] = 'province_investment&Performance.xlsx'"
   ]
  },
  {
   "cell_type": "code",
   "execution_count": null,
   "metadata": {},
   "outputs": [],
   "source": [
    "def get_brand_name(SKU):\n",
    "    if (SKU == 'AC') | (SKU == 'AP') | (SKU == 'AN'):\n",
    "        return 'Aptamil'\n",
    "    elif SKU == 'NC':\n",
    "        return 'Nutrilon'\n",
    "    return SKU"
   ]
  },
  {
   "cell_type": "code",
   "execution_count": null,
   "metadata": {},
   "outputs": [],
   "source": [
    "view3_columns = ['Date','Province','Cost_type_1','Cost_type_2','Cost_type_3','Cost_type_4','AIP','Brand','SKU','Spending_value']\n",
    "view3_df = pd.DataFrame(columns = view3_columns)"
   ]
  },
  {
   "cell_type": "markdown",
   "metadata": {},
   "source": [
    "## Nielsen"
   ]
  },
  {
   "cell_type": "code",
   "execution_count": null,
   "metadata": {},
   "outputs": [],
   "source": [
    "input_file_path = config['project_path'] + '/' \\\n",
    "                        + config['data_folder_path'] + '/' \\\n",
    "                        + config['nielsen_input']\n",
    "\n",
    "input_df = pd.read_excel(input_file_path, dtype=str)\n",
    "input_df['KPI_value'] = input_df['KPI_value'].astype('float')\n",
    "input_df['SKU'] = input_df['Brand'] \n",
    "\n",
    "iffo_df = input_df[input_df['KPI'] == 'IFFO Share'].copy()\n",
    "share_df = input_df[input_df['KPI'] == 'Nielsen Value Market Share'].copy()\n",
    "share_df['KPI'] = 'Market Share'\n",
    "\n",
    "nielsen_df = iffo_df.append(share_df, ignore_index=True)"
   ]
  },
  {
   "cell_type": "code",
   "execution_count": null,
   "metadata": {},
   "outputs": [],
   "source": [
    "nielsen_df['Brand'] = nielsen_df['SKU'].apply(lambda x : get_brand_name(x))\n",
    "nielsen_df = nielsen_df.groupby(by = ['Date', 'Province', 'Brand', 'KPI'])['KPI_value'].sum().reset_index()"
   ]
  },
  {
   "cell_type": "code",
   "execution_count": null,
   "metadata": {},
   "outputs": [],
   "source": [
    "nielsen_df['Spending_value'] = nielsen_df['KPI_value'].astype('float')\n",
    "nielsen_df['Cost_type_1'] = nielsen_df['KPI']\n",
    "nielsen_df['Cost_type_2'] = nielsen_df['KPI']\n",
    "nielsen_df['Cost_type_3'] = nielsen_df['KPI']\n",
    "nielsen_df['Cost_type_4'] = nielsen_df['KPI']\n",
    "nielsen_df['AIP'] = ''\n",
    "nielsen_df['SKU'] = ''\n",
    "\n",
    "nielsen_df = nielsen_df[view3_columns]"
   ]
  },
  {
   "cell_type": "code",
   "execution_count": null,
   "metadata": {},
   "outputs": [],
   "source": [
    "view3_df = view3_df.append(nielsen_df, ignore_index = True)\n",
    "nielsen_df[['Cost_type_1','Cost_type_2','Cost_type_3','Cost_type_4']].drop_duplicates()"
   ]
  },
  {
   "cell_type": "markdown",
   "metadata": {},
   "source": [
    "## Danone Offtake"
   ]
  },
  {
   "cell_type": "code",
   "execution_count": null,
   "metadata": {},
   "outputs": [],
   "source": [
    "input_file_path = config['project_path'] + '/' \\\n",
    "                        + config['temp_folder_path'] + '/' \\\n",
    "                        + config['performance_offtake']\n",
    "\n",
    "input_df = pd.read_excel(input_file_path, dtype=str)\n",
    "input_df['KPI_value'] = input_df['KPI_value'].astype('float')\n",
    "input_df['SKU'] = input_df['Brand']"
   ]
  },
  {
   "cell_type": "code",
   "execution_count": null,
   "metadata": {},
   "outputs": [],
   "source": [
    "input_df['Brand'] = input_df['SKU'].apply(lambda x : get_brand_name(x))\n",
    "offtake_df = input_df.groupby(by = ['Date', 'Province', 'Brand', 'KPI'])['KPI_value'].sum().reset_index()"
   ]
  },
  {
   "cell_type": "code",
   "execution_count": null,
   "metadata": {},
   "outputs": [],
   "source": [
    "offtake_df['Spending_value'] = offtake_df['KPI_value'].astype('float')\n",
    "offtake_df['Cost_type_1'] = offtake_df['KPI']\n",
    "offtake_df['Cost_type_2'] = offtake_df['KPI']\n",
    "offtake_df['Cost_type_3'] = offtake_df['KPI']\n",
    "offtake_df['Cost_type_4'] = offtake_df['KPI']\n",
    "offtake_df['AIP'] = ''\n",
    "offtake_df['SKU'] = ''\n",
    "\n",
    "offtake_df = offtake_df[view3_columns]"
   ]
  },
  {
   "cell_type": "code",
   "execution_count": null,
   "metadata": {},
   "outputs": [],
   "source": [
    "view3_df = view3_df.append(offtake_df, ignore_index = True)\n",
    "offtake_df[['Cost_type_1','Cost_type_2','Cost_type_3','Cost_type_4']].drop_duplicates()"
   ]
  },
  {
   "cell_type": "markdown",
   "metadata": {},
   "source": [
    "## CRM Performance"
   ]
  },
  {
   "cell_type": "code",
   "execution_count": null,
   "metadata": {},
   "outputs": [],
   "source": [
    "input_file_path = config['project_path'] + '/' \\\n",
    "                        + config['temp_folder_path'] + '/' \\\n",
    "                        + config['performance_CRM']\n",
    "\n",
    "input_df = pd.read_excel(input_file_path, dtype=str)\n",
    "input_df['KPI_value'] = input_df['KPI_value'].astype('float')\n",
    "input_df['SKU'] = input_df['Brand']\n",
    "perf_crm_df = input_df[(input_df['KPI'] == 'CRM Leads Offline') \n",
    "                       | (input_df['KPI'] == 'CRM Leads Online')\n",
    "                       | (input_df['KPI'] == 'CRM NU Offline')\n",
    "                       | (input_df['KPI'] == 'CRM NU Online')\n",
    "                       | (input_df['KPI'] == 'Active Leads')].copy()"
   ]
  },
  {
   "cell_type": "code",
   "execution_count": null,
   "metadata": {},
   "outputs": [],
   "source": [
    "nu_df = input_df[(input_df['KPI'] == 'CRM NU Offline')\n",
    "                       | (input_df['KPI'] == 'CRM NU Online')].copy()\n",
    "nu_df = nu_df.groupby(by = ['Date', 'Province', 'SKU'])['KPI_value'].sum().reset_index()\n",
    "nu_df['KPI'] = 'CRM NU'\n",
    "\n",
    "leads_df = input_df[(input_df['KPI'] == 'CRM Leads Offline')\n",
    "                       | (input_df['KPI'] == 'CRM Leads Online')].copy()\n",
    "leads_df = leads_df.groupby(by = ['Date', 'Province', 'SKU'])['KPI_value'].sum().reset_index()\n",
    "leads_df['KPI'] = 'CRM Leads'\n",
    "\n",
    "perf_crm_df = perf_crm_df.append(nu_df)\n",
    "perf_crm_df = perf_crm_df.append(leads_df)"
   ]
  },
  {
   "cell_type": "code",
   "execution_count": null,
   "metadata": {},
   "outputs": [],
   "source": [
    "perf_crm_df['Brand'] = perf_crm_df['SKU'].apply(lambda x : get_brand_name(x))\n",
    "perf_crm_df = perf_crm_df.groupby(by = ['Date', 'Province', 'Brand', 'KPI'])['KPI_value'].sum().reset_index()"
   ]
  },
  {
   "cell_type": "code",
   "execution_count": null,
   "metadata": {},
   "outputs": [],
   "source": [
    "perf_crm_df['Spending_value'] = perf_crm_df['KPI_value'].astype('float')\n",
    "perf_crm_df['Cost_type_1'] = perf_crm_df['KPI']\n",
    "perf_crm_df['Cost_type_2'] = perf_crm_df['KPI']\n",
    "perf_crm_df['Cost_type_3'] = perf_crm_df['KPI']\n",
    "perf_crm_df['Cost_type_4'] = perf_crm_df['KPI']\n",
    "perf_crm_df['AIP'] = ''\n",
    "perf_crm_df['SKU'] = ''\n",
    "\n",
    "perf_crm_df = perf_crm_df[view3_columns]"
   ]
  },
  {
   "cell_type": "code",
   "execution_count": null,
   "metadata": {},
   "outputs": [],
   "source": [
    "view3_df = view3_df.append(perf_crm_df, ignore_index = True)\n",
    "perf_crm_df[['Cost_type_1','Cost_type_2','Cost_type_3','Cost_type_4']].drop_duplicates()"
   ]
  },
  {
   "cell_type": "markdown",
   "metadata": {},
   "source": [
    "## Search Index"
   ]
  },
  {
   "cell_type": "code",
   "execution_count": null,
   "metadata": {},
   "outputs": [],
   "source": [
    "input_file_path = config['project_path'] + '/' \\\n",
    "                        + config['temp_folder_path'] + '/' \\\n",
    "                        + config['performance_search_index']\n",
    "\n",
    "input_df = pd.read_excel(input_file_path, dtype=str)\n",
    "input_df['KPI_value'] = input_df['KPI_value'].astype('float')\n",
    "input_df['SKU'] = input_df['Brand']\n",
    "\n",
    "input_df['Brand'] = input_df['SKU'].apply(lambda x : get_brand_name(x))\n",
    "perf_si_df = input_df.groupby(by = ['Date', 'Province', 'Brand', 'KPI'])['KPI_value'].sum().reset_index()"
   ]
  },
  {
   "cell_type": "code",
   "execution_count": null,
   "metadata": {},
   "outputs": [],
   "source": [
    "perf_si_df['Spending_value'] = perf_si_df['KPI_value'].astype('float')\n",
    "perf_si_df['Cost_type_1'] = perf_si_df['KPI']\n",
    "perf_si_df['Cost_type_2'] = perf_si_df['KPI']\n",
    "perf_si_df['Cost_type_3'] = perf_si_df['KPI']\n",
    "perf_si_df['Cost_type_4'] = perf_si_df['KPI']\n",
    "perf_si_df['AIP'] = ''\n",
    "perf_si_df['SKU'] = ''\n",
    "\n",
    "perf_si_df = perf_si_df[view3_columns]"
   ]
  },
  {
   "cell_type": "code",
   "execution_count": null,
   "metadata": {},
   "outputs": [],
   "source": [
    "view3_df = view3_df.append(perf_si_df, ignore_index = True)\n",
    "perf_si_df[['Cost_type_1','Cost_type_2','Cost_type_3','Cost_type_4']].drop_duplicates()"
   ]
  },
  {
   "cell_type": "markdown",
   "metadata": {},
   "source": [
    "## BHT"
   ]
  },
  {
   "cell_type": "code",
   "execution_count": null,
   "metadata": {},
   "outputs": [],
   "source": [
    "input_file_path = config['project_path'] + '/' \\\n",
    "                        + config['data_folder_path'] + '/' \\\n",
    "                        + config['BHT input'] \n",
    "input_df = pd.read_excel(input_file_path, dtype=str)\n",
    "input_df['KPI_value'] = input_df['KPI_value'].astype('float')\n",
    "input_df['SKU'] = input_df['Brand']\n",
    "\n",
    "bht_df = input_df\n",
    "bht_df['Brand'] = bht_df['SKU'].apply(lambda x : get_brand_name(x))"
   ]
  },
  {
   "cell_type": "code",
   "execution_count": null,
   "metadata": {},
   "outputs": [],
   "source": [
    "bht_df['Spending_value'] = bht_df['KPI_value'].astype('float')\n",
    "bht_df['Cost_type_1'] = bht_df['KPI']\n",
    "bht_df['Cost_type_2'] = bht_df['KPI']\n",
    "bht_df['Cost_type_3'] = bht_df['KPI']\n",
    "bht_df['Cost_type_4'] = bht_df['KPI']\n",
    "bht_df['AIP'] = ''\n",
    "bht_df['SKU'] = ''\n",
    "\n",
    "bht_df = bht_df[view3_columns]"
   ]
  },
  {
   "cell_type": "code",
   "execution_count": null,
   "metadata": {},
   "outputs": [],
   "source": [
    "view3_df = view3_df.append(bht_df, ignore_index = True)\n",
    "bht_df[['Cost_type_1','Cost_type_2','Cost_type_3','Cost_type_4']].drop_duplicates()"
   ]
  },
  {
   "cell_type": "markdown",
   "metadata": {},
   "source": [
    "## CRM Investment"
   ]
  },
  {
   "cell_type": "code",
   "execution_count": null,
   "metadata": {},
   "outputs": [],
   "source": [
    "input_file_path = config['project_path'] + '/' \\\n",
    "                        + config['temp_folder_path'] + '/' \\\n",
    "                        + config['spending_CRM']\n",
    "\n",
    "input_df = pd.read_excel(input_file_path, dtype=str)\n",
    "input_df['Spending_value'] = input_df['Spending_value'].astype('float')\n",
    "input_df['SKU'] = input_df['Brand']"
   ]
  },
  {
   "cell_type": "code",
   "execution_count": null,
   "metadata": {},
   "outputs": [],
   "source": [
    "spen_crm_df = input_df[(input_df['AIP'] == 'I') | (input_df['AIP'] == 'P')].copy()\n",
    "spen_crm_df['Brand'] = spen_crm_df['SKU'].apply(lambda x : get_brand_name(x))\n",
    "spen_crm_df = spen_crm_df[view3_columns]"
   ]
  },
  {
   "cell_type": "code",
   "execution_count": null,
   "metadata": {},
   "outputs": [],
   "source": [
    "nu_df = spen_crm_df[(spen_crm_df['Cost_type_2'] == 'CRM NU Offline')\n",
    "                       | (spen_crm_df['Cost_type_2'] == 'CRM NU Online')].copy()\n",
    "nu_df = nu_df.groupby(by = ['Date', 'Province', 'Cost_type_1','AIP', 'Brand', 'SKU'])['Spending_value'].sum().reset_index()\n",
    "nu_df['Cost_type_2'] = 'CRM NU'\n",
    "nu_df['Cost_type_3'] = ''\n",
    "nu_df['Cost_type_4'] = ''\n",
    "\n",
    "leads_df = spen_crm_df[(spen_crm_df['Cost_type_2'] == 'CRM Leads Offline')\n",
    "                       | (spen_crm_df['Cost_type_2'] == 'CRM Leads Online')].copy()\n",
    "leads_df = leads_df.groupby(by = ['Date', 'Province', 'Cost_type_1','AIP', 'Brand', 'SKU'])['Spending_value'].sum().reset_index()\n",
    "leads_df['Cost_type_2'] = 'CRM Leads'\n",
    "leads_df['Cost_type_3'] = ''\n",
    "leads_df['Cost_type_4'] = ''"
   ]
  },
  {
   "cell_type": "code",
   "execution_count": null,
   "metadata": {},
   "outputs": [],
   "source": [
    "spen_crm_df = spen_crm_df.append(nu_df)\n",
    "spen_crm_df = spen_crm_df.append(leads_df)"
   ]
  },
  {
   "cell_type": "code",
   "execution_count": null,
   "metadata": {},
   "outputs": [],
   "source": [
    "view3_df = view3_df.append(spen_crm_df, ignore_index = True)\n",
    "spen_crm_df[['Cost_type_1','Cost_type_2','Cost_type_3','Cost_type_4', 'AIP']].drop_duplicates()"
   ]
  },
  {
   "cell_type": "markdown",
   "metadata": {},
   "source": [
    "## Media Investment"
   ]
  },
  {
   "cell_type": "code",
   "execution_count": null,
   "metadata": {},
   "outputs": [],
   "source": [
    "input_file_path = config['project_path'] + '/' \\\n",
    "                        + config['temp_folder_path'] + '/' \\\n",
    "                        + config['spending_media']\n",
    "\n",
    "input_df = pd.read_excel(input_file_path, dtype=str)\n",
    "input_df['Spending_value'] = input_df['Spending_value'].astype('float')\n",
    "input_df['SKU'] = input_df['Brand']\n",
    "input_df['Brand'] = input_df['SKU'].apply(lambda x : get_brand_name(x))"
   ]
  },
  {
   "cell_type": "code",
   "execution_count": null,
   "metadata": {},
   "outputs": [],
   "source": [
    "spen_media_df = input_df.groupby(by = ['Date', 'Province', 'Cost_type_1', 'Cost_type_2', 'AIP', 'Brand'])['Spending_value'].sum().reset_index()"
   ]
  },
  {
   "cell_type": "code",
   "execution_count": null,
   "metadata": {},
   "outputs": [],
   "source": [
    "spen_media_df['Cost_type_3'] = ''\n",
    "spen_media_df['Cost_type_4'] = ''\n",
    "spen_media_df['SKU'] = ''"
   ]
  },
  {
   "cell_type": "code",
   "execution_count": null,
   "metadata": {},
   "outputs": [],
   "source": [
    "view3_df = view3_df.append(spen_media_df, ignore_index = True)\n",
    "spen_media_df[['Cost_type_1','Cost_type_2','Cost_type_3','Cost_type_4']].drop_duplicates()"
   ]
  },
  {
   "cell_type": "markdown",
   "metadata": {},
   "source": [
    "## Channel Investment"
   ]
  },
  {
   "cell_type": "code",
   "execution_count": null,
   "metadata": {},
   "outputs": [],
   "source": [
    "input_file_path = config['project_path'] + '/' \\\n",
    "                        + config['temp_folder_path'] + '/' \\\n",
    "                        + config['spending_channel']\n",
    "\n",
    "input_df = pd.read_excel(input_file_path, dtype=str)\n",
    "input_df['Spending_value'] = input_df['Spending_value'].astype('float')\n",
    "input_df['SKU'] = input_df['Brand']\n",
    "input_df['Brand'] = input_df['SKU'].apply(lambda x : get_brand_name(x))"
   ]
  },
  {
   "cell_type": "code",
   "execution_count": null,
   "metadata": {},
   "outputs": [],
   "source": [
    "view3_df = view3_df.append(input_df, ignore_index = True)\n",
    "input_df[['Cost_type_1','Cost_type_2','Cost_type_3','Cost_type_4']].drop_duplicates()"
   ]
  },
  {
   "cell_type": "markdown",
   "metadata": {},
   "source": [
    "## Create view 3 output"
   ]
  },
  {
   "cell_type": "code",
   "execution_count": null,
   "metadata": {},
   "outputs": [],
   "source": [
    "view3_df = view3_df.fillna('')\n",
    "\n",
    "an_df = view3_df[['Province', 'Cost_type_1', 'Cost_type_2', 'Cost_type_3', 'Cost_type_4', 'AIP']].drop_duplicates()\n",
    "nc_df = view3_df[['Province', 'Cost_type_1', 'Cost_type_2', 'Cost_type_3', 'Cost_type_4', 'AIP']].drop_duplicates()"
   ]
  },
  {
   "cell_type": "code",
   "execution_count": null,
   "metadata": {},
   "outputs": [],
   "source": [
    "an_df['Brand'] = 'Aptamil'\n",
    "nc_df['Brand'] = 'Nutrilon'\n",
    "all_df = an_df.append(nc_df, ignore_index=True)"
   ]
  },
  {
   "cell_type": "code",
   "execution_count": null,
   "metadata": {},
   "outputs": [],
   "source": [
    "all_dates_map = pd.DataFrame(columns=['Date', 'Brand', 'Province', 'Cost_type_1', 'Cost_type_2', 'Cost_type_3', 'Cost_type_4', 'AIP'])\n",
    "for i in range(1,13):\n",
    "    year_month = \"2020\" + str(i).zfill(2)\n",
    "    all_df['Date'] = year_month\n",
    "    all_dates_map = all_dates_map.append(all_df, ignore_index=True)"
   ]
  },
  {
   "cell_type": "code",
   "execution_count": null,
   "metadata": {},
   "outputs": [],
   "source": [
    "output_df = pd.merge(all_dates_map, view3_df, on=['Date', 'Brand', 'Province', \n",
    "                                                  'Cost_type_1', 'Cost_type_2', 'Cost_type_3',\n",
    "                                                  'Cost_type_4', 'AIP'], how='left')"
   ]
  },
  {
   "cell_type": "code",
   "execution_count": null,
   "metadata": {},
   "outputs": [],
   "source": [
    "output_df = output_df.fillna({'Spending_value': 0})"
   ]
  },
  {
   "cell_type": "code",
   "execution_count": null,
   "metadata": {},
   "outputs": [],
   "source": [
    "def format_yearmonth(year_month):\n",
    "    return time.strftime('%Y/%m/%d', time.strptime(year_month,'%Y%m'))\n",
    "\n",
    "output_df['Date'] = output_df['Date'].apply(lambda x : format_yearmonth(x))\n",
    "\n",
    "output_df = output_df[['Date', 'Province', 'Cost_type_1', 'Cost_type_2', 'Cost_type_3', 'Cost_type_4', 'AIP', 'Brand', 'SKU', 'Spending_value']]\n",
    "output_df.columns = ['Date', 'Province', 'Cost_type_1', 'Cost_type_2', 'Cost_type_3', 'Cost_type_4', 'AIP', 'Brand', 'SKU', 'Spending_Value']"
   ]
  },
  {
   "cell_type": "code",
   "execution_count": null,
   "metadata": {},
   "outputs": [],
   "source": [
    "output_file_path = config['project_path'] + '/' \\\n",
    "                        + config['temp_folder_path'] + '/' \\\n",
    "                        + config['view_3_output'] \n",
    "\n",
    "output_df.to_excel(output_file_path, index=False)"
   ]
  }
 ],
 "metadata": {
  "kernelspec": {
   "display_name": "Python 3",
   "language": "python",
   "name": "python3"
  },
  "language_info": {
   "codemirror_mode": {
    "name": "ipython",
    "version": 3
   },
   "file_extension": ".py",
   "mimetype": "text/x-python",
   "name": "python",
   "nbconvert_exporter": "python",
   "pygments_lexer": "ipython3",
   "version": "3.7.6"
  }
 },
 "nbformat": 4,
 "nbformat_minor": 4
}
