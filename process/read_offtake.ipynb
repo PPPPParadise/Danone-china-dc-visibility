{
 "cells": [
  {
   "cell_type": "code",
   "execution_count": null,
   "metadata": {},
   "outputs": [],
   "source": [
    "import pandas as pd\n",
    "import operator\n",
    "import time\n",
    "import numpy as np"
   ]
  },
  {
   "cell_type": "code",
   "execution_count": null,
   "metadata": {},
   "outputs": [],
   "source": [
    "config = {}\n",
    "\n",
    "config[\"year_list\"] = [2018,2019]\n",
    "config[\"project_path\"] = \"..\"\n",
    "config[\"data_folder_path\"] = \"data\"\n",
    "config[\"temp_folder_path\"] = \"temp\""
   ]
  },
  {
   "cell_type": "markdown",
   "metadata": {},
   "source": [
    "## Read Offtake"
   ]
  },
  {
   "cell_type": "code",
   "execution_count": null,
   "metadata": {},
   "outputs": [],
   "source": [
    "# schema of input file\n",
    "offtake_columns = ['Year','Month','Channel_Code','Grade_Group_Code',\n",
    "                   'Grade_Code','region_name','SubRegion_Name','Province_Name',\n",
    "                   'xcity_name','Account_Name','Customer_Code',\n",
    "                   'Customer_Name','validity','Brand','SKU','Offtake_Qty',\n",
    "                   'Offtake_Qty_Factor','Offtake_SP_Value','Offtake_SP_Value_Factor']\n",
    "\n",
    "# Only below columns from input file are needed\n",
    "select_columns = ['YearMonth','Distributor_Code','Customer_Code',\n",
    "                  'Product_Code','Sellout_SP_Value']\n",
    "offtake_df = pd.DataFrame(columns=offtake_columns)\n",
    "\n",
    "input_file_path = config[\"project_path\"] + \"/\" \\\n",
    "                        + config[\"data_folder_path\"] + \"/\" \\\n",
    "                        + \"POS-202001-202002.csv\"\n",
    "\n",
    "input_df = pd.read_csv(input_file_path, dtype=str)\n",
    "input_df = input_df[offtake_columns]\n",
    "offtake_df = offtake_df.append(input_df, ignore_index=True)\n",
    "\n",
    "input_file_path = config[\"project_path\"] + \"/\" \\\n",
    "                        + config[\"data_folder_path\"] + \"/\" \\\n",
    "                        + \"POS-202003-202005.csv\"\n",
    "input_df = pd.read_csv(input_file_path, dtype=str)\n",
    "input_df = input_df[offtake_columns]\n",
    "offtake_df = offtake_df.append(input_df, ignore_index=True)"
   ]
  },
  {
   "cell_type": "code",
   "execution_count": null,
   "metadata": {},
   "outputs": [],
   "source": [
    "offtake_df[\"YearMonth\"] = offtake_df[\"Year\"] + \"0\" + offtake_df[\"Month\"]"
   ]
  },
  {
   "cell_type": "code",
   "execution_count": null,
   "metadata": {},
   "outputs": [],
   "source": [
    "offtake_df[\"Offtake_SP_Value\"] = offtake_df[\"Offtake_SP_Value\"].replace(' ','')\n",
    "offtake_df[\"Offtake_SP_Value\"] = offtake_df[\"Offtake_SP_Value\"].astype(\"float\")"
   ]
  },
  {
   "cell_type": "code",
   "execution_count": null,
   "metadata": {},
   "outputs": [],
   "source": [
    "input_file_path = config[\"project_path\"] + \"/\" \\\n",
    "                        + config[\"data_folder_path\"] + \"/\" \\\n",
    "                        + \"Province_Mapping.xlsx\"\n",
    "\n",
    "province_df = pd.read_excel(input_file_path, dtype=str)"
   ]
  },
  {
   "cell_type": "code",
   "execution_count": null,
   "metadata": {},
   "outputs": [],
   "source": [
    "offtake_df = pd.merge(offtake_df, province_df, on='Province_Name', how='left' )"
   ]
  },
  {
   "cell_type": "markdown",
   "metadata": {},
   "source": [
    "## Keep Offline Only"
   ]
  },
  {
   "cell_type": "code",
   "execution_count": null,
   "metadata": {},
   "outputs": [],
   "source": [
    "offtake_df = offtake_df[offtake_df[\"Channel_Code\"] != \"EC\"]"
   ]
  },
  {
   "cell_type": "code",
   "execution_count": null,
   "metadata": {},
   "outputs": [],
   "source": [
    "monthly_offtake = offtake_df.groupby(by = ['YearMonth', 'Province_Code', 'Brand'])['Offtake_SP_Value'].sum().reset_index()"
   ]
  },
  {
   "cell_type": "markdown",
   "metadata": {},
   "source": [
    "## Distribute HQ offtake to each province"
   ]
  },
  {
   "cell_type": "code",
   "execution_count": null,
   "metadata": {},
   "outputs": [],
   "source": [
    "nonhq_offtake = monthly_offtake[monthly_offtake[\"Province_Code\"] != \"HQ\"]\n",
    "non_hq_all = nonhq_offtake.groupby(by = ['YearMonth', 'Brand'])['Offtake_SP_Value'].sum().reset_index()\n",
    "non_hq_all.columns = ['YearMonth', 'Brand', 'all_offtake']\n",
    "nonhq_offtake_split = pd.merge(nonhq_offtake, non_hq_all, on=['YearMonth', 'Brand'], how='left')\n",
    "nonhq_offtake_split[\"split_ratio\"] = nonhq_offtake_split[\"Offtake_SP_Value\"] / nonhq_offtake_split['all_offtake']\n",
    "nonhq_offtake_split = nonhq_offtake_split.drop([\"Offtake_SP_Value\", 'all_offtake'],axis=1)"
   ]
  },
  {
   "cell_type": "code",
   "execution_count": null,
   "metadata": {},
   "outputs": [],
   "source": [
    "hq_offtake = monthly_offtake[monthly_offtake[\"Province_Code\"] == \"HQ\"]\n",
    "hq_offtake = hq_offtake.drop('Province_Code',axis=1)\n",
    "\n",
    "hq_offtake = pd.merge(hq_offtake, nonhq_offtake_split, on=['YearMonth', 'Brand'], how='left')\n",
    "hq_offtake [\"hq_split_value\"] = hq_offtake[\"Offtake_SP_Value\"] * hq_offtake[\"split_ratio\"]\n",
    "hq_offtake = hq_offtake.drop([\"Offtake_SP_Value\", 'split_ratio'],axis=1)"
   ]
  },
  {
   "cell_type": "code",
   "execution_count": null,
   "metadata": {},
   "outputs": [],
   "source": [
    "all_offtake = pd.merge(nonhq_offtake, hq_offtake, on=['YearMonth', 'Province_Code', 'Brand'], how='left')"
   ]
  },
  {
   "cell_type": "code",
   "execution_count": null,
   "metadata": {},
   "outputs": [],
   "source": [
    "all_offtake[\"Offtake_Value\"] = all_offtake[\"Offtake_SP_Value\"] + all_offtake[\"hq_split_value\"]"
   ]
  },
  {
   "cell_type": "markdown",
   "metadata": {},
   "source": [
    "## Add National Offtake"
   ]
  },
  {
   "cell_type": "code",
   "execution_count": null,
   "metadata": {},
   "outputs": [],
   "source": [
    "all_offtake_nati = all_offtake.groupby(by = ['YearMonth', 'Brand'])['Offtake_Value'].sum().reset_index()"
   ]
  },
  {
   "cell_type": "code",
   "execution_count": null,
   "metadata": {},
   "outputs": [],
   "source": [
    "all_offtake_nati[\"Province_Code\"] = \"National\"\n",
    "all_offtake_nati = all_offtake_nati[[\"YearMonth\", \"Province_Code\", \"Brand\", \"Offtake_Value\"]]"
   ]
  },
  {
   "cell_type": "code",
   "execution_count": null,
   "metadata": {},
   "outputs": [],
   "source": [
    "all_offtake_res = all_offtake.append(all_offtake_nati, ignore_index=True)"
   ]
  },
  {
   "cell_type": "markdown",
   "metadata": {},
   "source": [
    "# Prepare for output"
   ]
  },
  {
   "cell_type": "code",
   "execution_count": null,
   "metadata": {},
   "outputs": [],
   "source": [
    "def format_yearmonth(year_month):\n",
    "    return time.strftime(\"%Y/%m/%d\", time.strptime(year_month,\"%Y%m\"))"
   ]
  },
  {
   "cell_type": "code",
   "execution_count": null,
   "metadata": {},
   "outputs": [],
   "source": [
    "all_offtake_res[\"Date\"] = all_offtake_res['YearMonth'].apply(lambda x : format_yearmonth(x))"
   ]
  },
  {
   "cell_type": "code",
   "execution_count": null,
   "metadata": {},
   "outputs": [],
   "source": [
    "def get_brand_name(brand):\n",
    "    if brand == 'NC':\n",
    "        return 'Nutrilon'\n",
    "    elif (brand=='AC') | (brand == 'AP'):\n",
    "        return \"Aptamil\"\n",
    "    return ''"
   ]
  },
  {
   "cell_type": "code",
   "execution_count": null,
   "metadata": {},
   "outputs": [],
   "source": [
    "all_offtake_res[\"Brand_Name\"] = all_offtake_res['Brand'].apply(\n",
    "        lambda x: get_brand_name(x))\n",
    "\n",
    "all_offtake_res['KPI'] = 'Danone Offtake'"
   ]
  },
  {
   "cell_type": "code",
   "execution_count": null,
   "metadata": {},
   "outputs": [],
   "source": [
    "all_offtake_res = all_offtake_res[['Date', 'Province_Code', 'Brand_Name', 'Brand', 'KPI', 'Offtake_Value']]\n",
    "all_offtake_res.columns = ['Date', 'Province', 'Brand', 'SKU', 'KPI', 'KPI_Value']"
   ]
  },
  {
   "cell_type": "markdown",
   "metadata": {},
   "source": [
    "## Save offtake KPI"
   ]
  },
  {
   "cell_type": "code",
   "execution_count": null,
   "metadata": {},
   "outputs": [],
   "source": [
    "all_offtake_res.to_excel(\"../temp/202001-05-offtake.xlsx\", index=False)"
   ]
  },
  {
   "cell_type": "markdown",
   "metadata": {},
   "source": [
    "## Create Offtake Split to Province Ratio"
   ]
  },
  {
   "cell_type": "code",
   "execution_count": null,
   "metadata": {},
   "outputs": [],
   "source": [
    "nati_tmp = all_offtake_nati[[\"YearMonth\", \"Brand\", \"Offtake_Value\"]]\n",
    "nati_tmp.columns = [\"YearMonth\", \"Brand\", \"Total_Offtake\"]"
   ]
  },
  {
   "cell_type": "code",
   "execution_count": null,
   "metadata": {},
   "outputs": [],
   "source": [
    "nati_to_prov = pd.merge(all_offtake, nati_tmp, on=[\"YearMonth\", \"Brand\"], how='left')\n",
    "nati_to_prov['Split_Ratio'] = nati_to_prov['Offtake_Value'] /  nati_to_prov['Total_Offtake']"
   ]
  },
  {
   "cell_type": "code",
   "execution_count": null,
   "metadata": {},
   "outputs": [],
   "source": [
    "nati_to_prov = nati_to_prov[[\"YearMonth\", \"Province_Code\", \"Brand\", \"Split_Ratio\"]]\n",
    "\n",
    "nati_to_prov.columns =[\"YearMonth\", \"Province_Code\", \"SKU\", \"Split_Ratio\"]"
   ]
  },
  {
   "cell_type": "code",
   "execution_count": null,
   "metadata": {},
   "outputs": [],
   "source": [
    "nati_to_prov.to_excel(\"../temp/202001-05_brand_province_split.xlsx\", index=False)"
   ]
  },
  {
   "cell_type": "code",
   "execution_count": null,
   "metadata": {},
   "outputs": [],
   "source": [
    "nati_tmp = all_offtake.groupby(by = ['YearMonth'])['Offtake_Value'].sum().reset_index()\n",
    "nati_tmp.columns = [\"YearMonth\", \"Total_Offtake\"]\n",
    "nati_to_provbrand = pd.merge(all_offtake, nati_tmp, on=[\"YearMonth\"], how='left')\n",
    "nati_to_provbrand['Split_Ratio'] = nati_to_provbrand['Offtake_Value'] /  nati_to_provbrand['Total_Offtake']\n",
    "\n",
    "nati_to_provbrand = nati_to_provbrand[[\"YearMonth\", \"Province_Code\", \"Brand\", \"Split_Ratio\"]]\n",
    "\n",
    "nati_to_provbrand.columns =[\"YearMonth\", \"Province_Code\", \"SKU\", \"Split_Ratio\"]\n"
   ]
  },
  {
   "cell_type": "code",
   "execution_count": null,
   "metadata": {},
   "outputs": [],
   "source": [
    "nati_to_provbrand.to_excel(\"../temp/202001-05_national_provincebrand_split.xlsx\", index=False)"
   ]
  },
  {
   "cell_type": "code",
   "execution_count": null,
   "metadata": {},
   "outputs": [],
   "source": [
    "nati_tmp = all_offtake.groupby(by = ['YearMonth', 'Province_Code'])['Offtake_Value'].sum().reset_index()\n",
    "nati_tmp.columns = [\"YearMonth\", 'Province_Code',  \"Total_Offtake\"]\n",
    "prov_to_brand = pd.merge(all_offtake, nati_tmp, on=[\"YearMonth\", 'Province_Code'], how='left')\n",
    "prov_to_brand['Split_Ratio'] = prov_to_brand['Offtake_Value'] /  prov_to_brand['Total_Offtake']\n",
    "\n",
    "prov_to_brand = prov_to_brand[[\"YearMonth\", \"Province_Code\", \"Brand\", \"Split_Ratio\"]]\n",
    "\n",
    "prov_to_brand.columns =[\"YearMonth\", \"Province_Code\", \"SKU\", \"Split_Ratio\"]\n"
   ]
  },
  {
   "cell_type": "code",
   "execution_count": null,
   "metadata": {},
   "outputs": [],
   "source": [
    "prov_to_brand.to_excel(\"../temp/202001-05_province_brand_split.xlsx\", index=False)"
   ]
  }
 ],
 "metadata": {
  "kernelspec": {
   "display_name": "Python 3",
   "language": "python",
   "name": "python3"
  },
  "language_info": {
   "codemirror_mode": {
    "name": "ipython",
    "version": 3
   },
   "file_extension": ".py",
   "mimetype": "text/x-python",
   "name": "python",
   "nbconvert_exporter": "python",
   "pygments_lexer": "ipython3",
   "version": "3.7.6"
  }
 },
 "nbformat": 4,
 "nbformat_minor": 4
}
