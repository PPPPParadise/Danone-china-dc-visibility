{
 "cells": [
  {
   "cell_type": "code",
   "execution_count": null,
   "metadata": {},
   "outputs": [],
   "source": [
    "import pandas as pd\n",
    "import operator\n",
    "import time\n",
    "import numpy as np"
   ]
  },
  {
   "cell_type": "code",
   "execution_count": null,
   "metadata": {},
   "outputs": [],
   "source": [
    "config = {}\n",
    "\n",
    "config['project_path'] = '..'\n",
    "config['data_folder_path'] = 'data'\n",
    "config['temp_folder_path'] = 'temp'\n",
    "\n",
    "# input files\n",
    "config['offtake_input1'] = 'POS-202001-202002.csv'\n",
    "config['offtake_input2'] = 'POS-202003-202005.csv'\n",
    "config['MDM_mapping'] = 'MDM_mapping.xlsx'\n",
    "\n",
    "# output files\n",
    "config['offtake_output'] = 'Offtake IFFO rate 202001-05.xlsx'\n",
    "config['nation_province_by_brand_file'] = '202001-05_nation_province_by_brand.xlsx'\n",
    "config['nation_to_province_brand_file'] = '202001-05_nation_to_province_brand.xlsx'\n",
    "config['brand_to_province_brand_file'] = '202001-05_brand_to_province_brand.xlsx'\n",
    "config['province_to_province_brand_file'] = '202001-05_province_to_province_brand_file.xlsx'"
   ]
  },
  {
   "cell_type": "markdown",
   "metadata": {},
   "source": [
    "## Read Offtake"
   ]
  },
  {
   "cell_type": "code",
   "execution_count": null,
   "metadata": {},
   "outputs": [],
   "source": [
    "# schema of input file\n",
    "offtake_columns = ['Year','Month','Channel_Code','Grade_Group_Code',\n",
    "                   'Grade_Code','region_name','SubRegion_Name','Province_Name',\n",
    "                   'xcity_name','Account_Name','Customer_Code',\n",
    "                   'Customer_Name','validity','Brand','SKU','Offtake_Qty',\n",
    "                   'Offtake_Qty_Factor','Offtake_SP_Value','Offtake_SP_Value_Factor']\n",
    "\n",
    "# Only below columns from input file are needed\n",
    "select_columns = ['YearMonth','Distributor_Code','Customer_Code',\n",
    "                  'Product_Code','Sellout_SP_Value']\n",
    "offtake_df = pd.DataFrame(columns=offtake_columns)\n",
    "\n",
    "input_file_path = config['project_path'] + '/' \\\n",
    "                        + config['data_folder_path'] + '/' \\\n",
    "                        + config['offtake_input1']\n",
    "\n",
    "input_df = pd.read_csv(input_file_path, dtype=str)\n",
    "input_df = input_df[offtake_columns]\n",
    "offtake_df = offtake_df.append(input_df, ignore_index=True)\n",
    "\n",
    "input_file_path = config['project_path'] + '/' \\\n",
    "                        + config['data_folder_path'] + '/' \\\n",
    "                        + config['offtake_input2']\n",
    "input_df = pd.read_csv(input_file_path, dtype=str)\n",
    "input_df = input_df[offtake_columns]\n",
    "offtake_df = offtake_df.append(input_df, ignore_index=True)"
   ]
  },
  {
   "cell_type": "code",
   "execution_count": null,
   "metadata": {},
   "outputs": [],
   "source": [
    "offtake_df['YearMonth'] = offtake_df['Year'] + '0' + offtake_df['Month']"
   ]
  },
  {
   "cell_type": "code",
   "execution_count": null,
   "metadata": {},
   "outputs": [],
   "source": [
    "offtake_df['Offtake_SP_Value'] = offtake_df['Offtake_SP_Value'].replace(' ','')\n",
    "offtake_df['Offtake_SP_Value'] = offtake_df['Offtake_SP_Value'].astype('float')"
   ]
  },
  {
   "cell_type": "code",
   "execution_count": null,
   "metadata": {},
   "outputs": [],
   "source": [
    "input_file_path = config['project_path'] + '/' \\\n",
    "                        + config['data_folder_path'] + '/' \\\n",
    "                        + config['MDM_mapping']\n",
    "\n",
    "province_df = pd.read_excel(input_file_path, dtype=str)"
   ]
  },
  {
   "cell_type": "code",
   "execution_count": null,
   "metadata": {},
   "outputs": [],
   "source": [
    "offtake_df = pd.merge(offtake_df, province_df, left_on='Province_Name', right_on='MDM_province_name', how='left' )"
   ]
  },
  {
   "cell_type": "markdown",
   "metadata": {},
   "source": [
    "#### Merge MengDong MengXi"
   ]
  },
  {
   "cell_type": "code",
   "execution_count": null,
   "metadata": {},
   "outputs": [],
   "source": [
    "def merge_neimenggu(MDM_province_code):\n",
    "    if (MDM_province_code=='Mengxi') | (MDM_province_code == 'Mengdong'):\n",
    "        return 'Neimenggu'\n",
    "    return MDM_province_code\n",
    "\n",
    "offtake_df['MDM_province_code'] = offtake_df['MDM_province_code'].apply(lambda x : merge_neimenggu(x))"
   ]
  },
  {
   "cell_type": "markdown",
   "metadata": {},
   "source": [
    "#### Check unmapped records"
   ]
  },
  {
   "cell_type": "code",
   "execution_count": null,
   "metadata": {},
   "outputs": [],
   "source": [
    "offtake_df[offtake_df['MDM_province_code'] == np.NAN]"
   ]
  },
  {
   "cell_type": "markdown",
   "metadata": {},
   "source": [
    "## Keep Offline Only"
   ]
  },
  {
   "cell_type": "code",
   "execution_count": null,
   "metadata": {},
   "outputs": [],
   "source": [
    "offtake_df = offtake_df[offtake_df['Channel_Code'] != 'EC']"
   ]
  },
  {
   "cell_type": "code",
   "execution_count": null,
   "metadata": {},
   "outputs": [],
   "source": [
    "monthly_offtake = offtake_df.groupby(by = ['YearMonth', 'MDM_province_code', 'Brand', 'SKU'])['Offtake_SP_Value'].sum().reset_index()"
   ]
  },
  {
   "cell_type": "markdown",
   "metadata": {},
   "source": [
    "## Distribute HQ offtake to each province"
   ]
  },
  {
   "cell_type": "code",
   "execution_count": null,
   "metadata": {},
   "outputs": [],
   "source": [
    "nonhq_offtake = monthly_offtake[monthly_offtake['MDM_province_code'] != 'HQ']\n",
    "non_hq_all = nonhq_offtake.groupby(by = ['YearMonth', 'Brand', 'SKU'])['Offtake_SP_Value'].sum().reset_index()\n",
    "non_hq_all.columns = ['YearMonth', 'Brand', 'SKU', 'all_offtake']\n",
    "nonhq_offtake_split = pd.merge(nonhq_offtake, non_hq_all, on=['YearMonth', 'Brand', 'SKU'], how='left')\n",
    "nonhq_offtake_split['split_ratio'] = nonhq_offtake_split['Offtake_SP_Value'] / nonhq_offtake_split['all_offtake']\n",
    "nonhq_offtake_split = nonhq_offtake_split.drop(['Offtake_SP_Value', 'all_offtake'],axis=1)"
   ]
  },
  {
   "cell_type": "code",
   "execution_count": null,
   "metadata": {},
   "outputs": [],
   "source": [
    "hq_offtake = monthly_offtake[monthly_offtake['MDM_province_code'] == 'HQ']\n",
    "hq_offtake = hq_offtake.drop('MDM_province_code',axis=1)\n",
    "\n",
    "hq_offtake = pd.merge(hq_offtake, nonhq_offtake_split, on=['YearMonth', 'Brand', 'SKU'], how='left')\n",
    "hq_offtake ['hq_split_value'] = hq_offtake['Offtake_SP_Value'] * hq_offtake['split_ratio']\n",
    "hq_offtake = hq_offtake.drop(['Offtake_SP_Value', 'split_ratio'],axis=1)"
   ]
  },
  {
   "cell_type": "code",
   "execution_count": null,
   "metadata": {},
   "outputs": [],
   "source": [
    "all_offtake = pd.merge(nonhq_offtake, hq_offtake, on=['YearMonth', 'MDM_province_code','Brand', 'SKU'], how='left')"
   ]
  },
  {
   "cell_type": "code",
   "execution_count": null,
   "metadata": {},
   "outputs": [],
   "source": [
    "all_offtake['Offtake_Value'] = all_offtake['Offtake_SP_Value'] + all_offtake['hq_split_value']"
   ]
  },
  {
   "cell_type": "markdown",
   "metadata": {},
   "source": [
    "## Add National Offtake"
   ]
  },
  {
   "cell_type": "code",
   "execution_count": null,
   "metadata": {},
   "outputs": [],
   "source": [
    "all_offtake_nati = all_offtake.groupby(by = ['YearMonth', 'Brand', 'SKU'])['Offtake_Value'].sum().reset_index()"
   ]
  },
  {
   "cell_type": "code",
   "execution_count": null,
   "metadata": {},
   "outputs": [],
   "source": [
    "all_offtake_nati['MDM_province_code'] = 'National'\n",
    "all_offtake_nati = all_offtake_nati[['YearMonth', 'MDM_province_code', 'Brand', 'SKU', 'Offtake_Value']]"
   ]
  },
  {
   "cell_type": "code",
   "execution_count": null,
   "metadata": {},
   "outputs": [],
   "source": [
    "all_offtake_full = all_offtake.append(all_offtake_nati, ignore_index=True)"
   ]
  },
  {
   "cell_type": "markdown",
   "metadata": {},
   "source": [
    "## Use Aptamil for AP and AC"
   ]
  },
  {
   "cell_type": "code",
   "execution_count": null,
   "metadata": {},
   "outputs": [],
   "source": [
    "def get_brand_name(brand):\n",
    "    if brand == 'NC':\n",
    "        return 'Nutrilon'\n",
    "    elif (brand=='AC') | (brand == 'AP'):\n",
    "        return 'Aptamil'\n",
    "    return ''\n",
    "\n",
    "all_offtake_full['Brand_Name'] = all_offtake_full['Brand'].apply(\n",
    "        lambda x: get_brand_name(x))"
   ]
  },
  {
   "cell_type": "code",
   "execution_count": null,
   "metadata": {},
   "outputs": [],
   "source": [
    "def get_iffo_gum(sku):\n",
    "    if sku.endswith('1') | sku.endswith('2'):\n",
    "        return 'IFFO'\n",
    "    elif sku.endswith('3') | sku.endswith('4'):\n",
    "        return 'GUM'\n",
    "    return ''\n",
    "\n",
    "all_offtake_full['iffo_gum'] = all_offtake_full['SKU'].apply(\n",
    "        lambda x: get_iffo_gum(x))"
   ]
  },
  {
   "cell_type": "code",
   "execution_count": null,
   "metadata": {},
   "outputs": [],
   "source": [
    "all_offtake_brand = all_offtake_full.groupby(by = ['YearMonth', 'MDM_province_code', 'Brand_Name'])['Offtake_Value'].sum().reset_index()\n",
    "\n",
    "all_offtake_iffo =  all_offtake_full[all_offtake_full['iffo_gum'] == 'GUM']\n",
    "\n",
    "all_offtake_iffo = all_offtake_iffo.groupby(by = ['YearMonth', 'MDM_province_code', 'Brand_Name'])['Offtake_Value'].sum().reset_index()\n",
    "\n",
    "all_offtake_iffo.columns = ['YearMonth', 'MDM_province_code', 'Brand_Name', 'iffo_offtake_value']"
   ]
  },
  {
   "cell_type": "code",
   "execution_count": null,
   "metadata": {},
   "outputs": [],
   "source": [
    "all_offtake_res = pd.merge(all_offtake_brand, all_offtake_iffo, on=['YearMonth', 'MDM_province_code', 'Brand_Name'], how = 'left')\n",
    "\n",
    "all_offtake_res['iffo_ratio'] = all_offtake_res['iffo_offtake_value'] / all_offtake_res['Offtake_Value']"
   ]
  },
  {
   "cell_type": "markdown",
   "metadata": {},
   "source": [
    "# Prepare for output"
   ]
  },
  {
   "cell_type": "code",
   "execution_count": null,
   "metadata": {},
   "outputs": [],
   "source": [
    "danone_offtake = all_offtake_res[['YearMonth', 'MDM_province_code', 'Brand_Name', 'Offtake_Value']].copy()\n",
    "danone_offtake['Level 1'] = 'Danone Offtake'\n",
    "danone_offtake.columns = ['YearMonth', 'Province', 'Brand', 'Value', 'Level 1']\n",
    "\n",
    "iffo_ratio = all_offtake_res[['YearMonth', 'MDM_province_code', 'Brand_Name', 'iffo_ratio']].copy()\n",
    "iffo_ratio['Level 1'] = 'IFFO Ratio'\n",
    "iffo_ratio.columns = ['YearMonth', 'Province', 'Brand', 'Value', 'Level 1']"
   ]
  },
  {
   "cell_type": "code",
   "execution_count": null,
   "metadata": {},
   "outputs": [],
   "source": [
    "danone_offtake = all_offtake_res[['YearMonth', 'MDM_province_code', 'Brand_Name', 'Offtake_Value']].copy()\n",
    "danone_offtake['Level 1'] = 'Danone Offtake'\n",
    "danone_offtake.columns = ['YearMonth', 'Province', 'Brand', 'Value', 'Level 1']\n",
    "\n",
    "iffo_ratio = all_offtake_res[['YearMonth', 'MDM_province_code', 'Brand_Name', 'iffo_ratio']].copy()\n",
    "iffo_ratio['Level 1'] = 'IFFO Ratio'\n",
    "iffo_ratio.columns = ['YearMonth', 'Province', 'Brand', 'Value', 'Level 1']"
   ]
  },
  {
   "cell_type": "code",
   "execution_count": null,
   "metadata": {},
   "outputs": [],
   "source": [
    "output_df = danone_offtake.append(iffo_ratio, ignore_index = True)"
   ]
  },
  {
   "cell_type": "markdown",
   "metadata": {},
   "source": [
    "#### Create all year, province, KPI combination for 2020"
   ]
  },
  {
   "cell_type": "code",
   "execution_count": null,
   "metadata": {},
   "outputs": [],
   "source": [
    "all_dates_map = pd.DataFrame(columns=['YearMonth','Province', 'Brand', 'Level 1'])\n",
    "all_types= output_df[['Province', 'Brand', 'Level 1']].drop_duplicates()\n",
    "for i in range(1,13):\n",
    "    year_month = \"2020\" + str(i).zfill(2)\n",
    "    all_types['YearMonth'] = year_month\n",
    "    all_dates_map = all_dates_map.append(all_types, ignore_index=True)"
   ]
  },
  {
   "cell_type": "code",
   "execution_count": null,
   "metadata": {},
   "outputs": [],
   "source": [
    "output_df = pd.merge(all_dates_map, output_df, on=['YearMonth','Province', 'Brand', 'Level 1'], how='left')\n",
    "output_df = output_df.fillna(0)"
   ]
  },
  {
   "cell_type": "code",
   "execution_count": null,
   "metadata": {},
   "outputs": [],
   "source": [
    "def format_yearmonth(year_month):\n",
    "    return time.strftime('%Y/%m/%d', time.strptime(year_month,'%Y%m'))\n",
    "\n",
    "output_df['Date'] = output_df['YearMonth'].apply(lambda x : format_yearmonth(x))\n",
    "\n",
    "output_df['Level 2'] = output_df['Level 1']\n",
    "output_df['Level 3'] = output_df['Level 1']\n",
    "output_df['Level 4'] = output_df['Level 1']\n",
    "output_df['Level 5'] = output_df['Level 1']"
   ]
  },
  {
   "cell_type": "code",
   "execution_count": null,
   "metadata": {},
   "outputs": [],
   "source": [
    "output_df = output_df[['Date', 'Brand', 'Province', 'Level 1', 'Level 2', 'Level 3', 'Level 4', 'Level 5', 'Value']]"
   ]
  },
  {
   "cell_type": "markdown",
   "metadata": {},
   "source": [
    "## Save offtake and IFFO Ratio"
   ]
  },
  {
   "cell_type": "code",
   "execution_count": null,
   "metadata": {},
   "outputs": [],
   "source": [
    "output_file_path = config['project_path'] + '/' \\\n",
    "                        + config['temp_folder_path'] + '/' \\\n",
    "                        + config['offtake_output'] \n",
    "\n",
    "output_df.to_excel(output_file_path, index=False)"
   ]
  },
  {
   "cell_type": "markdown",
   "metadata": {},
   "source": [
    "## Create Offtake Split to Ratio"
   ]
  },
  {
   "cell_type": "markdown",
   "metadata": {},
   "source": [
    "## From Nation brand to province brand"
   ]
  },
  {
   "cell_type": "code",
   "execution_count": null,
   "metadata": {},
   "outputs": [],
   "source": [
    "all_offtake_nati = all_offtake_full[all_offtake_full['MDM_province_code'] == 'National']\n",
    "all_offtake_nati = all_offtake_nati.groupby(by = ['YearMonth', 'Brand_Name'])['Offtake_Value'].sum().reset_index()\n",
    "all_offtake_nati.columns = ['YearMonth', 'Brand_Name', 'National_Offtake_Value']"
   ]
  },
  {
   "cell_type": "code",
   "execution_count": null,
   "metadata": {},
   "outputs": [],
   "source": [
    "all_offtake_prov = all_offtake_full[all_offtake_full['MDM_province_code'] != 'National']\n",
    "all_offtake_prov = all_offtake_prov.groupby(by = ['YearMonth', 'Brand_Name', 'MDM_province_code'])['Offtake_Value'].sum().reset_index()"
   ]
  },
  {
   "cell_type": "code",
   "execution_count": null,
   "metadata": {},
   "outputs": [],
   "source": [
    "nati_to_prov = pd.merge(all_offtake_nati, all_offtake_prov, on=['YearMonth', 'Brand_Name'], how='left')\n",
    "nati_to_prov['Split_Ratio'] = nati_to_prov['Offtake_Value'] /  nati_to_prov['National_Offtake_Value']"
   ]
  },
  {
   "cell_type": "code",
   "execution_count": null,
   "metadata": {},
   "outputs": [],
   "source": [
    "nati_to_prov = nati_to_prov[['YearMonth', 'MDM_province_code', 'Brand_Name', 'Split_Ratio']]"
   ]
  },
  {
   "cell_type": "code",
   "execution_count": null,
   "metadata": {},
   "outputs": [],
   "source": [
    "output_file_path = config['project_path'] + '/' \\\n",
    "                        + config['temp_folder_path'] + '/' \\\n",
    "                        + config['nation_province_by_brand_file']\n",
    "\n",
    "nati_to_prov.to_excel(output_file_path, index=False)"
   ]
  },
  {
   "cell_type": "markdown",
   "metadata": {},
   "source": [
    "## From Nation to province brand"
   ]
  },
  {
   "cell_type": "code",
   "execution_count": null,
   "metadata": {},
   "outputs": [],
   "source": [
    "all_offtake_nati = all_offtake_full[all_offtake_full['MDM_province_code'] == 'National']\n",
    "all_offtake_nati = all_offtake_nati.groupby(by = ['YearMonth', 'Brand_Name'])['Offtake_Value'].sum().reset_index()\n",
    "all_offtake_nati.columns = ['YearMonth', 'Brand_Name', 'Brand_Offtake_Value']"
   ]
  },
  {
   "cell_type": "code",
   "execution_count": null,
   "metadata": {},
   "outputs": [],
   "source": [
    "all_offtake_prov = all_offtake_full[all_offtake_full['MDM_province_code'] != 'National']\n",
    "all_offtake_prov = all_offtake_prov.groupby(by = ['YearMonth', 'Brand_Name', 'MDM_province_code'])['Offtake_Value'].sum().reset_index()"
   ]
  },
  {
   "cell_type": "code",
   "execution_count": null,
   "metadata": {},
   "outputs": [],
   "source": [
    "nati_to_prov = pd.merge(all_offtake_nati, all_offtake_prov, on=['YearMonth', 'Brand_Name'], how='left')\n",
    "nati_to_prov['Split_Ratio'] = nati_to_prov['Offtake_Value'] /  nati_to_prov['Brand_Offtake_Value']"
   ]
  },
  {
   "cell_type": "code",
   "execution_count": null,
   "metadata": {},
   "outputs": [],
   "source": [
    "nati_to_prov = nati_to_prov[['YearMonth', 'MDM_province_code', 'Brand_Name', 'Split_Ratio']]"
   ]
  },
  {
   "cell_type": "code",
   "execution_count": null,
   "metadata": {},
   "outputs": [],
   "source": [
    "output_file_path = config['project_path'] + '/' \\\n",
    "                        + config['temp_folder_path'] + '/' \\\n",
    "                        + config['brand_to_province_brand_file']\n",
    "\n",
    "nati_to_prov.to_excel(output_file_path, index=False)"
   ]
  },
  {
   "cell_type": "markdown",
   "metadata": {},
   "source": [
    "## From brand to province brand"
   ]
  },
  {
   "cell_type": "code",
   "execution_count": null,
   "metadata": {},
   "outputs": [],
   "source": [
    "all_offtake_nati = all_offtake_full[all_offtake_full['MDM_province_code'] == 'National']\n",
    "all_offtake_nati = all_offtake_nati.groupby(by = ['YearMonth'])['Offtake_Value'].sum().reset_index()\n",
    "all_offtake_nati.columns = ['YearMonth', 'National_Offtake_Value']"
   ]
  },
  {
   "cell_type": "code",
   "execution_count": null,
   "metadata": {},
   "outputs": [],
   "source": [
    "all_offtake_prov = all_offtake_full[all_offtake_full['MDM_province_code'] != 'National']\n",
    "all_offtake_prov = all_offtake_prov.groupby(by = ['YearMonth', 'Brand_Name', 'MDM_province_code'])['Offtake_Value'].sum().reset_index()"
   ]
  },
  {
   "cell_type": "code",
   "execution_count": null,
   "metadata": {},
   "outputs": [],
   "source": [
    "nati_to_prov = pd.merge(all_offtake_nati, all_offtake_prov, on=['YearMonth'], how='left')\n",
    "nati_to_prov['Split_Ratio'] = nati_to_prov['Offtake_Value'] /  nati_to_prov['National_Offtake_Value']"
   ]
  },
  {
   "cell_type": "code",
   "execution_count": null,
   "metadata": {},
   "outputs": [],
   "source": [
    "nati_to_prov = nati_to_prov[['YearMonth', 'MDM_province_code', 'Brand_Name', 'Split_Ratio']]"
   ]
  },
  {
   "cell_type": "code",
   "execution_count": null,
   "metadata": {},
   "outputs": [],
   "source": [
    "output_file_path = config['project_path'] + '/' \\\n",
    "                        + config['temp_folder_path'] + '/' \\\n",
    "                        + config['nation_to_province_brand_file']\n",
    "\n",
    "nati_to_prov.to_excel(output_file_path, index=False)"
   ]
  },
  {
   "cell_type": "markdown",
   "metadata": {},
   "source": [
    "## From province to province brand"
   ]
  },
  {
   "cell_type": "code",
   "execution_count": null,
   "metadata": {},
   "outputs": [],
   "source": [
    "all_offtake_prov = all_offtake_full[all_offtake_full['MDM_province_code'] != 'National']\n",
    "all_offtake_prov = all_offtake_prov.groupby(by = ['YearMonth', 'Brand_Name', 'MDM_province_code'])['Offtake_Value'].sum().reset_index()"
   ]
  },
  {
   "cell_type": "code",
   "execution_count": null,
   "metadata": {},
   "outputs": [],
   "source": [
    "all_offtake_prov_base = all_offtake_prov.groupby(by = ['YearMonth', 'MDM_province_code'])['Offtake_Value'].sum().reset_index()\n",
    "all_offtake_prov_base.columns = ['YearMonth', 'MDM_province_code', 'All_Offtake_Value']"
   ]
  },
  {
   "cell_type": "code",
   "execution_count": null,
   "metadata": {},
   "outputs": [],
   "source": [
    "prov_to_provbrand = pd.merge(all_offtake_prov_base, all_offtake_prov, on=['YearMonth', 'MDM_province_code'], how='left')\n",
    "prov_to_provbrand['Split_Ratio'] = prov_to_provbrand['Offtake_Value'] /  prov_to_provbrand['All_Offtake_Value']"
   ]
  },
  {
   "cell_type": "code",
   "execution_count": null,
   "metadata": {},
   "outputs": [],
   "source": [
    "prov_to_provbrand = prov_to_provbrand[['YearMonth', 'MDM_province_code', 'Brand_Name', 'Split_Ratio']]"
   ]
  },
  {
   "cell_type": "code",
   "execution_count": null,
   "metadata": {},
   "outputs": [],
   "source": [
    "output_file_path = config['project_path'] + '/' \\\n",
    "                        + config['temp_folder_path'] + '/' \\\n",
    "                        + config['province_to_province_brand_file']\n",
    "\n",
    "prov_to_provbrand.to_excel(output_file_path, index=False)"
   ]
  }
 ],
 "metadata": {
  "kernelspec": {
   "display_name": "Python 3",
   "language": "python",
   "name": "python3"
  },
  "language_info": {
   "codemirror_mode": {
    "name": "ipython",
    "version": 3
   },
   "file_extension": ".py",
   "mimetype": "text/x-python",
   "name": "python",
   "nbconvert_exporter": "python",
   "pygments_lexer": "ipython3",
   "version": "3.7.6"
  }
 },
 "nbformat": 4,
 "nbformat_minor": 4
}
