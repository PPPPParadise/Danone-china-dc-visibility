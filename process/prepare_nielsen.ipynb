{
 "cells": [
  {
   "cell_type": "code",
   "execution_count": null,
   "metadata": {},
   "outputs": [],
   "source": [
    "import pandas as pd\n",
    "import operator\n",
    "import time\n",
    "import numpy as np"
   ]
  },
  {
   "cell_type": "code",
   "execution_count": null,
   "metadata": {},
   "outputs": [],
   "source": [
    "config = {}\n",
    "\n",
    "config[\"project_path\"] = \"..\"\n",
    "config[\"data_folder_path\"] = \"data\"\n",
    "config[\"temp_folder_path\"] = \"temp\"\n",
    "\n",
    "# input files\n",
    "config['nielsen_input'] = 'Nielsen 202001-05.xlsx'\n",
    "\n",
    "# output files\n",
    "config['nielsen_output'] = 'Nielsen formatted 202001-05.xlsx'"
   ]
  },
  {
   "cell_type": "markdown",
   "metadata": {},
   "source": [
    "## Read Nielsen"
   ]
  },
  {
   "cell_type": "code",
   "execution_count": null,
   "metadata": {},
   "outputs": [],
   "source": [
    "input_file_path = config['project_path'] + '/' \\\n",
    "                        + config['data_folder_path'] + '/' \\\n",
    "                        + config['nielsen_input']\n",
    "\n",
    "input_df = pd.read_excel(input_file_path, dtype=str)\n",
    "input_df['Value'] = input_df['KPI_Value'].astype('float')"
   ]
  },
  {
   "cell_type": "markdown",
   "metadata": {},
   "source": [
    "## Market Share"
   ]
  },
  {
   "cell_type": "code",
   "execution_count": null,
   "metadata": {},
   "outputs": [],
   "source": [
    "mkt_share_df = input_df[input_df['KPI'] == 'Nielsen Value Market Share'].copy()\n",
    "mkt_share_df = mkt_share_df.groupby(by = ['Date', 'Brand', 'Province', 'KPI'])['Value'].sum().reset_index()"
   ]
  },
  {
   "cell_type": "markdown",
   "metadata": {},
   "source": [
    "## WTD"
   ]
  },
  {
   "cell_type": "code",
   "execution_count": null,
   "metadata": {},
   "outputs": [],
   "source": [
    "wtd_df = input_df[(input_df['KPI'] == 'WTD - RI') | (input_df['KPI'] == 'WTD - MBS')].copy()"
   ]
  },
  {
   "cell_type": "code",
   "execution_count": null,
   "metadata": {},
   "outputs": [],
   "source": [
    "def format_wtd(row):\n",
    "    brand = str(row[\"SKU\"])\n",
    "    wtd_kpi = str(row[\"KPI\"])\n",
    "    \n",
    "    if brand == 'AC':\n",
    "        return wtd_kpi + ' (AC)'\n",
    "    elif brand == 'AP':\n",
    "        return wtd_kpi + ' (AP)'\n",
    "    return wtd_kpi"
   ]
  },
  {
   "cell_type": "code",
   "execution_count": null,
   "metadata": {},
   "outputs": [],
   "source": [
    "wtd_df['KPI'] = wtd_df.apply(format_wtd, axis=1)\n",
    "wtd_df = wtd_df[['Date', 'Brand', 'Province', 'KPI', 'Value']]"
   ]
  },
  {
   "cell_type": "code",
   "execution_count": null,
   "metadata": {},
   "outputs": [],
   "source": [
    "nielsen_all = mkt_share_df.append(wtd_df, ignore_index = True)"
   ]
  },
  {
   "cell_type": "markdown",
   "metadata": {},
   "source": [
    "#### Create all year, province, KPI combination for 2020"
   ]
  },
  {
   "cell_type": "code",
   "execution_count": null,
   "metadata": {},
   "outputs": [],
   "source": [
    "all_dates_map = pd.DataFrame(columns=['Date', 'Brand', 'Province', 'KPI'])\n",
    "all_types= nielsen_all[['Brand', 'Province', 'KPI']].drop_duplicates()\n",
    "for i in range(1,13):\n",
    "    year_month = \"2020\" + str(i).zfill(2)\n",
    "    all_types['Date'] = year_month\n",
    "    all_dates_map = all_dates_map.append(all_types, ignore_index=True)"
   ]
  },
  {
   "cell_type": "code",
   "execution_count": null,
   "metadata": {},
   "outputs": [],
   "source": [
    "output_df = pd.merge(all_dates_map, nielsen_all, on=['Date', 'Brand', 'Province', 'KPI'], how='left')\n",
    "output_df = output_df.fillna(0)"
   ]
  },
  {
   "cell_type": "markdown",
   "metadata": {},
   "source": [
    "## Output result"
   ]
  },
  {
   "cell_type": "code",
   "execution_count": null,
   "metadata": {},
   "outputs": [],
   "source": [
    "def format_yearmonth(year_month):\n",
    "    return time.strftime('%Y/%m/%d', time.strptime(year_month,'%Y%m'))\n",
    "\n",
    "output_df['Date'] = output_df['Date'].apply(lambda x : format_yearmonth(x))\n",
    "\n",
    "output_df['Level 1'] = output_df['KPI']\n",
    "output_df['Level 2'] = output_df['Level 1']\n",
    "output_df['Level 3'] = output_df['Level 1']\n",
    "output_df['Level 4'] = output_df['Level 1']\n",
    "output_df['Level 5'] = output_df['Level 1']"
   ]
  },
  {
   "cell_type": "code",
   "execution_count": null,
   "metadata": {},
   "outputs": [],
   "source": [
    "output_df = output_df[['Date', 'Brand', 'Province', 'Level 1', 'Level 2', 'Level 3', 'Level 4', 'Level 5', 'Value']]"
   ]
  },
  {
   "cell_type": "code",
   "execution_count": null,
   "metadata": {},
   "outputs": [],
   "source": [
    "output_file_path = config['project_path'] + '/' \\\n",
    "                        + config['temp_folder_path'] + '/' \\\n",
    "                        + config['nielsen_output'] \n",
    "\n",
    "output_df.to_excel(output_file_path, index=False)"
   ]
  }
 ],
 "metadata": {
  "kernelspec": {
   "display_name": "Python 3",
   "language": "python",
   "name": "python3"
  },
  "language_info": {
   "codemirror_mode": {
    "name": "ipython",
    "version": 3
   },
   "file_extension": ".py",
   "mimetype": "text/x-python",
   "name": "python",
   "nbconvert_exporter": "python",
   "pygments_lexer": "ipython3",
   "version": "3.7.6"
  }
 },
 "nbformat": 4,
 "nbformat_minor": 4
}
