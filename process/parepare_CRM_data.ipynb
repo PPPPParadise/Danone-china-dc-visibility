{
 "cells": [
  {
   "cell_type": "code",
   "execution_count": null,
   "metadata": {},
   "outputs": [],
   "source": [
    "import pandas as pd\n",
    "import operator\n",
    "import time\n",
    "import numpy as np"
   ]
  },
  {
   "cell_type": "code",
   "execution_count": null,
   "metadata": {},
   "outputs": [],
   "source": [
    "config = {}\n",
    "\n",
    "config['project_path'] = '..'\n",
    "config['data_folder_path'] = 'data'\n",
    "config['temp_folder_path'] = 'temp'\n",
    "\n",
    "# input files\n",
    "config['BHT input'] = 'CRM_data_0713.xlsx'\n",
    "config['MDM_mapping'] = 'MDM_mapping.xlsx'\n",
    "\n",
    "# output files\n",
    "config['spending_CRM'] = 'spending CRM 202001-04.xlsx'\n",
    "config['performance_CRM'] = 'performance CRM 202001-04.xlsx'\n",
    "config['performance_search_index'] = 'performance search index 202001-04.xlsx'"
   ]
  },
  {
   "cell_type": "markdown",
   "metadata": {},
   "source": [
    "## Read CRM"
   ]
  },
  {
   "cell_type": "code",
   "execution_count": null,
   "metadata": {},
   "outputs": [],
   "source": [
    "input_file_path = config['project_path'] + '/' \\\n",
    "                        + config['data_folder_path'] + '/' \\\n",
    "                        + config['BHT input'] \n",
    "\n",
    "spending_input_df = pd.read_excel(input_file_path, sheet_name='spending', dtype=str)"
   ]
  },
  {
   "cell_type": "code",
   "execution_count": null,
   "metadata": {},
   "outputs": [],
   "source": [
    "input_file_path = config['project_path'] + '/' \\\n",
    "                        + config['data_folder_path'] + '/' \\\n",
    "                        + config['BHT input'] \n",
    "\n",
    "perform_input_df = pd.read_excel(input_file_path, sheet_name='KPI', dtype=str)\n",
    "perform_input_df['Value'] = perform_input_df['KPI_value'].astype('float')"
   ]
  },
  {
   "cell_type": "code",
   "execution_count": null,
   "metadata": {},
   "outputs": [],
   "source": [
    "input_file_path = config['project_path'] + '/' \\\n",
    "                        + config['data_folder_path'] + '/' \\\n",
    "                        + config['MDM_mapping']\n",
    "\n",
    "mdm_input_df = pd.read_excel(input_file_path, dtype=str)\n",
    "mdm_input_df = mdm_input_df[['Province_code', 'MDM_province_code']].drop_duplicates()"
   ]
  },
  {
   "cell_type": "code",
   "execution_count": null,
   "metadata": {},
   "outputs": [],
   "source": [
    "def regulate_shannxi_shaanxi(province_code):\n",
    "    if province_code == 'shaanxi':\n",
    "        return 'shannxi'\n",
    "    return province_code"
   ]
  },
  {
   "cell_type": "code",
   "execution_count": null,
   "metadata": {},
   "outputs": [],
   "source": [
    "spending_input_df['Province'] = spending_input_df['Province'].apply(lambda x: regulate_shannxi_shaanxi(x))\n",
    "spending_df = pd.merge(spending_input_df, mdm_input_df, left_on='Province', right_on='Province_code', how='left')"
   ]
  },
  {
   "cell_type": "code",
   "execution_count": null,
   "metadata": {},
   "outputs": [],
   "source": [
    "perform_input_df['Province'] = perform_input_df['Province'].apply(lambda x: regulate_shannxi_shaanxi(x))\n",
    "perform_df = pd.merge(perform_input_df, mdm_input_df, left_on='Province', right_on='Province_code', how='left')"
   ]
  },
  {
   "cell_type": "markdown",
   "metadata": {},
   "source": [
    "### Check for um-mapped records"
   ]
  },
  {
   "cell_type": "code",
   "execution_count": null,
   "metadata": {},
   "outputs": [],
   "source": [
    "spending_df[spending_df['MDM_province_code'].isnull()]"
   ]
  },
  {
   "cell_type": "code",
   "execution_count": null,
   "metadata": {},
   "outputs": [],
   "source": [
    "perform_df[perform_df['MDM_province_code'].isnull()]"
   ]
  },
  {
   "cell_type": "code",
   "execution_count": null,
   "metadata": {},
   "outputs": [],
   "source": [
    "spending_df"
   ]
  },
  {
   "cell_type": "code",
   "execution_count": null,
   "metadata": {},
   "outputs": [],
   "source": [
    "output_df = spending_df[['Date', 'MDM_province_code', 'Cost_type_1', 'Cost_type_2', 'Cost_type_3', 'Cost_type_4', 'AIP', 'Brand', 'Spending_value']]\n",
    "output_df.columns = ['Date', 'Province', 'Cost_type_1', 'Cost_type_2', 'Cost_type_3', 'Cost_type_4', 'AIP', 'Brand', 'Spending_value']"
   ]
  },
  {
   "cell_type": "markdown",
   "metadata": {},
   "source": [
    "## Output CRM Investment"
   ]
  },
  {
   "cell_type": "code",
   "execution_count": null,
   "metadata": {},
   "outputs": [],
   "source": [
    "output_file_path = config['project_path'] + '/' \\\n",
    "                        + config['temp_folder_path'] + '/' \\\n",
    "                        + config['spending_CRM']\n",
    "\n",
    "output_df.to_excel(output_file_path, index=False)"
   ]
  },
  {
   "cell_type": "markdown",
   "metadata": {},
   "source": [
    "## Output CRM Performance"
   ]
  },
  {
   "cell_type": "code",
   "execution_count": null,
   "metadata": {},
   "outputs": [],
   "source": [
    "perform_df = perform_df[['Date','MDM_province_code', 'Brand', 'KPI', 'KPI_value']]\n",
    "perform_df.columns = ['Date','Province', 'Brand', 'KPI', 'KPI_value']"
   ]
  },
  {
   "cell_type": "code",
   "execution_count": null,
   "metadata": {},
   "outputs": [],
   "source": [
    "perf_crm_df = perform_df[(perform_df['KPI'] == 'CRM Leads Offline') \n",
    "                       | (perform_df['KPI'] == 'CRM Leads Online')\n",
    "                       | (perform_df['KPI'] == 'CRM NU Offline')\n",
    "                       | (perform_df['KPI'] == 'CRM NU Online')\n",
    "                       | (perform_df['KPI'] == 'Active Leads')\n",
    "                       | (perform_df['KPI'] == 'Landing UV')].copy()\n",
    "\n",
    "output_file_path = config['project_path'] + '/' \\\n",
    "                        + config['temp_folder_path'] + '/' \\\n",
    "                        + config['performance_CRM']\n",
    "\n",
    "perf_crm_df.to_excel(output_file_path, index=False)"
   ]
  },
  {
   "cell_type": "code",
   "execution_count": null,
   "metadata": {},
   "outputs": [],
   "source": [
    "perf_si_df = perform_df[(perform_df['KPI'] == 'Ali Search')\n",
    "                       | (perform_df['KPI'] == 'Baidu Search')].copy()\n",
    "\n",
    "output_file_path = config['project_path'] + '/' \\\n",
    "                        + config['temp_folder_path'] + '/' \\\n",
    "                        + config['performance_search_index']\n",
    "\n",
    "perf_si_df.to_excel(output_file_path, index=False)"
   ]
  }
 ],
 "metadata": {
  "kernelspec": {
   "display_name": "Python 3",
   "language": "python",
   "name": "python3"
  },
  "language_info": {
   "codemirror_mode": {
    "name": "ipython",
    "version": 3
   },
   "file_extension": ".py",
   "mimetype": "text/x-python",
   "name": "python",
   "nbconvert_exporter": "python",
   "pygments_lexer": "ipython3",
   "version": "3.7.6"
  }
 },
 "nbformat": 4,
 "nbformat_minor": 4
}
