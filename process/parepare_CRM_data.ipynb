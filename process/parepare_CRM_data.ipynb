{
 "cells": [
  {
   "cell_type": "code",
   "execution_count": null,
   "metadata": {},
   "outputs": [],
   "source": [
    "import pandas as pd\n",
    "import operator\n",
    "import time\n",
    "import numpy as np"
   ]
  },
  {
   "cell_type": "code",
   "execution_count": null,
   "metadata": {},
   "outputs": [],
   "source": [
    "config = {}\n",
    "\n",
    "config['project_path'] = '..'\n",
    "config['data_folder_path'] = 'data'\n",
    "config['temp_folder_path'] = 'temp'\n",
    "\n",
    "# input files\n",
    "config['BHT input'] = 'CRM_data_0713.xlsx'\n",
    "config['MDM_mapping'] = 'MDM_mapping.xlsx'\n",
    "\n",
    "# output files\n",
    "config['CRM cost output'] = 'CRM cost 202001-04.xlsx'\n",
    "config['CRM performance output'] = 'CRM performance 202001-04.xlsx'"
   ]
  },
  {
   "cell_type": "markdown",
   "metadata": {},
   "source": [
    "## Read CRM"
   ]
  },
  {
   "cell_type": "code",
   "execution_count": null,
   "metadata": {},
   "outputs": [],
   "source": [
    "input_file_path = config['project_path'] + '/' \\\n",
    "                        + config['data_folder_path'] + '/' \\\n",
    "                        + config['BHT input'] \n",
    "\n",
    "spending_input_df = pd.read_excel(input_file_path, sheet_name='spending', dtype=str)\n",
    "spending_input_df['Value'] = spending_input_df['Spending_value'].astype('float')"
   ]
  },
  {
   "cell_type": "code",
   "execution_count": null,
   "metadata": {},
   "outputs": [],
   "source": [
    "input_file_path = config['project_path'] + '/' \\\n",
    "                        + config['data_folder_path'] + '/' \\\n",
    "                        + config['BHT input'] \n",
    "\n",
    "perform_input_df = pd.read_excel(input_file_path, sheet_name='KPI', dtype=str)\n",
    "perform_input_df['Value'] = perform_input_df['KPI_value'].astype('float')"
   ]
  },
  {
   "cell_type": "code",
   "execution_count": null,
   "metadata": {},
   "outputs": [],
   "source": [
    "def get_brand_name(brand):\n",
    "    if brand == 'NC':\n",
    "        return 'Nutrilon'\n",
    "    elif brand=='AN':\n",
    "        return 'Aptamil'\n",
    "    return brand\n",
    "\n",
    "spending_input_df['Brand'] = spending_input_df['Brand'].apply(\n",
    "        lambda x: get_brand_name(x))\n",
    "\n",
    "perform_input_df['Brand'] = perform_input_df['Brand'].apply(\n",
    "        lambda x: get_brand_name(x))"
   ]
  },
  {
   "cell_type": "code",
   "execution_count": null,
   "metadata": {},
   "outputs": [],
   "source": [
    "input_file_path = config['project_path'] + '/' \\\n",
    "                        + config['data_folder_path'] + '/' \\\n",
    "                        + config['MDM_mapping']\n",
    "\n",
    "mdm_input_df = pd.read_excel(input_file_path, dtype=str)"
   ]
  },
  {
   "cell_type": "code",
   "execution_count": null,
   "metadata": {},
   "outputs": [],
   "source": [
    "def regulate_shannxi_shaanxi(province_code):\n",
    "    if province_code == 'shaanxi':\n",
    "        return 'shannxi'\n",
    "    return province_code"
   ]
  },
  {
   "cell_type": "code",
   "execution_count": null,
   "metadata": {},
   "outputs": [],
   "source": [
    "spending_input_df['Province'] = spending_input_df['Province'].apply(lambda x: regulate_shannxi_shaanxi(x))\n",
    "spending_df = pd.merge(spending_input_df, mdm_input_df, left_on='Province', right_on='Province_code', how='left')"
   ]
  },
  {
   "cell_type": "code",
   "execution_count": null,
   "metadata": {},
   "outputs": [],
   "source": [
    "perform_input_df['Province'] = perform_input_df['Province'].apply(lambda x: regulate_shannxi_shaanxi(x))\n",
    "perform_df = pd.merge(perform_input_df, mdm_input_df, left_on='Province', right_on='Province_code', how='left')"
   ]
  },
  {
   "cell_type": "markdown",
   "metadata": {},
   "source": [
    "### Check for um-mapped records"
   ]
  },
  {
   "cell_type": "code",
   "execution_count": null,
   "metadata": {},
   "outputs": [],
   "source": [
    "spending_df[spending_df['MDM_province_code'].isnull()]"
   ]
  },
  {
   "cell_type": "code",
   "execution_count": null,
   "metadata": {},
   "outputs": [],
   "source": [
    "perform_df[perform_df['MDM_province_code'].isnull()]"
   ]
  },
  {
   "cell_type": "markdown",
   "metadata": {},
   "source": [
    "## Process CRM Investment"
   ]
  },
  {
   "cell_type": "code",
   "execution_count": null,
   "metadata": {},
   "outputs": [],
   "source": [
    "def get_aip_cost_type(aip):\n",
    "    if aip == 'A':\n",
    "        return 'Total A Cost'\n",
    "    elif aip == 'I':\n",
    "        return 'Total I Cost'\n",
    "    elif aip == 'P':\n",
    "        return 'Total P Cost'\n",
    "    return 'Total AD/Non-working Cost'\n",
    "\n",
    "def get_aip_crm_type(aip):\n",
    "    if aip == 'A':\n",
    "        return 'Total A CRM'\n",
    "    elif aip == 'I':\n",
    "        return'Total I CRM'\n",
    "    elif aip == 'P':\n",
    "        return'Total P CRM'\n",
    "    return 'Total AD/Non-working Media'"
   ]
  },
  {
   "cell_type": "code",
   "execution_count": null,
   "metadata": {},
   "outputs": [],
   "source": [
    "spending_df['Level 1'] = \"Total A&P\"\n",
    "spending_df['Level 2'] = \"Total CRM\"\n",
    "spending_df['Level 3'] = spending_df['AIP'].apply(lambda x : get_aip_cost_type(x))\n",
    "spending_df['Level 4'] = spending_df['AIP'].apply(lambda x : get_aip_crm_type(x))\n",
    "spending_df['Level 5'] = spending_df['Cost_type_2']\n",
    "spending_df['Province'] = spending_df['MDM_province_code']"
   ]
  },
  {
   "cell_type": "code",
   "execution_count": null,
   "metadata": {},
   "outputs": [],
   "source": [
    "spending_df = spending_df[['Date', 'Brand', 'Province', 'Level 1', 'Level 2', 'Level 3', 'Level 4', 'Level 5', 'Value']]"
   ]
  },
  {
   "cell_type": "markdown",
   "metadata": {},
   "source": [
    "#### Create all year, province, KPI combination for 2020"
   ]
  },
  {
   "cell_type": "code",
   "execution_count": null,
   "metadata": {},
   "outputs": [],
   "source": [
    "all_dates_map = pd.DataFrame(columns=['Date', 'Brand', 'Province', 'Level 1', 'Level 2', 'Level 3', 'Level 4', 'Level 5'])\n",
    "all_types= spending_df[['Brand', 'Province', 'Level 1', 'Level 2', 'Level 3', 'Level 4', 'Level 5']].drop_duplicates()\n",
    "for i in range(1,13):\n",
    "    year_month = \"2020\" + str(i).zfill(2)\n",
    "    all_types['Date'] = year_month\n",
    "    all_dates_map = all_dates_map.append(all_types, ignore_index=True)"
   ]
  },
  {
   "cell_type": "code",
   "execution_count": null,
   "metadata": {},
   "outputs": [],
   "source": [
    "output_df = pd.merge(all_dates_map, spending_df, on=['Date', 'Brand', 'Province', 'Level 1', 'Level 2', 'Level 3', 'Level 4', 'Level 5'], how='left')\n",
    "output_df = output_df.fillna(0)"
   ]
  },
  {
   "cell_type": "code",
   "execution_count": null,
   "metadata": {},
   "outputs": [],
   "source": [
    "def format_yearmonth(year_month):\n",
    "    return time.strftime('%Y/%m/%d', time.strptime(year_month,'%Y%m'))\n",
    "\n",
    "output_df['Date'] = output_df['Date'].apply(lambda x : format_yearmonth(x))"
   ]
  },
  {
   "cell_type": "code",
   "execution_count": null,
   "metadata": {},
   "outputs": [],
   "source": [
    "output_file_path = config['project_path'] + '/' \\\n",
    "                        + config['temp_folder_path'] + '/' \\\n",
    "                        + config['CRM cost output']\n",
    "\n",
    "output_df.to_excel(output_file_path, index=False)"
   ]
  },
  {
   "cell_type": "markdown",
   "metadata": {},
   "source": [
    "## Process CRM Performance"
   ]
  },
  {
   "cell_type": "code",
   "execution_count": null,
   "metadata": {},
   "outputs": [],
   "source": [
    "perform_df = perform_df[['Date', 'Brand', 'MDM_province_code', 'KPI', 'KPI_value']]"
   ]
  },
  {
   "cell_type": "markdown",
   "metadata": {},
   "source": [
    "#### Create all year, province, KPI combination for 2020"
   ]
  },
  {
   "cell_type": "code",
   "execution_count": null,
   "metadata": {},
   "outputs": [],
   "source": [
    "all_dates_map = pd.DataFrame(columns=['Date', 'Brand', 'MDM_province_code', 'KPI'])\n",
    "all_types= perform_df[['Brand', 'MDM_province_code', 'KPI']].drop_duplicates()\n",
    "for i in range(1,13):\n",
    "    year_month = \"2020\" + str(i).zfill(2)\n",
    "    all_types['Date'] = year_month\n",
    "    all_dates_map = all_dates_map.append(all_types, ignore_index=True)"
   ]
  },
  {
   "cell_type": "code",
   "execution_count": null,
   "metadata": {},
   "outputs": [],
   "source": [
    "output_df = pd.merge(all_dates_map, perform_df, on=['Date', 'Brand', 'MDM_province_code', 'KPI'], how='left')\n",
    "output_df = output_df.fillna(0)"
   ]
  },
  {
   "cell_type": "code",
   "execution_count": null,
   "metadata": {},
   "outputs": [],
   "source": [
    "output_df['Level 1'] = output_df['KPI']\n",
    "output_df['Level 2'] = output_df['KPI']\n",
    "output_df['Level 3'] = output_df['KPI']\n",
    "output_df['Level 4'] = output_df['KPI']\n",
    "output_df['Level 5'] = output_df['KPI']\n",
    "output_df['Province'] = output_df['MDM_province_code']\n",
    "output_df['Value'] = output_df['KPI_value']"
   ]
  },
  {
   "cell_type": "code",
   "execution_count": null,
   "metadata": {},
   "outputs": [],
   "source": [
    "def format_yearmonth(year_month):\n",
    "    return time.strftime('%Y/%m/%d', time.strptime(year_month,'%Y%m'))\n",
    "\n",
    "output_df['Date'] = output_df['Date'].apply(lambda x : format_yearmonth(x))"
   ]
  },
  {
   "cell_type": "code",
   "execution_count": null,
   "metadata": {},
   "outputs": [],
   "source": [
    "output_df = output_df[['Date', 'Brand', 'Province', 'Level 1', 'Level 2', 'Level 3', 'Level 4', 'Level 5', 'Value']]"
   ]
  },
  {
   "cell_type": "code",
   "execution_count": null,
   "metadata": {},
   "outputs": [],
   "source": [
    "output_file_path = config['project_path'] + '/' \\\n",
    "                        + config['temp_folder_path'] + '/' \\\n",
    "                        + config['CRM performance output']\n",
    "\n",
    "output_df.to_excel(output_file_path, index=False)"
   ]
  }
 ],
 "metadata": {
  "kernelspec": {
   "display_name": "Python 3",
   "language": "python",
   "name": "python3"
  },
  "language_info": {
   "codemirror_mode": {
    "name": "ipython",
    "version": 3
   },
   "file_extension": ".py",
   "mimetype": "text/x-python",
   "name": "python",
   "nbconvert_exporter": "python",
   "pygments_lexer": "ipython3",
   "version": "3.7.6"
  }
 },
 "nbformat": 4,
 "nbformat_minor": 4
}
