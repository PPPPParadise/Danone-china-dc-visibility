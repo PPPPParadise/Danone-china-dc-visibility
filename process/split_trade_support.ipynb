{
 "cells": [
  {
   "cell_type": "code",
   "execution_count": null,
   "metadata": {},
   "outputs": [],
   "source": [
    "import pandas as pd\n",
    "import operator\n",
    "import time\n",
    "import numpy as np"
   ]
  },
  {
   "cell_type": "code",
   "execution_count": null,
   "metadata": {},
   "outputs": [],
   "source": [
    "config = {}\n",
    "\n",
    "config[\"project_path\"] = \"..\"\n",
    "config[\"data_folder_path\"] = \"data\"\n",
    "config[\"temp_folder_path\"] = \"temp\""
   ]
  },
  {
   "cell_type": "code",
   "execution_count": null,
   "metadata": {},
   "outputs": [],
   "source": [
    "input_file_path = config[\"project_path\"] + \"/\" \\\n",
    "                        + config[\"data_folder_path\"] + \"/\" \\\n",
    "                        + \"202001-04_Trade_Support.xlsx\"\n",
    "\n",
    "ts_df = pd.read_excel(input_file_path, dtype=str)\n",
    "\n",
    "ts_df.columns = ['YearMonth', 'SKU', 'Cost']\n",
    "ts_df[\"Cost\"] = ts_df[\"Cost\"].astype(\"float\")"
   ]
  },
  {
   "cell_type": "code",
   "execution_count": null,
   "metadata": {},
   "outputs": [],
   "source": [
    "input_file_path = config[\"project_path\"] + \"/\" \\\n",
    "                        + config[\"temp_folder_path\"] + \"/\" \\\n",
    "                        + \"202001-05_brand_province_split.xlsx\"\n",
    "\n",
    "brand_prov_split = pd.read_excel(input_file_path, dtype=str)\n",
    "\n",
    "brand_prov_split['Split_Ratio'] = brand_prov_split['Split_Ratio'].astype(\"float\")"
   ]
  },
  {
   "cell_type": "code",
   "execution_count": null,
   "metadata": {},
   "outputs": [],
   "source": [
    "ts_prov_df = pd.merge(ts_df, brand_prov_split, on=['YearMonth', 'SKU'], how='left')\n",
    "\n",
    "ts_prov_df[ts_prov_df['Split_Ratio'] == np.NAN]"
   ]
  },
  {
   "cell_type": "code",
   "execution_count": null,
   "metadata": {},
   "outputs": [],
   "source": [
    "ts_prov_df['Spending_Value'] = ts_prov_df['Cost'] * ts_prov_df['Split_Ratio']\n",
    "\n",
    "ts_prov_df = ts_prov_df[['YearMonth', 'Province_Code', 'SKU', 'Spending_Value']]\n",
    "\n",
    "ts_all_df = ts_prov_df.groupby(by = ['YearMonth', 'SKU'])['Spending_Value'].sum().reset_index()\n",
    "ts_all_df['Province_Code'] = 'National'\n",
    "\n",
    "ts_prov_df = ts_prov_df.append(ts_all_df, ignore_index=True)"
   ]
  },
  {
   "cell_type": "code",
   "execution_count": null,
   "metadata": {},
   "outputs": [],
   "source": [
    "def format_yearmonth(year_month):\n",
    "    return time.strftime(\"%Y/%m/%d\", time.strptime(year_month,\"%Y%m\"))\n",
    "\n",
    "def get_brand_name(brand):\n",
    "    if brand == 'NC':\n",
    "        return 'Nutrilon'\n",
    "    elif (brand=='AC') | (brand == 'AP'):\n",
    "        return \"Aptamil\"\n",
    "    return ''"
   ]
  },
  {
   "cell_type": "code",
   "execution_count": null,
   "metadata": {},
   "outputs": [],
   "source": [
    "ts_prov_df[\"Date\"] = ts_prov_df['YearMonth'].apply(lambda x : format_yearmonth(x))\n",
    "\n",
    "ts_prov_df[\"Brand_Name\"] = ts_prov_df['SKU'].apply(\n",
    "        lambda x: get_brand_name(x))\n",
    "\n",
    "ts_prov_df['Cost_Type_1'] = 'Trade Support'\n",
    "ts_prov_df['Cost_Type_2'] = ''\n",
    "ts_prov_df['Cost_Type_3'] = ''\n",
    "ts_prov_df['Cost_Type_4'] = ''\n",
    "ts_prov_df['AIP'] = 'P'\n",
    "\n",
    "ts_prov_df = ts_prov_df[['Date', 'Province_Code', 'Cost_Type_1', 'Cost_Type_2', 'Cost_Type_3', 'Cost_Type_4', 'AIP', 'Brand_Name', 'SKU', 'Spending_Value']]"
   ]
  },
  {
   "cell_type": "code",
   "execution_count": null,
   "metadata": {},
   "outputs": [],
   "source": [
    "output_file_path = config[\"project_path\"] + \"/\" \\\n",
    "                        + config[\"temp_folder_path\"] + \"/\" \\\n",
    "                        + \"202001-04_Trade_Support.xlsx\"\n",
    "\n",
    "ts_prov_df.to_excel(output_file_path, index=False)"
   ]
  },
  {
   "cell_type": "code",
   "execution_count": null,
   "metadata": {},
   "outputs": [],
   "source": []
  }
 ],
 "metadata": {
  "kernelspec": {
   "display_name": "Python 3",
   "language": "python",
   "name": "python3"
  },
  "language_info": {
   "codemirror_mode": {
    "name": "ipython",
    "version": 3
   },
   "file_extension": ".py",
   "mimetype": "text/x-python",
   "name": "python",
   "nbconvert_exporter": "python",
   "pygments_lexer": "ipython3",
   "version": "3.7.6"
  }
 },
 "nbformat": 4,
 "nbformat_minor": 4
}
