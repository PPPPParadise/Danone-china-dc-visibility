{
 "cells": [
  {
   "cell_type": "code",
   "execution_count": null,
   "metadata": {},
   "outputs": [],
   "source": [
    "import pandas as pd\n",
    "import operator\n",
    "import time\n",
    "import numpy as np"
   ]
  },
  {
   "cell_type": "code",
   "execution_count": null,
   "metadata": {},
   "outputs": [],
   "source": [
    "config = {}\n",
    "\n",
    "config[\"project_path\"] = \"..\"\n",
    "config[\"data_folder_path\"] = \"data\"\n",
    "config[\"temp_folder_path\"] = \"temp\""
   ]
  },
  {
   "cell_type": "code",
   "execution_count": null,
   "metadata": {},
   "outputs": [],
   "source": [
    "input_file_path = config[\"project_path\"] + \"/\" \\\n",
    "                        + config[\"data_folder_path\"] + \"/\" \\\n",
    "                        + \"LTC ANP Tracking 202003-TTL.XLSX\"\n",
    "\n",
    "input_df = pd.read_excel(input_file_path, sheet_name='raw data',dtype=str)"
   ]
  },
  {
   "cell_type": "code",
   "execution_count": null,
   "metadata": {},
   "outputs": [],
   "source": [
    "input_df = input_df[['CHANNEL', '月份','省份', 'Premium', 'Activity', 'Others']]\n",
    "input_df.columns = ['Channel', 'YearMonth', 'Province_Name', 'Premium', 'Activity', 'Others' ]"
   ]
  },
  {
   "cell_type": "code",
   "execution_count": null,
   "metadata": {},
   "outputs": [],
   "source": [
    "def to_yearmonth(gt_time):\n",
    "    return time.strftime(\"%Y%m\", time.strptime(gt_time,\"%Y/%m\"))\n",
    "\n",
    "input_df[\"YearMonth\"] = input_df['YearMonth'].apply(lambda x : to_yearmonth(x))"
   ]
  },
  {
   "cell_type": "code",
   "execution_count": null,
   "metadata": {},
   "outputs": [],
   "source": [
    "prem_df = input_df[['Channel', 'YearMonth', 'Province_Name', 'Premium']].copy()\n",
    "prem_df.columns = ['Channel', 'YearMonth', 'Province_Name', 'Spending']\n",
    "prem_df['Cost_Type_3'] = 'Premium'\n",
    "\n",
    "acty_df = input_df[['Channel', 'YearMonth', 'Province_Name', 'Activity']].copy()\n",
    "acty_df.columns = ['Channel', 'YearMonth', 'Province_Name', 'Spending']\n",
    "acty_df['Cost_Type_3'] = 'Activity'\n",
    "\n",
    "othe_df = input_df[['Channel', 'YearMonth', 'Province_Name', 'Others']].copy()\n",
    "othe_df.columns = ['Channel', 'YearMonth', 'Province_Name', 'Spending']\n",
    "othe_df['Cost_Type_3'] = 'Others'"
   ]
  },
  {
   "cell_type": "code",
   "execution_count": null,
   "metadata": {},
   "outputs": [],
   "source": [
    "cost_df = prem_df.append(acty_df, ignore_index=True).append(othe_df, ignore_index=True)\n",
    "cost_df['Spending'] = cost_df['Spending'].astype(\"float\")"
   ]
  },
  {
   "cell_type": "code",
   "execution_count": null,
   "metadata": {},
   "outputs": [],
   "source": [
    "input_file_path = config[\"project_path\"] + \"/\" \\\n",
    "                        + config[\"data_folder_path\"] + \"/\" \\\n",
    "                        + \"Province_Mapping.xlsx\"\n",
    "\n",
    "province_df = pd.read_excel(input_file_path, dtype=str)\n",
    "\n",
    "cost_df = pd.merge(cost_df, province_df, on='Province_Name', how='left' )"
   ]
  },
  {
   "cell_type": "code",
   "execution_count": null,
   "metadata": {},
   "outputs": [],
   "source": [
    "gt_df = cost_df[cost_df['Channel'] != 'RKMBS']\n",
    "gt_df = gt_df.groupby(by = ['YearMonth', 'Province_Code', 'Cost_Type_3'])['Spending'].sum().reset_index()\n",
    "\n",
    "rkmbs_df = cost_df[cost_df['Channel'] == 'RKMBS']\n",
    "rkmbs_df = rkmbs_df.groupby(by = ['YearMonth', 'Province_Code', 'Cost_Type_3'])['Spending'].sum().reset_index()"
   ]
  },
  {
   "cell_type": "code",
   "execution_count": null,
   "metadata": {},
   "outputs": [],
   "source": [
    "input_file_path = config[\"project_path\"] + \"/\" \\\n",
    "                        + config[\"temp_folder_path\"] + \"/\" \\\n",
    "                        + \"202001-05_province_brand_split.xlsx\"\n",
    "\n",
    "prov_brand_split = pd.read_excel(input_file_path, dtype=str)\n",
    "\n",
    "prov_brand_split['Split_Ratio'] = prov_brand_split['Split_Ratio'].astype(\"float\")"
   ]
  },
  {
   "cell_type": "code",
   "execution_count": null,
   "metadata": {},
   "outputs": [],
   "source": [
    "def format_yearmonth(year_month):\n",
    "    return time.strftime(\"%Y/%m/%d\", time.strptime(year_month,\"%Y%m\"))\n",
    "\n",
    "def get_brand_name(brand):\n",
    "    if brand == 'NC':\n",
    "        return 'Nutrilon'\n",
    "    elif (brand=='AC') | (brand == 'AP'):\n",
    "        return \"Aptamil\"\n",
    "    return ''"
   ]
  },
  {
   "cell_type": "code",
   "execution_count": null,
   "metadata": {},
   "outputs": [],
   "source": [
    "gt_brand_df = pd.merge(gt_df, prov_brand_split, on=['YearMonth', 'Province_Code'], how='left')\n",
    "\n",
    "gt_brand_df[gt_brand_df['Split_Ratio'] == np.NAN]"
   ]
  },
  {
   "cell_type": "code",
   "execution_count": null,
   "metadata": {},
   "outputs": [],
   "source": [
    "gt_brand_df['Spending_Value'] = gt_brand_df['Spending'] * gt_brand_df['Split_Ratio']\n",
    "gt_brand_df = gt_brand_df[['YearMonth', 'Province_Code', 'Cost_Type_3', 'SKU', 'Spending_Value']]\n",
    "\n",
    "gt_nati_df = gt_brand_df.groupby(by = ['YearMonth', 'Cost_Type_3', 'SKU'])['Spending_Value'].sum().reset_index()\n",
    "gt_nati_df['Province_Code'] = 'National'\n",
    "\n",
    "gt_brand_df = gt_brand_df.append(gt_nati_df, ignore_index=True)\n",
    "\n",
    "gt_brand_df[\"Date\"] = gt_brand_df['YearMonth'].apply(lambda x : format_yearmonth(x))\n",
    "\n",
    "gt_brand_df[\"Brand_Name\"] = gt_brand_df['SKU'].apply(\n",
    "        lambda x: get_brand_name(x))\n",
    "\n",
    "gt_brand_df['Cost_Type_1'] = 'Sales'\n",
    "gt_brand_df['Cost_Type_2'] = 'Sales GT'\n",
    "gt_brand_df['Cost_Type_4'] = ''\n",
    "gt_brand_df['AIP'] = 'P'\n",
    "\n",
    "gt_brand_df = gt_brand_df[['Date', 'Province_Code', 'Cost_Type_1', 'Cost_Type_2', 'Cost_Type_3', 'Cost_Type_4', 'AIP', 'Brand_Name', 'SKU', 'Spending_Value']]"
   ]
  },
  {
   "cell_type": "code",
   "execution_count": null,
   "metadata": {},
   "outputs": [],
   "source": [
    "output_file_path = config[\"project_path\"] + \"/\" \\\n",
    "                        + config[\"temp_folder_path\"] + \"/\" \\\n",
    "                        + \"2020003_GT_Cost.xlsx\"\n",
    "\n",
    "gt_brand_df.to_excel(output_file_path, index=False)"
   ]
  },
  {
   "cell_type": "code",
   "execution_count": null,
   "metadata": {},
   "outputs": [],
   "source": [
    "rkmbs_brand_df = pd.merge(rkmbs_df, prov_brand_split, on=['YearMonth', 'Province_Code'], how='left')\n",
    "\n",
    "rkmbs_brand_df[rkmbs_brand_df['Split_Ratio'] == np.NAN]"
   ]
  },
  {
   "cell_type": "code",
   "execution_count": null,
   "metadata": {},
   "outputs": [],
   "source": [
    "rkmbs_brand_df['Spending_Value'] = rkmbs_brand_df['Spending'] * rkmbs_brand_df['Split_Ratio']\n",
    "rkmbs_brand_df = rkmbs_brand_df[['YearMonth', 'Province_Code', 'Cost_Type_3', 'SKU', 'Spending_Value']]\n",
    "\n",
    "rkmbs_nati_df = rkmbs_brand_df.groupby(by = ['YearMonth', 'Cost_Type_3', 'SKU'])['Spending_Value'].sum().reset_index()\n",
    "rkmbs_nati_df['Province_Code'] = 'National'\n",
    "\n",
    "rkmbs_brand_df = rkmbs_brand_df.append(rkmbs_nati_df, ignore_index=True)\n",
    "\n",
    "rkmbs_brand_df[\"Date\"] = rkmbs_brand_df['YearMonth'].apply(lambda x : format_yearmonth(x))\n",
    "\n",
    "rkmbs_brand_df[\"Brand_Name\"] = rkmbs_brand_df['SKU'].apply(\n",
    "        lambda x: get_brand_name(x))\n",
    "\n",
    "rkmbs_brand_df['Cost_Type_1'] = 'Sales'\n",
    "rkmbs_brand_df['Cost_Type_2'] = 'Sales RKMBS'\n",
    "rkmbs_brand_df['Cost_Type_4'] = ''\n",
    "rkmbs_brand_df['AIP'] = 'P'\n",
    "\n",
    "rkmbs_brand_df = rkmbs_brand_df[['Date', 'Province_Code', 'Cost_Type_1', 'Cost_Type_2', 'Cost_Type_3', 'Cost_Type_4', 'AIP', 'Brand_Name', 'SKU', 'Spending_Value']]"
   ]
  },
  {
   "cell_type": "code",
   "execution_count": null,
   "metadata": {},
   "outputs": [],
   "source": [
    "output_file_path = config[\"project_path\"] + \"/\" \\\n",
    "                        + config[\"temp_folder_path\"] + \"/\" \\\n",
    "                        + \"2020003_RKMBS_Cost.xlsx\"\n",
    "\n",
    "rkmbs_brand_df.to_excel(output_file_path, index=False)"
   ]
  }
 ],
 "metadata": {
  "kernelspec": {
   "display_name": "Python 3",
   "language": "python",
   "name": "python3"
  },
  "language_info": {
   "codemirror_mode": {
    "name": "ipython",
    "version": 3
   },
   "file_extension": ".py",
   "mimetype": "text/x-python",
   "name": "python",
   "nbconvert_exporter": "python",
   "pygments_lexer": "ipython3",
   "version": "3.7.6"
  }
 },
 "nbformat": 4,
 "nbformat_minor": 4
}
