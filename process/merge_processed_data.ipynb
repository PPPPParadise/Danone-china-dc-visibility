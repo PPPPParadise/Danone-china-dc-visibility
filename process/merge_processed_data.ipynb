{
 "cells": [
  {
   "cell_type": "code",
   "execution_count": null,
   "metadata": {},
   "outputs": [],
   "source": [
    "import pandas as pd\n",
    "import operator\n",
    "import time\n",
    "import numpy as np"
   ]
  },
  {
   "cell_type": "code",
   "execution_count": null,
   "metadata": {},
   "outputs": [],
   "source": [
    "config = {}\n",
    "\n",
    "config['project_path'] = '..'\n",
    "config['data_folder_path'] = 'data'\n",
    "config['temp_folder_path'] = 'temp'\n",
    "\n",
    "#Input file\n",
    "config['media_output'] = 'Media cost split 2020Q1.xlsx'\n",
    "config['pc_output'] = 'PC cost split 202001-04.xlsx'\n",
    "config['offtake_output'] = 'Offtake IFFO rate 202001-05.xlsx'\n",
    "config['BHT output'] = 'BHT 202001-04.xlsx'\n",
    "config['CRM cost output'] = 'CRM cost 202001-04.xlsx'\n",
    "config['CRM performance output'] = 'CRM performance 202001-04.xlsx'\n",
    "config['Trade support output'] = 'Trade support split 202001-04.xlsx'\n",
    "config['market_share_output'] = 'Market Share formatted 202001-05.xlsx'\n",
    "config['channel_output'] = 'Channel AnP split 202001-04.xlsx'\n",
    "\n",
    "#Output file\n",
    "config['output_file'] = '2020 Province ROI data.xlsx'"
   ]
  },
  {
   "cell_type": "code",
   "execution_count": null,
   "metadata": {},
   "outputs": [],
   "source": [
    "all_data = pd.DataFrame(columns=['Date', 'Brand', 'Province', 'Level 1', 'Level 2', 'Level 3', 'Level 4', 'Level 5', 'Value'])"
   ]
  },
  {
   "cell_type": "markdown",
   "metadata": {},
   "source": [
    "# Performance"
   ]
  },
  {
   "cell_type": "markdown",
   "metadata": {},
   "source": [
    "Danone Offtake, IFFO Ratio"
   ]
  },
  {
   "cell_type": "code",
   "execution_count": null,
   "metadata": {},
   "outputs": [],
   "source": [
    "input_file_path = config['project_path'] + '/' \\\n",
    "                        + config['temp_folder_path'] + '/' \\\n",
    "                        + config['offtake_output']\n",
    "\n",
    "input_df = pd.read_excel(input_file_path, dtype=str)\n",
    "all_data = all_data.append(input_df, ignore_index=True)\n",
    "input_df[['Level 1', 'Level 2', 'Level 3', 'Level 4', 'Level 5']].drop_duplicates()"
   ]
  },
  {
   "cell_type": "markdown",
   "metadata": {},
   "source": [
    "Market Share, WTD, SPPD"
   ]
  },
  {
   "cell_type": "code",
   "execution_count": null,
   "metadata": {},
   "outputs": [],
   "source": [
    "input_file_path = config['project_path'] + '/' \\\n",
    "                        + config['temp_folder_path'] + '/' \\\n",
    "                        + config['market_share_output']\n",
    "\n",
    "input_df = pd.read_excel(input_file_path, dtype=str)\n",
    "all_data = all_data.append(input_df, ignore_index=True)\n",
    "input_df[['Level 1', 'Level 2', 'Level 3', 'Level 4', 'Level 5']].drop_duplicates()"
   ]
  },
  {
   "cell_type": "markdown",
   "metadata": {},
   "source": [
    "Total Brand Awareness, Deep Interest"
   ]
  },
  {
   "cell_type": "code",
   "execution_count": null,
   "metadata": {},
   "outputs": [],
   "source": [
    "input_file_path = config['project_path'] + '/' \\\n",
    "                        + config['temp_folder_path'] + '/' \\\n",
    "                        + config['BHT output']\n",
    "\n",
    "input_df = pd.read_excel(input_file_path, dtype=str)\n",
    "all_data = all_data.append(input_df, ignore_index=True)\n",
    "input_df[['Level 1', 'Level 2', 'Level 3', 'Level 4', 'Level 5']].drop_duplicates()"
   ]
  },
  {
   "cell_type": "markdown",
   "metadata": {},
   "source": [
    "NU, Leads, Baidu Search, Ali Index"
   ]
  },
  {
   "cell_type": "code",
   "execution_count": null,
   "metadata": {},
   "outputs": [],
   "source": [
    "input_file_path = config['project_path'] + '/' \\\n",
    "                        + config['temp_folder_path'] + '/' \\\n",
    "                        + config['CRM performance output']\n",
    "\n",
    "input_df = pd.read_excel(input_file_path, dtype=str)\n",
    "all_data = all_data.append(input_df, ignore_index=True)\n",
    "input_df[['Level 1', 'Level 2', 'Level 3', 'Level 4', 'Level 5']].drop_duplicates()"
   ]
  },
  {
   "cell_type": "markdown",
   "metadata": {},
   "source": [
    "# Investment"
   ]
  },
  {
   "cell_type": "markdown",
   "metadata": {},
   "source": [
    "Trade Support"
   ]
  },
  {
   "cell_type": "code",
   "execution_count": null,
   "metadata": {},
   "outputs": [],
   "source": [
    "input_file_path = config['project_path'] + '/' \\\n",
    "                        + config['temp_folder_path'] + '/' \\\n",
    "                        + config['Trade support output']\n",
    "\n",
    "input_df = pd.read_excel(input_file_path, dtype=str)\n",
    "all_data = all_data.append(input_df, ignore_index=True)\n",
    "input_df[['Level 1', 'Level 2', 'Level 3', 'Level 4', 'Level 5']].drop_duplicates()"
   ]
  },
  {
   "cell_type": "markdown",
   "metadata": {},
   "source": [
    "A&P"
   ]
  },
  {
   "cell_type": "markdown",
   "metadata": {},
   "source": [
    "Media"
   ]
  },
  {
   "cell_type": "code",
   "execution_count": null,
   "metadata": {},
   "outputs": [],
   "source": [
    "input_file_path = config['project_path'] + '/' \\\n",
    "                        + config['temp_folder_path'] + '/' \\\n",
    "                        + config['media_output']\n",
    "\n",
    "input_df = pd.read_excel(input_file_path, dtype=str)\n",
    "all_data = all_data.append(input_df, ignore_index=True)\n",
    "input_df[['Level 1', 'Level 2', 'Level 3', 'Level 4', 'Level 5']].drop_duplicates()"
   ]
  },
  {
   "cell_type": "markdown",
   "metadata": {},
   "source": [
    "CRM"
   ]
  },
  {
   "cell_type": "code",
   "execution_count": null,
   "metadata": {},
   "outputs": [],
   "source": [
    "input_file_path = config['project_path'] + '/' \\\n",
    "                        + config['temp_folder_path'] + '/' \\\n",
    "                        + config['CRM cost output']\n",
    "\n",
    "input_df = pd.read_excel(input_file_path, dtype=str)\n",
    "all_data = all_data.append(input_df, ignore_index=True)\n",
    "input_df[['Level 1', 'Level 2', 'Level 3', 'Level 4', 'Level 5']].drop_duplicates()"
   ]
  },
  {
   "cell_type": "markdown",
   "metadata": {},
   "source": [
    "PC: GT, Non GT"
   ]
  },
  {
   "cell_type": "code",
   "execution_count": null,
   "metadata": {},
   "outputs": [],
   "source": [
    "input_file_path = config['project_path'] + '/' \\\n",
    "                        + config['temp_folder_path'] + '/' \\\n",
    "                        + config['pc_output']\n",
    "\n",
    "input_df = pd.read_excel(input_file_path, dtype=str)\n",
    "all_data = all_data.append(input_df, ignore_index=True)\n",
    "input_df[['Level 1', 'Level 2', 'Level 3', 'Level 4', 'Level 5']].drop_duplicates()"
   ]
  },
  {
   "cell_type": "markdown",
   "metadata": {},
   "source": [
    "Channel: KA, GT, RKMBS, EC"
   ]
  },
  {
   "cell_type": "code",
   "execution_count": null,
   "metadata": {},
   "outputs": [],
   "source": [
    "input_file_path = config['project_path'] + '/' \\\n",
    "                        + config['temp_folder_path'] + '/' \\\n",
    "                        + config['channel_output']\n",
    "\n",
    "input_df = pd.read_excel(input_file_path, dtype=str)\n",
    "all_data = all_data.append(input_df, ignore_index=True)\n",
    "input_df[['Level 1', 'Level 2', 'Level 3', 'Level 4', 'Level 5']].drop_duplicates()"
   ]
  },
  {
   "cell_type": "markdown",
   "metadata": {},
   "source": [
    "# Output result"
   ]
  },
  {
   "cell_type": "code",
   "execution_count": null,
   "metadata": {},
   "outputs": [],
   "source": [
    "all_data['Value'] = all_data['Value'].astype('float')"
   ]
  },
  {
   "cell_type": "code",
   "execution_count": null,
   "metadata": {},
   "outputs": [],
   "source": [
    "all_data = all_data.groupby(by = ['Date', 'Brand', 'Province', 'Level 1', 'Level 2', 'Level 5'])['Value'].sum().reset_index()"
   ]
  },
  {
   "cell_type": "code",
   "execution_count": null,
   "metadata": {},
   "outputs": [],
   "source": [
    "all_data.columns = ['Date', 'Brand', 'Province', 'Type 1', 'Type 2', 'Type 3', 'Value']"
   ]
  },
  {
   "cell_type": "code",
   "execution_count": null,
   "metadata": {},
   "outputs": [],
   "source": [
    "total_anp = all_data[all_data['Type 1'] == 'Total A&P']"
   ]
  },
  {
   "cell_type": "code",
   "execution_count": null,
   "metadata": {},
   "outputs": [],
   "source": [
    "total_anp = total_anp.groupby(by = ['Date', 'Brand', 'Province', 'Type 1', 'Type 2'])['Value'].sum().reset_index()"
   ]
  },
  {
   "cell_type": "code",
   "execution_count": null,
   "metadata": {},
   "outputs": [],
   "source": [
    "total_anp['Type 3'] = total_anp['Type 2']\n",
    "total_anp['Type 2'] = total_anp['Type 1']\n",
    "total_anp['Type 1'] = 'Dummy'"
   ]
  },
  {
   "cell_type": "code",
   "execution_count": null,
   "metadata": {},
   "outputs": [],
   "source": [
    "all_data = all_data.append(total_anp, ignore_index = True)"
   ]
  },
  {
   "cell_type": "code",
   "execution_count": null,
   "metadata": {},
   "outputs": [],
   "source": [
    "output_file_path = config['project_path'] + '/' \\\n",
    "                        + config['temp_folder_path'] + '/' \\\n",
    "                        + config['output_file']\n",
    "\n",
    "all_data.to_excel(output_file_path, index=False)"
   ]
  },
  {
   "cell_type": "code",
   "execution_count": null,
   "metadata": {},
   "outputs": [],
   "source": [
    "#data_structure = all_data[['Level 1', 'Level 2', 'Level 3', 'Level 4', 'Level 5']].drop_duplicates()\n",
    "\n",
    "data_structure = all_data[['Type 1', 'Type 2', 'Type 3']].drop_duplicates().sort_values(by=['Type 1', 'Type 2', 'Type 2'],ascending=False)"
   ]
  },
  {
   "cell_type": "code",
   "execution_count": null,
   "metadata": {},
   "outputs": [],
   "source": [
    "data_structure"
   ]
  },
  {
   "cell_type": "code",
   "execution_count": null,
   "metadata": {},
   "outputs": [],
   "source": [
    "output_file_path = config['project_path'] + '/' \\\n",
    "                        + config['temp_folder_path'] + '/' \\\n",
    "                        + '2020 Province ROI data structure.xlsx'\n",
    "\n",
    "data_structure.to_excel(output_file_path, index=False)"
   ]
  },
  {
   "cell_type": "code",
   "execution_count": null,
   "metadata": {},
   "outputs": [],
   "source": []
  }
 ],
 "metadata": {
  "kernelspec": {
   "display_name": "Python 3",
   "language": "python",
   "name": "python3"
  },
  "language_info": {
   "codemirror_mode": {
    "name": "ipython",
    "version": 3
   },
   "file_extension": ".py",
   "mimetype": "text/x-python",
   "name": "python",
   "nbconvert_exporter": "python",
   "pygments_lexer": "ipython3",
   "version": "3.7.6"
  }
 },
 "nbformat": 4,
 "nbformat_minor": 4
}
