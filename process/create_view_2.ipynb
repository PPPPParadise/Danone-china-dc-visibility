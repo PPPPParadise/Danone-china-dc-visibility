{
 "cells": [
  {
   "cell_type": "code",
   "execution_count": null,
   "metadata": {},
   "outputs": [],
   "source": [
    "import pandas as pd\n",
    "import operator\n",
    "import time\n",
    "import numpy as np"
   ]
  },
  {
   "cell_type": "code",
   "execution_count": null,
   "metadata": {},
   "outputs": [],
   "source": [
    "config = {}\n",
    "\n",
    "config[\"project_path\"] = \"..\"\n",
    "config[\"data_folder_path\"] = \"data\"\n",
    "config[\"temp_folder_path\"] = \"temp\"\n",
    "\n",
    "# input files\n",
    "config['nielsen_input'] = 'Nielsen 202001-05.xlsx'\n",
    "config['performance_offtake'] = 'Performance Danone offtake 202001-05.xlsx'\n",
    "config['performance_search_index'] = 'performance search index 202001-04.xlsx'\n",
    "config['BHT input'] = 'BHT result.xlsx'\n",
    "config['spending_trade_support'] = 'spending trade support 202001-04.xlsx'\n",
    "config['spending_CRM'] = 'spending CRM 202001-04.xlsx'\n",
    "config['spending_media'] = 'spending media 2020Q1.xlsx'\n",
    "config['spending_channel'] = 'Spending Channel AnP 202001-04.xlsx'\n",
    "config['spending_PC'] = 'spending PC 202001-04.xlsx'\n",
    "\n",
    "# output files\n",
    "config['view_2_output'] = '2020 Province ROI.xlsx'"
   ]
  },
  {
   "cell_type": "code",
   "execution_count": null,
   "metadata": {},
   "outputs": [],
   "source": [
    "def get_brand_name(SKU):\n",
    "    if (SKU == 'AC') | (SKU == 'AP') | (SKU == 'AN'):\n",
    "        return 'Aptamil'\n",
    "    elif SKU == 'NC':\n",
    "        return 'Nutrilon'\n",
    "    return SKU"
   ]
  },
  {
   "cell_type": "code",
   "execution_count": null,
   "metadata": {},
   "outputs": [],
   "source": [
    "view2_columns = ['Date', 'Brand','Province','Type 1','Type 2','Type 3','Value']\n",
    "view2_df = pd.DataFrame(columns = view2_columns)"
   ]
  },
  {
   "cell_type": "markdown",
   "metadata": {},
   "source": [
    "## Nielsen"
   ]
  },
  {
   "cell_type": "code",
   "execution_count": null,
   "metadata": {},
   "outputs": [],
   "source": [
    "input_file_path = config['project_path'] + '/' \\\n",
    "                        + config['data_folder_path'] + '/' \\\n",
    "                        + config['nielsen_input']\n",
    "\n",
    "input_df = pd.read_excel(input_file_path, dtype=str)\n",
    "input_df['KPI_value'] = input_df['KPI_value'].astype('float')\n",
    "input_df = input_df[input_df['Province']!='National']\n",
    "\n",
    "wtd_df = input_df[(input_df['KPI'] == 'WTD - RI') | (input_df['KPI'] == 'WTD - MBS')].copy()\n",
    "wtd_df['KPI'] = wtd_df['KPI'] + ' (' + wtd_df['Brand'] + ')'\n",
    "share_df = input_df[input_df['KPI'] == 'Nielsen Value Market Share'].copy()\n",
    "share_df['KPI'] = 'Market Share - ' + share_df['Brand']\n",
    "\n",
    "nielsen_df = share_df.append(wtd_df, ignore_index=True)"
   ]
  },
  {
   "cell_type": "code",
   "execution_count": null,
   "metadata": {},
   "outputs": [],
   "source": [
    "nielsen_df['Value'] = nielsen_df['KPI_value'].astype('float')\n",
    "nielsen_df['Type 1'] = nielsen_df['KPI']\n",
    "nielsen_df['Type 2'] = nielsen_df['KPI']\n",
    "nielsen_df['Type 3'] = nielsen_df['KPI']\n",
    "nielsen_df['Brand'] = nielsen_df['Brand'].apply(lambda x : get_brand_name(x))\n",
    "\n",
    "nielsen_df = nielsen_df[view2_columns]"
   ]
  },
  {
   "cell_type": "code",
   "execution_count": null,
   "metadata": {},
   "outputs": [],
   "source": [
    "view2_df = view2_df.append(nielsen_df, ignore_index = True)\n",
    "nielsen_df[['Type 1','Type 2','Type 3']].drop_duplicates()"
   ]
  },
  {
   "cell_type": "markdown",
   "metadata": {},
   "source": [
    "## Danone Offtake"
   ]
  },
  {
   "cell_type": "code",
   "execution_count": null,
   "metadata": {},
   "outputs": [],
   "source": [
    "input_file_path = config['project_path'] + '/' \\\n",
    "                        + config['temp_folder_path'] + '/' \\\n",
    "                        + config['performance_offtake']\n",
    "\n",
    "input_df = pd.read_excel(input_file_path, dtype=str)\n",
    "input_df['KPI_value'] = input_df['KPI_value'].astype('float')"
   ]
  },
  {
   "cell_type": "code",
   "execution_count": null,
   "metadata": {},
   "outputs": [],
   "source": [
    "offtake_df = input_df[input_df['Province']!='National'].copy()\n",
    "offtake_df['Brand'] = offtake_df['Brand'].apply(lambda x : get_brand_name(x))\n",
    "\n",
    "offtake_df = offtake_df.groupby(by = ['Date', 'Province', 'Brand','KPI'])['KPI_value'].sum().reset_index()"
   ]
  },
  {
   "cell_type": "code",
   "execution_count": null,
   "metadata": {},
   "outputs": [],
   "source": [
    "offtake_df['Value'] = offtake_df['KPI_value'].astype('float')\n",
    "offtake_df['Type 1'] = offtake_df['KPI']\n",
    "offtake_df['Type 2'] = offtake_df['KPI']\n",
    "offtake_df['Type 3'] = offtake_df['KPI']\n",
    "\n",
    "offtake_df = offtake_df[view2_columns]"
   ]
  },
  {
   "cell_type": "code",
   "execution_count": null,
   "metadata": {},
   "outputs": [],
   "source": [
    "view2_df = view2_df.append(offtake_df, ignore_index = True)\n",
    "offtake_df[['Type 1','Type 2','Type 3']].drop_duplicates()"
   ]
  },
  {
   "cell_type": "markdown",
   "metadata": {},
   "source": [
    "## BHT"
   ]
  },
  {
   "cell_type": "code",
   "execution_count": null,
   "metadata": {},
   "outputs": [],
   "source": [
    "input_file_path = config['project_path'] + '/' \\\n",
    "                        + config['data_folder_path'] + '/' \\\n",
    "                        + config['BHT input'] \n",
    "input_df = pd.read_excel(input_file_path, dtype=str)\n",
    "input_df['KPI_value'] = input_df['KPI_value'].astype('float')\n",
    "\n",
    "bht_df = input_df[input_df['Province']!='National'].copy()\n",
    "bht_df['Brand'] = bht_df['Brand'].apply(lambda x : get_brand_name(x))"
   ]
  },
  {
   "cell_type": "code",
   "execution_count": null,
   "metadata": {},
   "outputs": [],
   "source": [
    "bht_df['Value'] = bht_df['KPI_value'].astype('float')\n",
    "bht_df['Type 1'] = bht_df['KPI']\n",
    "bht_df['Type 2'] = bht_df['KPI']\n",
    "bht_df['Type 3'] = bht_df['KPI']\n",
    "\n",
    "bht_df = bht_df[view2_columns]"
   ]
  },
  {
   "cell_type": "code",
   "execution_count": null,
   "metadata": {},
   "outputs": [],
   "source": [
    "view2_df = view2_df.append(bht_df, ignore_index = True)\n",
    "bht_df[['Type 1','Type 2','Type 3']].drop_duplicates()"
   ]
  },
  {
   "cell_type": "markdown",
   "metadata": {},
   "source": [
    "## Trade Support"
   ]
  },
  {
   "cell_type": "code",
   "execution_count": null,
   "metadata": {},
   "outputs": [],
   "source": [
    "input_file_path = config['project_path'] + '/' \\\n",
    "                        + config['temp_folder_path'] + '/' \\\n",
    "                        + config['spending_trade_support']\n",
    "input_df = pd.read_excel(input_file_path, dtype=str)\n",
    "input_df['Value'] = input_df['Spending_value'].astype('float')"
   ]
  },
  {
   "cell_type": "code",
   "execution_count": null,
   "metadata": {},
   "outputs": [],
   "source": [
    "ts_df = input_df[input_df['Province']!='National'].copy()\n",
    "ts_df['Brand'] = ts_df['Brand'].apply(lambda x : get_brand_name(x))\n",
    "\n",
    "ts_df = ts_df.groupby(by = ['Date', 'Province', 'Cost_type_1', 'AIP', 'Brand'])['Value'].sum().reset_index()"
   ]
  },
  {
   "cell_type": "code",
   "execution_count": null,
   "metadata": {},
   "outputs": [],
   "source": [
    "ts_df['Type 1'] = ts_df['Cost_type_1']\n",
    "ts_df['Type 2'] = ''\n",
    "ts_df['Type 3'] = ''\n",
    "\n",
    "ts_df = ts_df[view2_columns]"
   ]
  },
  {
   "cell_type": "code",
   "execution_count": null,
   "metadata": {},
   "outputs": [],
   "source": [
    "view2_df = view2_df.append(ts_df, ignore_index = True)\n",
    "ts_df[['Type 1','Type 2','Type 3']].drop_duplicates()"
   ]
  },
  {
   "cell_type": "markdown",
   "metadata": {},
   "source": [
    "## PC"
   ]
  },
  {
   "cell_type": "code",
   "execution_count": null,
   "metadata": {},
   "outputs": [],
   "source": [
    "input_file_path = config['project_path'] + '/' \\\n",
    "                        + config['temp_folder_path'] + '/' \\\n",
    "                        + config['spending_PC']\n",
    "input_df = pd.read_excel(input_file_path, dtype=str)\n",
    "input_df['Value'] = input_df['Spending_value'].astype('float')"
   ]
  },
  {
   "cell_type": "code",
   "execution_count": null,
   "metadata": {},
   "outputs": [],
   "source": [
    "pc_df = input_df[input_df['Province']!='National'].copy()\n",
    "pc_df['Brand'] = pc_df['Brand'].apply(lambda x : get_brand_name(x))\n",
    "\n",
    "pc_df = pc_df.groupby(by = ['Date', 'Province', 'Cost_type_1', 'Cost_type_2', 'AIP', 'Brand'])['Value'].sum().reset_index()"
   ]
  },
  {
   "cell_type": "code",
   "execution_count": null,
   "metadata": {},
   "outputs": [],
   "source": [
    "pc_df['Type 1'] = 'Total A&P'\n",
    "pc_df['Type 2'] = 'Total PC'\n",
    "pc_df['Type 3'] = pc_df['Cost_type_2']\n",
    "\n",
    "pc_df = pc_df[view2_columns]"
   ]
  },
  {
   "cell_type": "code",
   "execution_count": null,
   "metadata": {},
   "outputs": [],
   "source": [
    "view2_df = view2_df.append(pc_df, ignore_index = True)\n",
    "pc_df[['Type 1','Type 2','Type 3']].drop_duplicates()"
   ]
  },
  {
   "cell_type": "markdown",
   "metadata": {},
   "source": [
    "## CRM"
   ]
  },
  {
   "cell_type": "code",
   "execution_count": null,
   "metadata": {},
   "outputs": [],
   "source": [
    "input_file_path = config['project_path'] + '/' \\\n",
    "                        + config['temp_folder_path'] + '/' \\\n",
    "                        + config['spending_CRM']\n",
    "\n",
    "input_df = pd.read_excel(input_file_path, dtype=str)\n",
    "input_df['Value'] = input_df['Spending_value'].astype('float')"
   ]
  },
  {
   "cell_type": "code",
   "execution_count": null,
   "metadata": {},
   "outputs": [],
   "source": [
    "spen_crm_df = input_df[input_df['Province'] != 'National'].copy()\n",
    "spen_crm_df['Brand'] = spen_crm_df['Brand'].apply(lambda x : get_brand_name(x))"
   ]
  },
  {
   "cell_type": "code",
   "execution_count": null,
   "metadata": {},
   "outputs": [],
   "source": [
    "spen_crm_df['Type 1'] = 'Total A&P'\n",
    "spen_crm_df['Type 2'] = 'Total CRM'\n",
    "spen_crm_df['Type 3'] = spen_crm_df['Cost_type_2']\n",
    "\n",
    "spen_crm_df = spen_crm_df[view2_columns]"
   ]
  },
  {
   "cell_type": "code",
   "execution_count": null,
   "metadata": {},
   "outputs": [],
   "source": [
    "view2_df = view2_df.append(spen_crm_df, ignore_index = True)\n",
    "spen_crm_df[['Type 1','Type 2','Type 3']].drop_duplicates()"
   ]
  },
  {
   "cell_type": "markdown",
   "metadata": {},
   "source": [
    "## Media"
   ]
  },
  {
   "cell_type": "code",
   "execution_count": null,
   "metadata": {},
   "outputs": [],
   "source": [
    "input_file_path = config['project_path'] + '/' \\\n",
    "                        + config['temp_folder_path'] + '/' \\\n",
    "                        + config['spending_media']\n",
    "\n",
    "input_df = pd.read_excel(input_file_path, dtype=str)\n",
    "input_df['Value'] = input_df['Spending_value'].astype('float')\n",
    "\n",
    "spen_media_df = input_df[input_df['Province'] != 'National'].copy()\n",
    "spen_media_df['Brand'] = spen_media_df['Brand'].apply(lambda x : get_brand_name(x))\n",
    "spen_media_df['Cost_type_2'] = spen_media_df['AIP'] + ' - ' + spen_media_df['Cost_type_2']"
   ]
  },
  {
   "cell_type": "code",
   "execution_count": null,
   "metadata": {},
   "outputs": [],
   "source": [
    "spen_media_df = spen_media_df.groupby(by = ['Date', 'Province', 'Cost_type_1', 'Cost_type_2', 'Brand'])['Value'].sum().reset_index()"
   ]
  },
  {
   "cell_type": "code",
   "execution_count": null,
   "metadata": {},
   "outputs": [],
   "source": [
    "spen_media_df['Type 1'] = 'Total A&P'\n",
    "spen_media_df['Type 2'] = 'Total Media'\n",
    "spen_media_df['Type 3'] = spen_media_df['Cost_type_2']\n",
    "\n",
    "spen_media_df = spen_media_df[view2_columns]"
   ]
  },
  {
   "cell_type": "code",
   "execution_count": null,
   "metadata": {},
   "outputs": [],
   "source": [
    "view2_df = view2_df.append(spen_media_df, ignore_index = True)\n",
    "spen_media_df[['Type 1','Type 2','Type 3']].drop_duplicates()"
   ]
  },
  {
   "cell_type": "markdown",
   "metadata": {},
   "source": [
    "## Channel"
   ]
  },
  {
   "cell_type": "code",
   "execution_count": null,
   "metadata": {},
   "outputs": [],
   "source": [
    "input_file_path = config['project_path'] + '/' \\\n",
    "                        + config['temp_folder_path'] + '/' \\\n",
    "                        + config['spending_channel']\n",
    "\n",
    "input_df = pd.read_excel(input_file_path, dtype=str)\n",
    "\n",
    "channel_df = input_df[input_df['Province'] != 'National'].copy()\n",
    "channel_df['Value'] = channel_df['Spending_value'].astype('float')\n",
    "channel_df['Brand'] = channel_df['Brand'].apply(lambda x : get_brand_name(x))"
   ]
  },
  {
   "cell_type": "code",
   "execution_count": null,
   "metadata": {},
   "outputs": [],
   "source": [
    "channel_df = channel_df.groupby(by = ['Date', 'Province', 'Cost_type_1', 'Cost_type_2', 'Brand'])['Value'].sum().reset_index()"
   ]
  },
  {
   "cell_type": "code",
   "execution_count": null,
   "metadata": {},
   "outputs": [],
   "source": [
    "channel_df['Type 1'] = 'Total A&P'\n",
    "channel_df['Type 2'] = 'Total Channel'\n",
    "channel_df['Type 3'] = channel_df['Cost_type_2']\n",
    "\n",
    "channel_df = channel_df[view2_columns]"
   ]
  },
  {
   "cell_type": "code",
   "execution_count": null,
   "metadata": {},
   "outputs": [],
   "source": [
    "view2_df = view2_df.append(channel_df, ignore_index = True)\n",
    "channel_df[['Type 1','Type 2','Type 3']].drop_duplicates()"
   ]
  },
  {
   "cell_type": "markdown",
   "metadata": {},
   "source": [
    "## Create view 2 output"
   ]
  },
  {
   "cell_type": "code",
   "execution_count": null,
   "metadata": {},
   "outputs": [],
   "source": [
    "view2_df = view2_df.fillna('')\n",
    "\n",
    "an_df = view2_df[view2_df['Brand'] == 'Aptamil'][['Province', 'Type 1', 'Type 2', 'Type 3']].drop_duplicates()\n",
    "nc_df = view2_df[view2_df['Brand'] == 'Nutrilon'][['Province', 'Type 1', 'Type 2', 'Type 3']].drop_duplicates()\n",
    "an_df['Brand'] = 'Aptamil'\n",
    "nc_df['Brand'] = 'Nutrilon'\n",
    "all_df = an_df.append(nc_df, ignore_index=True)"
   ]
  },
  {
   "cell_type": "code",
   "execution_count": null,
   "metadata": {},
   "outputs": [],
   "source": [
    "all_dates_map = pd.DataFrame(columns=['Date', 'Brand', 'Province', 'Type 1', 'Type 2', 'Type 3'])\n",
    "for i in range(1,13):\n",
    "    year_month = \"2020\" + str(i).zfill(2)\n",
    "    all_df['Date'] = year_month\n",
    "    all_dates_map = all_dates_map.append(all_df, ignore_index=True)"
   ]
  },
  {
   "cell_type": "code",
   "execution_count": null,
   "metadata": {},
   "outputs": [],
   "source": [
    "output_df = pd.merge(all_dates_map, view2_df, on=['Date', 'Brand', 'Province', 'Type 1', 'Type 2', 'Type 3'], how='left')\n",
    "\n",
    "output_df = output_df.fillna({'Value': 0})"
   ]
  },
  {
   "cell_type": "code",
   "execution_count": null,
   "metadata": {},
   "outputs": [],
   "source": [
    "def format_yearmonth(year_month):\n",
    "    return time.strftime('%Y/%m/%d', time.strptime(year_month,'%Y%m'))\n",
    "\n",
    "output_df['Date'] = output_df['Date'].apply(lambda x : format_yearmonth(x))\n",
    "\n",
    "output_df = output_df[['Date', 'Brand', 'Province', 'Type 1', 'Type 2', 'Type 3', 'Value']]"
   ]
  },
  {
   "cell_type": "code",
   "execution_count": null,
   "metadata": {},
   "outputs": [],
   "source": [
    "output_file_path = config['project_path'] + '/' \\\n",
    "                        + config['temp_folder_path'] + '/' \\\n",
    "                        + config['view_2_output'] \n",
    "\n",
    "output_df.to_excel(output_file_path, index=False)"
   ]
  }
 ],
 "metadata": {
  "kernelspec": {
   "display_name": "Python 3",
   "language": "python",
   "name": "python3"
  },
  "language_info": {
   "codemirror_mode": {
    "name": "ipython",
    "version": 3
   },
   "file_extension": ".py",
   "mimetype": "text/x-python",
   "name": "python",
   "nbconvert_exporter": "python",
   "pygments_lexer": "ipython3",
   "version": "3.7.6"
  }
 },
 "nbformat": 4,
 "nbformat_minor": 4
}
