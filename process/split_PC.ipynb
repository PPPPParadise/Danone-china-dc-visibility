{
 "cells": [
  {
   "cell_type": "code",
   "execution_count": null,
   "metadata": {},
   "outputs": [],
   "source": [
    "import pandas as pd\n",
    "import operator\n",
    "import time\n",
    "import numpy as np"
   ]
  },
  {
   "cell_type": "code",
   "execution_count": null,
   "metadata": {},
   "outputs": [],
   "source": [
    "config = {}\n",
    "\n",
    "config[\"project_path\"] = \"..\"\n",
    "config[\"data_folder_path\"] = \"data\"\n",
    "config[\"temp_folder_path\"] = \"temp\""
   ]
  },
  {
   "cell_type": "code",
   "execution_count": null,
   "metadata": {},
   "outputs": [],
   "source": [
    "input_file_path = config[\"project_path\"] + \"/\" \\\n",
    "                        + config[\"data_folder_path\"] + \"/\" \\\n",
    "                        + \"PC-Cost-202001-202004.xlsx\"\n",
    "\n",
    "pc_df = pd.read_excel(input_file_path, dtype=str)"
   ]
  },
  {
   "cell_type": "code",
   "execution_count": null,
   "metadata": {},
   "outputs": [],
   "source": [
    "pc_df.columns = ['YearMonth', 'Province_Name', 'PC_Type', 'Cost']\n",
    "pc_df[\"Cost\"] = pc_df[\"Cost\"].astype(\"float\")"
   ]
  },
  {
   "cell_type": "code",
   "execution_count": null,
   "metadata": {},
   "outputs": [],
   "source": [
    "pc_df = pc_df.groupby(by = ['YearMonth', 'Province_Name'])['Cost'].sum().reset_index()"
   ]
  },
  {
   "cell_type": "code",
   "execution_count": null,
   "metadata": {},
   "outputs": [],
   "source": [
    "input_file_path = config[\"project_path\"] + \"/\" \\\n",
    "                        + config[\"data_folder_path\"] + \"/\" \\\n",
    "                        + \"Province_Mapping.xlsx\"\n",
    "\n",
    "province_df = pd.read_excel(input_file_path, dtype=str)\n",
    "\n",
    "pc_df = pd.merge(pc_df, province_df, on='Province_Name', how='left' )"
   ]
  },
  {
   "cell_type": "code",
   "execution_count": null,
   "metadata": {},
   "outputs": [],
   "source": [
    "pc_df[pc_df['Province_Code'].isnull()]"
   ]
  },
  {
   "cell_type": "code",
   "execution_count": null,
   "metadata": {},
   "outputs": [],
   "source": [
    "input_file_path = config[\"project_path\"] + \"/\" \\\n",
    "                        + config[\"temp_folder_path\"] + \"/\" \\\n",
    "                        + \"202001-05_province_brand_split.xlsx\"\n",
    "\n",
    "prov_brand_split = pd.read_excel(input_file_path, dtype=str)\n",
    "\n",
    "prov_brand_split['Split_Ratio'] = prov_brand_split['Split_Ratio'].astype(\"float\")"
   ]
  },
  {
   "cell_type": "code",
   "execution_count": null,
   "metadata": {},
   "outputs": [],
   "source": [
    "pc_brand_df = pd.merge(pc_df, prov_brand_split, on=['YearMonth', 'Province_Code'], how='left' )"
   ]
  },
  {
   "cell_type": "code",
   "execution_count": null,
   "metadata": {},
   "outputs": [],
   "source": [
    "pc_brand_df['Spending_Value'] = pc_brand_df['Cost'] * pc_brand_df['Split_Ratio']"
   ]
  },
  {
   "cell_type": "code",
   "execution_count": null,
   "metadata": {},
   "outputs": [],
   "source": [
    "pc_brand_df = pc_brand_df[['YearMonth', 'Province_Code', 'SKU', 'Spending_Value']]"
   ]
  },
  {
   "cell_type": "code",
   "execution_count": null,
   "metadata": {},
   "outputs": [],
   "source": [
    "pc_all_df = pc_brand_df.groupby(by = ['YearMonth', 'SKU'])['Spending_Value'].sum().reset_index()\n",
    "pc_all_df['Province_Code'] = 'National'"
   ]
  },
  {
   "cell_type": "code",
   "execution_count": null,
   "metadata": {},
   "outputs": [],
   "source": [
    "pc_all_df = pc_brand_df.append(pc_all_df, ignore_index=True)"
   ]
  },
  {
   "cell_type": "code",
   "execution_count": null,
   "metadata": {},
   "outputs": [],
   "source": [
    "pc_all_df[pc_all_df['Province_Code'] == np.NAN]"
   ]
  },
  {
   "cell_type": "code",
   "execution_count": null,
   "metadata": {},
   "outputs": [],
   "source": [
    "def format_yearmonth(year_month):\n",
    "    return time.strftime(\"%Y/%m/%d\", time.strptime(year_month,\"%Y%m\"))\n",
    "\n",
    "def get_brand_name(brand):\n",
    "    if brand == 'NC':\n",
    "        return 'Nutrilon'\n",
    "    elif (brand=='AC') | (brand == 'AP'):\n",
    "        return \"Aptamil\"\n",
    "    return ''"
   ]
  },
  {
   "cell_type": "code",
   "execution_count": null,
   "metadata": {},
   "outputs": [],
   "source": [
    "pc_all_df[\"Date\"] = pc_all_df['YearMonth'].apply(lambda x : format_yearmonth(x))"
   ]
  },
  {
   "cell_type": "code",
   "execution_count": null,
   "metadata": {},
   "outputs": [],
   "source": [
    "pc_all_df[\"Brand_Name\"] = pc_all_df['SKU'].apply(\n",
    "        lambda x: get_brand_name(x))\n",
    "\n",
    "pc_all_df['Cost_Type_1'] = 'PC'\n",
    "pc_all_df['Cost_Type_2'] = ''\n",
    "pc_all_df['Cost_Type_3'] = ''\n",
    "pc_all_df['Cost_Type_4'] = ''\n",
    "pc_all_df['AIP'] = 'P'"
   ]
  },
  {
   "cell_type": "code",
   "execution_count": null,
   "metadata": {},
   "outputs": [],
   "source": [
    "pc_all_df = pc_all_df[['Date', 'Province_Code', 'Cost_Type_1', 'Cost_Type_2', 'Cost_Type_3', 'Cost_Type_4', 'AIP', 'Brand_Name', 'SKU', 'Spending_Value']]"
   ]
  },
  {
   "cell_type": "code",
   "execution_count": null,
   "metadata": {},
   "outputs": [],
   "source": [
    "output_file_path = config[\"project_path\"] + \"/\" \\\n",
    "                        + config[\"temp_folder_path\"] + \"/\" \\\n",
    "                        + \"202001-04_PC_Cost.xlsx\"\n",
    "\n",
    "pc_all_df.to_excel(output_file_path, index=False)"
   ]
  },
  {
   "cell_type": "code",
   "execution_count": null,
   "metadata": {},
   "outputs": [],
   "source": []
  }
 ],
 "metadata": {
  "kernelspec": {
   "display_name": "Python 3",
   "language": "python",
   "name": "python3"
  },
  "language_info": {
   "codemirror_mode": {
    "name": "ipython",
    "version": 3
   },
   "file_extension": ".py",
   "mimetype": "text/x-python",
   "name": "python",
   "nbconvert_exporter": "python",
   "pygments_lexer": "ipython3",
   "version": "3.7.6"
  }
 },
 "nbformat": 4,
 "nbformat_minor": 4
}
