{
 "cells": [
  {
   "cell_type": "code",
   "execution_count": null,
   "metadata": {},
   "outputs": [],
   "source": [
    "import pandas as pd\n",
    "import operator\n",
    "import time\n",
    "import numpy as np"
   ]
  },
  {
   "cell_type": "code",
   "execution_count": null,
   "metadata": {},
   "outputs": [],
   "source": [
    "config = {}\n",
    "\n",
    "config[\"project_path\"] = \"..\"\n",
    "config[\"data_folder_path\"] = \"data\"\n",
    "config[\"temp_folder_path\"] = \"temp\"\n",
    "\n",
    "# input files\n",
    "config['2018_2019_input'] = '2018_2019_data.xlsx'\n",
    "config['nielsen_input'] = 'Nielsen 202001-05.xlsx'\n",
    "config['performance_offtake'] = 'Performance Danone offtake 202001-05.xlsx'\n",
    "config['spending_trade_support'] = 'spending trade support 202001-04.xlsx'\n",
    "config['spending_CRM'] = 'spending CRM 202001-04.xlsx'\n",
    "config['spending_media'] = 'spending media 2020Q1.xlsx'\n",
    "config['spending_channel'] = 'Spending Channel AnP 202001-04.xlsx'\n",
    "config['spending_PC'] = 'spending PC 202001-04.xlsx'\n",
    "\n",
    "# output files\n",
    "config['view_1_output_merg'] = 'Merge Nat Per&Inv.xlsx'\n",
    "config['view_1_output_nav'] = 'National Unpivot 2.xlsx'"
   ]
  },
  {
   "cell_type": "code",
   "execution_count": null,
   "metadata": {},
   "outputs": [],
   "source": [
    "def get_brand_name(SKU):\n",
    "    if (SKU == 'AC') | (SKU == 'AP') | (SKU == 'AN'):\n",
    "        return 'Aptamil'\n",
    "    elif SKU == 'NC':\n",
    "        return 'Nutrilon'\n",
    "    return SKU"
   ]
  },
  {
   "cell_type": "code",
   "execution_count": null,
   "metadata": {},
   "outputs": [],
   "source": [
    "offtake_df = pd.DataFrame(columns = ['Date', 'Brand', 'Province', 'Danone Offtake'])\n",
    "ms_nutri = pd.DataFrame(columns = ['Date', 'Brand', 'Province', 'Market Share - Nutricia'])\n",
    "ms_ap = pd.DataFrame(columns = ['Date', 'Brand', 'Province', 'Market Share - AP'])\n",
    "ms_ac = pd.DataFrame(columns = ['Date', 'Brand', 'Province', 'Market Share - AC'])\n",
    "ms_nc = pd.DataFrame(columns = ['Date', 'Brand', 'Province', 'Market Share - NC'])\n",
    "wd_nutri = pd.DataFrame(columns = ['Date', 'Brand', 'Province', 'WTD - Nutricia'])\n",
    "wd_ap = pd.DataFrame(columns = ['Date', 'Brand', 'Province', 'WTD - AP'])\n",
    "wd_ac = pd.DataFrame(columns = ['Date', 'Brand', 'Province', 'WTD - AC'])\n",
    "wd_nc = pd.DataFrame(columns = ['Date', 'Brand', 'Province', 'WTD - NC'])\n",
    "ts = pd.DataFrame(columns = ['Date', 'Brand', 'Province', 'Trade Support'])\n",
    "anp = pd.DataFrame(columns = ['Date', 'Brand', 'Province', 'Total A&P'])\n",
    "chan = pd.DataFrame(columns = ['Date', 'Brand', 'Province', 'Total Channel'])\n",
    "crm = pd.DataFrame(columns = ['Date', 'Brand', 'Province', 'Total CRM'])\n",
    "media = pd.DataFrame(columns = ['Date', 'Brand', 'Province', 'Total Media'])\n",
    "pc = pd.DataFrame(columns = ['Date', 'Brand', 'Province', 'Total PC'])\n",
    "\n",
    "nav_columns = ['Date', 'Brand', 'Province', 'Attribute', 'Value']\n",
    "view_1_output_nav = pd.DataFrame(columns = nav_columns)"
   ]
  },
  {
   "cell_type": "markdown",
   "metadata": {},
   "source": [
    "## 2018 2019"
   ]
  },
  {
   "cell_type": "code",
   "execution_count": null,
   "metadata": {},
   "outputs": [],
   "source": [
    "input_file_path = config['project_path'] + '/' \\\n",
    "                        + config['data_folder_path'] + '/' \\\n",
    "                        + config['2018_2019_input']\n",
    "\n",
    "input_df = pd.read_excel(input_file_path, dtype=str)\n",
    "input_df['Value'] = input_df['Value'].astype('float')\n",
    "past_years_df = input_df"
   ]
  },
  {
   "cell_type": "code",
   "execution_count": null,
   "metadata": {},
   "outputs": [],
   "source": [
    "def get_2018_2019(target_df, input_df, attribute_name):\n",
    "    temp_df = input_df[input_df['Attribute'] == attribute_name].copy()\n",
    "    temp_df = temp_df[['Date', 'Brand', 'Province', 'Value']]\n",
    "    temp_df.columns = ['Date', 'Brand', 'Province', attribute_name]\n",
    "    target_df = target_df.append(temp_df, ignore_index=True)\n",
    "    return target_df"
   ]
  },
  {
   "cell_type": "code",
   "execution_count": null,
   "metadata": {},
   "outputs": [],
   "source": [
    "all_columns = past_years_df['Attribute'].drop_duplicates().transpose().values.tolist()"
   ]
  },
  {
   "cell_type": "code",
   "execution_count": null,
   "metadata": {},
   "outputs": [],
   "source": [
    "offtake_df = get_2018_2019(offtake_df, past_years_df, 'Danone Offtake')\n",
    "ms_nutri = get_2018_2019(ms_nutri, past_years_df, 'Market Share - Nutricia')\n",
    "ms_ap = get_2018_2019(ms_ap, past_years_df, 'Market Share - AP')\n",
    "ms_ac = get_2018_2019(ms_ac, past_years_df, 'Market Share - AC')\n",
    "ms_nc = get_2018_2019(ms_nc, past_years_df, 'Market Share - NC')\n",
    "wd_nutri  =get_2018_2019(wd_nutri, past_years_df, 'WTD - Nutricia')\n",
    "wd_ap = get_2018_2019(wd_ap, past_years_df, 'WTD - AP')\n",
    "wd_ac = get_2018_2019(wd_ac, past_years_df, 'WTD - AC')\n",
    "wd_nc = get_2018_2019(wd_nc, past_years_df, 'WTD - NC')\n",
    "ts = get_2018_2019(ts, past_years_df, 'Trade Support')\n",
    "anp = get_2018_2019(anp, past_years_df, 'Total A&P')\n",
    "chan = get_2018_2019(chan, past_years_df, 'Total Channel')\n",
    "crm = get_2018_2019(crm, past_years_df, 'Total CRM')\n",
    "media = get_2018_2019(media, past_years_df, 'Total Media')\n",
    "pc = get_2018_2019(pc, past_years_df, 'Total PC')"
   ]
  },
  {
   "cell_type": "code",
   "execution_count": null,
   "metadata": {},
   "outputs": [],
   "source": [
    "view_1_output_nav = view_1_output_nav.append(past_years_df)"
   ]
  },
  {
   "cell_type": "code",
   "execution_count": null,
   "metadata": {},
   "outputs": [],
   "source": [
    "def form_kpi_input(input_df):\n",
    "    input_df = input_df[['Date', 'Brand', 'Province', 'KPI', 'KPI_value']]\n",
    "    input_df.columns = ['Date', 'Brand', 'Province', 'Attribute', 'Value']\n",
    "    return input_df"
   ]
  },
  {
   "cell_type": "code",
   "execution_count": null,
   "metadata": {},
   "outputs": [],
   "source": [
    "def add_ly_column(input_df):\n",
    "    ly_df =  input_df.copy()\n",
    "    ly_df['Date'] = ly_df['Date'].astype(int)\n",
    "    ly_df['Date'] = ly_df['Date'] + 100\n",
    "    ly_df['Date'] = ly_df['Date'].astype(str)\n",
    "    new_column_name = ly_df.columns[3] + ' LY'\n",
    "    ly_df.columns = ['Date', 'Brand', 'Province', new_column_name]\n",
    "    input_df = pd.merge(input_df, ly_df, on=['Date', 'Brand', 'Province'], how='left').fillna(0)\n",
    "    \n",
    "    return input_df"
   ]
  },
  {
   "cell_type": "markdown",
   "metadata": {},
   "source": [
    "## Nielsen"
   ]
  },
  {
   "cell_type": "code",
   "execution_count": null,
   "metadata": {},
   "outputs": [],
   "source": [
    "input_file_path = config['project_path'] + '/' \\\n",
    "                        + config['data_folder_path'] + '/' \\\n",
    "                        + config['nielsen_input']\n",
    "\n",
    "input_df = pd.read_excel(input_file_path, dtype=str)\n",
    "input_df['KPI_value'] = input_df['KPI_value'].astype('float')"
   ]
  },
  {
   "cell_type": "code",
   "execution_count": null,
   "metadata": {},
   "outputs": [],
   "source": [
    "nutricia_df = input_df.loc[input_df['Brand'] == 'ELN']\n",
    "\n",
    "temp_df = nutricia_df.loc[nutricia_df['KPI'] == 'Nielsen Value Market Share'][['Date', 'Brand', 'Province', 'KPI_value']]\n",
    "temp_df.columns = ['Date', 'Brand', 'Province', 'Market Share - Nutricia']\n",
    "temp_df['Brand'] = 'Aptamil'\n",
    "ms_nutri = ms_nutri.append(temp_df)\n",
    "\n",
    "temp_df = nutricia_df.loc[nutricia_df['KPI'] == 'WTD'][['Date', 'Brand', 'Province', 'KPI_value']]\n",
    "temp_df.columns = ['Date', 'Brand', 'Province', 'WTD - Nutricia']\n",
    "temp_df['Brand'] = 'Aptamil'\n",
    "wd_nutri = wd_nutri.append(temp_df)\n",
    "\n",
    "temp_df = nutricia_df.loc[nutricia_df['KPI'] == 'Nielsen Value Market Share']\n",
    "temp_df = form_kpi_input(temp_df)\n",
    "temp_df['Brand'] = 'Aptamil'\n",
    "temp_df['Attribute'] = 'Market Share - Nutricia'\n",
    "view_1_output_nav = view_1_output_nav.append(temp_df)\n",
    "\n",
    "temp_df = nutricia_df.loc[nutricia_df['KPI'] == 'WTD']\n",
    "temp_df = form_kpi_input(temp_df)\n",
    "temp_df['Brand'] = 'Aptamil'\n",
    "temp_df['Attribute'] = 'WTD - Nutrici'\n",
    "view_1_output_nav = view_1_output_nav.append(temp_df)"
   ]
  },
  {
   "cell_type": "code",
   "execution_count": null,
   "metadata": {},
   "outputs": [],
   "source": [
    "ms_temp_df = input_df.loc[(input_df['Brand'] != 'ELN') & (input_df['KPI'] == 'Nielsen Value Market Share')]"
   ]
  },
  {
   "cell_type": "code",
   "execution_count": null,
   "metadata": {},
   "outputs": [],
   "source": [
    "def form_market_share_name(brand):\n",
    "    if brand == 'AP':\n",
    "        return 'Market Share - AP'\n",
    "    elif brand == 'AC':\n",
    "        return 'Market Share - AC'\n",
    "    elif brand == 'NC':\n",
    "        return 'Market Share - NC'\n",
    "    return 'Market Share'"
   ]
  },
  {
   "cell_type": "code",
   "execution_count": null,
   "metadata": {},
   "outputs": [],
   "source": [
    "ms_temp_df = form_kpi_input(ms_temp_df)\n",
    "ms_temp_df['Attribute'] = ms_temp_df['Brand'].apply(lambda x : form_market_share_name(x))\n",
    "ms_temp_df['Brand'] = ms_temp_df['Brand'].apply(lambda x : get_brand_name(x))\n",
    "view_1_output_nav = view_1_output_nav.append(ms_temp_df)"
   ]
  },
  {
   "cell_type": "code",
   "execution_count": null,
   "metadata": {},
   "outputs": [],
   "source": [
    "temp_df = ms_temp_df.loc[ms_temp_df['Attribute'] == 'Market Share - AP'][['Date', 'Brand', 'Province', 'Value']]\n",
    "temp_df.columns = ['Date', 'Brand', 'Province', 'Market Share - AP']\n",
    "ms_ap = ms_ap.append(temp_df)\n",
    "\n",
    "temp_df = ms_temp_df.loc[ms_temp_df['Attribute'] == 'Market Share - AC'][['Date', 'Brand', 'Province', 'Value']]\n",
    "temp_df.columns = ['Date', 'Brand', 'Province', 'Market Share - AC']\n",
    "ms_ac = ms_ac.append(temp_df)\n",
    "\n",
    "temp_df = ms_temp_df.loc[ms_temp_df['Attribute'] == 'Market Share - NC'][['Date', 'Brand', 'Province', 'Value']]\n",
    "temp_df.columns = ['Date', 'Brand', 'Province', 'Market Share - NC']\n",
    "ms_nc = ms_nc.append(temp_df)"
   ]
  },
  {
   "cell_type": "code",
   "execution_count": null,
   "metadata": {},
   "outputs": [],
   "source": [
    "wtd_temp_df = input_df.loc[(input_df['Brand'] != 'ELN') & (input_df['KPI'] == 'WTD')]\n",
    "wtd_temp_df = form_kpi_input(wtd_temp_df)\n",
    "wtd_temp_df['Attribute'] = wtd_temp_df['Attribute'] + ' - ' + wtd_temp_df['Brand']\n",
    "wtd_temp_df['Brand'] = wtd_temp_df['Brand'].apply(lambda x : get_brand_name(x))\n",
    "view_1_output_nav = view_1_output_nav.append(wtd_temp_df)"
   ]
  },
  {
   "cell_type": "code",
   "execution_count": null,
   "metadata": {},
   "outputs": [],
   "source": [
    "temp_df = wtd_temp_df.loc[wtd_temp_df['Attribute'] == 'WTD - AP'][['Date', 'Brand', 'Province', 'Value']]\n",
    "temp_df.columns = ['Date', 'Brand', 'Province', 'WTD - AP']\n",
    "wd_ap = wd_ap.append(temp_df)\n",
    "\n",
    "temp_df = wtd_temp_df.loc[wtd_temp_df['Attribute'] == 'WTD - AC'][['Date', 'Brand', 'Province', 'Value']]\n",
    "temp_df.columns = ['Date', 'Brand', 'Province', 'WTD - AC']\n",
    "wd_ac = wd_ac.append(temp_df)\n",
    "\n",
    "temp_df = wtd_temp_df.loc[wtd_temp_df['Attribute'] == 'WTD - NC'][['Date', 'Brand', 'Province', 'Value']]\n",
    "temp_df.columns = ['Date', 'Brand', 'Province', 'WTD - NC']\n",
    "wd_nc = wd_nc.append(temp_df)"
   ]
  },
  {
   "cell_type": "markdown",
   "metadata": {},
   "source": [
    "## Danone Offtake"
   ]
  },
  {
   "cell_type": "code",
   "execution_count": null,
   "metadata": {},
   "outputs": [],
   "source": [
    "input_file_path = config['project_path'] + '/' \\\n",
    "                        + config['temp_folder_path'] + '/' \\\n",
    "                        + config['performance_offtake']\n",
    "\n",
    "input_df = pd.read_excel(input_file_path, dtype=str)\n",
    "input_df['KPI_value'] = input_df['KPI_value'].astype('float')"
   ]
  },
  {
   "cell_type": "code",
   "execution_count": null,
   "metadata": {},
   "outputs": [],
   "source": [
    "temp_df = input_df[['Date', 'Brand', 'Province', 'KPI_value']].copy()\n",
    "temp_df.columns = ['Date', 'Brand', 'Province', 'Danone Offtake']\n",
    "temp_df['Brand'] =  temp_df['Brand'].apply(lambda x : get_brand_name(x))\n",
    "temp_df = temp_df.groupby(by = ['Date', 'Brand', 'Province'])['Danone Offtake'].sum().reset_index()\n",
    "offtake_df = offtake_df.append(temp_df)"
   ]
  },
  {
   "cell_type": "code",
   "execution_count": null,
   "metadata": {},
   "outputs": [],
   "source": [
    "temp_df = input_df.copy()\n",
    "temp_df = form_kpi_input(temp_df)\n",
    "temp_df['Brand'] = temp_df['Brand'].apply(lambda x : get_brand_name(x))\n",
    "temp_df = temp_df.groupby(by = ['Date', 'Brand', 'Province', 'Attribute'])['Value'].sum().reset_index()\n",
    "view_1_output_nav = view_1_output_nav.append(temp_df)"
   ]
  },
  {
   "cell_type": "markdown",
   "metadata": {},
   "source": [
    "## Trade Support"
   ]
  },
  {
   "cell_type": "code",
   "execution_count": null,
   "metadata": {},
   "outputs": [],
   "source": [
    "input_file_path = config['project_path'] + '/' \\\n",
    "                        + config['temp_folder_path'] + '/' \\\n",
    "                        + config['spending_trade_support']\n",
    "input_df = pd.read_excel(input_file_path, dtype=str)\n",
    "input_df['Value'] = input_df['Spending_value'].astype('float')"
   ]
  },
  {
   "cell_type": "code",
   "execution_count": null,
   "metadata": {},
   "outputs": [],
   "source": [
    "temp_df = input_df[['Date', 'Brand', 'Province', 'Value']].copy()\n",
    "temp_df.columns = ['Date', 'Brand', 'Province', 'Trade Support']\n",
    "temp_df['Brand'] =  temp_df['Brand'].apply(lambda x : get_brand_name(x))\n",
    "temp_df = temp_df.groupby(by = ['Date', 'Brand', 'Province'])['Trade Support'].sum().reset_index()\n",
    "ts = ts.append(temp_df)"
   ]
  },
  {
   "cell_type": "code",
   "execution_count": null,
   "metadata": {},
   "outputs": [],
   "source": [
    "temp_df = input_df[['Date', 'Brand', 'Province', 'Cost_type_1', 'Value']].copy()\n",
    "temp_df.columns = nav_columns\n",
    "temp_df['Brand'] = temp_df['Brand'].apply(lambda x : get_brand_name(x))\n",
    "temp_df = temp_df.groupby(by = ['Date', 'Brand', 'Province', 'Attribute'])['Value'].sum().reset_index()\n",
    "view_1_output_nav = view_1_output_nav.append(temp_df)"
   ]
  },
  {
   "cell_type": "markdown",
   "metadata": {},
   "source": [
    "# Media"
   ]
  },
  {
   "cell_type": "code",
   "execution_count": null,
   "metadata": {},
   "outputs": [],
   "source": [
    "input_file_path = config['project_path'] + '/' \\\n",
    "                        + config['temp_folder_path'] + '/' \\\n",
    "                        + config['spending_media']\n",
    "\n",
    "input_df = pd.read_excel(input_file_path, dtype=str)\n",
    "input_df['Value'] = input_df['Spending_value'].astype('float')\n",
    "input_df['Brand'] = input_df['Brand'].apply(lambda x : get_brand_name(x))"
   ]
  },
  {
   "cell_type": "code",
   "execution_count": null,
   "metadata": {},
   "outputs": [],
   "source": [
    "temp_df = input_df.groupby(by = ['Date', 'Brand', 'Province'])['Value'].sum().reset_index()\n",
    "temp_df.columns = ['Date', 'Brand', 'Province', 'Total Media']\n",
    "media = media.append(temp_df)"
   ]
  },
  {
   "cell_type": "code",
   "execution_count": null,
   "metadata": {},
   "outputs": [],
   "source": [
    "temp_df = input_df.groupby(by = ['Date', 'Brand', 'Province'])['Value'].sum().reset_index()\n",
    "temp_df['Attribute'] = 'Total Media'\n",
    "temp_df = temp_df[['Date', 'Brand', 'Province', 'Attribute', 'Value']]\n",
    "temp_df.columns = nav_columns\n",
    "view_1_output_nav = view_1_output_nav.append(temp_df)"
   ]
  },
  {
   "cell_type": "code",
   "execution_count": null,
   "metadata": {},
   "outputs": [],
   "source": [
    "temp_df = input_df.groupby(by = ['Date', 'Brand', 'Province', 'Cost_type_2'])['Value'].sum().reset_index()\n",
    "temp_df['Attribute'] = temp_df['Cost_type_2']\n",
    "temp_df = temp_df[['Date', 'Brand', 'Province', 'Attribute', 'Value']]\n",
    "temp_df.columns = nav_columns\n",
    "view_1_output_nav = view_1_output_nav.append(temp_df)"
   ]
  },
  {
   "cell_type": "code",
   "execution_count": null,
   "metadata": {},
   "outputs": [],
   "source": [
    "temp_df = input_df.groupby(by = ['Date', 'Brand', 'Province', 'Cost_type_3'])['Value'].sum().reset_index()\n",
    "temp_df['Attribute'] = temp_df['Cost_type_3']\n",
    "temp_df = temp_df[['Date', 'Brand', 'Province', 'Attribute', 'Value']]\n",
    "temp_df.columns = nav_columns\n",
    "view_1_output_nav = view_1_output_nav.append(temp_df)"
   ]
  },
  {
   "cell_type": "markdown",
   "metadata": {},
   "source": [
    "# CRM"
   ]
  },
  {
   "cell_type": "code",
   "execution_count": null,
   "metadata": {},
   "outputs": [],
   "source": [
    "input_file_path = config['project_path'] + '/' \\\n",
    "                        + config['temp_folder_path'] + '/' \\\n",
    "                        + config['spending_CRM']\n",
    "\n",
    "input_df = pd.read_excel(input_file_path, dtype=str)\n",
    "input_df['Value'] = input_df['Spending_value'].astype('float')\n",
    "input_df['Brand'] = input_df['Brand'].apply(lambda x : get_brand_name(x))"
   ]
  },
  {
   "cell_type": "code",
   "execution_count": null,
   "metadata": {},
   "outputs": [],
   "source": [
    "temp_df = input_df.groupby(by = ['Date', 'Brand', 'Province'])['Value'].sum().reset_index()\n",
    "temp_df.columns = ['Date', 'Brand', 'Province', 'Total CRM']\n",
    "crm = crm.append(temp_df)"
   ]
  },
  {
   "cell_type": "code",
   "execution_count": null,
   "metadata": {},
   "outputs": [],
   "source": [
    "temp_df = input_df.groupby(by = ['Date', 'Brand', 'Province'])['Value'].sum().reset_index()\n",
    "temp_df['Attribute'] = 'Total CRM'\n",
    "temp_df = temp_df[['Date', 'Brand', 'Province', 'Attribute', 'Value']]\n",
    "temp_df.columns = nav_columns\n",
    "view_1_output_nav = view_1_output_nav.append(temp_df)"
   ]
  },
  {
   "cell_type": "code",
   "execution_count": null,
   "metadata": {},
   "outputs": [],
   "source": [
    "temp_df = input_df.groupby(by = ['Date', 'Brand', 'Province', 'Cost_type_2'])['Value'].sum().reset_index()\n",
    "temp_df['Attribute'] = temp_df['Cost_type_2']\n",
    "temp_df = temp_df[['Date', 'Brand', 'Province', 'Attribute', 'Value']]\n",
    "temp_df.columns = nav_columns\n",
    "view_1_output_nav = view_1_output_nav.append(temp_df)"
   ]
  },
  {
   "cell_type": "markdown",
   "metadata": {},
   "source": [
    "# PC"
   ]
  },
  {
   "cell_type": "code",
   "execution_count": null,
   "metadata": {},
   "outputs": [],
   "source": [
    "input_file_path = config['project_path'] + '/' \\\n",
    "                        + config['temp_folder_path'] + '/' \\\n",
    "                        + config['spending_PC']\n",
    "input_df = pd.read_excel(input_file_path, dtype=str)\n",
    "input_df['Value'] = input_df['Spending_value'].astype('float')\n",
    "input_df['Brand'] = input_df['Brand'].apply(lambda x : get_brand_name(x))"
   ]
  },
  {
   "cell_type": "code",
   "execution_count": null,
   "metadata": {},
   "outputs": [],
   "source": [
    "temp_df = input_df.groupby(by = ['Date', 'Brand', 'Province'])['Value'].sum().reset_index()\n",
    "temp_df.columns = ['Date', 'Brand', 'Province', 'Total PC']\n",
    "pc = pc.append(temp_df)"
   ]
  },
  {
   "cell_type": "code",
   "execution_count": null,
   "metadata": {},
   "outputs": [],
   "source": [
    "temp_df = input_df.groupby(by = ['Date', 'Brand', 'Province'])['Value'].sum().reset_index()\n",
    "temp_df['Attribute'] = 'Total PC'\n",
    "temp_df = temp_df[['Date', 'Brand', 'Province', 'Attribute', 'Value']]\n",
    "temp_df.columns = nav_columns\n",
    "view_1_output_nav = view_1_output_nav.append(temp_df)"
   ]
  },
  {
   "cell_type": "code",
   "execution_count": null,
   "metadata": {},
   "outputs": [],
   "source": [
    "temp_df = input_df.groupby(by = ['Date', 'Brand', 'Province', 'Cost_type_2'])['Value'].sum().reset_index()\n",
    "temp_df['Attribute'] = temp_df['Cost_type_2']\n",
    "temp_df = temp_df[['Date', 'Brand', 'Province', 'Attribute', 'Value']]\n",
    "temp_df.columns = nav_columns\n",
    "view_1_output_nav = view_1_output_nav.append(temp_df)"
   ]
  },
  {
   "cell_type": "markdown",
   "metadata": {},
   "source": [
    "# Channel"
   ]
  },
  {
   "cell_type": "code",
   "execution_count": null,
   "metadata": {},
   "outputs": [],
   "source": [
    "input_file_path = config['project_path'] + '/' \\\n",
    "                        + config['temp_folder_path'] + '/' \\\n",
    "                        + config['spending_channel']\n",
    "\n",
    "input_df = pd.read_excel(input_file_path, dtype=str)\n",
    "\n",
    "input_df['Value'] = input_df['Spending_value'].astype('float')\n",
    "input_df['Brand'] = input_df['Brand'].apply(lambda x : get_brand_name(x))"
   ]
  },
  {
   "cell_type": "code",
   "execution_count": null,
   "metadata": {},
   "outputs": [],
   "source": [
    "temp_df = input_df.groupby(by = ['Date', 'Brand', 'Province'])['Value'].sum().reset_index()\n",
    "temp_df.columns = ['Date', 'Brand', 'Province', 'Total Channel']\n",
    "chan = chan.append(temp_df)"
   ]
  },
  {
   "cell_type": "code",
   "execution_count": null,
   "metadata": {},
   "outputs": [],
   "source": [
    "temp_df = input_df.groupby(by = ['Date', 'Brand', 'Province'])['Value'].sum().reset_index()\n",
    "temp_df['Attribute'] = 'Total Channel'\n",
    "temp_df = temp_df[['Date', 'Brand', 'Province', 'Attribute', 'Value']]\n",
    "temp_df.columns = nav_columns\n",
    "view_1_output_nav = view_1_output_nav.append(temp_df)"
   ]
  },
  {
   "cell_type": "code",
   "execution_count": null,
   "metadata": {},
   "outputs": [],
   "source": [
    "temp_df = input_df.groupby(by = ['Date', 'Brand', 'Province', 'Cost_type_2'])['Value'].sum().reset_index()\n",
    "temp_df['Attribute'] = temp_df['Cost_type_2']\n",
    "temp_df = temp_df[['Date', 'Brand', 'Province', 'Attribute', 'Value']]\n",
    "temp_df.columns = nav_columns\n",
    "view_1_output_nav = view_1_output_nav.append(temp_df)"
   ]
  },
  {
   "cell_type": "markdown",
   "metadata": {},
   "source": [
    "# Output result"
   ]
  },
  {
   "cell_type": "code",
   "execution_count": null,
   "metadata": {},
   "outputs": [],
   "source": [
    "AnP_temp = view_1_output_nav.loc[(view_1_output_nav['Attribute'] == 'Total Media')\n",
    "                                | (view_1_output_nav['Attribute'] == 'Total CRM')\n",
    "                                | (view_1_output_nav['Attribute'] == 'Total PC')\n",
    "                                | (view_1_output_nav['Attribute'] == 'Total Channel')]"
   ]
  },
  {
   "cell_type": "code",
   "execution_count": null,
   "metadata": {},
   "outputs": [],
   "source": [
    "AnP_temp = AnP_temp.groupby(by = ['Date', 'Brand', 'Province'])['Value'].sum().reset_index()\n",
    "AnP_temp['Attribute'] = 'Total A&P'\n",
    "AnP_temp = AnP_temp[nav_columns]\n",
    "view_1_output_nav = view_1_output_nav.append(AnP_temp)"
   ]
  },
  {
   "cell_type": "code",
   "execution_count": null,
   "metadata": {},
   "outputs": [],
   "source": [
    "anp = AnP_temp[['Date', 'Brand', 'Province', 'Value']].copy()\n",
    "anp.columns = ['Date', 'Brand', 'Province', 'Total A&P']"
   ]
  },
  {
   "cell_type": "markdown",
   "metadata": {},
   "source": [
    "## nav view"
   ]
  },
  {
   "cell_type": "code",
   "execution_count": null,
   "metadata": {},
   "outputs": [],
   "source": [
    "ly_df =  view_1_output_nav.copy()\n",
    "ly_df['Date'] = ly_df['Date'].astype(int)\n",
    "ly_df['Date'] = ly_df['Date'] + 100\n",
    "ly_df['Date'] = ly_df['Date'].astype(str)\n",
    "ly_df.columns = ['Date', 'Brand', 'Province', 'Attribute', 'Value LY']"
   ]
  },
  {
   "cell_type": "code",
   "execution_count": null,
   "metadata": {},
   "outputs": [],
   "source": [
    "output_df = pd.merge(view_1_output_nav, ly_df, on=['Date', 'Brand', 'Province', 'Attribute'], how='left').fillna(0)"
   ]
  },
  {
   "cell_type": "code",
   "execution_count": null,
   "metadata": {},
   "outputs": [],
   "source": [
    "an_df = output_df[~output_df['Attribute'].str.endswith('NC')][['Province', 'Attribute']].drop_duplicates()\n",
    "nc_df = output_df[(~output_df['Attribute'].str.endswith('AC')) \n",
    "                  & ( ~output_df['Attribute'].str.endswith('AP'))] \\\n",
    "                    [['Province', 'Attribute']].drop_duplicates()\n",
    "an_df['Brand'] = 'Aptamil'\n",
    "nc_df['Brand'] = 'Nutrilon'\n",
    "all_df = an_df.append(nc_df, ignore_index=True)"
   ]
  },
  {
   "cell_type": "code",
   "execution_count": null,
   "metadata": {},
   "outputs": [],
   "source": [
    "all_dates_map = pd.DataFrame(columns=['Date', 'Brand', 'Province', 'Attribute'])\n",
    "for i in range(1,13):\n",
    "    year_month = \"2018\" + str(i).zfill(2)\n",
    "    all_df['Date'] = year_month\n",
    "    all_dates_map = all_dates_map.append(all_df, ignore_index=True)\n",
    "for i in range(1,13):\n",
    "    year_month = \"2019\" + str(i).zfill(2)\n",
    "    all_df['Date'] = year_month\n",
    "    all_dates_map = all_dates_map.append(all_df, ignore_index=True)\n",
    "for i in range(1,13):\n",
    "    year_month = \"2020\" + str(i).zfill(2)\n",
    "    all_df['Date'] = year_month\n",
    "    all_dates_map = all_dates_map.append(all_df, ignore_index=True)"
   ]
  },
  {
   "cell_type": "code",
   "execution_count": null,
   "metadata": {},
   "outputs": [],
   "source": [
    "output_df = pd.merge(all_dates_map, output_df, on=['Date', 'Brand', 'Province', 'Attribute'], how='left')\n",
    "\n",
    "output_df = output_df.fillna({'Value': 0, 'Value LY': 0})"
   ]
  },
  {
   "cell_type": "code",
   "execution_count": null,
   "metadata": {},
   "outputs": [],
   "source": [
    "def format_yearmonth(year_month):\n",
    "    return time.strftime('%Y/%m/%d', time.strptime(year_month,'%Y%m'))\n",
    "\n",
    "output_df['Date'] = output_df['Date'].apply(lambda x : format_yearmonth(x))"
   ]
  },
  {
   "cell_type": "code",
   "execution_count": null,
   "metadata": {},
   "outputs": [],
   "source": [
    "output_file_path = config['project_path'] + '/' \\\n",
    "                        + config['temp_folder_path'] + '/' \\\n",
    "                        + config['view_1_output_nav'] \n",
    "\n",
    "output_df.to_excel(output_file_path, index=False)"
   ]
  },
  {
   "cell_type": "markdown",
   "metadata": {},
   "source": [
    "## merg view"
   ]
  },
  {
   "cell_type": "code",
   "execution_count": null,
   "metadata": {},
   "outputs": [],
   "source": [
    "offtake_df = add_ly_column(offtake_df)\n",
    "ms_nutri = add_ly_column(ms_nutri)\n",
    "ms_ap = add_ly_column(ms_ap)\n",
    "ms_ac = add_ly_column(ms_ac)\n",
    "ms_nc = add_ly_column(ms_nc)\n",
    "wd_nutri = add_ly_column(wd_nutri)\n",
    "wd_ap = add_ly_column(wd_ap)\n",
    "wd_ac = add_ly_column(wd_ac)\n",
    "wd_nc = add_ly_column(wd_nc)\n",
    "ts = add_ly_column(ts)\n",
    "anp = add_ly_column(anp)\n",
    "chan = add_ly_column(chan)\n",
    "crm = add_ly_column(crm)\n",
    "media = add_ly_column(media)\n",
    "pc = add_ly_column(pc)"
   ]
  },
  {
   "cell_type": "code",
   "execution_count": null,
   "metadata": {},
   "outputs": [],
   "source": [
    "output_df = offtake_df\n",
    "output_df = pd.merge(output_df, ms_nutri, on=['Date', 'Brand', 'Province'], how='outer')\n",
    "output_df = pd.merge(output_df, ms_ap, on=['Date', 'Brand', 'Province'], how='outer')\n",
    "output_df = pd.merge(output_df, ms_ac, on=['Date', 'Brand', 'Province'], how='outer')\n",
    "output_df = pd.merge(output_df, ms_nc, on=['Date', 'Brand', 'Province'], how='outer')\n",
    "output_df = pd.merge(output_df, wd_nutri, on=['Date', 'Brand', 'Province'], how='outer')\n",
    "output_df = pd.merge(output_df, wd_ap, on=['Date', 'Brand', 'Province'], how='outer')\n",
    "output_df = pd.merge(output_df, wd_ac, on=['Date', 'Brand', 'Province'], how='outer')\n",
    "output_df = pd.merge(output_df, wd_nc, on=['Date', 'Brand', 'Province'], how='outer')\n",
    "output_df = pd.merge(output_df, ts, on=['Date', 'Brand', 'Province'], how='outer')\n",
    "output_df = pd.merge(output_df, anp, on=['Date', 'Brand', 'Province'], how='outer')\n",
    "output_df = pd.merge(output_df, chan, on=['Date', 'Brand', 'Province'], how='outer')\n",
    "output_df = pd.merge(output_df, crm, on=['Date', 'Brand', 'Province'], how='outer')\n",
    "output_df = pd.merge(output_df, media, on=['Date', 'Brand', 'Province'], how='outer')\n",
    "output_df = pd.merge(output_df, pc, on=['Date', 'Brand', 'Province'], how='outer')"
   ]
  },
  {
   "cell_type": "code",
   "execution_count": null,
   "metadata": {},
   "outputs": [],
   "source": [
    "output_df = output_df.fillna(0)\n",
    "output_df['Date'] = output_df['Date'].apply(lambda x : format_yearmonth(x))"
   ]
  },
  {
   "cell_type": "code",
   "execution_count": null,
   "metadata": {},
   "outputs": [],
   "source": [
    "output_file_path = config['project_path'] + '/' \\\n",
    "                        + config['temp_folder_path'] + '/' \\\n",
    "                        + config['view_1_output_merg'] \n",
    "\n",
    "output_df.to_excel(output_file_path, index=False)"
   ]
  }
 ],
 "metadata": {
  "kernelspec": {
   "display_name": "Python 3",
   "language": "python",
   "name": "python3"
  },
  "language_info": {
   "codemirror_mode": {
    "name": "ipython",
    "version": 3
   },
   "file_extension": ".py",
   "mimetype": "text/x-python",
   "name": "python",
   "nbconvert_exporter": "python",
   "pygments_lexer": "ipython3",
   "version": "3.7.6"
  }
 },
 "nbformat": 4,
 "nbformat_minor": 4
}
