{
 "cells": [
  {
   "cell_type": "code",
   "execution_count": null,
   "metadata": {},
   "outputs": [],
   "source": [
    "import pandas as pd\n",
    "import operator\n",
    "import time\n",
    "import numpy as np"
   ]
  },
  {
   "cell_type": "code",
   "execution_count": null,
   "metadata": {},
   "outputs": [],
   "source": [
    "config = {}\n",
    "config['project_path'] = '..'\n",
    "config['data_folder_path'] = 'data'\n",
    "config['temp_folder_path'] = 'temp'\n",
    "\n",
    "# input files\n",
    "config['MDM_mapping'] = 'MDM_mapping.xlsx'\n",
    "config['media_input'] = 'MediaData_0707.xlsx'\n",
    "\n",
    "# output files\n",
    "config['media_output'] = 'Media cost split 2020Q1.xlsx'"
   ]
  },
  {
   "cell_type": "markdown",
   "metadata": {},
   "source": [
    "## Read Input"
   ]
  },
  {
   "cell_type": "code",
   "execution_count": null,
   "metadata": {},
   "outputs": [],
   "source": [
    "input_file_path = config['project_path'] + '/' \\\n",
    "                        + config['data_folder_path'] + '/' \\\n",
    "                        + config['media_input']\n",
    "\n",
    "media_input_df = pd.read_excel(input_file_path, dtype=str)\n",
    "media_input_df['Province'] = media_input_df['Province'].str.lower()\n",
    "media_input_df['Spending_value'] = media_input_df['Spending_value'].astype('float')"
   ]
  },
  {
   "cell_type": "code",
   "execution_count": null,
   "metadata": {},
   "outputs": [],
   "source": [
    "input_file_path = config['project_path'] + '/' \\\n",
    "                        + config['data_folder_path'] + '/' \\\n",
    "                        + config['MDM_mapping']\n",
    "\n",
    "mdm_input_df = pd.read_excel(input_file_path, dtype=str)"
   ]
  },
  {
   "cell_type": "markdown",
   "metadata": {},
   "source": [
    "## Process input"
   ]
  },
  {
   "cell_type": "code",
   "execution_count": null,
   "metadata": {},
   "outputs": [],
   "source": [
    "media_df = pd.merge(media_input_df, mdm_input_df, left_on='Province', right_on='Province_code', how='left')"
   ]
  },
  {
   "cell_type": "code",
   "execution_count": null,
   "metadata": {},
   "outputs": [],
   "source": [
    "media_df[media_df['MDM_province_code'].isnull()]"
   ]
  },
  {
   "cell_type": "code",
   "execution_count": null,
   "metadata": {},
   "outputs": [],
   "source": [
    "media_df['Cost_Type'] = media_df['AIP']  + ' - ' + media_df['Cost_type_2'] "
   ]
  },
  {
   "cell_type": "code",
   "execution_count": null,
   "metadata": {},
   "outputs": [],
   "source": [
    "media_df = media_df.groupby(by = ['Date', 'MDM_province_code', 'Cost_Type', 'AIP'])['Spending_value'].sum().reset_index()"
   ]
  },
  {
   "cell_type": "code",
   "execution_count": null,
   "metadata": {},
   "outputs": [],
   "source": [
    "media_df.columns = ['Date', 'Province Code', 'Level 5', 'AIP', 'Value']"
   ]
  },
  {
   "cell_type": "code",
   "execution_count": null,
   "metadata": {},
   "outputs": [],
   "source": [
    "def get_aip_cost_type(aip):\n",
    "    if aip == 'A':\n",
    "        return 'Total A Cost'\n",
    "    elif aip == 'I':\n",
    "        return 'Total I Cost'\n",
    "    elif aip == 'P':\n",
    "        return 'Total P Cost'\n",
    "    return ''\n",
    "\n",
    "def get_aip_media_type(aip):\n",
    "    if aip == 'A':\n",
    "        return 'Total A Media'\n",
    "    elif aip == 'I':\n",
    "        return'Total I Media'\n",
    "    return 'Total Media'\n",
    "\n",
    "media_df['Level 1'] = \"Total A&P\"\n",
    "media_df['Level 2'] = \"Total Media\"\n",
    "media_df['Level 3'] = media_df['AIP'].apply(lambda x : get_aip_cost_type(x))\n",
    "media_df['Level 4'] = media_df['AIP'].apply(lambda x : get_aip_media_type(x))\n",
    "media_df['Brand'] = 'Aptamil'"
   ]
  },
  {
   "cell_type": "code",
   "execution_count": null,
   "metadata": {},
   "outputs": [],
   "source": [
    "media_nati_df = media_df.groupby(by = ['Date', 'Brand', 'Level 1', 'Level 2', 'Level 3', 'Level 4', 'Level 5'])['Value'].sum().reset_index()\n",
    "media_nati_df['Province Code'] = 'National'"
   ]
  },
  {
   "cell_type": "code",
   "execution_count": null,
   "metadata": {},
   "outputs": [],
   "source": [
    "media_res = media_df[['Date', 'Brand', 'Province Code', 'Level 1', 'Level 2', 'Level 3', 'Level 4', 'Level 5', 'Value']]\n",
    "\n",
    "media_res = media_res.append(media_nati_df, ignore_index = True)"
   ]
  },
  {
   "cell_type": "markdown",
   "metadata": {},
   "source": [
    "#### Create all year, province, KPI combination for 2020"
   ]
  },
  {
   "cell_type": "code",
   "execution_count": null,
   "metadata": {},
   "outputs": [],
   "source": [
    "all_dates_map = pd.DataFrame(columns=['Date', 'Brand','Province Code', 'Level 1', 'Level 2', 'Level 3', 'Level 4', 'Level 5'])\n",
    "all_types= media_res[['Brand', 'Province Code', 'Level 1', 'Level 2', 'Level 3', 'Level 4', 'Level 5']].drop_duplicates()\n",
    "for i in range(1,13):\n",
    "    year_month = \"2020\" + str(i).zfill(2)\n",
    "    all_types['Date'] = year_month\n",
    "    all_dates_map = all_dates_map.append(all_types, ignore_index=True)"
   ]
  },
  {
   "cell_type": "code",
   "execution_count": null,
   "metadata": {},
   "outputs": [],
   "source": [
    "output_df = pd.merge(all_dates_map, media_res, on=['Date', 'Brand', 'Province Code', 'Level 1', 'Level 2', 'Level 3', 'Level 4', 'Level 5'], how='left')\n",
    "output_df = output_df.fillna(0)"
   ]
  },
  {
   "cell_type": "code",
   "execution_count": null,
   "metadata": {},
   "outputs": [],
   "source": [
    "def format_yearmonth(year_month):\n",
    "    return time.strftime('%Y/%m/%d', time.strptime(year_month,'%Y%m'))\n",
    "\n",
    "output_df['Date'] = output_df['Date'].apply(lambda x : format_yearmonth(x))\n",
    "\n",
    "output_df.columns = ['Date', 'Brand', 'Province', 'Level 1', 'Level 2', 'Level 3', 'Level 4', 'Level 5', 'Value']"
   ]
  },
  {
   "cell_type": "code",
   "execution_count": null,
   "metadata": {},
   "outputs": [],
   "source": [
    "output_file_path = config['project_path'] + '/' \\\n",
    "                        + config['temp_folder_path'] + '/' \\\n",
    "                        + config['media_output']\n",
    "\n",
    "output_df.to_excel(output_file_path, index=False)"
   ]
  },
  {
   "cell_type": "code",
   "execution_count": null,
   "metadata": {},
   "outputs": [],
   "source": []
  }
 ],
 "metadata": {
  "kernelspec": {
   "display_name": "Python 3",
   "language": "python",
   "name": "python3"
  },
  "language_info": {
   "codemirror_mode": {
    "name": "ipython",
    "version": 3
   },
   "file_extension": ".py",
   "mimetype": "text/x-python",
   "name": "python",
   "nbconvert_exporter": "python",
   "pygments_lexer": "ipython3",
   "version": "3.7.6"
  }
 },
 "nbformat": 4,
 "nbformat_minor": 4
}
