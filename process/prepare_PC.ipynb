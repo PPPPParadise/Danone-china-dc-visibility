{
 "cells": [
  {
   "cell_type": "code",
   "execution_count": null,
   "metadata": {},
   "outputs": [],
   "source": [
    "import pandas as pd\n",
    "import operator\n",
    "import time\n",
    "import numpy as np"
   ]
  },
  {
   "cell_type": "code",
   "execution_count": null,
   "metadata": {},
   "outputs": [],
   "source": [
    "config = {}\n",
    "config['project_path'] = '..'\n",
    "config['data_folder_path'] = 'data'\n",
    "config['temp_folder_path'] = 'temp'\n",
    "\n",
    "# input files\n",
    "config['MDM_mapping'] = 'MDM_mapping.xlsx'\n",
    "config['grade_mapping'] = 'PC_grade_mapping.xlsx'\n",
    "config['date_mapping'] = 'PC_date_format_mapping.xlsx'\n",
    "config['pc_input'] = 'PC Cost 202001-04.xlsx'\n",
    "config['province_to_province_brand_file'] = '202001-05_province_to_province_brand_file.xlsx'\n",
    "\n",
    "# output files\n",
    "config['pc_output'] = 'PC cost split 202001-04.xlsx'"
   ]
  },
  {
   "cell_type": "markdown",
   "metadata": {},
   "source": [
    "## Read PC Cost Input"
   ]
  },
  {
   "cell_type": "code",
   "execution_count": null,
   "metadata": {},
   "outputs": [],
   "source": [
    "input_file_path = config['project_path'] + '/' \\\n",
    "                        + config['data_folder_path'] + '/' \\\n",
    "                        + config['pc_input']\n",
    "\n",
    "pc_input_df = pd.read_excel(input_file_path, dtype=str)\n",
    "pc_input_df['Spending Value'] = pc_input_df['金额'].astype('float')"
   ]
  },
  {
   "cell_type": "code",
   "execution_count": null,
   "metadata": {},
   "outputs": [],
   "source": [
    "input_file_path = config['project_path'] + '/' \\\n",
    "                        + config['data_folder_path'] + '/' \\\n",
    "                        + config['date_mapping']\n",
    "\n",
    "date_mapping_df = pd.read_excel(input_file_path, dtype=str)"
   ]
  },
  {
   "cell_type": "code",
   "execution_count": null,
   "metadata": {},
   "outputs": [],
   "source": [
    "input_file_path = config['project_path'] + '/' \\\n",
    "                        + config['data_folder_path'] + '/' \\\n",
    "                        + config['grade_mapping']\n",
    "\n",
    "grade_mapping_df = pd.read_excel(input_file_path, dtype=str)"
   ]
  },
  {
   "cell_type": "code",
   "execution_count": null,
   "metadata": {},
   "outputs": [],
   "source": [
    "input_file_path = config['project_path'] + '/' \\\n",
    "                        + config['data_folder_path'] + '/' \\\n",
    "                        + config['MDM_mapping']\n",
    "\n",
    "mdm_input_df = pd.read_excel(input_file_path, dtype=str)"
   ]
  },
  {
   "cell_type": "code",
   "execution_count": null,
   "metadata": {},
   "outputs": [],
   "source": [
    "pc_df = pd.merge(pc_input_df, date_mapping_df, on='月份', how='left')\n",
    "\n",
    "pc_df = pd.merge(pc_df, grade_mapping_df, on='Grade', how='left')\n",
    "\n",
    "pc_df = pd.merge(pc_df, mdm_input_df, left_on='省份', right_on='Province_name2', how='left')"
   ]
  },
  {
   "cell_type": "markdown",
   "metadata": {},
   "source": [
    "### Check for um-mapped records"
   ]
  },
  {
   "cell_type": "code",
   "execution_count": null,
   "metadata": {},
   "outputs": [],
   "source": [
    "pc_df[pc_df['Date'].isnull()]"
   ]
  },
  {
   "cell_type": "code",
   "execution_count": null,
   "metadata": {},
   "outputs": [],
   "source": [
    "pc_df[pc_df['Cost_type'].isnull()]"
   ]
  },
  {
   "cell_type": "code",
   "execution_count": null,
   "metadata": {},
   "outputs": [],
   "source": [
    "pc_df[pc_df['MDM_province_code'].isnull()]"
   ]
  },
  {
   "cell_type": "code",
   "execution_count": null,
   "metadata": {},
   "outputs": [],
   "source": [
    "pc_monthly_df = pc_df.groupby(by = ['Date', 'MDM_province_code', 'Cost_type'])['Spending Value'].sum().reset_index()"
   ]
  },
  {
   "cell_type": "markdown",
   "metadata": {},
   "source": [
    "## Split to Brand"
   ]
  },
  {
   "cell_type": "code",
   "execution_count": null,
   "metadata": {},
   "outputs": [],
   "source": [
    "input_file_path = config['project_path'] + '/' \\\n",
    "                        + config['temp_folder_path'] + '/' \\\n",
    "                        + '202001-05_province_to_province_brand_file.xlsx'\n",
    "\n",
    "prov_brand_split = pd.read_excel(input_file_path, dtype=str)\n",
    "\n",
    "prov_brand_split['Split_Ratio'] = prov_brand_split['Split_Ratio'].astype('float')"
   ]
  },
  {
   "cell_type": "code",
   "execution_count": null,
   "metadata": {},
   "outputs": [],
   "source": [
    "pc_monthly_df['YearMonth'] = pc_monthly_df['Date']"
   ]
  },
  {
   "cell_type": "code",
   "execution_count": null,
   "metadata": {},
   "outputs": [],
   "source": [
    "pc_brand_df = pd.merge(pc_monthly_df, prov_brand_split, on=['YearMonth', 'MDM_province_code'], how='left' )"
   ]
  },
  {
   "cell_type": "markdown",
   "metadata": {},
   "source": [
    "### Check for um-mapped records"
   ]
  },
  {
   "cell_type": "code",
   "execution_count": null,
   "metadata": {},
   "outputs": [],
   "source": [
    "pc_brand_df[pc_brand_df['Split_Ratio'].isnull()]"
   ]
  },
  {
   "cell_type": "code",
   "execution_count": null,
   "metadata": {},
   "outputs": [],
   "source": [
    "pc_brand_df['Spending_Value'] = pc_brand_df['Spending Value'] * pc_brand_df['Split_Ratio']"
   ]
  },
  {
   "cell_type": "code",
   "execution_count": null,
   "metadata": {},
   "outputs": [],
   "source": [
    "pc_brand_df = pc_brand_df[['YearMonth', 'MDM_province_code', 'Cost_type', 'Brand_Name', 'Spending_Value']]"
   ]
  },
  {
   "cell_type": "code",
   "execution_count": null,
   "metadata": {},
   "outputs": [],
   "source": [
    "pc_all_df = pc_brand_df.groupby(by = ['YearMonth', 'Cost_type', 'Brand_Name'])['Spending_Value'].sum().reset_index()\n",
    "pc_all_df['MDM_province_code'] = 'National'"
   ]
  },
  {
   "cell_type": "code",
   "execution_count": null,
   "metadata": {},
   "outputs": [],
   "source": [
    "pc_all_df = pc_brand_df.append(pc_all_df, ignore_index=True)"
   ]
  },
  {
   "cell_type": "markdown",
   "metadata": {},
   "source": [
    "### Check for um-mapped records"
   ]
  },
  {
   "cell_type": "code",
   "execution_count": null,
   "metadata": {},
   "outputs": [],
   "source": [
    "pc_all_df[pc_all_df['MDM_province_code'] == np.NAN]"
   ]
  },
  {
   "cell_type": "code",
   "execution_count": null,
   "metadata": {},
   "outputs": [],
   "source": [
    "pc_all_df['Level 5'] = 'PC - ' + pc_all_df['Cost_type']\n",
    "pc_all_df['Level 4']  = 'PC - ' + pc_all_df['Cost_type']\n",
    "pc_all_df['Level 3']  = 'PC - ' + pc_all_df['Cost_type']\n",
    "pc_all_df['Level 2'] = 'Total PC'\n",
    "pc_all_df['Level 1'] = 'Total A&P'"
   ]
  },
  {
   "cell_type": "markdown",
   "metadata": {},
   "source": [
    "#### Create all year, province, KPI combination for 2020"
   ]
  },
  {
   "cell_type": "code",
   "execution_count": null,
   "metadata": {},
   "outputs": [],
   "source": [
    "all_dates_map = pd.DataFrame(columns=['YearMonth','MDM_province_code', 'Brand_Name', 'Level 1', 'Level 2', 'Level 3', 'Level 4', 'Level 5'])\n",
    "all_types= pc_all_df[['MDM_province_code', 'Brand_Name', 'Level 1', 'Level 2', 'Level 3', 'Level 4', 'Level 5']].drop_duplicates()\n",
    "for i in range(1,13):\n",
    "    year_month = \"2020\" + str(i).zfill(2)\n",
    "    all_types['YearMonth'] = year_month\n",
    "    all_dates_map = all_dates_map.append(all_types, ignore_index=True)"
   ]
  },
  {
   "cell_type": "code",
   "execution_count": null,
   "metadata": {},
   "outputs": [],
   "source": [
    "output_df = pd.merge(all_dates_map, pc_all_df, on=['YearMonth','MDM_province_code', 'Brand_Name', 'Level 1', 'Level 2', 'Level 3', 'Level 4', 'Level 5'], how='left')\n",
    "output_df = output_df.fillna(0)"
   ]
  },
  {
   "cell_type": "code",
   "execution_count": null,
   "metadata": {},
   "outputs": [],
   "source": [
    "def format_yearmonth(year_month):\n",
    "    return time.strftime('%Y/%m/%d', time.strptime(year_month,'%Y%m'))\n",
    "\n",
    "output_df['Date'] = output_df['YearMonth'].apply(lambda x : format_yearmonth(x))"
   ]
  },
  {
   "cell_type": "code",
   "execution_count": null,
   "metadata": {},
   "outputs": [],
   "source": [
    "output_df = output_df[['Date', 'Brand_Name', 'MDM_province_code', 'Level 1', 'Level 2', 'Level 3', 'Level 4', 'Level 5', 'Spending_Value']]\n",
    "output_df.columns = ['Date', 'Brand', 'Province', 'Level 1', 'Level 2', 'Level 3', 'Level 4', 'Level 5', 'Value']"
   ]
  },
  {
   "cell_type": "code",
   "execution_count": null,
   "metadata": {},
   "outputs": [],
   "source": [
    "output_file_path = config['project_path'] + '/' \\\n",
    "                        + config['temp_folder_path'] + '/' \\\n",
    "                        + config['pc_output']\n",
    "\n",
    "output_df.to_excel(output_file_path, index=False)"
   ]
  }
 ],
 "metadata": {
  "kernelspec": {
   "display_name": "Python 3",
   "language": "python",
   "name": "python3"
  },
  "language_info": {
   "codemirror_mode": {
    "name": "ipython",
    "version": 3
   },
   "file_extension": ".py",
   "mimetype": "text/x-python",
   "name": "python",
   "nbconvert_exporter": "python",
   "pygments_lexer": "ipython3",
   "version": "3.7.6"
  }
 },
 "nbformat": 4,
 "nbformat_minor": 4
}
