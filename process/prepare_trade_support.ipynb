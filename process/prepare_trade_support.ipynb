{
 "cells": [
  {
   "cell_type": "code",
   "execution_count": null,
   "metadata": {},
   "outputs": [],
   "source": [
    "import pandas as pd\n",
    "import operator\n",
    "import time\n",
    "import numpy as np"
   ]
  },
  {
   "cell_type": "code",
   "execution_count": null,
   "metadata": {},
   "outputs": [],
   "source": [
    "config = {}\n",
    "\n",
    "config[\"project_path\"] = \"..\"\n",
    "config[\"data_folder_path\"] = \"data\"\n",
    "config[\"temp_folder_path\"] = \"temp\"\n",
    "\n",
    "# input files\n",
    "config['trade_support_input'] = '202001-04_Trade_Support.xlsx'\n",
    "config['MDM_mapping'] = 'MDM_mapping.xlsx'\n",
    "config['brand_to_province_brand_file'] = '202001-05_brand_to_province_brand.xlsx'\n",
    "\n",
    "# output files\n",
    "config['Trade support output'] = 'Trade support split 202001-04.xlsx'"
   ]
  },
  {
   "cell_type": "code",
   "execution_count": null,
   "metadata": {},
   "outputs": [],
   "source": [
    "input_file_path = config[\"project_path\"] + \"/\" \\\n",
    "                        + config[\"data_folder_path\"] + \"/\" \\\n",
    "                        + config['trade_support_input']\n",
    "\n",
    "ts_df = pd.read_excel(input_file_path, dtype=str)\n",
    "\n",
    "ts_df.columns = ['YearMonth', 'SKU', 'Cost']\n",
    "ts_df[\"Cost\"] = ts_df[\"Cost\"].astype(\"float\")"
   ]
  },
  {
   "cell_type": "code",
   "execution_count": null,
   "metadata": {},
   "outputs": [],
   "source": [
    "def get_brand_name(brand):\n",
    "    if brand == 'NC':\n",
    "        return 'Nutrilon'\n",
    "    elif (brand=='AC') | (brand == 'AP'):\n",
    "        return 'Aptamil'\n",
    "    return ''\n",
    "\n",
    "ts_df['Brand_Name'] = ts_df['SKU'].apply(\n",
    "        lambda x: get_brand_name(x))"
   ]
  },
  {
   "cell_type": "code",
   "execution_count": null,
   "metadata": {},
   "outputs": [],
   "source": [
    "ts_df = ts_df.groupby(by = ['YearMonth', 'Brand_Name'])['Cost'].sum().reset_index()"
   ]
  },
  {
   "cell_type": "code",
   "execution_count": null,
   "metadata": {},
   "outputs": [],
   "source": [
    "input_file_path = config[\"project_path\"] + \"/\" \\\n",
    "                        + config[\"temp_folder_path\"] + \"/\" \\\n",
    "                        + config['brand_to_province_brand_file']\n",
    "\n",
    "brand_prov_split = pd.read_excel(input_file_path, dtype=str)\n",
    "\n",
    "brand_prov_split['Split_Ratio'] = brand_prov_split['Split_Ratio'].astype(\"float\")"
   ]
  },
  {
   "cell_type": "code",
   "execution_count": null,
   "metadata": {},
   "outputs": [],
   "source": [
    "ts_prov_df = pd.merge(ts_df, brand_prov_split, on=['YearMonth', 'Brand_Name'], how='left')"
   ]
  },
  {
   "cell_type": "markdown",
   "metadata": {},
   "source": [
    "### Check for um-mapped records"
   ]
  },
  {
   "cell_type": "code",
   "execution_count": null,
   "metadata": {},
   "outputs": [],
   "source": [
    "ts_prov_df[ts_prov_df['Split_Ratio'] == np.NAN]"
   ]
  },
  {
   "cell_type": "code",
   "execution_count": null,
   "metadata": {},
   "outputs": [],
   "source": [
    "ts_prov_df['Value'] = ts_prov_df['Cost'] * ts_prov_df['Split_Ratio']\n",
    "\n",
    "ts_prov_df = ts_prov_df[['YearMonth', 'MDM_province_code', 'Brand_Name', 'Value']]\n",
    "\n",
    "ts_all_df = ts_prov_df.groupby(by = ['YearMonth', 'Brand_Name'])['Value'].sum().reset_index()\n",
    "ts_all_df['MDM_province_code'] = 'National'\n",
    "\n",
    "ts_prov_df = ts_prov_df.append(ts_all_df, ignore_index=True)"
   ]
  },
  {
   "cell_type": "markdown",
   "metadata": {},
   "source": [
    "#### Create all year, province, KPI combination for 2020"
   ]
  },
  {
   "cell_type": "code",
   "execution_count": null,
   "metadata": {},
   "outputs": [],
   "source": [
    "all_dates_map = pd.DataFrame(columns=['YearMonth','MDM_province_code', 'Brand_Name'])\n",
    "all_types= ts_prov_df[['MDM_province_code', 'Brand_Name']].drop_duplicates()\n",
    "for i in range(1,13):\n",
    "    year_month = \"2020\" + str(i).zfill(2)\n",
    "    all_types['YearMonth'] = year_month\n",
    "    all_dates_map = all_dates_map.append(all_types, ignore_index=True)"
   ]
  },
  {
   "cell_type": "code",
   "execution_count": null,
   "metadata": {},
   "outputs": [],
   "source": [
    "output_df = pd.merge(all_dates_map, ts_prov_df, on=['YearMonth','MDM_province_code', 'Brand_Name'], how='left')\n",
    "output_df = output_df.fillna(0)"
   ]
  },
  {
   "cell_type": "markdown",
   "metadata": {},
   "source": [
    "# Write output"
   ]
  },
  {
   "cell_type": "code",
   "execution_count": null,
   "metadata": {},
   "outputs": [],
   "source": [
    "def format_yearmonth(year_month):\n",
    "    return time.strftime(\"%Y/%m/%d\", time.strptime(year_month,\"%Y%m\"))"
   ]
  },
  {
   "cell_type": "code",
   "execution_count": null,
   "metadata": {},
   "outputs": [],
   "source": [
    "output_df[\"Date\"] = output_df['YearMonth'].apply(lambda x : format_yearmonth(x))\n",
    "\n",
    "output_df['Level 1'] = 'Trade Support'\n",
    "output_df['Level 2'] = 'Trade Support'\n",
    "output_df['Level 3'] = 'Trade Support'\n",
    "output_df['Level 4'] = 'Trade Support'\n",
    "output_df['Level 5'] = 'Trade Support'\n",
    "\n",
    "output_df = output_df[['Date', 'Brand_Name', 'MDM_province_code', 'Level 1', 'Level 2', 'Level 3', 'Level 4', 'Level 5', 'Value']]\n",
    "\n",
    "output_df.columns = ['Date', 'Brand', 'Province', 'Level 1', 'Level 2', 'Level 3', 'Level 4', 'Level 5', 'Value']"
   ]
  },
  {
   "cell_type": "code",
   "execution_count": null,
   "metadata": {},
   "outputs": [],
   "source": [
    "output_file_path = config[\"project_path\"] + \"/\" \\\n",
    "                        + config[\"temp_folder_path\"] + \"/\" \\\n",
    "                        + config['Trade support output']\n",
    "\n",
    "output_df.to_excel(output_file_path, index=False)"
   ]
  },
  {
   "cell_type": "code",
   "execution_count": null,
   "metadata": {},
   "outputs": [],
   "source": []
  }
 ],
 "metadata": {
  "kernelspec": {
   "display_name": "Python 3",
   "language": "python",
   "name": "python3"
  },
  "language_info": {
   "codemirror_mode": {
    "name": "ipython",
    "version": 3
   },
   "file_extension": ".py",
   "mimetype": "text/x-python",
   "name": "python",
   "nbconvert_exporter": "python",
   "pygments_lexer": "ipython3",
   "version": "3.7.6"
  }
 },
 "nbformat": 4,
 "nbformat_minor": 4
}
