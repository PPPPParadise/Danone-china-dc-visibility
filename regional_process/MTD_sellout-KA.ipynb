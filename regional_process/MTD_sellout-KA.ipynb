{
 "cells": [
  {
   "cell_type": "code",
   "execution_count": null,
   "metadata": {},
   "outputs": [],
   "source": [
    "import pandas as pd\n",
    "import operator\n",
    "import time\n",
    "import numpy as np"
   ]
  },
  {
   "cell_type": "code",
   "execution_count": null,
   "metadata": {},
   "outputs": [],
   "source": [
    "config = {}\n",
    "\n",
    "config[\"project_path\"] = \"..\"\n",
    "config[\"data_folder_path\"] = \"regional_data\"\n",
    "config[\"temp_folder_path\"] = \"regional_temp\"\n",
    "\n",
    "# input files\n",
    "#config[\"sellout_input_files\"] = 'DW_Fact_Sellout_NoneSplit_202004-05.csv'\n",
    "config[\"sellout_input_files\"] = 'DW_Fact_Sellout_NoneSplit_202006.csv'\n",
    "config[\"product_file\"] = \"DW_DIM_Product_20200609.csv\"\n",
    "config[\"customer_input_file\"] = [\"2020 MDM.xlsx\"]\n",
    "config[\"grade_channel_file\"] = \"grade_channel.xlsx\"\n",
    "config[\"customer_acct_file\"] = \"customer_code_account_name.xlsx\"\n",
    "\n",
    "\n",
    "# output files\n",
    "config[\"mtd_out_file\"] = \"20200623_MTD_KA_sellout.xlsx\""
   ]
  },
  {
   "cell_type": "code",
   "execution_count": null,
   "metadata": {},
   "outputs": [],
   "source": [
    "# schema of input file\n",
    "sellout_columns = ['YearMonth', 'Data_Source', 'Bill_Date', 'Bill_Type', \n",
    "                   'Distributor_Code_DMS', 'Distributor_Code', 'Client_Code', \n",
    "                   'Client_Name', 'EA_Platform', 'Ship_To_Code', \n",
    "                   'Inventory_location', 'Customer_Code', 'Product_Code', \n",
    "                   'Sellout_Qty', 'Sellout_SP_Value', 'Sellout_Channel_Value', \n",
    "                   'ETL_DateTime', 'Data_CreationTime']\n",
    "\n",
    "# Only below columns from input file are needed\n",
    "select_columns = ['YearMonth','Distributor_Code','Customer_Code',\n",
    "                  'Product_Code','Sellout_SP_Value']\n",
    "sellout_df = pd.DataFrame(columns=select_columns)"
   ]
  },
  {
   "cell_type": "code",
   "execution_count": null,
   "metadata": {},
   "outputs": [],
   "source": [
    "input_file_path = config[\"project_path\"] + \"/\" \\\n",
    "                    + config[\"data_folder_path\"] + \"/\" \\\n",
    "                    + config[\"sellout_input_files\"]\n",
    "input_df = pd.read_csv(input_file_path, header = None, dtype=str).fillna('0')\n",
    "input_df.columns = sellout_columns"
   ]
  },
  {
   "cell_type": "code",
   "execution_count": null,
   "metadata": {},
   "outputs": [],
   "source": [
    "#sellout_df = input_df.loc[(input_df['YearMonth'] == '202005')].copy()"
   ]
  },
  {
   "cell_type": "code",
   "execution_count": null,
   "metadata": {},
   "outputs": [],
   "source": [
    "sellout_df = input_df.loc[(input_df['YearMonth'] == '202006') & (input_df['Bill_Date'] <= '20200623')].copy()"
   ]
  },
  {
   "cell_type": "code",
   "execution_count": null,
   "metadata": {},
   "outputs": [],
   "source": [
    "def remove_starting_zero(customer_code):\n",
    "    if customer_code.startswith(\"0\"):\n",
    "        return customer_code[1:]\n",
    "    return customer_code"
   ]
  },
  {
   "cell_type": "code",
   "execution_count": null,
   "metadata": {},
   "outputs": [],
   "source": [
    "sellout_df[\"Sellout_SP_Value\"] = sellout_df[\"Sellout_SP_Value\"].astype(\"float\")\n",
    "sellout_df[\"Product_Code\"] = sellout_df[\"Product_Code\"].astype(\"str\")\n",
    "sellout_df[\"Customer_Code\"] = sellout_df[\"Customer_Code\"].astype(\"str\")\n",
    "sellout_df[\"Distributor_Code\"] = sellout_df[\"Distributor_Code\"].astype(\"str\")\n",
    "sellout_df[\"YearMonth\"] = sellout_df[\"YearMonth\"].astype(\"str\")\n",
    "\n",
    "sellout_df[\"Customer_Code\"] = sellout_df['Customer_Code'].apply(lambda x:remove_starting_zero(x))"
   ]
  },
  {
   "cell_type": "markdown",
   "metadata": {},
   "source": [
    "# Read product code and related brandstage, brand information"
   ]
  },
  {
   "cell_type": "code",
   "execution_count": null,
   "metadata": {},
   "outputs": [],
   "source": [
    "\n",
    "product_brand_columns = [\"Product_Code\", \"Product_Short_NameEN\"]\n",
    "\n",
    "input_file_path = config[\"project_path\"] + \"/\" + config[\"data_folder_path\"] + \"/\" + config[\"product_file\"]\n",
    "\n",
    "product_brand_input_df = pd.read_csv(input_file_path, header=0, dtype=str)[product_brand_columns]\n",
    "\n",
    "product_brand_output_df = product_brand_input_df.drop_duplicates().reset_index(drop=True)\n",
    "\n",
    "product_brand_output_df.columns = [\"Product_Code\", \"Brand_Stage\"]\n",
    "\n",
    "product_brand_output_df = product_brand_output_df.dropna()\n",
    "\n",
    "product_brand_output_df[\"Brand\"] = product_brand_output_df[\"Brand_Stage\"].str.slice(0, 2)\n",
    "\n",
    "# Add sepcial product code for brands and all brands\n",
    "product_brand_output_df = product_brand_output_df.append(\n",
    "                        [{\"Product_Code\":\"10332781\", \"Brand_Stage\": \"NC\", \"Brand\": \"NC\"}], ignore_index=True)\n",
    "\n",
    "product_brand_output_df = product_brand_output_df.append(\n",
    "                        [{\"Product_Code\":\"10332872\", \"Brand_Stage\": \"AC\", \"Brand\": \"AC\"}], ignore_index=True)\n",
    "\n",
    "product_brand_output_df = product_brand_output_df.append(\n",
    "                        [{\"Product_Code\":\"10332873\", \"Brand_Stage\": \"AP\", \"Brand\": \"AP\"}], ignore_index=True)\n",
    "\n",
    "product_brand_output_df = product_brand_output_df.append(\n",
    "                        [{\"Product_Code\":\"10332778\", \"Brand_Stage\": \"ELN\", \"Brand\": \"ELN\"}], ignore_index=True)"
   ]
  },
  {
   "cell_type": "code",
   "execution_count": null,
   "metadata": {},
   "outputs": [],
   "source": [
    "sellout_with_brand = pd.merge(sellout_df, product_brand_output_df, on=\"Product_Code\", how=\"left\")\n",
    "sellout_with_brand = sellout_with_brand[sellout_with_brand.Brand.isin([\"AC\", \"NC\", \"AP\"])]"
   ]
  },
  {
   "cell_type": "code",
   "execution_count": null,
   "metadata": {},
   "outputs": [],
   "source": [
    "sellout_with_brand_agg = sellout_with_brand.groupby(by = ['YearMonth','Distributor_Code','Customer_Code','Brand', 'Brand_Stage'])['Sellout_SP_Value'].sum().reset_index()"
   ]
  },
  {
   "cell_type": "markdown",
   "metadata": {},
   "source": [
    "# Read Customer information"
   ]
  },
  {
   "cell_type": "code",
   "execution_count": null,
   "metadata": {},
   "outputs": [],
   "source": [
    "# Read customer information\n",
    "\n",
    "select_columns = ['YearMonth','Customer_Code','Grade_Code',\n",
    "                  'region_name','subregion_name', 'province_name']\n",
    "\n",
    "customer_input_df = pd.DataFrame(columns=select_columns)"
   ]
  },
  {
   "cell_type": "code",
   "execution_count": null,
   "metadata": {},
   "outputs": [],
   "source": [
    "for customer_input_file in config[\"customer_input_file\"]:\n",
    "    input_file_path = config[\"project_path\"] + \"/\" \\\n",
    "                        + config[\"data_folder_path\"] + \"/\" \\\n",
    "                        + customer_input_file\n",
    "    input_df = pd.read_excel(input_file_path, dtype=str)[select_columns]\n",
    "    customer_input_df = customer_input_df.append(input_df)"
   ]
  },
  {
   "cell_type": "code",
   "execution_count": null,
   "metadata": {},
   "outputs": [],
   "source": [
    "customer_df = customer_input_df\n",
    "\n",
    "customer_df.columns = ['YearMonth', 'Customer_Code', 'Grade', 'Region_Name', 'Subregion_Name', 'Province_Name']"
   ]
  },
  {
   "cell_type": "code",
   "execution_count": null,
   "metadata": {},
   "outputs": [],
   "source": [
    "sellout_with_cust = pd.merge(sellout_with_brand_agg, customer_df, on=['YearMonth', 'Customer_Code'], how='left')"
   ]
  },
  {
   "cell_type": "code",
   "execution_count": null,
   "metadata": {},
   "outputs": [],
   "source": [
    "input_file_path = config[\"project_path\"] + \"/\" \\\n",
    "                    + config[\"data_folder_path\"] + \"/\" \\\n",
    "                    + config[\"grade_channel_file\"] \n",
    "\n",
    "grade_df = pd.read_excel(input_file_path, dtype=str)"
   ]
  },
  {
   "cell_type": "code",
   "execution_count": null,
   "metadata": {},
   "outputs": [],
   "source": [
    "sellout_with_grade = pd.merge(sellout_with_cust, grade_df, on=['Grade'], how='left')\n",
    "\n",
    "sellout_with_grade = sellout_with_grade.fillna({'Channel': 'Unassigned'})"
   ]
  },
  {
   "cell_type": "code",
   "execution_count": null,
   "metadata": {},
   "outputs": [],
   "source": [
    "sellout_with_grade[sellout_with_grade['Channel'] =='Unassigned']"
   ]
  },
  {
   "cell_type": "code",
   "execution_count": null,
   "metadata": {},
   "outputs": [],
   "source": [
    "input_file_path = config[\"project_path\"] + \"/\" \\\n",
    "                    + config[\"data_folder_path\"] + \"/\" \\\n",
    "                    + config[\"customer_acct_file\"] \n",
    "\n",
    "acct_df = pd.read_excel(input_file_path, dtype=str)\n",
    "acct_df['Customer_Code'] = acct_df['Customer_Code'].apply(lambda x:remove_starting_zero(x))"
   ]
  },
  {
   "cell_type": "code",
   "execution_count": null,
   "metadata": {},
   "outputs": [],
   "source": [
    "sellout_with_acct = pd.merge(sellout_with_grade, acct_df, on=['Customer_Code'], how='left')\n",
    "\n",
    "sellout_with_acct = sellout_with_acct.fillna({'Account_Name': 'Unassigned'})"
   ]
  },
  {
   "cell_type": "code",
   "execution_count": null,
   "metadata": {},
   "outputs": [],
   "source": [
    "sellout_with_acct[sellout_with_acct['Account_Name'] =='Unassigned']"
   ]
  },
  {
   "cell_type": "markdown",
   "metadata": {},
   "source": [
    "# GT-DC Logic"
   ]
  },
  {
   "cell_type": "code",
   "execution_count": null,
   "metadata": {},
   "outputs": [],
   "source": [
    "def change_region_name(row):\n",
    "    if row[\"Channel\"] == \"GT-DC\":\n",
    "        return \"GT-DC\"\n",
    "    return row[\"Region_Name\"]\n",
    "\n",
    "sellout_with_acct[\"Region_Name\"] = sellout_with_acct.apply(change_region_name, axis=1)\n",
    "\n",
    "\n",
    "def change_subregion_name(row):\n",
    "    if row[\"Channel\"] == \"GT-DC\":\n",
    "        return \"GT-DC\"\n",
    "    return row[\"Subregion_Name\"]\n",
    "\n",
    "sellout_with_acct[\"Subregion_Name\"] = sellout_with_acct.apply(change_subregion_name, axis=1)\n",
    "\n",
    "\n",
    "def change_province_Name(row):\n",
    "    if row[\"Channel\"] == \"GT-DC\":\n",
    "        return \"GT-DC\"\n",
    "    return row[\"Province_Name\"]\n",
    "\n",
    "sellout_with_acct[\"Province_Name\"] = sellout_with_acct.apply(change_province_Name, axis=1)"
   ]
  },
  {
   "cell_type": "markdown",
   "metadata": {},
   "source": [
    "# National"
   ]
  },
  {
   "cell_type": "code",
   "execution_count": null,
   "metadata": {},
   "outputs": [],
   "source": [
    "mtd_columns = ['Brand', 'Geo_Name', 'Region_Name', 'Channel', 'Grade', 'Account_Name', 'Sellout_SP_Value']\n",
    "mtd_df = pd.DataFrame(columns=mtd_columns)"
   ]
  },
  {
   "cell_type": "code",
   "execution_count": null,
   "metadata": {},
   "outputs": [],
   "source": [
    "sellout_temp = sellout_with_acct.groupby(by = ['Brand', 'Channel', 'Grade', 'Account_Name'])['Sellout_SP_Value'].sum().reset_index()\n",
    "sellout_temp['Geo_Name'] = '全国'\n",
    "sellout_temp['Region_Name'] = '全国'\n",
    "mtd_df = mtd_df.append(sellout_temp)\n",
    "\n",
    "sellout_temp = sellout_with_acct.groupby(by = ['Channel', 'Grade', 'Account_Name'])['Sellout_SP_Value'].sum().reset_index()\n",
    "sellout_temp['Brand'] = 'TTL'\n",
    "sellout_temp['Geo_Name'] = '全国'\n",
    "sellout_temp['Region_Name'] = '全国'\n",
    "mtd_df = mtd_df.append(sellout_temp)\n",
    "\n",
    "sellout_temp = sellout_with_acct.groupby(by = ['Brand', 'Channel', 'Grade'])['Sellout_SP_Value'].sum().reset_index()\n",
    "sellout_temp['Geo_Name'] = '全国'\n",
    "sellout_temp['Region_Name'] = '全国'\n",
    "sellout_temp['Account_Name'] = sellout_temp['Grade']\n",
    "mtd_df = mtd_df.append(sellout_temp)\n",
    "\n",
    "sellout_temp = sellout_with_acct.groupby(by = ['Channel', 'Grade'])['Sellout_SP_Value'].sum().reset_index()\n",
    "sellout_temp['Brand'] = 'TTL'\n",
    "sellout_temp['Geo_Name'] = '全国'\n",
    "sellout_temp['Region_Name'] = '全国'\n",
    "sellout_temp['Account_Name'] = sellout_temp['Grade']\n",
    "mtd_df = mtd_df.append(sellout_temp)\n",
    "\n",
    "\n",
    "sellout_temp = sellout_with_acct.groupby(by = ['Brand', 'Region_Name', 'Channel', 'Grade', 'Account_Name'])['Sellout_SP_Value'].sum().reset_index()\n",
    "sellout_temp['Geo_Name'] = sellout_temp['Region_Name']\n",
    "mtd_df = mtd_df.append(sellout_temp)\n",
    "\n",
    "sellout_temp = sellout_with_acct.groupby(by = ['Region_Name', 'Channel', 'Grade', 'Account_Name'])['Sellout_SP_Value'].sum().reset_index()\n",
    "sellout_temp['Brand'] = 'TTL'\n",
    "sellout_temp['Geo_Name'] = sellout_temp['Region_Name']\n",
    "mtd_df = mtd_df.append(sellout_temp)\n",
    "\n",
    "sellout_temp = sellout_with_acct.groupby(by = ['Brand', 'Region_Name', 'Channel', 'Grade'])['Sellout_SP_Value'].sum().reset_index()\n",
    "sellout_temp['Geo_Name'] = sellout_temp['Region_Name']\n",
    "sellout_temp['Account_Name'] = sellout_temp['Grade']\n",
    "mtd_df = mtd_df.append(sellout_temp)\n",
    "\n",
    "sellout_temp = sellout_with_acct.groupby(by = ['Region_Name', 'Channel', 'Grade'])['Sellout_SP_Value'].sum().reset_index()\n",
    "sellout_temp['Brand'] = 'TTL'\n",
    "sellout_temp['Geo_Name'] = sellout_temp['Region_Name']\n",
    "sellout_temp['Account_Name'] = sellout_temp['Grade']\n",
    "mtd_df = mtd_df.append(sellout_temp)"
   ]
  },
  {
   "cell_type": "code",
   "execution_count": null,
   "metadata": {},
   "outputs": [],
   "source": [
    "output_file_path = config[\"project_path\"] \\\n",
    "                        + \"/\" + config[\"temp_folder_path\"] \\\n",
    "                        + \"/\" + config[\"mtd_out_file\"]\n",
    "\n",
    "mtd_df.to_excel(output_file_path, header=True, index=False)"
   ]
  }
 ],
 "metadata": {
  "kernelspec": {
   "display_name": "Python 3",
   "language": "python",
   "name": "python3"
  },
  "language_info": {
   "codemirror_mode": {
    "name": "ipython",
    "version": 3
   },
   "file_extension": ".py",
   "mimetype": "text/x-python",
   "name": "python",
   "nbconvert_exporter": "python",
   "pygments_lexer": "ipython3",
   "version": "3.7.6"
  }
 },
 "nbformat": 4,
 "nbformat_minor": 4
}
