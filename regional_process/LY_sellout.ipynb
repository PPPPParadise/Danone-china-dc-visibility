{
 "cells": [
  {
   "cell_type": "code",
   "execution_count": null,
   "metadata": {},
   "outputs": [],
   "source": [
    "import pandas as pd\n",
    "import operator\n",
    "import time\n",
    "import numpy as np"
   ]
  },
  {
   "cell_type": "code",
   "execution_count": null,
   "metadata": {},
   "outputs": [],
   "source": [
    "config = {}\n",
    "\n",
    "config[\"project_path\"] = \"..\"\n",
    "config[\"data_folder_path\"] = \"regional_data\"\n",
    "config[\"temp_folder_path\"] = \"regional_temp\"\n",
    "\n",
    "# input files\n",
    "config[\"sellout_input_files\"] = 'DW_Fact_Sellout_NoneSplit_2017-2019_20191219.csv'\n",
    "config[\"product_file\"] = \"DW_DIM_Product_20200609.csv\"\n",
    "config[\"customer_input_file\"] = [\"2020 MDM.xlsx\"]\n",
    "config[\"grade_channel_file\"] = \"grade_channel.xlsx\"\n",
    "\n",
    "# output files\n",
    "config[\"p3m_out_file\"] = \"202006_P3M_sellout.xlsx\""
   ]
  },
  {
   "cell_type": "code",
   "execution_count": null,
   "metadata": {},
   "outputs": [],
   "source": [
    "# schema of input file\n",
    "sellout_columns = ['YearMonth', 'Data_Source', 'Bill_Date', 'Bill_Type', \n",
    "                   'Distributor_Code_DMS', 'Distributor_Code', 'Client_Code', \n",
    "                   'Client_Name', 'EA_Platform', 'Ship_To_Code', \n",
    "                   'Inventory_location', 'Customer_Code', 'Product_Code', \n",
    "                   'Sellout_Qty', 'Sellout_SP_Value', 'Sellout_Channel_Value', \n",
    "                   'ETL_DateTime', 'Data_CreationTime']\n",
    "\n",
    "# Only below columns from input file are needed\n",
    "select_columns = ['YearMonth','Distributor_Code','Customer_Code',\n",
    "                  'Product_Code','Sellout_SP_Value']\n",
    "sellout_df = pd.DataFrame(columns=select_columns)"
   ]
  },
  {
   "cell_type": "code",
   "execution_count": null,
   "metadata": {},
   "outputs": [],
   "source": [
    "input_file_path = config[\"project_path\"] + \"/\" \\\n",
    "                    + config[\"data_folder_path\"] + \"/\" \\\n",
    "                    + config[\"sellout_input_files\"]\n",
    "input_df = pd.read_csv(input_file_path, header = None, dtype=str).fillna('0')\n",
    "input_df.columns = sellout_columns"
   ]
  },
  {
   "cell_type": "code",
   "execution_count": null,
   "metadata": {},
   "outputs": [],
   "source": [
    "sellout_df = input_df.loc[input_df['YearMonth'] == '201906']"
   ]
  },
  {
   "cell_type": "code",
   "execution_count": null,
   "metadata": {},
   "outputs": [],
   "source": [
    "sellout_df"
   ]
  },
  {
   "cell_type": "code",
   "execution_count": null,
   "metadata": {},
   "outputs": [],
   "source": []
  }
 ],
 "metadata": {
  "kernelspec": {
   "display_name": "Python 3",
   "language": "python",
   "name": "python3"
  },
  "language_info": {
   "codemirror_mode": {
    "name": "ipython",
    "version": 3
   },
   "file_extension": ".py",
   "mimetype": "text/x-python",
   "name": "python",
   "nbconvert_exporter": "python",
   "pygments_lexer": "ipython3",
   "version": "3.7.6"
  }
 },
 "nbformat": 4,
 "nbformat_minor": 4
}
