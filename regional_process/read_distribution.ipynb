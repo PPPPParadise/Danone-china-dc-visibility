{
 "cells": [
  {
   "cell_type": "code",
   "execution_count": null,
   "metadata": {},
   "outputs": [],
   "source": [
    "import pandas as pd\n",
    "import operator\n",
    "import time\n",
    "import numpy as np"
   ]
  },
  {
   "cell_type": "code",
   "execution_count": null,
   "metadata": {},
   "outputs": [],
   "source": [
    "config = {}\n",
    "\n",
    "config[\"project_path\"] = \"..\"\n",
    "config[\"data_folder_path\"] = \"regional_data\"\n",
    "config[\"temp_folder_path\"] = \"regional_temp\"\n",
    "\n",
    "# input files\n",
    "config[\"SFA_file_pattern\"] = '中台rawdata-易掌柜数据源-{}月.xlsx'\n",
    "config[\"SOS_file\"] = 'SOS.csv'\n",
    "config[\"Mustsell_file\"] = '必分销率.csv'\n",
    "config[\"customer_input_file\"] = [\"2020 MDM.xlsx\"]\n",
    "config[\"grade_channel_file\"] = \"grade_channel.xlsx\"\n",
    "config[\"customer_acct_file\"] = \"customer_code_account_name.xlsx\"\n",
    "config[\"sellout_input_files\"] = ['DW_Fact_Sellout_NoneSplit_202001-03.csv', 'DW_Fact_Sellout_NoneSplit_202004-05.csv', 'DW_Fact_Sellout_NoneSplit_202006.csv']\n",
    "config[\"product_file\"] = \"DW_DIM_Product_20200609.csv\"\n",
    "\n",
    "# output files\n",
    "config[\"SOS_geo_file\"] = 'SOS_geo_grade_2020.xlsx'\n",
    "config[\"OOS_grade_file\"] = \"OOS_grade_202006_YTD.xlsx\"\n",
    "config[\"SOS_geo_wt_file\"] = 'SOS_geo_grade_wt_2020.xlsx'\n",
    "config[\"OOS_grade_wt_file\"] = \"OOS_grade_wt_202006_YTD.xlsx\"\n",
    "config[\"dist_geo_file\"] = 'distribution_geo_grade_2020.xlsx'\n",
    "config[\"dist_geo_wt_file\"] = 'distribution_geo_grade_wt_2020.xlsx'\n",
    "config[\"mustsell_geo_file\"] = \"mustsell_geo_202006_YTD.xlsx\"\n",
    "config[\"layout_geo_file\"] = \"layout_geo_202006_YTD.xlsx\"\n",
    "config[\"layout_geo_wt_file\"] = \"layout_geo_wt_202006_YTD.xlsx\""
   ]
  },
  {
   "cell_type": "markdown",
   "metadata": {},
   "source": [
    "# Read Input"
   ]
  },
  {
   "cell_type": "code",
   "execution_count": null,
   "metadata": {},
   "outputs": [],
   "source": [
    "def remove_starting_zero(customer_code):\n",
    "    if customer_code.startswith(\"0\"):\n",
    "        return customer_code[1:]\n",
    "    return customer_code"
   ]
  },
  {
   "cell_type": "markdown",
   "metadata": {},
   "source": [
    "## V_Report_SFA_Inventory_By_SKU"
   ]
  },
  {
   "cell_type": "code",
   "execution_count": null,
   "metadata": {},
   "outputs": [],
   "source": [
    "sfa_columns = ['Year Month', 'Region Name', 'Subregion Name', 'Customer Code', 'Account Name', 'Grade Code',\n",
    "              'Sku', 'Distributed Store', 'Layout Store', 'Shortage Store']\n",
    "sfa_input_df = pd.DataFrame(columns=sfa_columns)"
   ]
  },
  {
   "cell_type": "code",
   "execution_count": null,
   "metadata": {},
   "outputs": [],
   "source": [
    "for month in range(1, 7):\n",
    "    year_month = str(2020) + str(month).zfill(2)\n",
    "    input_file_path = config[\"project_path\"] + \"/\" \\\n",
    "                        + config[\"data_folder_path\"] + \"/\" \\\n",
    "                        + config[\"SFA_file_pattern\"].format(month)\n",
    "\n",
    "    input_df = pd.read_excel(input_file_path, dtype=str)[sfa_columns]\n",
    "    sfa_input_df = sfa_input_df.append(input_df)"
   ]
  },
  {
   "cell_type": "code",
   "execution_count": null,
   "metadata": {},
   "outputs": [],
   "source": [
    "sfa_input_df.columns = ['YearMonth', 'Region_Name', 'Subregion', 'Customer_Code', 'Account_Name', 'Grade_Code',\n",
    "              'SKU', 'Distributed_Store', 'Layout_Store', 'Shortage_Store']"
   ]
  },
  {
   "cell_type": "code",
   "execution_count": null,
   "metadata": {},
   "outputs": [],
   "source": [
    "sfa_input_df = sfa_input_df.rename(columns={'Sku': 'SKU'})\n",
    "sfa_input_df[\"Layout_Store\"] = sfa_input_df[\"Layout_Store\"].astype(\"float\")\n",
    "sfa_input_df[\"Shortage_Store\"] = sfa_input_df[\"Shortage_Store\"].astype(\"float\")\n",
    "sfa_input_df[\"Distributed_Store\"] = sfa_input_df[\"Distributed_Store\"].astype(\"float\")\n",
    "sfa_input_df[\"Customer_Code\"] = sfa_input_df[\"Customer_Code\"].astype(\"str\")\n",
    "sfa_input_df[\"Customer_Code\"] = sfa_input_df['Customer_Code'].apply(lambda x:remove_starting_zero(x))\n",
    "sfa_input_df[\"Customer_Code\"] = sfa_input_df['Customer_Code'].apply(lambda x:remove_starting_zero(x))"
   ]
  },
  {
   "cell_type": "code",
   "execution_count": null,
   "metadata": {},
   "outputs": [],
   "source": [
    "input_file_path = config[\"project_path\"] + \"/\" \\\n",
    "                        + config[\"data_folder_path\"] + \"/\" \\\n",
    "                        + 'sfa_input.csv'\n",
    "\n",
    "sfa_input_df.to_csv(input_file_path, index=False)"
   ]
  },
  {
   "cell_type": "markdown",
   "metadata": {},
   "source": [
    "## V_Report_SFA_SOS"
   ]
  },
  {
   "cell_type": "code",
   "execution_count": null,
   "metadata": {},
   "outputs": [],
   "source": [
    "input_file_path = config[\"project_path\"] + \"/\" \\\n",
    "                        + config[\"data_folder_path\"] + \"/\" \\\n",
    "                        + config[\"SOS_file\"]\n",
    "\n",
    "SOS_df = pd.read_csv(input_file_path, dtype=str,sep = '\\t')\n",
    "SOS_df.columns = ['YearMonth', 'Customer_Code', 'All_Group', 'Brand_Group', 'SOS']\n",
    "\n",
    "SOS_df[\"All_Group\"] = SOS_df[\"All_Group\"].astype(\"float\")\n",
    "SOS_df[\"Brand_Group\"] = SOS_df[\"Brand_Group\"].astype(\"float\")\n",
    "SOS_df[\"SOS\"] = SOS_df[\"SOS\"].astype(\"float\")\n",
    "SOS_df[\"Customer_Code\"] = SOS_df[\"Customer_Code\"].astype(\"str\")\n",
    "SOS_df[\"Customer_Code\"] = SOS_df['Customer_Code'].apply(lambda x:remove_starting_zero(x))\n",
    "SOS_df[\"Customer_Code\"] = SOS_df['Customer_Code'].apply(lambda x:remove_starting_zero(x))"
   ]
  },
  {
   "cell_type": "markdown",
   "metadata": {},
   "source": [
    "## V_Report_SFA_Inventory_By_Customer"
   ]
  },
  {
   "cell_type": "code",
   "execution_count": null,
   "metadata": {},
   "outputs": [],
   "source": [
    "input_file_path = config[\"project_path\"] + \"/\" \\\n",
    "                        + config[\"data_folder_path\"] + \"/\" \\\n",
    "                        + config[\"Mustsell_file\"]\n",
    "\n",
    "must_sell_df = pd.read_csv(input_file_path, dtype=str,sep = '\\t')\n",
    "must_sell_df.columns = ['YearMonth', 'Customer_Code', 'Mustsell_All_Distributed', 'Mustsell_Stock_ Available', 'Mustsell_Stock_Shortage']\n",
    "\n",
    "must_sell_df[\"Mustsell_All_Distributed\"] = must_sell_df[\"Mustsell_All_Distributed\"].astype(\"float\")\n",
    "must_sell_df[\"Mustsell_Stock_ Available\"] = must_sell_df[\"Mustsell_Stock_ Available\"].astype(\"float\")\n",
    "must_sell_df[\"Mustsell_Stock_Shortage\"] = must_sell_df[\"Mustsell_Stock_Shortage\"].astype(\"float\")\n",
    "must_sell_df[\"Customer_Code\"] = must_sell_df['Customer_Code'].apply(lambda x:remove_starting_zero(x))\n",
    "must_sell_df[\"Customer_Code\"] = must_sell_df['Customer_Code'].apply(lambda x:remove_starting_zero(x))"
   ]
  },
  {
   "cell_type": "markdown",
   "metadata": {},
   "source": [
    "## Customer"
   ]
  },
  {
   "cell_type": "code",
   "execution_count": null,
   "metadata": {},
   "outputs": [],
   "source": [
    "# Read customer information\n",
    "\n",
    "select_columns = ['YearMonth','Customer_Code','Grade_Code',\n",
    "                  'region_name','subregion_name', 'province_name']\n",
    "\n",
    "customer_input_df = pd.DataFrame(columns=select_columns)"
   ]
  },
  {
   "cell_type": "code",
   "execution_count": null,
   "metadata": {},
   "outputs": [],
   "source": [
    "for customer_input_file in config[\"customer_input_file\"]:\n",
    "    input_file_path = config[\"project_path\"] + \"/\" \\\n",
    "                        + config[\"data_folder_path\"] + \"/\" \\\n",
    "                        + customer_input_file\n",
    "    input_df = pd.read_excel(input_file_path, dtype=str)[select_columns]\n",
    "    customer_input_df = customer_input_df.append(input_df)"
   ]
  },
  {
   "cell_type": "markdown",
   "metadata": {},
   "source": [
    "## Grade Code Mapping"
   ]
  },
  {
   "cell_type": "code",
   "execution_count": null,
   "metadata": {},
   "outputs": [],
   "source": [
    "input_file_path = config[\"project_path\"] + \"/\" \\\n",
    "                    + config[\"data_folder_path\"] + \"/\" \\\n",
    "                    + config[\"grade_channel_file\"] \n",
    "\n",
    "grade_df = pd.read_excel(input_file_path, dtype=str)"
   ]
  },
  {
   "cell_type": "code",
   "execution_count": null,
   "metadata": {},
   "outputs": [],
   "source": [
    "cust_grade_mapping = pd.merge(customer_input_df, grade_df, left_on='Grade_Code', right_on='Grade', how='left')"
   ]
  },
  {
   "cell_type": "markdown",
   "metadata": {},
   "source": [
    "input_file_path = config[\"project_path\"] + \"/\" \\\n",
    "                        + config[\"data_folder_path\"] + \"/\" \\\n",
    "                        + 'cust_grade_mapping.csv'\n",
    "\n",
    "cust_grade_mapping = cust_grade_mapping.to_csv(input_file_path, index=False)"
   ]
  },
  {
   "cell_type": "markdown",
   "metadata": {},
   "source": [
    "## Account name"
   ]
  },
  {
   "cell_type": "code",
   "execution_count": null,
   "metadata": {},
   "outputs": [],
   "source": [
    "input_file_path = config[\"project_path\"] + \"/\" \\\n",
    "                    + config[\"data_folder_path\"] + \"/\" \\\n",
    "                    + config[\"customer_acct_file\"] \n",
    "\n",
    "acct_df = pd.read_excel(input_file_path, dtype=str)\n",
    "acct_df['Customer_Code'] = acct_df['Customer_Code'].apply(lambda x:remove_starting_zero(x))\n",
    "acct_df['Customer_Code'] = acct_df['Customer_Code'].apply(lambda x:remove_starting_zero(x))"
   ]
  },
  {
   "cell_type": "markdown",
   "metadata": {},
   "source": [
    "## Sellout"
   ]
  },
  {
   "cell_type": "code",
   "execution_count": null,
   "metadata": {},
   "outputs": [],
   "source": [
    "# schema of input file\n",
    "sellout_columns = ['YearMonth', 'Data_Source', 'Bill_Date', 'Bill_Type', \n",
    "                   'Distributor_Code_DMS', 'Distributor_Code', 'Client_Code', \n",
    "                   'Client_Name', 'EA_Platform', 'Ship_To_Code', \n",
    "                   'Inventory_location', 'Customer_Code', 'Product_Code', \n",
    "                   'Sellout_Qty', 'Sellout_SP_Value', 'Sellout_Channel_Value', \n",
    "                   'ETL_DateTime', 'Data_CreationTime']\n",
    "\n",
    "# Only below columns from input file are needed\n",
    "select_columns = ['YearMonth','Customer_Code',\n",
    "                  'Product_Code','Sellout_SP_Value']\n",
    "sellout_df = pd.DataFrame(columns=select_columns)"
   ]
  },
  {
   "cell_type": "code",
   "execution_count": null,
   "metadata": {},
   "outputs": [],
   "source": [
    "for sellout_input_file in config[\"sellout_input_files\"]:\n",
    "    input_file_path = config[\"project_path\"] + \"/\" \\\n",
    "                        + config[\"data_folder_path\"] + \"/\" \\\n",
    "                        + sellout_input_file\n",
    "    input_df = pd.read_csv(input_file_path, header = None, dtype=str).fillna('0')\n",
    "    input_df.columns = sellout_columns\n",
    "    if operator.eq(list(input_df.loc[0]),list(sellout_columns))== True:\n",
    "        input_df = input_df.drop([0])\n",
    "    input_df = input_df[select_columns]\n",
    "    sellout_df = sellout_df.append(input_df, ignore_index=True)"
   ]
  },
  {
   "cell_type": "code",
   "execution_count": null,
   "metadata": {},
   "outputs": [],
   "source": [
    "sellout_df[\"Sellout_SP_Value\"] = sellout_df[\"Sellout_SP_Value\"].astype(\"float\")\n",
    "sellout_df[\"Product_Code\"] = sellout_df[\"Product_Code\"].astype(\"str\")\n",
    "sellout_df[\"Customer_Code\"] = sellout_df[\"Customer_Code\"].astype(\"str\")\n",
    "sellout_df[\"YearMonth\"] = sellout_df[\"YearMonth\"].astype(\"str\")\n",
    "\n",
    "sellout_df[\"Customer_Code\"] = sellout_df['Customer_Code'].apply(lambda x:remove_starting_zero(x))\n",
    "sellout_df[\"Customer_Code\"] = sellout_df['Customer_Code'].apply(lambda x:remove_starting_zero(x))"
   ]
  },
  {
   "cell_type": "markdown",
   "metadata": {},
   "source": [
    "## Product mapping"
   ]
  },
  {
   "cell_type": "code",
   "execution_count": null,
   "metadata": {},
   "outputs": [],
   "source": [
    "product_brand_columns = [\"Product_Code\", \"Product_Short_NameEN\"]\n",
    "\n",
    "input_file_path = config[\"project_path\"] + \"/\" + config[\"data_folder_path\"] + \"/\" + config[\"product_file\"]\n",
    "\n",
    "product_brand_input_df = pd.read_csv(input_file_path, header=0, dtype=str)[product_brand_columns]\n",
    "\n",
    "product_brand_output_df = product_brand_input_df.drop_duplicates().reset_index(drop=True)\n",
    "\n",
    "product_brand_output_df.columns = [\"Product_Code\", \"Brand_Stage\"]\n",
    "\n",
    "product_brand_output_df = product_brand_output_df.dropna()\n",
    "\n",
    "product_brand_output_df[\"Brand\"] = product_brand_output_df[\"Brand_Stage\"].str.slice(0, 2)\n",
    "\n",
    "# Add sepcial product code for brands and all brands\n",
    "product_brand_output_df = product_brand_output_df.append(\n",
    "                        [{\"Product_Code\":\"10332781\", \"Brand_Stage\": \"NC\", \"Brand\": \"NC\"}], ignore_index=True)\n",
    "\n",
    "product_brand_output_df = product_brand_output_df.append(\n",
    "                        [{\"Product_Code\":\"10332872\", \"Brand_Stage\": \"AC\", \"Brand\": \"AC\"}], ignore_index=True)\n",
    "\n",
    "product_brand_output_df = product_brand_output_df.append(\n",
    "                        [{\"Product_Code\":\"10332873\", \"Brand_Stage\": \"AP\", \"Brand\": \"AP\"}], ignore_index=True)\n",
    "\n",
    "product_brand_output_df = product_brand_output_df.append(\n",
    "                        [{\"Product_Code\":\"10332778\", \"Brand_Stage\": \"ELN\", \"Brand\": \"ELN\"}], ignore_index=True)"
   ]
  },
  {
   "cell_type": "code",
   "execution_count": null,
   "metadata": {},
   "outputs": [],
   "source": [
    "sellout_with_brand = pd.merge(sellout_df, product_brand_output_df, on=\"Product_Code\", how=\"left\")\n",
    "sellout_with_brand = sellout_with_brand[sellout_with_brand.Brand.isin([\"AC\", \"NC\", \"AP\"])]"
   ]
  },
  {
   "cell_type": "code",
   "execution_count": null,
   "metadata": {},
   "outputs": [],
   "source": [
    "def get_Channel(Grade_Code):\n",
    "    if Grade_Code=='RKMBS':\n",
    "        return 'RKMBS'\n",
    "    elif (Grade_Code=='NKA') | (Grade_Code=='RKA') | (Grade_Code=='LKA') | (Grade_Code=='NKMBS'):\n",
    "        return 'KA'\n",
    "    else:\n",
    "        return 'Others'\n",
    "    \n",
    "def get_past_3m(yearmonth):\n",
    "    yearmonth_int = int(yearmonth)\n",
    "    p3m_list = []\n",
    "    for i in range(3):\n",
    "        yearmonth_int = yearmonth_int - 1\n",
    "        if yearmonth_int%100 == 0:\n",
    "            yearmonth_int = yearmonth_int - 100\n",
    "            yearmonth_int = yearmonth_int + 12\n",
    "        p3m_list = p3m_list + [str(yearmonth_int)]\n",
    "    return p3m_list"
   ]
  },
  {
   "cell_type": "markdown",
   "metadata": {},
   "source": [
    "# SOS"
   ]
  },
  {
   "cell_type": "code",
   "execution_count": null,
   "metadata": {},
   "outputs": [],
   "source": [
    "SOS_grade_df = pd.merge(SOS_df, cust_grade_mapping, on=['YearMonth', 'Customer_Code'], how='left')\n",
    "SOS_grade_df = SOS_grade_df.loc[SOS_grade_df['YearMonth'].isin(['202001', '202002', '202003', '202004', '202005', '202006'])].copy()\n",
    "SOS_grade_df['Channel'] = SOS_grade_df['Channel'].apply(lambda x:get_Channel(x))"
   ]
  },
  {
   "cell_type": "code",
   "execution_count": null,
   "metadata": {},
   "outputs": [],
   "source": [
    "SOS_grade_df = SOS_grade_df.loc[SOS_grade_df['Channel']!='Others']"
   ]
  },
  {
   "cell_type": "code",
   "execution_count": null,
   "metadata": {},
   "outputs": [],
   "source": [
    "sos_cal_columns = ['YearMonth', 'Geo_Name', 'region_name', 'subregion_name', 'ASM', 'Channel', 'All_Group', 'Brand_Group']\n",
    "\n",
    "sos_cal_df = pd.DataFrame(columns=sos_cal_columns)"
   ]
  },
  {
   "cell_type": "code",
   "execution_count": null,
   "metadata": {},
   "outputs": [],
   "source": [
    "sos_temp = SOS_grade_df.groupby(by = ['YearMonth', 'Channel'])[['All_Group', 'Brand_Group']].sum().reset_index()\n",
    "sos_temp['Geo_Name'] = '全国'\n",
    "sos_temp['region_name'] = ''\n",
    "sos_temp['subregion_name'] = ''\n",
    "sos_temp['ASM'] = ''\n",
    "sos_cal_df = sos_cal_df.append(sos_temp)\n",
    "\n",
    "sos_temp = SOS_grade_df.groupby(by = ['YearMonth', 'Channel', 'region_name'])[['All_Group', 'Brand_Group']].sum().reset_index()\n",
    "sos_temp['Geo_Name'] = sos_temp['region_name']\n",
    "sos_temp['subregion_name'] = ''\n",
    "sos_temp['ASM'] = ''\n",
    "sos_cal_df = sos_cal_df.append(sos_temp)\n",
    "\n",
    "sos_temp = SOS_grade_df.groupby(by = ['YearMonth', 'Channel', 'region_name', 'subregion_name'])[['All_Group', 'Brand_Group']].sum().reset_index()\n",
    "sos_temp['Geo_Name'] = sos_temp['subregion_name']\n",
    "sos_temp['ASM'] = ''\n",
    "sos_cal_df = sos_cal_df.append(sos_temp)\n",
    "\n",
    "sos_cal_df = sos_cal_df.rename(columns={'region_name': 'Region_Name',\n",
    "                                        'subregion_name': 'Subregion',\n",
    "                                        'All_Group': 'All Group',\n",
    "                                        'Brand_Group': 'Brand Group'})"
   ]
  },
  {
   "cell_type": "code",
   "execution_count": null,
   "metadata": {},
   "outputs": [],
   "source": [
    "sos_cal_columns = ['YearMonth', 'Geo_Name', 'Region_Name', 'Subregion', 'ASM', 'Channel', 'All Group', 'Brand Group']\n",
    "\n",
    "p3m_df = pd.DataFrame(columns=sos_cal_columns)"
   ]
  },
  {
   "cell_type": "code",
   "execution_count": null,
   "metadata": {},
   "outputs": [],
   "source": [
    "year = 2020\n",
    "for month in range(5, 7):\n",
    "    year_month = str(year) + str(month).zfill(2)\n",
    "    p3m_list = get_past_3m(year_month)\n",
    "    \n",
    "    p3m_sos = sos_cal_df.loc[sos_cal_df['YearMonth'].isin(p3m_list)].copy()\n",
    "    sos_temp = p3m_sos.groupby(by = ['Geo_Name', 'Region_Name', 'Subregion', 'ASM', 'Channel'])[['All Group', 'Brand Group']].mean().reset_index()\n",
    "    sos_temp['YearMonth'] = year_month\n",
    "    \n",
    "    p3m_df = p3m_df.append(sos_temp)\n",
    "    \n",
    "p3m_df = p3m_df.rename(columns={'All Group': 'P3M All Group', 'Brand Group': 'P3M Brand Group'})"
   ]
  },
  {
   "cell_type": "code",
   "execution_count": null,
   "metadata": {},
   "outputs": [],
   "source": [
    "sos_res_df = pd.merge(sos_cal_df, p3m_df, on=['YearMonth', 'Geo_Name', 'Region_Name', 'Subregion', 'ASM', 'Channel'])"
   ]
  },
  {
   "cell_type": "code",
   "execution_count": null,
   "metadata": {},
   "outputs": [],
   "source": [
    "output_file_path = config[\"project_path\"] + \"/\" \\\n",
    "                    + config[\"temp_folder_path\"] + \"/\" \\\n",
    "                    + config[\"SOS_geo_file\"]\n",
    "\n",
    "sos_res_df.to_excel(output_file_path, header=True, index=False, float_format=\"%.2f\")"
   ]
  },
  {
   "cell_type": "markdown",
   "metadata": {},
   "source": [
    "# SOS Weighted"
   ]
  },
  {
   "cell_type": "code",
   "execution_count": null,
   "metadata": {},
   "outputs": [],
   "source": [
    "SOS_grade_df = pd.merge(SOS_df, cust_grade_mapping, on=['YearMonth', 'Customer_Code'], how='left')\n",
    "SOS_grade_df = SOS_grade_df.loc[SOS_grade_df['YearMonth'].isin(['202001', '202002', '202003', '202004', '202005', '202006'])].copy()\n",
    "SOS_grade_df['Channel'] = SOS_grade_df['Channel'].apply(lambda x:get_Channel(x))\n",
    "\n",
    "sellout_cust = sellout_with_brand.groupby(by = ['YearMonth', 'Customer_Code'])[['Sellout_SP_Value']].sum().reset_index()\n",
    "\n",
    "SOS_sellout_df = pd.merge(SOS_grade_df, sellout_cust, on=['YearMonth', 'Customer_Code'], how='left')\n",
    "SOS_sellout_df = SOS_sellout_df.fillna({'Sellout_SP_Value':0})\n",
    "\n",
    "SOS_sellout_df['All_Group'] = SOS_sellout_df['All_Group'] * SOS_sellout_df['Sellout_SP_Value']\n",
    "SOS_sellout_df['Brand_Group'] = SOS_sellout_df['Brand_Group'] * SOS_sellout_df['Sellout_SP_Value']\n",
    "\n",
    "SOS_sellout_df = SOS_sellout_df.loc[SOS_sellout_df['Channel']!='Others']"
   ]
  },
  {
   "cell_type": "code",
   "execution_count": null,
   "metadata": {},
   "outputs": [],
   "source": [
    "sos_cal_columns = ['YearMonth', 'Geo_Name', 'region_name', 'subregion_name', 'ASM', 'Channel', 'All_Group', 'Brand_Group']\n",
    "\n",
    "sos_cal_df = pd.DataFrame(columns=sos_cal_columns)\n",
    "\n",
    "sos_temp = SOS_sellout_df.groupby(by = ['YearMonth', 'Channel'])[['All_Group', 'Brand_Group']].sum().reset_index()\n",
    "sos_temp['Geo_Name'] = '全国'\n",
    "sos_temp['region_name'] = ''\n",
    "sos_temp['subregion_name'] = ''\n",
    "sos_temp['ASM'] = ''\n",
    "sos_cal_df = sos_cal_df.append(sos_temp)\n",
    "\n",
    "sos_temp = SOS_sellout_df.groupby(by = ['YearMonth', 'Channel', 'region_name'])[['All_Group', 'Brand_Group']].sum().reset_index()\n",
    "sos_temp['Geo_Name'] = sos_temp['region_name']\n",
    "sos_temp['subregion_name'] = ''\n",
    "sos_temp['ASM'] = ''\n",
    "sos_cal_df = sos_cal_df.append(sos_temp)\n",
    "\n",
    "sos_temp = SOS_sellout_df.groupby(by = ['YearMonth', 'Channel', 'region_name', 'subregion_name'])[['All_Group', 'Brand_Group']].sum().reset_index()\n",
    "sos_temp['Geo_Name'] = sos_temp['subregion_name']\n",
    "sos_temp['ASM'] = ''\n",
    "sos_cal_df = sos_cal_df.append(sos_temp)\n",
    "\n",
    "sos_cal_df = sos_cal_df.rename(columns={'region_name': 'Region_Name',\n",
    "                                        'subregion_name': 'Subregion',\n",
    "                                        'All_Group': 'Weighted All Group',\n",
    "                                        'Brand_Group': 'Weighted Brand Group'})"
   ]
  },
  {
   "cell_type": "code",
   "execution_count": null,
   "metadata": {},
   "outputs": [],
   "source": [
    "sos_cal_columns = ['YearMonth', 'Geo_Name', 'Region_Name', 'Subregion', 'ASM', 'Channel', 'Weighted All Group', 'Weighted Brand Group']\n",
    "\n",
    "p3m_df = pd.DataFrame(columns=sos_cal_columns)\n",
    "\n",
    "year = 2020\n",
    "for month in range(5, 7):\n",
    "    year_month = str(year) + str(month).zfill(2)\n",
    "    p3m_list = get_past_3m(year_month)\n",
    "    \n",
    "    p3m_sos = sos_cal_df.loc[sos_cal_df['YearMonth'].isin(p3m_list)].copy()\n",
    "    sos_temp = p3m_sos.groupby(by = ['Geo_Name', 'Region_Name', 'Subregion', 'ASM', 'Channel'])[['Weighted All Group', 'Weighted Brand Group']].mean().reset_index()\n",
    "    sos_temp['YearMonth'] = year_month\n",
    "    \n",
    "    p3m_df = p3m_df.append(sos_temp)\n",
    "    \n",
    "p3m_df = p3m_df.rename(columns={'Weighted All Group': 'P3M Weighted All Group', 'Weighted Brand Group': 'P3M Weighted Brand Group'})"
   ]
  },
  {
   "cell_type": "code",
   "execution_count": null,
   "metadata": {},
   "outputs": [],
   "source": [
    "sos_res_df = pd.merge(sos_cal_df, p3m_df, on=['YearMonth', 'Geo_Name', 'Region_Name', 'Subregion', 'ASM', 'Channel'])\n",
    "\n",
    "output_file_path = config[\"project_path\"] + \"/\" \\\n",
    "                    + config[\"temp_folder_path\"] + \"/\" \\\n",
    "                    + config[\"SOS_geo_wt_file\"]\n",
    "\n",
    "sos_res_df.to_excel(output_file_path, header=True, index=False, float_format=\"%.2f\")"
   ]
  },
  {
   "cell_type": "markdown",
   "metadata": {},
   "source": [
    "# Distribution"
   ]
  },
  {
   "cell_type": "code",
   "execution_count": null,
   "metadata": {},
   "outputs": [],
   "source": [
    "def get_brand(SKU):\n",
    "    if SKU.startswith('AP'):\n",
    "        return 'AP'\n",
    "    elif SKU.startswith('AC'):\n",
    "        return 'AC'\n",
    "    elif SKU.startswith('NC'):\n",
    "        return 'NC'\n",
    "    return SKU\n",
    "\n",
    "\n",
    "def get_Grade_Group(Grade_Code):\n",
    "    if  (Grade_Code=='RKMBS-G') | (Grade_Code=='RKMBS-M') | (Grade_Code=='RKMBS'):\n",
    "        return 'RKMBS'\n",
    "    elif  (Grade_Code=='NKMBS-G') | (Grade_Code=='NKMBS'):\n",
    "        return 'NKMBS'\n",
    "    elif (Grade_Code=='NKA') | (Grade_Code=='RKA') | (Grade_Code=='LKA'):\n",
    "        return 'MT'\n",
    "    else:\n",
    "        return 'Others'"
   ]
  },
  {
   "cell_type": "code",
   "execution_count": null,
   "metadata": {},
   "outputs": [],
   "source": [
    "sfa_cal_df = sfa_input_df\n",
    "sfa_cal_df['Channel'] = sfa_cal_df['Grade_Code'].apply(lambda x:get_Channel(x))\n",
    "sfa_cal_df[\"Brand\"] = sfa_cal_df['SKU'].apply(lambda x:get_brand(x))\n",
    "\n",
    "sfa_cal_df['Grade_Group'] = sfa_cal_df['Grade_Code'].apply(lambda x:get_Grade_Group(x))"
   ]
  },
  {
   "cell_type": "code",
   "execution_count": null,
   "metadata": {},
   "outputs": [],
   "source": [
    "dist_df = sfa_cal_df.loc[sfa_cal_df['Channel']!='Others']"
   ]
  },
  {
   "cell_type": "code",
   "execution_count": null,
   "metadata": {},
   "outputs": [],
   "source": [
    "dist_cal_columns = ['YearMonth', 'Geo_Name', 'Region_Name', 'Subregion', 'ASM', 'Channel', 'Brand', 'Customer_Code', 'Distributed_Store']\n",
    "dist_cal_df = pd.DataFrame(columns=dist_cal_columns)\n",
    "\n",
    "dist_temp = dist_df.groupby(by = ['YearMonth', 'Channel'])['Distributed_Store'].sum().reset_index()\n",
    "dist_temp['Geo_Name'] = '全国'\n",
    "dist_temp['Region_Name'] = ''\n",
    "dist_temp['Subregion'] = ' '\n",
    "dist_temp['ASM'] = ''\n",
    "\n",
    "ttl_temp = dist_df.groupby(by = ['YearMonth', 'Channel'])['Customer_Code'].count().reset_index()\n",
    "ttl_temp['Geo_Name'] = '全国'\n",
    "ttl_temp['Region_Name'] = ''\n",
    "ttl_temp['Subregion'] = ' '\n",
    "ttl_temp['ASM'] = ''\n",
    "\n",
    "df_temp = pd.merge(ttl_temp, dist_temp, on=['YearMonth', 'Channel', 'Geo_Name', 'Region_Name', 'Subregion', 'ASM'], how='left')\n",
    "df_temp['Brand'] = 'TTL'\n",
    "dist_cal_df = dist_cal_df.append(df_temp)\n",
    "\n",
    "\n",
    "dist_temp = dist_df.groupby(by = ['YearMonth', 'Channel', 'Region_Name'])['Distributed_Store'].sum().reset_index()\n",
    "dist_temp['Geo_Name'] = dist_temp['Region_Name']\n",
    "dist_temp['Subregion'] = ' '\n",
    "dist_temp['ASM'] = ''\n",
    "\n",
    "ttl_temp = dist_df.groupby(by = ['YearMonth', 'Channel', 'Region_Name'])['Customer_Code'].count().reset_index()\n",
    "ttl_temp['Geo_Name'] = ttl_temp['Region_Name']\n",
    "ttl_temp['Subregion'] = ' '\n",
    "ttl_temp['ASM'] = ''\n",
    "\n",
    "df_temp = pd.merge(ttl_temp, dist_temp, on=['YearMonth', 'Channel', 'Geo_Name', 'Region_Name', 'Subregion', 'ASM'], how='left')\n",
    "df_temp['Brand'] = 'TTL'\n",
    "dist_cal_df = dist_cal_df.append(df_temp)\n",
    "\n",
    "\n",
    "dist_temp = dist_df.groupby(by = ['YearMonth', 'Channel', 'Region_Name', 'Subregion'])['Distributed_Store'].sum().reset_index()\n",
    "dist_temp['Geo_Name'] = dist_temp['Subregion']\n",
    "dist_temp['ASM'] = ''\n",
    "\n",
    "ttl_temp = dist_df.groupby(by = ['YearMonth', 'Channel', 'Region_Name', 'Subregion'])['Customer_Code'].count().reset_index()\n",
    "ttl_temp['Geo_Name'] = ttl_temp['Subregion']\n",
    "ttl_temp['ASM'] = ''\n",
    "\n",
    "df_temp = pd.merge(ttl_temp, dist_temp, on=['YearMonth', 'Channel', 'Geo_Name', 'Region_Name', 'Subregion', 'ASM'], how='left')\n",
    "df_temp['Brand'] = 'TTL'\n",
    "dist_cal_df = dist_cal_df.append(df_temp)\n",
    "\n",
    "# By Brand\n",
    "dist_temp = dist_df.groupby(by = ['YearMonth', 'Channel', 'Brand'])['Distributed_Store'].sum().reset_index()\n",
    "dist_temp['Geo_Name'] = '全国'\n",
    "dist_temp['Region_Name'] = ''\n",
    "dist_temp['Subregion'] = ' '\n",
    "dist_temp['ASM'] = ''\n",
    "\n",
    "ttl_temp = dist_df.groupby(by = ['YearMonth', 'Channel', 'Brand'])['Customer_Code'].count().reset_index()\n",
    "ttl_temp['Geo_Name'] = '全国'\n",
    "ttl_temp['Region_Name'] = ''\n",
    "ttl_temp['Subregion'] = ' '\n",
    "ttl_temp['ASM'] = ''\n",
    "\n",
    "df_temp = pd.merge(ttl_temp, dist_temp, on=['YearMonth', 'Channel', 'Brand', 'Geo_Name', 'Region_Name', 'Subregion', 'ASM'], how='left')\n",
    "dist_cal_df = dist_cal_df.append(df_temp)\n",
    "\n",
    "\n",
    "dist_temp = dist_df.groupby(by = ['YearMonth', 'Channel', 'Brand', 'Region_Name'])['Distributed_Store'].sum().reset_index()\n",
    "dist_temp['Geo_Name'] = dist_temp['Region_Name']\n",
    "dist_temp['Subregion'] = ' '\n",
    "dist_temp['ASM'] = ''\n",
    "\n",
    "ttl_temp = dist_df.groupby(by = ['YearMonth', 'Channel', 'Brand', 'Region_Name'])['Customer_Code'].count().reset_index()\n",
    "ttl_temp['Geo_Name'] = ttl_temp['Region_Name']\n",
    "ttl_temp['Subregion'] = ' '\n",
    "ttl_temp['ASM'] = ''\n",
    "\n",
    "df_temp = pd.merge(ttl_temp, dist_temp, on=['YearMonth', 'Channel', 'Brand', 'Geo_Name', 'Region_Name', 'Subregion', 'ASM'], how='left')\n",
    "dist_cal_df = dist_cal_df.append(df_temp)\n",
    "\n",
    "\n",
    "dist_temp = dist_df.groupby(by = ['YearMonth', 'Channel', 'Brand', 'Region_Name', 'Subregion'])['Distributed_Store'].sum().reset_index()\n",
    "dist_temp['Geo_Name'] = dist_temp['Subregion']\n",
    "dist_temp['ASM'] = ''\n",
    "\n",
    "ttl_temp = dist_df.groupby(by = ['YearMonth', 'Channel', 'Brand', 'Region_Name', 'Subregion'])['Customer_Code'].count().reset_index()\n",
    "ttl_temp['Geo_Name'] = ttl_temp['Subregion']\n",
    "ttl_temp['ASM'] = ''\n",
    "\n",
    "df_temp = pd.merge(ttl_temp, dist_temp, on=['YearMonth', 'Channel', 'Brand', 'Geo_Name', 'Region_Name', 'Subregion', 'ASM'], how='left')\n",
    "dist_cal_df = dist_cal_df.append(df_temp)\n",
    "\n",
    "dist_cal_df[\"Customer_Code\"] = dist_cal_df[\"Customer_Code\"].astype(\"float\") \n",
    "dist_cal_df = dist_cal_df.rename(columns={'Customer_Code' : 'Require Distribute Stores',\n",
    "                                            'Distributed_Store' : 'Distributed Stores'})"
   ]
  },
  {
   "cell_type": "code",
   "execution_count": null,
   "metadata": {},
   "outputs": [],
   "source": [
    "dist_cal_columns = ['YearMonth', 'Geo_Name', 'Region_Name', 'Subregion', 'ASM', 'Channel', 'Brand', 'Require Distribute Stores', 'Distributed Stores']\n",
    "\n",
    "p3m_df = pd.DataFrame(columns=dist_cal_columns)\n",
    "\n",
    "year = 2020\n",
    "for month in range(5, 7):\n",
    "    year_month = str(year) + str(month).zfill(2)\n",
    "    p3m_list = get_past_3m(year_month)\n",
    "    \n",
    "    p3m_dist = dist_cal_df.loc[dist_cal_df['YearMonth'].isin(p3m_list)].copy()\n",
    "    dist_temp = p3m_dist.groupby(by = ['Geo_Name', 'Region_Name', 'Subregion', 'ASM', 'Channel', 'Brand'])[['Require Distribute Stores', 'Distributed Stores']].mean().reset_index()\n",
    "    dist_temp['YearMonth'] = year_month\n",
    "    \n",
    "    p3m_df = p3m_df.append(dist_temp)\n",
    "    \n",
    "p3m_df['Require Distribute Stores'] = p3m_df['Require Distribute Stores'].round(0)\n",
    "p3m_df['Distributed Stores'] = p3m_df['Distributed Stores'].round(0)"
   ]
  },
  {
   "cell_type": "code",
   "execution_count": null,
   "metadata": {},
   "outputs": [],
   "source": [
    "p3m_df = p3m_df.rename(columns={'Require Distribute Stores': 'P3M Require Distribute', 'Distributed Stores': 'P3M Distributed Stores'})"
   ]
  },
  {
   "cell_type": "code",
   "execution_count": null,
   "metadata": {},
   "outputs": [],
   "source": [
    "dist_res_df = pd.merge(dist_cal_df, p3m_df, on=['YearMonth', 'Geo_Name', 'Region_Name', 'Subregion', 'ASM', 'Channel', 'Brand'])\n",
    "\n",
    "output_file_path = config[\"project_path\"] + \"/\" \\\n",
    "                    + config[\"temp_folder_path\"] + \"/\" \\\n",
    "                    + config[\"dist_geo_file\"]\n",
    "\n",
    "dist_res_df.to_excel(output_file_path, header=True, index=False, float_format=\"%.2f\")"
   ]
  },
  {
   "cell_type": "markdown",
   "metadata": {},
   "source": [
    "# Distribution Weighted"
   ]
  },
  {
   "cell_type": "code",
   "execution_count": null,
   "metadata": {},
   "outputs": [],
   "source": [
    "sfa_cal_df = sfa_input_df\n",
    "sfa_cal_df['Channel'] = sfa_cal_df['Grade_Code'].apply(lambda x:get_Channel(x))\n",
    "sfa_cal_df[\"Brand\"] = sfa_cal_df['SKU'].apply(lambda x:get_brand(x))\n",
    "\n",
    "sfa_cal_df['Grade_Group'] = sfa_cal_df['Grade_Code'].apply(lambda x:get_Grade_Group(x))\n",
    "\n",
    "\n",
    "sellout_cust_sku = sellout_with_brand.groupby(by = ['YearMonth', 'Customer_Code', 'Brand_Stage'])[['Sellout_SP_Value']].sum().reset_index()\n",
    "sellout_cust_sku.columns = ['YearMonth', 'Customer_Code', 'SKU', 'Sellout_SP_Value']\n",
    "\n",
    "sfa_cal_df = pd.merge(sfa_cal_df, sellout_cust_sku, on=['YearMonth', 'Customer_Code', 'SKU'], how='left')\n",
    "sfa_cal_df = sfa_cal_df.fillna({'Sellout_SP_Value':0})\n",
    "\n",
    "sfa_cal_df['Distributed_Store'] = sfa_cal_df['Distributed_Store'] * sfa_cal_df['Sellout_SP_Value']"
   ]
  },
  {
   "cell_type": "code",
   "execution_count": null,
   "metadata": {},
   "outputs": [],
   "source": [
    "dist_df = sfa_cal_df.loc[sfa_cal_df['Channel']!='Others']"
   ]
  },
  {
   "cell_type": "code",
   "execution_count": null,
   "metadata": {},
   "outputs": [],
   "source": [
    "dist_cal_columns = ['YearMonth', 'Geo_Name', 'Region_Name', 'Subregion', 'ASM', 'Channel', 'Brand', 'Sellout_SP_Value', 'Distributed_Store']\n",
    "dist_cal_df = pd.DataFrame(columns=dist_cal_columns)\n",
    "\n",
    "# All Brand\n",
    "dist_temp = dist_df.groupby(by = ['YearMonth', 'Channel'])['Distributed_Store'].sum().reset_index()\n",
    "dist_temp['Geo_Name'] = '全国'\n",
    "dist_temp['Region_Name'] = ''\n",
    "dist_temp['Subregion'] = ' '\n",
    "dist_temp['ASM'] = ''\n",
    "\n",
    "ttl_temp = dist_df.groupby(by = ['YearMonth', 'Channel'])['Sellout_SP_Value'].sum().reset_index()\n",
    "ttl_temp['Geo_Name'] = '全国'\n",
    "ttl_temp['Region_Name'] = ''\n",
    "ttl_temp['Subregion'] = ' '\n",
    "ttl_temp['ASM'] = ''\n",
    "\n",
    "df_temp = pd.merge(ttl_temp, dist_temp, on=['YearMonth', 'Channel', 'Geo_Name', 'Region_Name', 'Subregion', 'ASM'], how='left')\n",
    "df_temp['Brand'] = 'TTL'\n",
    "dist_cal_df = dist_cal_df.append(df_temp)\n",
    "\n",
    "\n",
    "dist_temp = dist_df.groupby(by = ['YearMonth', 'Channel', 'Region_Name'])['Distributed_Store'].sum().reset_index()\n",
    "dist_temp['Geo_Name'] = dist_temp['Region_Name']\n",
    "dist_temp['Subregion'] = ' '\n",
    "dist_temp['ASM'] = ''\n",
    "\n",
    "ttl_temp = dist_df.groupby(by = ['YearMonth', 'Channel', 'Region_Name'])['Sellout_SP_Value'].sum().reset_index()\n",
    "ttl_temp['Geo_Name'] = ttl_temp['Region_Name']\n",
    "ttl_temp['Subregion'] = ' '\n",
    "ttl_temp['ASM'] = ''\n",
    "\n",
    "df_temp = pd.merge(ttl_temp, dist_temp, on=['YearMonth', 'Channel', 'Geo_Name', 'Region_Name', 'Subregion', 'ASM'], how='left')\n",
    "df_temp['Brand'] = 'TTL'\n",
    "dist_cal_df = dist_cal_df.append(df_temp)\n",
    "\n",
    "\n",
    "dist_temp = dist_df.groupby(by = ['YearMonth', 'Channel', 'Region_Name', 'Subregion'])['Distributed_Store'].sum().reset_index()\n",
    "dist_temp['Geo_Name'] = dist_temp['Subregion']\n",
    "dist_temp['ASM'] = ''\n",
    "\n",
    "ttl_temp = dist_df.groupby(by = ['YearMonth', 'Channel', 'Region_Name', 'Subregion'])['Sellout_SP_Value'].sum().reset_index()\n",
    "ttl_temp['Geo_Name'] = ttl_temp['Subregion']\n",
    "ttl_temp['ASM'] = ''\n",
    "\n",
    "df_temp = pd.merge(ttl_temp, dist_temp, on=['YearMonth', 'Channel', 'Geo_Name', 'Region_Name', 'Subregion', 'ASM'], how='left')\n",
    "df_temp['Brand'] = 'TTL'\n",
    "dist_cal_df = dist_cal_df.append(df_temp)\n",
    "\n",
    "# By Brand\n",
    "dist_temp = dist_df.groupby(by = ['YearMonth', 'Channel', 'Brand'])['Distributed_Store'].sum().reset_index()\n",
    "dist_temp['Geo_Name'] = '全国'\n",
    "dist_temp['Region_Name'] = ''\n",
    "dist_temp['Subregion'] = ' '\n",
    "dist_temp['ASM'] = ''\n",
    "\n",
    "ttl_temp = dist_df.groupby(by = ['YearMonth', 'Channel', 'Brand'])['Sellout_SP_Value'].sum().reset_index()\n",
    "ttl_temp['Geo_Name'] = '全国'\n",
    "ttl_temp['Region_Name'] = ''\n",
    "ttl_temp['Subregion'] = ' '\n",
    "ttl_temp['ASM'] = ''\n",
    "\n",
    "df_temp = pd.merge(ttl_temp, dist_temp, on=['YearMonth', 'Channel', 'Brand', 'Geo_Name', 'Region_Name', 'Subregion', 'ASM'], how='left')\n",
    "dist_cal_df = dist_cal_df.append(df_temp)\n",
    "\n",
    "\n",
    "dist_temp = dist_df.groupby(by = ['YearMonth', 'Channel', 'Brand', 'Region_Name'])['Distributed_Store'].sum().reset_index()\n",
    "dist_temp['Geo_Name'] = dist_temp['Region_Name']\n",
    "dist_temp['Subregion'] = ' '\n",
    "dist_temp['ASM'] = ''\n",
    "\n",
    "ttl_temp = dist_df.groupby(by = ['YearMonth', 'Channel', 'Brand', 'Region_Name'])['Sellout_SP_Value'].sum().reset_index()\n",
    "ttl_temp['Geo_Name'] = ttl_temp['Region_Name']\n",
    "ttl_temp['Subregion'] = ' '\n",
    "ttl_temp['ASM'] = ''\n",
    "\n",
    "df_temp = pd.merge(ttl_temp, dist_temp, on=['YearMonth', 'Channel', 'Brand', 'Geo_Name', 'Region_Name', 'Subregion', 'ASM'], how='left')\n",
    "dist_cal_df = dist_cal_df.append(df_temp)\n",
    "\n",
    "\n",
    "dist_temp = dist_df.groupby(by = ['YearMonth', 'Channel', 'Brand', 'Region_Name', 'Subregion'])['Distributed_Store'].sum().reset_index()\n",
    "dist_temp['Geo_Name'] = dist_temp['Subregion']\n",
    "dist_temp['ASM'] = ''\n",
    "\n",
    "ttl_temp = dist_df.groupby(by = ['YearMonth', 'Channel', 'Brand', 'Region_Name', 'Subregion'])['Sellout_SP_Value'].sum().reset_index()\n",
    "ttl_temp['Geo_Name'] = ttl_temp['Subregion']\n",
    "ttl_temp['ASM'] = ''\n",
    "\n",
    "df_temp = pd.merge(ttl_temp, dist_temp, on=['YearMonth', 'Channel', 'Brand', 'Geo_Name', 'Region_Name', 'Subregion', 'ASM'], how='left')\n",
    "dist_cal_df = dist_cal_df.append(df_temp)\n",
    "\n",
    "\n",
    "dist_cal_df = dist_cal_df.rename(columns={'Sellout_SP_Value' : 'Weighted Require Distribute',\n",
    "                                            'Distributed_Store' : 'Weighted Distributed Stores'})"
   ]
  },
  {
   "cell_type": "code",
   "execution_count": null,
   "metadata": {},
   "outputs": [],
   "source": [
    "dist_cal_columns = ['YearMonth', 'Geo_Name', 'Region_Name', 'Subregion', 'ASM', 'Channel', 'Brand', 'Weighted Require Distribute', 'Weighted Distributed Stores']\n",
    "\n",
    "p3m_df = pd.DataFrame(columns=dist_cal_columns)\n",
    "\n",
    "year = 2020\n",
    "for month in range(5, 7):\n",
    "    year_month = str(year) + str(month).zfill(2)\n",
    "    p3m_list = get_past_3m(year_month)\n",
    "    \n",
    "    p3m_dist = dist_cal_df.loc[dist_cal_df['YearMonth'].isin(p3m_list)].copy()\n",
    "    dist_temp = p3m_dist.groupby(by = ['Geo_Name', 'Region_Name', 'Subregion', 'ASM', 'Channel', 'Brand'])[['Weighted Require Distribute', 'Weighted Distributed Stores']].mean().reset_index()\n",
    "    dist_temp['YearMonth'] = year_month\n",
    "    \n",
    "    p3m_df = p3m_df.append(dist_temp)\n",
    "    \n",
    "p3m_df['Weighted Require Distribute'] = p3m_df['Weighted Require Distribute'].round(0)\n",
    "p3m_df['Weighted Distributed Stores'] = p3m_df['Weighted Distributed Stores'].round(0)"
   ]
  },
  {
   "cell_type": "code",
   "execution_count": null,
   "metadata": {},
   "outputs": [],
   "source": [
    "p3m_df = p3m_df.rename(columns={'Weighted Require Distribute': 'P3M Weighted Require Distribute', 'Weighted Distributed Stores': 'P3M Weighted Distributed'})"
   ]
  },
  {
   "cell_type": "code",
   "execution_count": null,
   "metadata": {},
   "outputs": [],
   "source": [
    "dist_res_df = pd.merge(dist_cal_df, p3m_df, on=['YearMonth', 'Geo_Name', 'Region_Name', 'Subregion', 'ASM', 'Channel', 'Brand'])\n",
    "\n",
    "output_file_path = config[\"project_path\"] + \"/\" \\\n",
    "                    + config[\"temp_folder_path\"] + \"/\" \\\n",
    "                    + config[\"dist_geo_wt_file\"]\n",
    "\n",
    "dist_res_df.to_excel(output_file_path, header=True, index=False, float_format=\"%.2f\")"
   ]
  },
  {
   "cell_type": "markdown",
   "metadata": {},
   "source": [
    "# Must Sell"
   ]
  },
  {
   "cell_type": "code",
   "execution_count": null,
   "metadata": {},
   "outputs": [],
   "source": [
    "mustsell_grade_df = pd.merge(must_sell_df, cust_grade_mapping, on=['YearMonth', 'Customer_Code'], how='left')\n",
    "mustsell_grade_df = mustsell_grade_df.loc[mustsell_grade_df['YearMonth'].isin(['202001', '202002', '202003', '202004', '202005', '202006'])].copy()\n",
    "mustsell_grade_df['Channel'] = mustsell_grade_df['Channel'].apply(lambda x:get_Channel(x))"
   ]
  },
  {
   "cell_type": "code",
   "execution_count": null,
   "metadata": {},
   "outputs": [],
   "source": [
    "ttl_df = mustsell_grade_df.loc[mustsell_grade_df['Channel']!='Others']\n",
    "dist_df = mustsell_grade_df.loc[(mustsell_grade_df['Channel']!='Others') & (mustsell_grade_df['Mustsell_All_Distributed']==1)]"
   ]
  },
  {
   "cell_type": "code",
   "execution_count": null,
   "metadata": {},
   "outputs": [],
   "source": [
    "ttl_df[['Mustsell_All_Distributed', 'Channel']].drop_duplicates()"
   ]
  },
  {
   "cell_type": "code",
   "execution_count": null,
   "metadata": {},
   "outputs": [],
   "source": [
    "mustsell_cal_columns = ['YearMonth', 'Geo_Name', 'region_name', 'subregion_name', 'ASM', 'Channel', 'Customer_Code', 'Mustsell_All_Distributed']\n",
    "mustsell_cal_df = pd.DataFrame(columns=mustsell_cal_columns)\n",
    "\n",
    "dist_temp = dist_df.groupby(by = ['YearMonth', 'Channel'])['Mustsell_All_Distributed'].sum().reset_index()\n",
    "dist_temp['Geo_Name'] = '全国'\n",
    "dist_temp['region_name'] = ''\n",
    "dist_temp['subregion_name'] = ' '\n",
    "dist_temp['ASM'] = ''\n",
    "\n",
    "ttl_temp = ttl_df.groupby(by = ['YearMonth', 'Channel'])['Customer_Code'].count().reset_index()\n",
    "ttl_temp['Geo_Name'] = '全国'\n",
    "ttl_temp['region_name'] = ''\n",
    "ttl_temp['subregion_name'] = ' '\n",
    "ttl_temp['ASM'] = ''\n",
    "\n",
    "df_temp = pd.merge(ttl_temp, dist_temp, on=['YearMonth', 'Channel', 'Geo_Name', 'region_name', 'subregion_name', 'ASM'], how='left')\n",
    "mustsell_cal_df = mustsell_cal_df.append(df_temp)\n",
    "\n",
    "\n",
    "dist_temp = dist_df.groupby(by = ['YearMonth', 'Channel', 'region_name'])['Mustsell_All_Distributed'].sum().reset_index()\n",
    "dist_temp['Geo_Name'] = dist_temp['region_name']\n",
    "dist_temp['subregion_name'] = ' '\n",
    "dist_temp['ASM'] = ''\n",
    "\n",
    "ttl_temp = ttl_df.groupby(by = ['YearMonth', 'Channel', 'region_name'])['Customer_Code'].count().reset_index()\n",
    "ttl_temp['Geo_Name'] = ttl_temp['region_name']\n",
    "ttl_temp['subregion_name'] = ' '\n",
    "ttl_temp['ASM'] = ''\n",
    "\n",
    "df_temp = pd.merge(ttl_temp, dist_temp, on=['YearMonth', 'Channel', 'Geo_Name', 'region_name', 'subregion_name', 'ASM'], how='left')\n",
    "mustsell_cal_df = mustsell_cal_df.append(df_temp)\n",
    "\n",
    "\n",
    "dist_temp = dist_df.groupby(by = ['YearMonth', 'Channel', 'region_name', 'subregion_name'])['Mustsell_All_Distributed'].sum().reset_index()\n",
    "dist_temp['Geo_Name'] = dist_temp['subregion_name']\n",
    "dist_temp['ASM'] = ''\n",
    "\n",
    "ttl_temp = ttl_df.groupby(by = ['YearMonth', 'Channel', 'region_name', 'subregion_name'])['Customer_Code'].count().reset_index()\n",
    "ttl_temp['Geo_Name'] = ttl_temp['subregion_name']\n",
    "ttl_temp['ASM'] = ''\n",
    "\n",
    "df_temp = pd.merge(ttl_temp, dist_temp, on=['YearMonth', 'Channel', 'Geo_Name', 'region_name', 'subregion_name', 'ASM'], how='left')\n",
    "mustsell_cal_df = mustsell_cal_df.append(df_temp)\n",
    "\n",
    "mustsell_cal_df[\"Customer_Code\"] = mustsell_cal_df[\"Customer_Code\"].astype(\"float\")\n",
    "mustsell_cal_df = mustsell_cal_df.rename(columns={'region_name': 'Region_Name', \n",
    "                                                  'subregion_name' : 'Subregion',\n",
    "                                                  'Customer_Code' : 'Require Must Sell',\n",
    "                                                  'Mustsell_All_Distributed' : 'Must Sell Stores'})"
   ]
  },
  {
   "cell_type": "code",
   "execution_count": null,
   "metadata": {},
   "outputs": [],
   "source": [
    "mustsell_cal_columns = ['YearMonth', 'Geo_Name', 'Region_Name', 'Subregion', 'ASM', 'Channel', 'Require Must Sell', 'Must Sell Stores']\n",
    "\n",
    "p3m_df = pd.DataFrame(columns=mustsell_cal_columns)\n",
    "\n",
    "year = 2020\n",
    "for month in range(5, 7):\n",
    "    year_month = str(year) + str(month).zfill(2)\n",
    "    p3m_list = get_past_3m(year_month)\n",
    "    \n",
    "    p3m_sos = mustsell_cal_df.loc[mustsell_cal_df['YearMonth'].isin(p3m_list)].copy()\n",
    "    mustsell_temp = p3m_sos.groupby(by = ['Geo_Name', 'Region_Name', 'Subregion', 'ASM', 'Channel'])[['Require Must Sell', 'Must Sell Stores']].mean().reset_index()\n",
    "    mustsell_temp['YearMonth'] = year_month\n",
    "    \n",
    "    p3m_df = p3m_df.append(mustsell_temp)\n",
    "    \n",
    "p3m_df = p3m_df.rename(columns={'Require Must Sell': 'P3M Require Must Sell', 'Must Sell Stores': 'P3M Must Sell'})\n",
    "p3m_df['P3M Require Must Sell'] = p3m_df['P3M Require Must Sell'].round(0)\n",
    "p3m_df['P3M Must Sell'] = p3m_df['P3M Must Sell'].round(0)"
   ]
  },
  {
   "cell_type": "code",
   "execution_count": null,
   "metadata": {},
   "outputs": [],
   "source": [
    "mustsell_res_df = pd.merge(mustsell_cal_df, p3m_df, on=['YearMonth', 'Geo_Name', 'Region_Name', 'Subregion', 'ASM', 'Channel'])\n",
    "\n",
    "output_file_path = config[\"project_path\"] + \"/\" \\\n",
    "                    + config[\"temp_folder_path\"] + \"/\" \\\n",
    "                    + config[\"mustsell_geo_file\"]\n",
    "\n",
    "mustsell_res_df.to_excel(output_file_path, header=True, index=False, float_format=\"%.2f\")"
   ]
  },
  {
   "cell_type": "markdown",
   "metadata": {},
   "source": [
    "# Layout"
   ]
  },
  {
   "cell_type": "code",
   "execution_count": null,
   "metadata": {},
   "outputs": [],
   "source": [
    "sfa_cal_df = sfa_input_df\n",
    "sfa_cal_df['Grade_Group'] = sfa_cal_df['Grade_Code'].apply(lambda x:get_Grade_Group(x))\n",
    "sfa_cal_df['Channel'] = sfa_cal_df['Grade_Code'].apply(lambda x:get_Channel(x))\n",
    "sfa_cal_df[\"Brand\"] = sfa_cal_df['SKU'].apply(lambda x:get_brand(x))\n",
    "\n",
    "sfa_df = sfa_cal_df.loc[(sfa_cal_df['Channel']!='Others') & (sfa_cal_df['Distributed_Store']==1)]"
   ]
  },
  {
   "cell_type": "code",
   "execution_count": null,
   "metadata": {},
   "outputs": [],
   "source": [
    "layout_columns = ['YearMonth', 'Geo_Name', 'Region_Name', 'Subregion', 'ASM', 'Channel', 'Customer_Code', 'Brand' , 'Layout_Store']\n",
    "layout_df = pd.DataFrame(columns=layout_columns)\n",
    "\n",
    "# Total Brand\n",
    "layout_temp = sfa_df.groupby(by = ['YearMonth', 'Channel'])['Layout_Store'].sum().reset_index()\n",
    "layout_temp['Geo_Name'] = '全国'\n",
    "layout_temp['Region_Name'] = ''\n",
    "layout_temp['Subregion'] = ' '\n",
    "layout_temp['ASM'] = ''\n",
    "\n",
    "ttl_temp = sfa_df.groupby(by = ['YearMonth', 'Channel'])['Customer_Code'].count().reset_index()\n",
    "ttl_temp['Geo_Name'] = '全国'\n",
    "ttl_temp['Region_Name'] = ''\n",
    "ttl_temp['Subregion'] = ' '\n",
    "ttl_temp['ASM'] = ''\n",
    "\n",
    "df_temp = pd.merge(ttl_temp, layout_temp, on=['YearMonth', 'Channel', 'Geo_Name', 'Region_Name', 'Subregion', 'ASM'], how='left')\n",
    "df_temp['Brand'] = 'TTL'\n",
    "layout_df = layout_df.append(df_temp)\n",
    "\n",
    "\n",
    "layout_temp = sfa_df.groupby(by = ['YearMonth', 'Channel', 'Region_Name'])['Layout_Store'].sum().reset_index()\n",
    "layout_temp['Geo_Name'] = layout_temp['Region_Name']\n",
    "layout_temp['Subregion'] = ' '\n",
    "layout_temp['ASM'] = ''\n",
    "\n",
    "ttl_temp = sfa_df.groupby(by = ['YearMonth', 'Channel', 'Region_Name'])['Customer_Code'].count().reset_index()\n",
    "ttl_temp['Geo_Name'] = ttl_temp['Region_Name']\n",
    "ttl_temp['Subregion'] = ' '\n",
    "ttl_temp['ASM'] = ''\n",
    "\n",
    "df_temp = pd.merge(ttl_temp, layout_temp, on=['YearMonth', 'Channel', 'Geo_Name', 'Region_Name', 'Subregion', 'ASM'], how='left')\n",
    "df_temp['Brand'] = 'TTL'\n",
    "layout_df = layout_df.append(df_temp)\n",
    "\n",
    "\n",
    "layout_temp = sfa_df.groupby(by = ['YearMonth', 'Channel', 'Region_Name', 'Subregion'])['Layout_Store'].sum().reset_index()\n",
    "layout_temp['Geo_Name'] = layout_temp['Subregion']\n",
    "layout_temp['ASM'] = ''\n",
    "\n",
    "ttl_temp = sfa_df.groupby(by = ['YearMonth', 'Channel', 'Region_Name', 'Subregion'])['Customer_Code'].count().reset_index()\n",
    "ttl_temp['Geo_Name'] = ttl_temp['Subregion']\n",
    "ttl_temp['ASM'] = ''\n",
    "\n",
    "df_temp = pd.merge(ttl_temp, layout_temp, on=['YearMonth', 'Channel', 'Geo_Name', 'Region_Name', 'Subregion', 'ASM'], how='left')\n",
    "df_temp['Brand'] = 'TTL'\n",
    "layout_df = layout_df.append(df_temp)\n",
    "\n",
    "\n",
    "# By Brand\n",
    "layout_temp = sfa_df.groupby(by = ['YearMonth', 'Channel', 'Brand'])['Layout_Store'].sum().reset_index()\n",
    "layout_temp['Geo_Name'] = '全国'\n",
    "layout_temp['Region_Name'] = ''\n",
    "layout_temp['Subregion'] = ' '\n",
    "layout_temp['ASM'] = ''\n",
    "\n",
    "ttl_temp = sfa_df.groupby(by = ['YearMonth', 'Channel', 'Brand'])['Customer_Code'].count().reset_index()\n",
    "ttl_temp['Geo_Name'] = '全国'\n",
    "ttl_temp['Region_Name'] = ''\n",
    "ttl_temp['Subregion'] = ' '\n",
    "ttl_temp['ASM'] = ''\n",
    "\n",
    "df_temp = pd.merge(ttl_temp, layout_temp, on=['YearMonth', 'Channel', 'Brand', 'Geo_Name', 'Region_Name', 'Subregion', 'ASM'], how='left')\n",
    "layout_df = layout_df.append(df_temp)\n",
    "\n",
    "\n",
    "layout_temp = sfa_df.groupby(by = ['YearMonth', 'Channel', 'Brand', 'Region_Name'])['Layout_Store'].sum().reset_index()\n",
    "layout_temp['Geo_Name'] = layout_temp['Region_Name']\n",
    "layout_temp['Subregion'] = ' '\n",
    "layout_temp['ASM'] = ''\n",
    "\n",
    "ttl_temp = sfa_df.groupby(by = ['YearMonth', 'Channel', 'Brand', 'Region_Name'])['Customer_Code'].count().reset_index()\n",
    "ttl_temp['Geo_Name'] = ttl_temp['Region_Name']\n",
    "ttl_temp['Subregion'] = ' '\n",
    "ttl_temp['ASM'] = ''\n",
    "\n",
    "df_temp = pd.merge(ttl_temp, layout_temp, on=['YearMonth', 'Channel', 'Brand', 'Geo_Name', 'Region_Name', 'Subregion', 'ASM'], how='left')\n",
    "layout_df = layout_df.append(df_temp)\n",
    "\n",
    "\n",
    "layout_temp = sfa_df.groupby(by = ['YearMonth', 'Channel', 'Brand', 'Region_Name', 'Subregion'])['Layout_Store'].sum().reset_index()\n",
    "layout_temp['Geo_Name'] = layout_temp['Subregion']\n",
    "layout_temp['ASM'] = ''\n",
    "\n",
    "ttl_temp = sfa_df.groupby(by = ['YearMonth', 'Channel', 'Brand', 'Region_Name', 'Subregion'])['Customer_Code'].count().reset_index()\n",
    "ttl_temp['Geo_Name'] = ttl_temp['Subregion']\n",
    "ttl_temp['ASM'] = ''\n",
    "\n",
    "df_temp = pd.merge(ttl_temp, layout_temp, on=['YearMonth', 'Channel', 'Brand', 'Geo_Name', 'Region_Name', 'Subregion', 'ASM'], how='left')\n",
    "layout_df = layout_df.append(df_temp)\n",
    "\n",
    "layout_df[\"Customer_Code\"] = layout_df[\"Customer_Code\"].astype(\"float\")\n",
    "layout_df = layout_df.rename(columns={'Customer_Code' : 'Distributed Stores',\n",
    "                                    'Layout_Store' : 'Layout Stores'})"
   ]
  },
  {
   "cell_type": "code",
   "execution_count": null,
   "metadata": {},
   "outputs": [],
   "source": [
    "layout_columns = ['YearMonth', 'Geo_Name', 'Region_Name', 'Subregion', 'ASM', 'Channel', 'Brand', 'Distributed Stores', 'Layout Stores']\n",
    "\n",
    "p3m_df = pd.DataFrame(columns=layout_columns)\n",
    "\n",
    "year = 2020\n",
    "for month in range(5, 7):\n",
    "    year_month = str(year) + str(month).zfill(2)\n",
    "    p3m_list = get_past_3m(year_month)\n",
    "    \n",
    "    p3m_layout = layout_df.loc[layout_df['YearMonth'].isin(p3m_list)].copy()\n",
    "    layout_temp = p3m_layout.groupby(by = ['Geo_Name', 'Region_Name', 'Subregion', 'ASM', 'Channel', 'Brand'])[['Distributed Stores', 'Layout Stores']].mean().reset_index()\n",
    "    layout_temp['YearMonth'] = year_month\n",
    "    \n",
    "    p3m_df = p3m_df.append(layout_temp)\n",
    "    \n",
    "p3m_df = p3m_df.rename(columns={'Distributed Stores': 'P3M Distributed Stores', 'Layout Stores': 'P3M Layout Stores'})\n",
    "p3m_df['P3M Distributed Stores'] = p3m_df['P3M Distributed Stores'].round(0)\n",
    "p3m_df['P3M Layout Stores'] = p3m_df['P3M Layout Stores'].round(0)"
   ]
  },
  {
   "cell_type": "code",
   "execution_count": null,
   "metadata": {},
   "outputs": [],
   "source": [
    "layout_res_df = pd.merge(layout_df, p3m_df, on=['YearMonth', 'Geo_Name', 'Region_Name', 'Subregion', 'ASM', 'Channel', 'Brand'])\n",
    "\n",
    "output_file_path = config[\"project_path\"] + \"/\" \\\n",
    "                    + config[\"temp_folder_path\"] + \"/\" \\\n",
    "                    + config[\"layout_geo_file\"]\n",
    "\n",
    "layout_res_df.to_excel(output_file_path, header=True, index=False, float_format=\"%.2f\")"
   ]
  },
  {
   "cell_type": "markdown",
   "metadata": {},
   "source": [
    "# Weighted Layout"
   ]
  },
  {
   "cell_type": "code",
   "execution_count": null,
   "metadata": {},
   "outputs": [],
   "source": [
    "sfa_cal_df = sfa_input_df\n",
    "sfa_cal_df['Grade_Group'] = sfa_cal_df['Grade_Code'].apply(lambda x:get_Grade_Group(x))\n",
    "sfa_cal_df['Channel'] = sfa_cal_df['Grade_Code'].apply(lambda x:get_Channel(x))\n",
    "sfa_cal_df[\"Brand\"] = sfa_cal_df['SKU'].apply(lambda x:get_brand(x))\n",
    "\n",
    "sellout_cust_sku = sellout_with_brand.groupby(by = ['YearMonth', 'Customer_Code', 'Brand_Stage'])[['Sellout_SP_Value']].sum().reset_index()\n",
    "sellout_cust_sku.columns = ['YearMonth', 'Customer_Code', 'SKU', 'Sellout_SP_Value']\n",
    "\n",
    "sfa_cal_df = pd.merge(sfa_cal_df, sellout_cust_sku, on=['YearMonth', 'Customer_Code'], how='left')\n",
    "sfa_cal_df = sfa_cal_df.fillna({'Sellout_SP_Value':0})\n",
    "sfa_cal_df['Layout_Store'] = sfa_cal_df['Layout_Store'] * sfa_cal_df['Sellout_SP_Value']\n",
    "\n",
    "sfa_df = sfa_cal_df.loc[(sfa_cal_df['Channel']!='Others') & (sfa_cal_df['Distributed_Store']==1)]"
   ]
  },
  {
   "cell_type": "code",
   "execution_count": null,
   "metadata": {},
   "outputs": [],
   "source": [
    "layout_columns = ['YearMonth', 'Geo_Name', 'Region_Name', 'Subregion', 'ASM', 'Channel', 'Sellout_SP_Value', 'Brand' , 'Layout_Store']\n",
    "layout_df = pd.DataFrame(columns=layout_columns)\n",
    "\n",
    "# Total Brand\n",
    "layout_temp = sfa_df.groupby(by = ['YearMonth', 'Channel'])['Layout_Store'].sum().reset_index()\n",
    "layout_temp['Geo_Name'] = '全国'\n",
    "layout_temp['Region_Name'] = ''\n",
    "layout_temp['Subregion'] = ' '\n",
    "layout_temp['ASM'] = ''\n",
    "\n",
    "ttl_temp = sfa_df.groupby(by = ['YearMonth', 'Channel'])['Sellout_SP_Value'].sum().reset_index()\n",
    "ttl_temp['Geo_Name'] = '全国'\n",
    "ttl_temp['Region_Name'] = ''\n",
    "ttl_temp['Subregion'] = ' '\n",
    "ttl_temp['ASM'] = ''\n",
    "\n",
    "df_temp = pd.merge(ttl_temp, layout_temp, on=['YearMonth', 'Channel', 'Geo_Name', 'Region_Name', 'Subregion', 'ASM'], how='left')\n",
    "df_temp['Brand'] = 'TTL'\n",
    "layout_df = layout_df.append(df_temp)\n",
    "\n",
    "\n",
    "layout_temp = sfa_df.groupby(by = ['YearMonth', 'Channel', 'Region_Name'])['Layout_Store'].sum().reset_index()\n",
    "layout_temp['Geo_Name'] = layout_temp['Region_Name']\n",
    "layout_temp['Subregion'] = ' '\n",
    "layout_temp['ASM'] = ''\n",
    "\n",
    "ttl_temp = sfa_df.groupby(by = ['YearMonth', 'Channel', 'Region_Name'])['Sellout_SP_Value'].sum().reset_index()\n",
    "ttl_temp['Geo_Name'] = ttl_temp['Region_Name']\n",
    "ttl_temp['Subregion'] = ' '\n",
    "ttl_temp['ASM'] = ''\n",
    "\n",
    "df_temp = pd.merge(ttl_temp, layout_temp, on=['YearMonth', 'Channel', 'Geo_Name', 'Region_Name', 'Subregion', 'ASM'], how='left')\n",
    "df_temp['Brand'] = 'TTL'\n",
    "layout_df = layout_df.append(df_temp)\n",
    "\n",
    "\n",
    "layout_temp = sfa_df.groupby(by = ['YearMonth', 'Channel', 'Region_Name', 'Subregion'])['Layout_Store'].sum().reset_index()\n",
    "layout_temp['Geo_Name'] = layout_temp['Subregion']\n",
    "layout_temp['ASM'] = ''\n",
    "\n",
    "ttl_temp = sfa_df.groupby(by = ['YearMonth', 'Channel', 'Region_Name', 'Subregion'])['Sellout_SP_Value'].sum().reset_index()\n",
    "ttl_temp['Geo_Name'] = ttl_temp['Subregion']\n",
    "ttl_temp['ASM'] = ''\n",
    "\n",
    "df_temp = pd.merge(ttl_temp, layout_temp, on=['YearMonth', 'Channel', 'Geo_Name', 'Region_Name', 'Subregion', 'ASM'], how='left')\n",
    "df_temp['Brand'] = 'TTL'\n",
    "layout_df = layout_df.append(df_temp)\n",
    "\n",
    "\n",
    "# By Brand\n",
    "layout_temp = sfa_df.groupby(by = ['YearMonth', 'Channel', 'Brand'])['Layout_Store'].sum().reset_index()\n",
    "layout_temp['Geo_Name'] = '全国'\n",
    "layout_temp['Region_Name'] = ''\n",
    "layout_temp['Subregion'] = ' '\n",
    "layout_temp['ASM'] = ''\n",
    "\n",
    "ttl_temp = sfa_df.groupby(by = ['YearMonth', 'Channel', 'Brand'])['Sellout_SP_Value'].sum().reset_index()\n",
    "ttl_temp['Geo_Name'] = '全国'\n",
    "ttl_temp['Region_Name'] = ''\n",
    "ttl_temp['Subregion'] = ' '\n",
    "ttl_temp['ASM'] = ''\n",
    "\n",
    "df_temp = pd.merge(ttl_temp, layout_temp, on=['YearMonth', 'Channel', 'Brand', 'Geo_Name', 'Region_Name', 'Subregion', 'ASM'], how='left')\n",
    "layout_df = layout_df.append(df_temp)\n",
    "\n",
    "\n",
    "layout_temp = sfa_df.groupby(by = ['YearMonth', 'Channel', 'Brand', 'Region_Name'])['Layout_Store'].sum().reset_index()\n",
    "layout_temp['Geo_Name'] = layout_temp['Region_Name']\n",
    "layout_temp['Subregion'] = ' '\n",
    "layout_temp['ASM'] = ''\n",
    "\n",
    "ttl_temp = sfa_df.groupby(by = ['YearMonth', 'Channel', 'Brand', 'Region_Name'])['Sellout_SP_Value'].sum().reset_index()\n",
    "ttl_temp['Geo_Name'] = ttl_temp['Region_Name']\n",
    "ttl_temp['Subregion'] = ' '\n",
    "ttl_temp['ASM'] = ''\n",
    "\n",
    "df_temp = pd.merge(ttl_temp, layout_temp, on=['YearMonth', 'Channel', 'Brand', 'Geo_Name', 'Region_Name', 'Subregion', 'ASM'], how='left')\n",
    "layout_df = layout_df.append(df_temp)\n",
    "\n",
    "\n",
    "layout_temp = sfa_df.groupby(by = ['YearMonth', 'Channel', 'Brand', 'Region_Name', 'Subregion'])['Layout_Store'].sum().reset_index()\n",
    "layout_temp['Geo_Name'] = layout_temp['Subregion']\n",
    "layout_temp['ASM'] = ''\n",
    "\n",
    "ttl_temp = sfa_df.groupby(by = ['YearMonth', 'Channel', 'Brand', 'Region_Name', 'Subregion'])['Sellout_SP_Value'].sum().reset_index()\n",
    "ttl_temp['Geo_Name'] = ttl_temp['Subregion']\n",
    "ttl_temp['ASM'] = ''\n",
    "\n",
    "df_temp = pd.merge(ttl_temp, layout_temp, on=['YearMonth', 'Channel', 'Brand', 'Geo_Name', 'Region_Name', 'Subregion', 'ASM'], how='left')\n",
    "layout_df = layout_df.append(df_temp)\n",
    "\n",
    "layout_df[\"Sellout_SP_Value\"] = layout_df[\"Sellout_SP_Value\"].astype(\"float\")\n",
    "layout_df = layout_df.rename(columns={'Sellout_SP_Value' : 'Weighted Distributed Stores',\n",
    "                                    'Layout_Store' : 'Weighted Layout Stores'})"
   ]
  },
  {
   "cell_type": "code",
   "execution_count": null,
   "metadata": {},
   "outputs": [],
   "source": [
    "layout_columns = ['YearMonth', 'Geo_Name', 'Region_Name', 'Subregion', 'ASM', 'Channel', 'Brand', 'Weighted Distributed Stores', 'Weighted Layout Stores']\n",
    "\n",
    "p3m_df = pd.DataFrame(columns=layout_columns)\n",
    "\n",
    "year = 2020\n",
    "for month in range(5, 7):\n",
    "    year_month = str(year) + str(month).zfill(2)\n",
    "    p3m_list = get_past_3m(year_month)\n",
    "    \n",
    "    p3m_layout = layout_df.loc[layout_df['YearMonth'].isin(p3m_list)].copy()\n",
    "    layout_temp = p3m_layout.groupby(by = ['Geo_Name', 'Region_Name', 'Subregion', 'ASM', 'Channel', 'Brand'])[['Weighted Distributed Stores', 'Weighted Layout Stores']].mean().reset_index()\n",
    "    layout_temp['YearMonth'] = year_month\n",
    "    \n",
    "    p3m_df = p3m_df.append(layout_temp)\n",
    "    \n",
    "p3m_df = p3m_df.rename(columns={'Weighted Distributed Stores': 'P3M Weighted Distributed', 'Weighted Layout Stores': 'P3M Weighted Layout'})"
   ]
  },
  {
   "cell_type": "code",
   "execution_count": null,
   "metadata": {},
   "outputs": [],
   "source": [
    "layout_res_df = pd.merge(layout_df, p3m_df, on=['YearMonth', 'Geo_Name', 'Region_Name', 'Subregion', 'ASM', 'Channel', 'Brand'])\n",
    "\n",
    "output_file_path = config[\"project_path\"] + \"/\" \\\n",
    "                    + config[\"temp_folder_path\"] + \"/\" \\\n",
    "                    + config[\"layout_geo_wt_file\"]\n",
    "\n",
    "layout_res_df.to_excel(output_file_path, header=True, index=False, float_format=\"%.2f\")"
   ]
  },
  {
   "cell_type": "markdown",
   "metadata": {},
   "source": [
    "# OOS "
   ]
  },
  {
   "cell_type": "code",
   "execution_count": null,
   "metadata": {},
   "outputs": [],
   "source": [
    "sfa_cal_df = sfa_input_df\n",
    "sfa_cal_df['Channel'] = sfa_cal_df['Channel'].apply(lambda x:get_Channel(x))\n",
    "sfa_cal_df[\"Brand\"] = sfa_cal_df['SKU'].apply(lambda x:get_brand(x))\n",
    "\n",
    "sfa_cal_df['Grade_Group'] = sfa_cal_df['Grade_Code'].apply(lambda x:get_Grade_Group(x))"
   ]
  },
  {
   "cell_type": "code",
   "execution_count": null,
   "metadata": {},
   "outputs": [],
   "source": [
    "sfa_df = sfa_cal_df.loc[(sfa_cal_df['Channel']!='Others') & (sfa_cal_df['Distributed_Store']==1)]"
   ]
  },
  {
   "cell_type": "code",
   "execution_count": null,
   "metadata": {},
   "outputs": [],
   "source": [
    "oos_columns = ['YearMonth', 'Grade_Group', 'Account_Name', 'Brand', 'SKU', 'Total_Stores', 'Shortage_Store']\n",
    "\n",
    "oos_df = pd.DataFrame(columns=oos_columns)\n",
    "\n",
    "oos_temp = sfa_df.groupby(by = ['YearMonth'])['Shortage_Store'].sum().reset_index()\n",
    "oos_temp['Account_Name'] = ''\n",
    "oos_temp['Grade_Group'] = 'Offline'\n",
    "oos_temp['Brand'] = 'ELN DC'\n",
    "oos_temp['SKU'] = 'ELN DC'\n",
    "\n",
    "ttl_temp = sfa_df.groupby(by = ['YearMonth'])['Customer_Code'].count().reset_index()\n",
    "ttl_temp['Account_Name'] = ''\n",
    "ttl_temp['Grade_Group'] = 'Offline'\n",
    "ttl_temp['Brand'] = 'ELN DC'\n",
    "ttl_temp['SKU'] = 'ELN DC'\n",
    "\n",
    "df_temp = pd.merge(ttl_temp, oos_temp, on=['YearMonth', 'Grade_Group', 'Account_Name', 'Brand', 'SKU'], how='left')\n",
    "df_temp = df_temp.rename(columns={'Customer_Code': 'Total_Stores'})\n",
    "oos_df = oos_df.append(df_temp)\n",
    "\n",
    "\n",
    "oos_temp = sfa_df.groupby(by = ['YearMonth', 'Brand'])['Shortage_Store'].sum().reset_index()\n",
    "oos_temp['Account_Name'] = ''\n",
    "oos_temp['Grade_Group'] = 'Offline'\n",
    "oos_temp['SKU'] = oos_temp['Brand']\n",
    "oos_temp['Brand'] = 'ELN DC'\n",
    "\n",
    "ttl_temp = sfa_df.groupby(by = ['YearMonth', 'Brand'])['Customer_Code'].count().reset_index()\n",
    "ttl_temp['Account_Name'] = ''\n",
    "ttl_temp['Grade_Group'] = 'Offline'\n",
    "ttl_temp['SKU'] =ttl_temp['Brand']\n",
    "ttl_temp['Brand'] = 'ELN DC'\n",
    "\n",
    "df_temp = pd.merge(ttl_temp, oos_temp, on=['YearMonth', 'Grade_Group', 'Account_Name', 'Brand', 'SKU'], how='left')\n",
    "df_temp = df_temp.rename(columns={'Customer_Code': 'Total_Stores'})\n",
    "oos_df = oos_df.append(df_temp)\n",
    "\n",
    "\n",
    "oos_temp = sfa_df.groupby(by = ['YearMonth', 'Brand', 'SKU'])['Shortage_Store'].sum().reset_index()\n",
    "oos_temp['Account_Name'] = ''\n",
    "oos_temp['Grade_Group'] = 'Offline'\n",
    "ttl_temp = sfa_df.groupby(by = ['YearMonth', 'Brand', 'SKU'])['Customer_Code'].count().reset_index()\n",
    "ttl_temp['Account_Name'] = ''\n",
    "ttl_temp['Grade_Group'] = 'Offline'\n",
    "\n",
    "df_temp = pd.merge(ttl_temp, oos_temp, on=['YearMonth', 'Grade_Group', 'Account_Name', 'Brand', 'SKU'], how='left')\n",
    "df_temp = df_temp.rename(columns={'Customer_Code': 'Total_Stores'})\n",
    "oos_df = oos_df.append(df_temp)"
   ]
  },
  {
   "cell_type": "code",
   "execution_count": null,
   "metadata": {},
   "outputs": [],
   "source": [
    "oos_temp = sfa_df.groupby(by = ['YearMonth', 'Grade_Group'])['Shortage_Store'].sum().reset_index()\n",
    "oos_temp['Account_Name'] = ''\n",
    "oos_temp['Brand'] = 'ELN DC'\n",
    "oos_temp['SKU'] = 'ELN DC'\n",
    "\n",
    "ttl_temp = sfa_df.groupby(by = ['YearMonth', 'Grade_Group'])['Customer_Code'].count().reset_index()\n",
    "ttl_temp['Account_Name'] = ''\n",
    "ttl_temp['Brand'] = 'ELN DC'\n",
    "ttl_temp['SKU'] = 'ELN DC'\n",
    "\n",
    "df_temp = pd.merge(ttl_temp, oos_temp, on=['YearMonth', 'Grade_Group', 'Account_Name', 'Brand', 'SKU'], how='left')\n",
    "df_temp = df_temp.rename(columns={'Customer_Code': 'Total_Stores'})\n",
    "oos_df = oos_df.append(df_temp)\n",
    "\n",
    "\n",
    "oos_temp = sfa_df.groupby(by = ['YearMonth', 'Grade_Group', 'Brand'])['Shortage_Store'].sum().reset_index()\n",
    "oos_temp['Account_Name'] = ''\n",
    "oos_temp['SKU'] = oos_temp['Brand']\n",
    "oos_temp['Brand'] = 'ELN DC'\n",
    "\n",
    "ttl_temp = sfa_df.groupby(by = ['YearMonth', 'Grade_Group', 'Brand'])['Customer_Code'].count().reset_index()\n",
    "ttl_temp['Account_Name'] = ''\n",
    "ttl_temp['SKU'] =ttl_temp['Brand']\n",
    "ttl_temp['Brand'] = 'ELN DC'\n",
    "\n",
    "df_temp = pd.merge(ttl_temp, oos_temp, on=['YearMonth', 'Grade_Group', 'Account_Name', 'Brand', 'SKU'], how='left')\n",
    "df_temp = df_temp.rename(columns={'Customer_Code': 'Total_Stores'})\n",
    "oos_df = oos_df.append(df_temp)\n",
    "\n",
    "\n",
    "oos_temp = sfa_df.groupby(by = ['YearMonth', 'Grade_Group', 'Brand', 'SKU'])['Shortage_Store'].sum().reset_index()\n",
    "oos_temp['Account_Name'] = ''\n",
    "ttl_temp = sfa_df.groupby(by = ['YearMonth', 'Grade_Group', 'Brand', 'SKU'])['Customer_Code'].count().reset_index()\n",
    "ttl_temp['Account_Name'] = ''\n",
    "\n",
    "df_temp = pd.merge(ttl_temp, oos_temp, on=['YearMonth', 'Grade_Group', 'Account_Name', 'Brand', 'SKU'], how='left')\n",
    "df_temp = df_temp.rename(columns={'Customer_Code': 'Total_Stores'})\n",
    "oos_df = oos_df.append(df_temp)"
   ]
  },
  {
   "cell_type": "code",
   "execution_count": null,
   "metadata": {},
   "outputs": [],
   "source": [
    "oos_temp = sfa_df.groupby(by = ['YearMonth', 'Grade_Group', 'Account_Name'])['Shortage_Store'].sum().reset_index()\n",
    "oos_temp['Brand'] = 'ELN DC'\n",
    "oos_temp['SKU'] = 'ELN DC'\n",
    "\n",
    "ttl_temp = sfa_df.groupby(by = ['YearMonth', 'Grade_Group', 'Account_Name'])['Customer_Code'].count().reset_index()\n",
    "ttl_temp['Brand'] = 'ELN DC'\n",
    "ttl_temp['SKU'] = 'ELN DC'\n",
    "\n",
    "df_temp = pd.merge(ttl_temp, oos_temp, on=['YearMonth', 'Grade_Group', 'Account_Name', 'Brand', 'SKU'], how='left')\n",
    "df_temp = df_temp.rename(columns={'Customer_Code': 'Total_Stores'})\n",
    "oos_df = oos_df.append(df_temp)\n",
    "\n",
    "\n",
    "oos_temp = sfa_df.groupby(by = ['YearMonth', 'Grade_Group', 'Account_Name', 'Brand'])['Shortage_Store'].sum().reset_index()\n",
    "oos_temp['SKU'] = oos_temp['Brand']\n",
    "oos_temp['Brand'] = 'ELN DC'\n",
    "\n",
    "ttl_temp = sfa_df.groupby(by = ['YearMonth', 'Grade_Group', 'Account_Name', 'Brand'])['Customer_Code'].count().reset_index()\n",
    "ttl_temp['SKU'] =ttl_temp['Brand']\n",
    "ttl_temp['Brand'] = 'ELN DC'\n",
    "\n",
    "df_temp = pd.merge(ttl_temp, oos_temp, on=['YearMonth', 'Grade_Group', 'Account_Name', 'Brand', 'SKU'], how='left')\n",
    "df_temp = df_temp.rename(columns={'Customer_Code': 'Total_Stores'})\n",
    "oos_df = oos_df.append(df_temp)\n",
    "\n",
    "\n",
    "oos_temp = sfa_df.groupby(by = ['YearMonth', 'Grade_Group', 'Account_Name', 'Brand', 'SKU'])['Shortage_Store'].sum().reset_index()\n",
    "ttl_temp = sfa_df.groupby(by = ['YearMonth', 'Grade_Group', 'Account_Name', 'Brand', 'SKU'])['Customer_Code'].count().reset_index()\n",
    "\n",
    "df_temp = pd.merge(ttl_temp, oos_temp, on=['YearMonth', 'Grade_Group', 'Account_Name', 'Brand', 'SKU'], how='left')\n",
    "df_temp = df_temp.rename(columns={'Customer_Code': 'Total_Stores'})\n",
    "oos_df = oos_df.append(df_temp)"
   ]
  },
  {
   "cell_type": "code",
   "execution_count": null,
   "metadata": {},
   "outputs": [],
   "source": [
    "oos_df['OOS_Rate'] = oos_df['Shortage_Store'] / oos_df['Total_Stores']"
   ]
  },
  {
   "cell_type": "code",
   "execution_count": null,
   "metadata": {},
   "outputs": [],
   "source": [
    "output_file_path = config[\"project_path\"] + \"/\" \\\n",
    "                    + config[\"temp_folder_path\"] + \"/\" \\\n",
    "                    + config[\"OOS_grade_file\"]\n",
    "\n",
    "oos_df.to_excel(output_file_path, header=True, index=False, float_format=\"%.2f\")"
   ]
  },
  {
   "cell_type": "code",
   "execution_count": null,
   "metadata": {},
   "outputs": [],
   "source": []
  }
 ],
 "metadata": {
  "kernelspec": {
   "display_name": "Python 3",
   "language": "python",
   "name": "python3"
  },
  "language_info": {
   "codemirror_mode": {
    "name": "ipython",
    "version": 3
   },
   "file_extension": ".py",
   "mimetype": "text/x-python",
   "name": "python",
   "nbconvert_exporter": "python",
   "pygments_lexer": "ipython3",
   "version": "3.7.6"
  }
 },
 "nbformat": 4,
 "nbformat_minor": 4
}
