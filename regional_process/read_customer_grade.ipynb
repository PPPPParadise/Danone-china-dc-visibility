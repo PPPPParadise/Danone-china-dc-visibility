{
 "cells": [
  {
   "cell_type": "code",
   "execution_count": null,
   "metadata": {},
   "outputs": [],
   "source": [
    "import pandas as pd"
   ]
  },
  {
   "cell_type": "code",
   "execution_count": null,
   "metadata": {},
   "outputs": [],
   "source": [
    "config = {}\n",
    "\n",
    "config[\"project_path\"] = \"..\"\n",
    "config[\"data_folder_path\"] = \"regional_data\"\n",
    "config[\"temp_folder_path\"] = \"regional_temp\"\n",
    "\n",
    "# input files\n",
    "config[\"customer_input_file\"] = \"DW_DIM_Customer_202004-05.csv\"                                 \n",
    "\n",
    "# output files\n",
    "config[\"customer_out_file\"] = \"customer_code_account_name.xlsx\""
   ]
  },
  {
   "cell_type": "code",
   "execution_count": null,
   "metadata": {},
   "outputs": [],
   "source": [
    "customer_columns = [\"YearMonth\",\"Customer_Code\",\"Customer_Name\",\"DC_Customer_Code\",\n",
    "                        \"DC_Customer_Name\",\"Distributor_Code\",\"Distributor_Name\",\"Sales_City_Code\",\n",
    "                        \"Sales_City_Name\",\"Township\",\"CBU\",\"Account_Code\",\"Account_Name\",\"Channel_Code\",\n",
    "                        \"Channel_Name\",\"Grade_Group_Code\",\"Grade_Code\",\"Grade_Name\",\"SP_Group3\",\n",
    "                        \"Retailer\",\"Contact_Person\",\"Tel_Number\",\"Organization\",\"Address\",\n",
    "                        \"Post_Code\",\"SupplyType_Code\",\"SupplyType_Name\",\"CustomerClass_Code\",\n",
    "                        \"CustomerClass_Name\",\"CustomerType\",\"PlanAccount\",\"EA_Platform\",\n",
    "                        \"Customer_Code_DMS\",\"SalesRep_Code\",\"SalesRep_Name\",\"RTMStore\",\n",
    "                        \"Call_Freq\",\"PCStore\",\"PC_Number\",\"ExpenseStore\",\"Expense_Code\",\n",
    "                        \"Discount\",\"NCLevel\",\"Remaks\",\"Validity\",\"Compact_Name\",\"QualifiedStore\",\n",
    "                        \"Close_Reason\",\"Opentime\",\"Closetime\",\"Longitude\",\"Latitude\",\n",
    "                        \"Customer_Code_DYG\",\"Ship_To_Code\",\"DC_City_Level\",\"Data_CreationTime\",\n",
    "                        \"DC_Customer_City_Code\",\"DC_Customer_City_Name\",\"DC_Customer_City_Level\"]"
   ]
  },
  {
   "cell_type": "code",
   "execution_count": null,
   "metadata": {},
   "outputs": [],
   "source": [
    "input_file_path = config[\"project_path\"] + \"/\" \\\n",
    "        + config[\"data_folder_path\"] + \"/\" \\\n",
    "        + config[\"customer_input_file\"]\n",
    "\n",
    "customer_input_df = pd.read_csv(input_file_path, header=0, dtype=str)\n",
    "customer_input_df.columns = customer_columns"
   ]
  },
  {
   "cell_type": "code",
   "execution_count": null,
   "metadata": {},
   "outputs": [],
   "source": [
    "output_df = customer_input_df[[\"Customer_Code\",\"Account_Name\"]].drop_duplicates()"
   ]
  },
  {
   "cell_type": "code",
   "execution_count": null,
   "metadata": {},
   "outputs": [],
   "source": [
    "output_file_path = config[\"project_path\"] \\\n",
    "                        + \"/\" + config[\"data_folder_path\"] \\\n",
    "                        + \"/\" + config[\"customer_out_file\"]\n",
    "\n",
    "output_df.to_excel(output_file_path, header=True, index=False)"
   ]
  }
 ],
 "metadata": {
  "kernelspec": {
   "display_name": "Python 3",
   "language": "python",
   "name": "python3"
  },
  "language_info": {
   "codemirror_mode": {
    "name": "ipython",
    "version": 3
   },
   "file_extension": ".py",
   "mimetype": "text/x-python",
   "name": "python",
   "nbconvert_exporter": "python",
   "pygments_lexer": "ipython3",
   "version": "3.7.6"
  }
 },
 "nbformat": 4,
 "nbformat_minor": 4
}
