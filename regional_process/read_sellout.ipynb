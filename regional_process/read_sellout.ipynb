{
 "cells": [
  {
   "cell_type": "code",
   "execution_count": null,
   "metadata": {},
   "outputs": [],
   "source": [
    "import pandas as pd\n",
    "import operator\n",
    "import time\n",
    "import numpy as np"
   ]
  },
  {
   "cell_type": "code",
   "execution_count": null,
   "metadata": {},
   "outputs": [],
   "source": [
    "config = {}\n",
    "\n",
    "config[\"project_path\"] = \"..\"\n",
    "config[\"data_folder_path\"] = \"regional_data\"\n",
    "config[\"temp_folder_path\"] = \"regional_temp\"\n",
    "\n",
    "# input files\n",
    "config[\"sellout_input_files\"] = [\"DW_Fact_Sellout_NoneSplit_2017-2019_20191219.csv\", 'DW_Fact_Sellout_NoneSplit_202001-03.csv', 'DW_Fact_Sellout_NoneSplit_202004-05.csv', 'DW_Fact_Sellout_NoneSplit_202006.csv']\n",
    "config[\"sellout_20191112_input_files\"] = \"DW_Fact_Sellout_NoneSplit_20191112_20200120.csv\"\n",
    "config[\"product_file\"] = \"DW_DIM_Product_20200609.csv\"\n",
    "config[\"customer_input_file\"] = [\"2020 MDM.xlsx\"]\n",
    "config[\"grade_channel_file\"] = \"grade_channel.xlsx\"\n",
    "config[\"customer_acct_file\"] = \"customer_code_account_name.xlsx\"\n",
    "\n",
    "# output files\n",
    "config[\"sell_out_file\"] = \"sellout_202005_YTD.xlsx\""
   ]
  },
  {
   "cell_type": "code",
   "execution_count": null,
   "metadata": {},
   "outputs": [],
   "source": [
    "# schema of input file\n",
    "sellout_columns = ['YearMonth', 'Data_Source', 'Bill_Date', 'Bill_Type', \n",
    "                   'Distributor_Code_DMS', 'Distributor_Code', 'Client_Code', \n",
    "                   'Client_Name', 'EA_Platform', 'Ship_To_Code', \n",
    "                   'Inventory_location', 'Customer_Code', 'Product_Code', \n",
    "                   'Sellout_Qty', 'Sellout_SP_Value', 'Sellout_Channel_Value', \n",
    "                   'ETL_DateTime', 'Data_CreationTime']\n",
    "\n",
    "# Only below columns from input file are needed\n",
    "select_columns = ['YearMonth','Distributor_Code','Customer_Code',\n",
    "                  'Product_Code','Sellout_SP_Value']\n",
    "sellout_df = pd.DataFrame(columns=select_columns)"
   ]
  },
  {
   "cell_type": "code",
   "execution_count": null,
   "metadata": {},
   "outputs": [],
   "source": [
    "for sellout_input_file in config[\"sellout_input_files\"]:\n",
    "    input_file_path = config[\"project_path\"] + \"/\" \\\n",
    "                        + config[\"data_folder_path\"] + \"/\" \\\n",
    "                        + sellout_input_file\n",
    "    input_df = pd.read_csv(input_file_path, header = None, dtype=str).fillna('0')\n",
    "    input_df.columns = sellout_columns\n",
    "    if operator.eq(list(input_df.loc[0]),list(sellout_columns))== True:\n",
    "        input_df = input_df.drop([0])\n",
    "    input_df = input_df[select_columns]\n",
    "    sellout_df = sellout_df.append(input_df, ignore_index=True)"
   ]
  },
  {
   "cell_type": "code",
   "execution_count": null,
   "metadata": {},
   "outputs": [],
   "source": [
    "# sellout_input_files contains incomplete 201912 data. Needs to be filtered out\n",
    "sellout_df = sellout_df.loc[(sellout_df[\"YearMonth\"] != \"201912\")]"
   ]
  },
  {
   "cell_type": "code",
   "execution_count": null,
   "metadata": {},
   "outputs": [],
   "source": [
    "# Add complete 201912 data from a seperate file\n",
    "\n",
    "input_file_path = config[\"project_path\"] + \"/\" \\\n",
    "                        + config[\"data_folder_path\"] + \"/\" \\\n",
    "                        + config[\"sellout_20191112_input_files\"]\n",
    "\n",
    "input_df = pd.read_csv(input_file_path, header = None, dtype=str).fillna('0')\n",
    "input_df.columns = sellout_columns\n",
    "if operator.eq(list(input_df.loc[0]),list(sellout_columns))== True:\n",
    "    input_df = input_df.drop([0])\n",
    "input_df = input_df[select_columns]\n",
    "\n",
    "input_df = input_df.loc[(input_df[\"YearMonth\"] == \"201912\")]\n",
    "\n",
    "sellout_df = sellout_df.append(input_df, ignore_index=True)"
   ]
  },
  {
   "cell_type": "code",
   "execution_count": null,
   "metadata": {},
   "outputs": [],
   "source": [
    "def remove_starting_zero(customer_code):\n",
    "    if customer_code.startswith(\"0\"):\n",
    "        return customer_code[1:]\n",
    "    return customer_code"
   ]
  },
  {
   "cell_type": "code",
   "execution_count": null,
   "metadata": {},
   "outputs": [],
   "source": [
    "sellout_df[\"Sellout_SP_Value\"] = sellout_df[\"Sellout_SP_Value\"].astype(\"float\")\n",
    "sellout_df[\"Product_Code\"] = sellout_df[\"Product_Code\"].astype(\"str\")\n",
    "sellout_df[\"Customer_Code\"] = sellout_df[\"Customer_Code\"].astype(\"str\")\n",
    "sellout_df[\"Distributor_Code\"] = sellout_df[\"Distributor_Code\"].astype(\"str\")\n",
    "sellout_df[\"YearMonth\"] = sellout_df[\"YearMonth\"].astype(\"str\")\n",
    "\n",
    "sellout_df[\"Customer_Code\"] = sellout_df['Customer_Code'].apply(lambda x:remove_starting_zero(x))"
   ]
  },
  {
   "cell_type": "markdown",
   "metadata": {},
   "source": [
    "# Read product code and related brandstage, brand information"
   ]
  },
  {
   "cell_type": "code",
   "execution_count": null,
   "metadata": {},
   "outputs": [],
   "source": [
    "product_brand_columns = [\"Product_Code\", \"Product_Short_NameEN\"]\n",
    "\n",
    "input_file_path = config[\"project_path\"] + \"/\" + config[\"data_folder_path\"] + \"/\" + config[\"product_file\"]\n",
    "\n",
    "product_brand_input_df = pd.read_csv(input_file_path, header=0, dtype=str)[product_brand_columns]\n",
    "\n",
    "product_brand_output_df = product_brand_input_df.drop_duplicates().reset_index(drop=True)\n",
    "\n",
    "product_brand_output_df.columns = [\"Product_Code\", \"Brand_Stage\"]\n",
    "\n",
    "product_brand_output_df = product_brand_output_df.dropna()\n",
    "\n",
    "product_brand_output_df[\"Brand\"] = product_brand_output_df[\"Brand_Stage\"].str.slice(0, 2)\n",
    "\n",
    "# Add sepcial product code for brands and all brands\n",
    "product_brand_output_df = product_brand_output_df.append(\n",
    "                        [{\"Product_Code\":\"10332781\", \"Brand_Stage\": \"NC\", \"Brand\": \"NC\"}], ignore_index=True)\n",
    "\n",
    "product_brand_output_df = product_brand_output_df.append(\n",
    "                        [{\"Product_Code\":\"10332872\", \"Brand_Stage\": \"AC\", \"Brand\": \"AC\"}], ignore_index=True)\n",
    "\n",
    "product_brand_output_df = product_brand_output_df.append(\n",
    "                        [{\"Product_Code\":\"10332873\", \"Brand_Stage\": \"AP\", \"Brand\": \"AP\"}], ignore_index=True)\n",
    "\n",
    "product_brand_output_df = product_brand_output_df.append(\n",
    "                        [{\"Product_Code\":\"10332778\", \"Brand_Stage\": \"ELN\", \"Brand\": \"ELN\"}], ignore_index=True)"
   ]
  },
  {
   "cell_type": "code",
   "execution_count": null,
   "metadata": {},
   "outputs": [],
   "source": [
    "sellout_with_brand = pd.merge(sellout_df, product_brand_output_df, on=\"Product_Code\", how=\"left\")\n",
    "sellout_with_brand = sellout_with_brand[sellout_with_brand.Brand.isin([\"AC\", \"NC\", \"AP\"])]"
   ]
  },
  {
   "cell_type": "code",
   "execution_count": null,
   "metadata": {},
   "outputs": [],
   "source": [
    "sellout_with_brand_agg = sellout_with_brand.groupby(by = ['YearMonth','Distributor_Code','Customer_Code','Brand'])['Sellout_SP_Value'].sum().reset_index()\n",
    "\n",
    "sellout_2019 = sellout_with_brand_agg.loc[(sellout_with_brand_agg['YearMonth'] <='201912') & (sellout_with_brand_agg['YearMonth'] >='201810') ].copy()\n",
    "sellout_2020 = sellout_with_brand_agg.loc[sellout_with_brand_agg['YearMonth'] >='202001' ].copy()"
   ]
  },
  {
   "cell_type": "markdown",
   "metadata": {},
   "source": [
    "# Read Customer information"
   ]
  },
  {
   "cell_type": "code",
   "execution_count": null,
   "metadata": {},
   "outputs": [],
   "source": [
    "# Read customer information\n",
    "\n",
    "select_columns = ['YearMonth','Customer_Code','Grade_Code',\n",
    "                  'region_name','subregion_name', 'province_name']\n",
    "\n",
    "customer_input_df = pd.DataFrame(columns=select_columns)"
   ]
  },
  {
   "cell_type": "code",
   "execution_count": null,
   "metadata": {},
   "outputs": [],
   "source": [
    "for customer_input_file in config[\"customer_input_file\"]:\n",
    "    input_file_path = config[\"project_path\"] + \"/\" \\\n",
    "                        + config[\"data_folder_path\"] + \"/\" \\\n",
    "                        + customer_input_file\n",
    "    input_df = pd.read_excel(input_file_path, dtype=str)[select_columns]\n",
    "    customer_input_df = customer_input_df.append(input_df)"
   ]
  },
  {
   "cell_type": "code",
   "execution_count": null,
   "metadata": {},
   "outputs": [],
   "source": [
    "customer_df = customer_input_df\n",
    "\n",
    "customer_df.columns = ['YearMonth', 'Customer_Code', 'Grade', 'Region_Name', 'Subregion_Name', 'Province_Name']\n",
    "\n",
    "customer_2019_df = customer_df.loc[customer_df['YearMonth'] == '202001'].copy()\n",
    "customer_2019_df = customer_2019_df.drop(columns=['YearMonth'])"
   ]
  },
  {
   "cell_type": "code",
   "execution_count": null,
   "metadata": {},
   "outputs": [],
   "source": [
    "sellout_2019_cust = pd.merge(sellout_2019, customer_2019_df, on=['Customer_Code'], how='left')\n",
    "\n",
    "sellout_2020_cust = pd.merge(sellout_2020, customer_df, on=['YearMonth', 'Customer_Code'], how='left')\n",
    "\n",
    "sellout_with_cust= sellout_2019_cust.append(sellout_2020_cust)"
   ]
  },
  {
   "cell_type": "code",
   "execution_count": null,
   "metadata": {},
   "outputs": [],
   "source": [
    "input_file_path = config[\"project_path\"] + \"/\" \\\n",
    "                    + config[\"data_folder_path\"] + \"/\" \\\n",
    "                    + config[\"grade_channel_file\"] \n",
    "\n",
    "grade_df = pd.read_excel(input_file_path, dtype=str)"
   ]
  },
  {
   "cell_type": "code",
   "execution_count": null,
   "metadata": {},
   "outputs": [],
   "source": [
    "sellout_with_grade = pd.merge(sellout_with_cust, grade_df, on=['Grade'], how='left')\n",
    "\n",
    "sellout_with_grade = sellout_with_grade.fillna({'Channel': 'Unassigned'})\n",
    "\n",
    "sellout_with_grade[sellout_with_grade['Channel'] =='Unassigned']"
   ]
  },
  {
   "cell_type": "code",
   "execution_count": null,
   "metadata": {},
   "outputs": [],
   "source": [
    "sellout_with_grade[sellout_with_grade['Channel'] =='Unassigned'][['Sellout_SP_Value']].sum()"
   ]
  },
  {
   "cell_type": "code",
   "execution_count": null,
   "metadata": {},
   "outputs": [],
   "source": [
    "input_file_path = config[\"project_path\"] + \"/\" \\\n",
    "                    + config[\"data_folder_path\"] + \"/\" \\\n",
    "                    + config[\"customer_acct_file\"] \n",
    "\n",
    "acct_df = pd.read_excel(input_file_path, dtype=str)\n",
    "acct_df['Customer_Code'] = acct_df['Customer_Code'].apply(lambda x:remove_starting_zero(x))"
   ]
  },
  {
   "cell_type": "code",
   "execution_count": null,
   "metadata": {},
   "outputs": [],
   "source": [
    "sellout_with_acct = pd.merge(sellout_with_grade, acct_df, on=['Customer_Code'], how='left')\n",
    "\n",
    "sellout_with_acct = sellout_with_acct.fillna({'Account_Name': 'Unassigned'})"
   ]
  },
  {
   "cell_type": "code",
   "execution_count": null,
   "metadata": {},
   "outputs": [],
   "source": [
    "sellout_with_acct[sellout_with_acct['Account_Name'] =='Unassigned']"
   ]
  },
  {
   "cell_type": "markdown",
   "metadata": {},
   "source": [
    "# GT-DC Logic"
   ]
  },
  {
   "cell_type": "code",
   "execution_count": null,
   "metadata": {},
   "outputs": [],
   "source": [
    "def change_region_name(row):\n",
    "    if row[\"Channel\"] == \"GT-DC\":\n",
    "        return \"GT-DC\"\n",
    "    return row[\"Region_Name\"]\n",
    "\n",
    "sellout_with_acct[\"Region_Name\"] = sellout_with_acct.apply(change_region_name, axis=1)\n",
    "\n",
    "\n",
    "def change_subregion_name(row):\n",
    "    if row[\"Channel\"] == \"GT-DC\":\n",
    "        return \"GT-DC\"\n",
    "    return row[\"Subregion_Name\"]\n",
    "\n",
    "sellout_with_acct[\"Subregion_Name\"] = sellout_with_acct.apply(change_subregion_name, axis=1)\n",
    "\n",
    "\n",
    "def change_province_Name(row):\n",
    "    if row[\"Channel\"] == \"GT-DC\":\n",
    "        return \"GT-DC\"\n",
    "    return row[\"Province_Name\"]\n",
    "\n",
    "sellout_with_acct[\"Province_Name\"] = sellout_with_acct.apply(change_province_Name, axis=1)"
   ]
  },
  {
   "cell_type": "code",
   "execution_count": null,
   "metadata": {},
   "outputs": [],
   "source": [
    "output_file_path = config[\"project_path\"] \\\n",
    "                        + \"/\" + config[\"temp_folder_path\"] \\\n",
    "                        + \"/\" + 'sellout_2019_2020.xlsx'\n",
    "\n",
    "sellout_with_acct.to_excel(output_file_path, header=True, index=False)"
   ]
  },
  {
   "cell_type": "markdown",
   "metadata": {},
   "source": [
    "# P3M by store"
   ]
  },
  {
   "cell_type": "code",
   "execution_count": null,
   "metadata": {},
   "outputs": [],
   "source": [
    "def get_past_3m(yearmonth):\n",
    "    yearmonth_int = int(yearmonth)\n",
    "    p3m_list = []\n",
    "    for i in range(3):\n",
    "        yearmonth_int = yearmonth_int - 1\n",
    "        if yearmonth_int%100 == 0:\n",
    "            yearmonth_int = yearmonth_int - 100\n",
    "            yearmonth_int = yearmonth_int + 12\n",
    "        p3m_list = p3m_list + [str(yearmonth_int)]\n",
    "    return p3m_list"
   ]
  },
  {
   "cell_type": "code",
   "execution_count": null,
   "metadata": {},
   "outputs": [],
   "source": [
    "p3m_columns = ['YearMonth', 'Distributor_Code', 'Customer_Code', 'Brand',\n",
    "       'Sellout_SP_Value', 'Grade', 'Region_Name', 'Subregion_Name',\n",
    "       'Province_Name', 'Channel', 'P3M_Sellout']\n",
    "\n",
    "p3m_df = pd.DataFrame(columns=p3m_columns)"
   ]
  },
  {
   "cell_type": "code",
   "execution_count": null,
   "metadata": {},
   "outputs": [],
   "source": [
    "year = 2020\n",
    "for month in range(1, 7):\n",
    "    year_month = str(year) + str(month).zfill(2)\n",
    "    p3m_list = get_past_3m(year_month)\n",
    "    \n",
    "    current_sellout = sellout_with_acct.loc[sellout_with_acct['YearMonth'] == year_month].copy()\n",
    "    p3m_sellout = sellout_with_acct.loc[sellout_with_acct['YearMonth'].isin(p3m_list)].copy()\n",
    "    \n",
    "    sellout_temp = p3m_sellout.groupby(by = ['YearMonth', 'Brand', 'Customer_Code'])['Sellout_SP_Value'].sum().reset_index()\n",
    "    sellout_temp = sellout_temp.groupby(by = ['Brand', 'Customer_Code'])['Sellout_SP_Value'].mean().reset_index()\n",
    "    sellout_temp[\"Brand\"] = sellout_temp[\"Brand\"].astype(\"str\")\n",
    "    sellout_temp[\"Customer_Code\"] = sellout_temp[\"Customer_Code\"].astype(\"str\")\n",
    "    sellout_temp = sellout_temp.rename(columns={'Sellout_SP_Value': 'P3M_Sellout'})\n",
    "\n",
    "    p3m_temp = pd.merge(current_sellout, sellout_temp, on=['Brand', 'Customer_Code'], how = 'left').fillna({'P3M_Sellout':0})\n",
    "    \n",
    "    p3m_df = p3m_df.append(p3m_temp)\n",
    "    \n",
    "    \n",
    "year = 2019\n",
    "for month in range(1, 13):\n",
    "    year_month = str(year) + str(month).zfill(2)\n",
    "    p3m_list = get_past_3m(year_month)\n",
    "    \n",
    "    current_sellout = sellout_with_acct.loc[sellout_with_acct['YearMonth'] == year_month].copy()\n",
    "    p3m_sellout = sellout_with_acct.loc[sellout_with_acct['YearMonth'].isin(p3m_list)].copy()\n",
    "    \n",
    "    sellout_temp = p3m_sellout.groupby(by = ['YearMonth', 'Brand', 'Customer_Code'])['Sellout_SP_Value'].sum().reset_index()\n",
    "    sellout_temp = sellout_temp.groupby(by = ['Brand', 'Customer_Code'])['Sellout_SP_Value'].mean().reset_index()\n",
    "    sellout_temp[\"Brand\"] = sellout_temp[\"Brand\"].astype(\"str\")\n",
    "    sellout_temp[\"Customer_Code\"] = sellout_temp[\"Customer_Code\"].astype(\"str\")\n",
    "    sellout_temp = sellout_temp.rename(columns={'Sellout_SP_Value': 'P3M_Sellout'})\n",
    "\n",
    "    p3m_temp = pd.merge(current_sellout, sellout_temp, on=['Brand', 'Customer_Code'], how = 'left').fillna({'P3M_Sellout':0})\n",
    "    \n",
    "    p3m_df = p3m_df.append(p3m_temp)"
   ]
  },
  {
   "cell_type": "code",
   "execution_count": null,
   "metadata": {},
   "outputs": [],
   "source": [
    "p3m_df = p3m_df.drop(columns=['P3M_Sellout'])"
   ]
  },
  {
   "cell_type": "code",
   "execution_count": null,
   "metadata": {},
   "outputs": [],
   "source": [
    "output_file_path = config[\"project_path\"] \\\n",
    "                        + \"/\" + config[\"temp_folder_path\"] \\\n",
    "                        + \"/\" + 'sellout_P3M_2019_2020.xlsx'\n",
    "\n",
    "p3m_df.to_excel(output_file_path, header=True, index=False)"
   ]
  },
  {
   "cell_type": "markdown",
   "metadata": {},
   "source": [
    "# GT Segment"
   ]
  },
  {
   "cell_type": "code",
   "execution_count": null,
   "metadata": {},
   "outputs": [],
   "source": [
    "year_month = \"202006\""
   ]
  },
  {
   "cell_type": "code",
   "execution_count": null,
   "metadata": {},
   "outputs": [],
   "source": [
    "def get_gt_segment(sellout):\n",
    "    if (sellout<=5000) & (sellout>0):\n",
    "        return \"0-5K\"\n",
    "    elif  sellout<=10000:\n",
    "        return \"5K-10K\"\n",
    "    elif sellout > 10000:\n",
    "        return \">10K\"\n",
    "    else:\n",
    "        return \"Others\""
   ]
  },
  {
   "cell_type": "code",
   "execution_count": null,
   "metadata": {},
   "outputs": [],
   "source": [
    "gt_seg_columns = ['YearMonth', 'Customer_Code', 'Sellout_SP_Value', 'Segment']\n",
    "\n",
    "gt_seg_df = pd.DataFrame(columns=gt_seg_columns)"
   ]
  },
  {
   "cell_type": "code",
   "execution_count": null,
   "metadata": {},
   "outputs": [],
   "source": [
    "year = 2020\n",
    "for month in range(1, 7):\n",
    "    year_month = str(year) + str(month).zfill(2)\n",
    "    GT_sellout = sellout_with_acct.loc[(sellout_with_acct['YearMonth'] == year_month) & ((sellout_with_acct['Channel'] == 'GT') | (sellout_with_acct['Channel'] == 'GT-DC'))].copy()\n",
    "    GT_sellout = GT_sellout.groupby(by = ['YearMonth', 'Customer_Code'])['Sellout_SP_Value'].sum().reset_index()\n",
    "    GT_sellout['Segment'] = GT_sellout['Sellout_SP_Value'].apply(lambda x:get_gt_segment(x))\n",
    "    \n",
    "    gt_seg_df = gt_seg_df.append(GT_sellout)\n",
    "    \n",
    "    \n",
    "year = 2019\n",
    "for month in range(1, 13):\n",
    "    year_month = str(year) + str(month).zfill(2)\n",
    "    GT_sellout = sellout_with_acct.loc[(sellout_with_acct['YearMonth'] == year_month) & ((sellout_with_acct['Channel'] == 'GT') | (sellout_with_acct['Channel'] == 'GT-DC'))].copy()\n",
    "    GT_sellout = GT_sellout.groupby(by = ['YearMonth', 'Customer_Code'])['Sellout_SP_Value'].sum().reset_index()\n",
    "    GT_sellout['Segment'] = GT_sellout['Sellout_SP_Value'].apply(lambda x:get_gt_segment(x))\n",
    "    \n",
    "    gt_seg_df = gt_seg_df.append(GT_sellout)"
   ]
  },
  {
   "cell_type": "code",
   "execution_count": null,
   "metadata": {},
   "outputs": [],
   "source": [
    "output_file_path = config[\"project_path\"] \\\n",
    "                        + \"/\" + config[\"temp_folder_path\"] \\\n",
    "                        + \"/\" + 'GT_segment_2019_2020.xlsx'\n",
    "\n",
    "gt_seg_df.to_excel(output_file_path, header=True, index=False)"
   ]
  },
  {
   "cell_type": "markdown",
   "metadata": {},
   "source": [
    "# Monthly Sellout"
   ]
  },
  {
   "cell_type": "code",
   "execution_count": null,
   "metadata": {},
   "outputs": [],
   "source": [
    "mth_columns = ['YearMonth', 'Brand', 'Geo_Name', 'Region_Name', 'Channel', 'Grade', 'Account_Name', 'Sellout_SP_Value']\n",
    "mth_df = pd.DataFrame(columns=mth_columns)"
   ]
  },
  {
   "cell_type": "code",
   "execution_count": null,
   "metadata": {},
   "outputs": [],
   "source": [
    "sellout_temp = sellout_with_acct.groupby(by = ['YearMonth', 'Brand', 'Channel', 'Grade', 'Account_Name'])['Sellout_SP_Value'].sum().reset_index()\n",
    "sellout_temp['Geo_Name'] = '全国'\n",
    "sellout_temp['Region_Name'] = '全国'\n",
    "mth_df = mth_df.append(sellout_temp)\n",
    "\n",
    "sellout_temp = sellout_with_acct.groupby(by = ['YearMonth', 'Channel', 'Grade', 'Account_Name'])['Sellout_SP_Value'].sum().reset_index()\n",
    "sellout_temp['Brand'] = 'TTL'\n",
    "sellout_temp['Geo_Name'] = '全国'\n",
    "sellout_temp['Region_Name'] = '全国'\n",
    "mth_df = mth_df.append(sellout_temp)\n",
    "\n",
    "sellout_temp = sellout_with_acct.groupby(by = ['YearMonth', 'Brand', 'Channel', 'Grade'])['Sellout_SP_Value'].sum().reset_index()\n",
    "sellout_temp['Geo_Name'] = '全国'\n",
    "sellout_temp['Region_Name'] = '全国'\n",
    "sellout_temp['Account_Name'] = sellout_temp['Grade']\n",
    "mth_df = mth_df.append(sellout_temp)\n",
    "\n",
    "sellout_temp = sellout_with_acct.groupby(by = ['YearMonth', 'Channel', 'Grade'])['Sellout_SP_Value'].sum().reset_index()\n",
    "sellout_temp['Brand'] = 'TTL'\n",
    "sellout_temp['Geo_Name'] = '全国'\n",
    "sellout_temp['Region_Name'] = '全国'\n",
    "sellout_temp['Account_Name'] = sellout_temp['Grade']\n",
    "mth_df = mth_df.append(sellout_temp)\n",
    "\n",
    "sellout_temp = sellout_with_acct.groupby(by = ['YearMonth', 'Brand', 'Region_Name', 'Channel', 'Grade', 'Account_Name'])['Sellout_SP_Value'].sum().reset_index()\n",
    "sellout_temp['Geo_Name'] = sellout_temp['Region_Name']\n",
    "mth_df = mth_df.append(sellout_temp)\n",
    "\n",
    "sellout_temp = sellout_with_acct.groupby(by = ['YearMonth', 'Region_Name', 'Channel', 'Grade', 'Account_Name'])['Sellout_SP_Value'].sum().reset_index()\n",
    "sellout_temp['Brand'] = 'TTL'\n",
    "sellout_temp['Geo_Name'] = sellout_temp['Region_Name']\n",
    "mth_df = mth_df.append(sellout_temp)\n",
    "\n",
    "sellout_temp = sellout_with_acct.groupby(by = ['YearMonth', 'Brand', 'Region_Name', 'Channel', 'Grade'])['Sellout_SP_Value'].sum().reset_index()\n",
    "sellout_temp['Geo_Name'] = sellout_temp['Region_Name']\n",
    "sellout_temp['Account_Name'] = sellout_temp['Grade']\n",
    "mth_df = mth_df.append(sellout_temp)\n",
    "\n",
    "sellout_temp = sellout_with_acct.groupby(by = ['YearMonth', 'Region_Name', 'Channel', 'Grade'])['Sellout_SP_Value'].sum().reset_index()\n",
    "sellout_temp['Brand'] = 'TTL'\n",
    "sellout_temp['Geo_Name'] = sellout_temp['Region_Name']\n",
    "sellout_temp['Account_Name'] = sellout_temp['Grade']\n",
    "mth_df = mth_df.append(sellout_temp)"
   ]
  },
  {
   "cell_type": "code",
   "execution_count": null,
   "metadata": {},
   "outputs": [],
   "source": [
    "output_file_path = config[\"project_path\"] \\\n",
    "                        + \"/\" + config[\"temp_folder_path\"] \\\n",
    "                        + \"/\" + 'monthly_KA_sellout_2019_2020.xlsx'\n",
    "\n",
    "mth_df.to_excel(output_file_path, header=True, index=False)"
   ]
  },
  {
   "cell_type": "markdown",
   "metadata": {},
   "source": [
    "# P3M"
   ]
  },
  {
   "cell_type": "markdown",
   "metadata": {},
   "source": [
    "p3m_df = mth_df.loc[mth_df['YearMonth'].isin(['202003', '202004', '202005'])]"
   ]
  },
  {
   "cell_type": "markdown",
   "metadata": {},
   "source": [
    "p3m_df = p3m_df.groupby(by = ['Brand', 'Geo_Name', 'Region_Name', 'Channel', 'Grade', 'Account_Name'])['Sellout_SP_Value'].sum().reset_index()"
   ]
  },
  {
   "cell_type": "markdown",
   "metadata": {},
   "source": [
    "output_file_path = config[\"project_path\"] \\\n",
    "                        + \"/\" + config[\"temp_folder_path\"] \\\n",
    "                        + \"/\" + 'p3m_KA_sellout_202006.xlsx'\n",
    "\n",
    "p3m_df.to_excel(output_file_path, header=True, index=False)"
   ]
  },
  {
   "cell_type": "markdown",
   "metadata": {},
   "source": [
    "# GT Logic"
   ]
  },
  {
   "cell_type": "markdown",
   "metadata": {},
   "source": [
    "### Active GT store"
   ]
  },
  {
   "cell_type": "code",
   "execution_count": null,
   "metadata": {},
   "outputs": [],
   "source": [
    "GT_sellout = sellout_with_acct.loc[sellout_with_acct['Channel'] == 'GT'].copy()\n",
    "GT_sellout = GT_sellout.groupby(by = ['YearMonth', 'Customer_Code', 'Region_Name', 'Subregion_Name', 'Province_Name'])['Sellout_SP_Value'].sum().reset_index()\n",
    "active_GT = GT_sellout.loc[GT_sellout['Sellout_SP_Value'] >0].copy()"
   ]
  },
  {
   "cell_type": "code",
   "execution_count": null,
   "metadata": {},
   "outputs": [],
   "source": [
    "mth_columns = ['YearMonth', 'Geo_Name', 'Region_Name', 'Subregion_Name', 'Province_Name', 'Customer_Code']\n",
    "mth_df = pd.DataFrame(columns=mth_columns)"
   ]
  },
  {
   "cell_type": "code",
   "execution_count": null,
   "metadata": {},
   "outputs": [],
   "source": [
    "sellout_temp = GT_sellout.groupby(by = ['YearMonth'])['Customer_Code'].count().reset_index()\n",
    "sellout_temp['Geo_Name'] = '全国'\n",
    "sellout_temp['Region_Name'] = '全国'\n",
    "sellout_temp['Subregion_Name'] = ''\n",
    "sellout_temp['Province_Name'] = ''\n",
    "mth_df = mth_df.append(sellout_temp)\n",
    "\n",
    "sellout_temp = GT_sellout.groupby(by = ['YearMonth', 'Region_Name'])['Customer_Code'].count().reset_index()\n",
    "sellout_temp['Geo_Name'] = sellout_temp['Region_Name']\n",
    "sellout_temp['Subregion_Name'] = ''\n",
    "sellout_temp['Province_Name'] = ''\n",
    "mth_df = mth_df.append(sellout_temp)\n",
    "\n",
    "sellout_temp = GT_sellout.groupby(by = ['YearMonth', 'Region_Name', 'Subregion_Name'])['Customer_Code'].count().reset_index()\n",
    "sellout_temp['Geo_Name'] = sellout_temp['Subregion_Name']\n",
    "sellout_temp['Province_Name'] = ''\n",
    "mth_df = mth_df.append(sellout_temp)\n",
    "\n",
    "\n",
    "sellout_temp = GT_sellout.groupby(by = ['YearMonth', 'Region_Name', 'Subregion_Name', 'Province_Name'])['Customer_Code'].count().reset_index()\n",
    "sellout_temp['Geo_Name'] = sellout_temp['Province_Name']\n",
    "mth_df = mth_df.append(sellout_temp)"
   ]
  },
  {
   "cell_type": "code",
   "execution_count": null,
   "metadata": {},
   "outputs": [],
   "source": [
    "mth_df.columns = ['YearMonth', 'Geo_Name', 'Region_Name', 'Subregion_Name', 'Province_Name', 'Active_Store']"
   ]
  },
  {
   "cell_type": "markdown",
   "metadata": {},
   "source": [
    "output_file_path = config[\"project_path\"] \\\n",
    "                        + \"/\" + config[\"temp_folder_path\"] \\\n",
    "                        + \"/\" + 'GT_active_2019_2020.xlsx'\n",
    "\n",
    "mth_df.to_excel(output_file_path, header=True, index=False)"
   ]
  },
  {
   "cell_type": "code",
   "execution_count": null,
   "metadata": {},
   "outputs": [],
   "source": [
    "gt_res_df = mth_df"
   ]
  },
  {
   "cell_type": "markdown",
   "metadata": {},
   "source": [
    "### P3M Active GT store"
   ]
  },
  {
   "cell_type": "code",
   "execution_count": null,
   "metadata": {},
   "outputs": [],
   "source": [
    "p3m_columns = ['YearMonth', 'Geo_Name', 'Region_Name', 'Subregion_Name', 'Province_Name', 'Active_Store']\n",
    "\n",
    "p3m_df = pd.DataFrame(columns=p3m_columns)"
   ]
  },
  {
   "cell_type": "code",
   "execution_count": null,
   "metadata": {},
   "outputs": [],
   "source": [
    "year = 2020\n",
    "for month in range(1, 7):\n",
    "    year_month = str(year) + str(month).zfill(2)\n",
    "    p3m_list = get_past_3m(year_month)\n",
    "    \n",
    "    p3m_sellout = mth_df.loc[mth_df['YearMonth'].isin(p3m_list)].copy()\n",
    "    p3m_sellout[\"Active_Store\"] = p3m_sellout[\"Active_Store\"].astype(\"int\")\n",
    "    sellout_temp = p3m_sellout.groupby(by = ['Geo_Name', 'Region_Name', 'Subregion_Name', 'Province_Name'])['Active_Store'].mean().reset_index()\n",
    "    sellout_temp['Active_Store'] = sellout_temp[\"Active_Store\"].round(0)\n",
    "    sellout_temp['YearMonth'] = year_month\n",
    "    \n",
    "    p3m_df = p3m_df.append(sellout_temp)\n",
    "    \n",
    "    \n",
    "year = 2019\n",
    "for month in range(1, 13):\n",
    "    year_month = str(year) + str(month).zfill(2)\n",
    "    p3m_list = get_past_3m(year_month)\n",
    "    \n",
    "    p3m_sellout = mth_df.loc[mth_df['YearMonth'].isin(p3m_list)].copy()\n",
    "    p3m_sellout[\"Active_Store\"] = p3m_sellout[\"Active_Store\"].astype(\"int\")\n",
    "    sellout_temp = p3m_sellout.groupby(by = ['Geo_Name', 'Region_Name', 'Subregion_Name', 'Province_Name'])['Active_Store'].mean().reset_index()\n",
    "    sellout_temp['Active_Store'] = sellout_temp[\"Active_Store\"].round(0)\n",
    "    sellout_temp['YearMonth'] = year_month\n",
    "    \n",
    "    p3m_df = p3m_df.append(sellout_temp)"
   ]
  },
  {
   "cell_type": "code",
   "execution_count": null,
   "metadata": {},
   "outputs": [],
   "source": [
    "p3m_df.columns = ['YearMonth', 'Geo_Name', 'Region_Name', 'Subregion_Name', 'Province_Name', 'P3M_Active_Store']"
   ]
  },
  {
   "cell_type": "markdown",
   "metadata": {},
   "source": [
    "output_file_path = config[\"project_path\"] \\\n",
    "                        + \"/\" + config[\"temp_folder_path\"] \\\n",
    "                        + \"/\" + 'P3M_GT_active_2019_2020.xlsx'\n",
    "\n",
    "p3m_df.to_excel(output_file_path, header=True, index=False)"
   ]
  },
  {
   "cell_type": "code",
   "execution_count": null,
   "metadata": {},
   "outputs": [],
   "source": [
    "gt_res_df = pd.merge(gt_res_df, p3m_df, on=['YearMonth', 'Geo_Name', 'Region_Name', 'Subregion_Name', 'Province_Name'], how='outer')"
   ]
  },
  {
   "cell_type": "code",
   "execution_count": null,
   "metadata": {},
   "outputs": [],
   "source": [
    "gt_res_df = gt_res_df.fillna(0)\n",
    "output_file_path = config[\"project_path\"] \\\n",
    "                        + \"/\" + config[\"temp_folder_path\"] \\\n",
    "                        + \"/\" + 'GT_active_2019_2020.xlsx'\n",
    "\n",
    "gt_res_df.to_excel(output_file_path, header=True, index=False)"
   ]
  },
  {
   "cell_type": "markdown",
   "metadata": {},
   "source": [
    "# GT by Segment Logic"
   ]
  },
  {
   "cell_type": "markdown",
   "metadata": {},
   "source": [
    "### Active GT store by segment"
   ]
  },
  {
   "cell_type": "code",
   "execution_count": null,
   "metadata": {},
   "outputs": [],
   "source": [
    "GT_sellout = sellout_with_acct.loc[sellout_with_acct['Channel'] == 'GT'].copy()\n",
    "GT_sellout = GT_sellout.groupby(by = ['YearMonth', 'Customer_Code', 'Region_Name', 'Subregion_Name', 'Province_Name'])['Sellout_SP_Value'].sum().reset_index()\n",
    "GT_sellout['Segment'] = GT_sellout['Sellout_SP_Value'].apply(lambda x:get_gt_segment(x))"
   ]
  },
  {
   "cell_type": "code",
   "execution_count": null,
   "metadata": {},
   "outputs": [],
   "source": [
    "mth_columns = ['YearMonth', 'Geo_Name', 'Region_Name', 'Subregion_Name', 'Province_Name', 'Segment', 'Customer_Code']\n",
    "mth_df = pd.DataFrame(columns=mth_columns)"
   ]
  },
  {
   "cell_type": "code",
   "execution_count": null,
   "metadata": {},
   "outputs": [],
   "source": [
    "sellout_temp = GT_sellout.groupby(by = ['YearMonth', 'Segment'])['Customer_Code'].count().reset_index()\n",
    "sellout_temp['Geo_Name'] = '全国'\n",
    "sellout_temp['Region_Name'] = ''\n",
    "sellout_temp['Subregion_Name'] = ''\n",
    "sellout_temp['Province_Name'] = ''\n",
    "mth_df = mth_df.append(sellout_temp)\n",
    "\n",
    "sellout_temp = GT_sellout.groupby(by = ['YearMonth', 'Region_Name', 'Segment'])['Customer_Code'].count().reset_index()\n",
    "sellout_temp['Geo_Name'] = sellout_temp['Region_Name']\n",
    "sellout_temp['Subregion_Name'] = ''\n",
    "sellout_temp['Province_Name'] = ''\n",
    "mth_df = mth_df.append(sellout_temp)\n",
    "\n",
    "sellout_temp = GT_sellout.groupby(by = ['YearMonth', 'Region_Name', 'Subregion_Name', 'Segment'])['Customer_Code'].count().reset_index()\n",
    "sellout_temp['Geo_Name'] = sellout_temp['Subregion_Name']\n",
    "sellout_temp['Province_Name'] = ''\n",
    "mth_df = mth_df.append(sellout_temp)\n",
    "\n",
    "\n",
    "sellout_temp = GT_sellout.groupby(by = ['YearMonth', 'Region_Name', 'Subregion_Name', 'Province_Name', 'Segment'])['Customer_Code'].count().reset_index()\n",
    "sellout_temp['Geo_Name'] = sellout_temp['Province_Name']\n",
    "mth_df = mth_df.append(sellout_temp)"
   ]
  },
  {
   "cell_type": "code",
   "execution_count": null,
   "metadata": {},
   "outputs": [],
   "source": [
    "mth_df.columns = ['YearMonth', 'Geo_Name', 'Region_Name', 'Subregion_Name', 'Province_Name', 'Segment', 'Store_Number']"
   ]
  },
  {
   "cell_type": "markdown",
   "metadata": {},
   "source": [
    "output_file_path = config[\"project_path\"] \\\n",
    "                        + \"/\" + config[\"temp_folder_path\"] \\\n",
    "                        + \"/\" + 'GT_active_by_segment_2019_2020.xlsx'\n",
    "\n",
    "mth_df.to_excel(output_file_path, header=True, index=False)"
   ]
  },
  {
   "cell_type": "code",
   "execution_count": null,
   "metadata": {},
   "outputs": [],
   "source": [
    "gt_res_df = mth_df"
   ]
  },
  {
   "cell_type": "markdown",
   "metadata": {},
   "source": [
    "### P3M Active GT store by segment"
   ]
  },
  {
   "cell_type": "code",
   "execution_count": null,
   "metadata": {},
   "outputs": [],
   "source": [
    "p3m_columns = ['YearMonth', 'Geo_Name', 'Region_Name', 'Subregion_Name', 'Province_Name', 'Segment', 'Store_Number']\n",
    "\n",
    "p3m_df = pd.DataFrame(columns=p3m_columns)"
   ]
  },
  {
   "cell_type": "code",
   "execution_count": null,
   "metadata": {},
   "outputs": [],
   "source": [
    "year = 2020\n",
    "for month in range(1, 7):\n",
    "    year_month = str(year) + str(month).zfill(2)\n",
    "    p3m_list = get_past_3m(year_month)\n",
    "    \n",
    "    p3m_sellout = mth_df.loc[mth_df['YearMonth'].isin(p3m_list)].copy()\n",
    "    p3m_sellout[\"Store_Number\"] = p3m_sellout[\"Store_Number\"].astype(\"int\")\n",
    "    sellout_temp = p3m_sellout.groupby(by = ['Geo_Name', 'Region_Name', 'Subregion_Name', 'Province_Name', 'Segment'])['Store_Number'].mean().reset_index()\n",
    "    sellout_temp['Store_Number'] = sellout_temp[\"Store_Number\"].round(0)\n",
    "    sellout_temp['YearMonth'] = year_month\n",
    "    \n",
    "    p3m_df = p3m_df.append(sellout_temp)\n",
    "    \n",
    "    \n",
    "year = 2019\n",
    "for month in range(1, 13):\n",
    "    year_month = str(year) + str(month).zfill(2)\n",
    "    p3m_list = get_past_3m(year_month)\n",
    "    \n",
    "    p3m_sellout = mth_df.loc[mth_df['YearMonth'].isin(p3m_list)].copy()\n",
    "    p3m_sellout[\"Store_Number\"] = p3m_sellout[\"Store_Number\"].astype(\"int\")\n",
    "    sellout_temp = p3m_sellout.groupby(by = ['Geo_Name', 'Region_Name', 'Subregion_Name', 'Province_Name', 'Segment'])['Store_Number'].mean().reset_index()\n",
    "    sellout_temp['Store_Number'] = sellout_temp[\"Store_Number\"].round(0)\n",
    "    sellout_temp['YearMonth'] = year_month\n",
    "    \n",
    "    p3m_df = p3m_df.append(sellout_temp)"
   ]
  },
  {
   "cell_type": "code",
   "execution_count": null,
   "metadata": {},
   "outputs": [],
   "source": [
    "p3m_df.columns = ['YearMonth', 'Geo_Name', 'Region_Name', 'Subregion_Name', 'Province_Name', 'Segment', 'P3M_Store_Number']"
   ]
  },
  {
   "cell_type": "markdown",
   "metadata": {},
   "source": [
    "output_file_path = config[\"project_path\"] \\\n",
    "                        + \"/\" + config[\"temp_folder_path\"] \\\n",
    "                        + \"/\" + 'P3M_GT_active_by_segment_2019_2020.xlsx'\n",
    "\n",
    "p3m_df.to_excel(output_file_path, header=True, index=False)"
   ]
  },
  {
   "cell_type": "code",
   "execution_count": null,
   "metadata": {},
   "outputs": [],
   "source": [
    "gt_res_df = pd.merge(gt_res_df, p3m_df, on=['YearMonth', 'Geo_Name', 'Region_Name', 'Subregion_Name', 'Province_Name', 'Segment'], how='outer')"
   ]
  },
  {
   "cell_type": "markdown",
   "metadata": {},
   "source": [
    "### GT store sellout ratio by segment"
   ]
  },
  {
   "cell_type": "code",
   "execution_count": null,
   "metadata": {},
   "outputs": [],
   "source": [
    "ratio_columns = ['YearMonth', 'Geo_Name', 'Region_Name', 'Subregion_Name', 'Province_Name', 'Segment', 'Segment_sellout', 'Total_Sellout', 'Ratio']\n",
    "ratio_df = pd.DataFrame(columns=ratio_columns)"
   ]
  },
  {
   "cell_type": "code",
   "execution_count": null,
   "metadata": {},
   "outputs": [],
   "source": [
    "sellout_seg_temp = GT_sellout.groupby(by = ['YearMonth', 'Segment'])['Sellout_SP_Value'].sum().reset_index()\n",
    "sellout_seg_temp = sellout_seg_temp.rename(columns={'Sellout_SP_Value': 'Segment_sellout'})\n",
    "sellout_ttl_temp = GT_sellout.groupby(by = ['YearMonth'])['Sellout_SP_Value'].sum().reset_index()\n",
    "sellout_ttl_temp = sellout_ttl_temp.rename(columns={'Sellout_SP_Value': 'Total_Sellout'})\n",
    "sellout_temp = pd.merge(sellout_ttl_temp, sellout_seg_temp, on=['YearMonth'], how='left').fillna(0)\n",
    "sellout_temp['Ratio'] = sellout_temp['Segment_sellout']/sellout_temp['Total_Sellout']\n",
    "sellout_temp['Geo_Name'] = '全国'\n",
    "sellout_temp['Region_Name'] = ''\n",
    "sellout_temp['Subregion_Name'] = ''\n",
    "sellout_temp['Province_Name'] = ''\n",
    "ratio_df = ratio_df.append(sellout_temp)\n",
    "\n",
    "sellout_seg_temp = GT_sellout.groupby(by = ['YearMonth', 'Region_Name', 'Segment'])['Sellout_SP_Value'].sum().reset_index()\n",
    "sellout_seg_temp = sellout_seg_temp.rename(columns={'Sellout_SP_Value': 'Segment_sellout'})\n",
    "sellout_ttl_temp = GT_sellout.groupby(by = ['YearMonth', 'Region_Name'])['Sellout_SP_Value'].sum().reset_index()\n",
    "sellout_ttl_temp = sellout_ttl_temp.rename(columns={'Sellout_SP_Value': 'Total_Sellout'})\n",
    "sellout_temp = pd.merge(sellout_ttl_temp, sellout_seg_temp, on=['YearMonth', 'Region_Name'], how='left').fillna(0)\n",
    "sellout_temp['Ratio'] = sellout_temp['Segment_sellout']/sellout_temp['Total_Sellout']\n",
    "sellout_temp['Geo_Name'] = sellout_temp['Region_Name']\n",
    "sellout_temp['Subregion_Name'] = ''\n",
    "sellout_temp['Province_Name'] = ''\n",
    "ratio_df = ratio_df.append(sellout_temp)\n",
    "\n",
    "sellout_seg_temp = GT_sellout.groupby(by = ['YearMonth', 'Region_Name', 'Subregion_Name', 'Segment'])['Sellout_SP_Value'].sum().reset_index()\n",
    "sellout_seg_temp = sellout_seg_temp.rename(columns={'Sellout_SP_Value': 'Segment_sellout'})\n",
    "sellout_ttl_temp = GT_sellout.groupby(by = ['YearMonth', 'Region_Name', 'Subregion_Name'])['Sellout_SP_Value'].sum().reset_index()\n",
    "sellout_ttl_temp = sellout_ttl_temp.rename(columns={'Sellout_SP_Value': 'Total_Sellout'})\n",
    "sellout_temp = pd.merge(sellout_ttl_temp, sellout_seg_temp, on=['YearMonth', 'Region_Name', 'Subregion_Name'], how='left').fillna(0)\n",
    "sellout_temp['Ratio'] = sellout_temp['Segment_sellout']/sellout_temp['Total_Sellout']\n",
    "sellout_temp['Geo_Name'] = sellout_temp['Subregion_Name']\n",
    "sellout_temp['Province_Name'] = ''\n",
    "ratio_df = ratio_df.append(sellout_temp)\n",
    "\n",
    "\n",
    "sellout_seg_temp = GT_sellout.groupby(by = ['YearMonth', 'Region_Name', 'Subregion_Name', 'Province_Name', 'Segment'])['Sellout_SP_Value'].sum().reset_index()\n",
    "sellout_seg_temp = sellout_seg_temp.rename(columns={'Sellout_SP_Value': 'Segment_sellout'})\n",
    "sellout_ttl_temp = GT_sellout.groupby(by = ['YearMonth', 'Region_Name', 'Subregion_Name', 'Province_Name'])['Sellout_SP_Value'].sum().reset_index()\n",
    "sellout_ttl_temp = sellout_ttl_temp.rename(columns={'Sellout_SP_Value': 'Total_Sellout'})\n",
    "sellout_temp = pd.merge(sellout_ttl_temp, sellout_seg_temp, on=['YearMonth', 'Region_Name', 'Subregion_Name', 'Province_Name'], how='left').fillna(0)\n",
    "sellout_temp['Ratio'] = sellout_temp['Segment_sellout']/sellout_temp['Total_Sellout']\n",
    "sellout_temp['Geo_Name'] = sellout_temp['Province_Name']\n",
    "ratio_df = ratio_df.append(sellout_temp)"
   ]
  },
  {
   "cell_type": "markdown",
   "metadata": {},
   "source": [
    "output_file_path = config[\"project_path\"] \\\n",
    "                        + \"/\" + config[\"temp_folder_path\"] \\\n",
    "                        + \"/\" + 'GT_segment_sellout_ratio_2019_2020.xlsx'\n",
    "\n",
    "ratio_df.to_excel(output_file_path, header=True, index=False)"
   ]
  },
  {
   "cell_type": "code",
   "execution_count": null,
   "metadata": {},
   "outputs": [],
   "source": [
    "gt_res_df = pd.merge(gt_res_df, ratio_df, on=['YearMonth', 'Geo_Name', 'Region_Name', 'Subregion_Name', 'Province_Name', 'Segment'], how='outer')"
   ]
  },
  {
   "cell_type": "code",
   "execution_count": null,
   "metadata": {},
   "outputs": [],
   "source": [
    "gt_res_df = gt_res_df.fillna(0)\n",
    "output_file_path = config[\"project_path\"] \\\n",
    "                        + \"/\" + config[\"temp_folder_path\"] \\\n",
    "                        + \"/\" + 'GT_by_segment_2019_2020.xlsx'\n",
    "\n",
    "gt_res_df.to_excel(output_file_path, header=True, index=False)"
   ]
  },
  {
   "cell_type": "code",
   "execution_count": null,
   "metadata": {},
   "outputs": [],
   "source": []
  }
 ],
 "metadata": {
  "kernelspec": {
   "display_name": "Python 3",
   "language": "python",
   "name": "python3"
  },
  "language_info": {
   "codemirror_mode": {
    "name": "ipython",
    "version": 3
   },
   "file_extension": ".py",
   "mimetype": "text/x-python",
   "name": "python",
   "nbconvert_exporter": "python",
   "pygments_lexer": "ipython3",
   "version": "3.7.6"
  }
 },
 "nbformat": 4,
 "nbformat_minor": 4
}
